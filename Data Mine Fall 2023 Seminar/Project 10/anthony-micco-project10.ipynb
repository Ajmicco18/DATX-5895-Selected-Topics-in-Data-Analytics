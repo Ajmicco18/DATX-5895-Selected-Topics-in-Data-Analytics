{
 "cells": [
  {
   "cell_type": "markdown",
   "id": "be02a957-7133-4d02-818e-fedeb3cecb05",
   "metadata": {},
   "source": [
    "# Project 10 -- Anthony Micco"
   ]
  },
  {
   "cell_type": "markdown",
   "id": "a1228853-dd19-4ab2-89e0-0394d7d72de3",
   "metadata": {},
   "source": [
    "**TA Help:** N/A\n",
    "    \n",
    "**Collaboration:** N/A"
   ]
  },
  {
   "cell_type": "markdown",
   "id": "6180e742-8e39-4698-98ff-5b00c8cf8ea0",
   "metadata": {},
   "source": [
    "## Question 1"
   ]
  },
  {
   "cell_type": "code",
   "execution_count": 3,
   "id": "49445606-d363-41b4-b479-e319a9a84c01",
   "metadata": {},
   "outputs": [],
   "source": [
    "options(jupyter.rich_display = F)\n",
    "options(repr.matrix.max.cols = 25, repr.matrix.max.rows =200)\n",
    "library(data.table)"
   ]
  },
  {
   "cell_type": "code",
   "execution_count": 7,
   "id": "9b837de2-a536-4074-97b5-1e1333d866f1",
   "metadata": {
    "tags": []
   },
   "outputs": [],
   "source": [
    "orders <- fread(\"/anvil/projects/tdm/data/restaurant/orders.csv\")\n",
    "vendors <-fread(\"/anvil/projects/tdm/data/restaurant/vendors.csv\")"
   ]
  },
  {
   "cell_type": "code",
   "execution_count": 20,
   "id": "0ba60c03-e07f-451c-9691-9edd47385559",
   "metadata": {},
   "outputs": [],
   "source": [
    "fryDF <- subset(vendors, grepl(\"Fries\",vendor_tag_name))"
   ]
  },
  {
   "cell_type": "code",
   "execution_count": 21,
   "id": "3976a3fe-d8b5-4812-aa90-67cf0b4bf862",
   "metadata": {},
   "outputs": [],
   "source": [
    "fryDF_ <- vendors[grep(\"Fries\",vendors$vendor_tag_name),]"
   ]
  },
  {
   "cell_type": "code",
   "execution_count": 23,
   "id": "f3fa70a7-b5be-4225-b96d-bf6eae505737",
   "metadata": {},
   "outputs": [
    {
     "data": {
      "text/plain": [
       "[1] 20 59"
      ]
     },
     "metadata": {},
     "output_type": "display_data"
    }
   ],
   "source": [
    "dim(fryDF)"
   ]
  },
  {
   "cell_type": "code",
   "execution_count": 24,
   "id": "cec99e05-9e6d-4dd8-bdea-075ca83af05d",
   "metadata": {},
   "outputs": [
    {
     "data": {
      "text/plain": [
       "[1] 20 59"
      ]
     },
     "metadata": {},
     "output_type": "display_data"
    }
   ],
   "source": [
    "dim(fryDF_)"
   ]
  },
  {
   "cell_type": "markdown",
   "id": "fc601975-35ed-4680-a4e1-0273ee3cc047",
   "metadata": {},
   "source": [
    "## Question 2"
   ]
  },
  {
   "cell_type": "code",
   "execution_count": 26,
   "id": "a16336a1-1ef0-41e8-bc7c-49387db27497",
   "metadata": {},
   "outputs": [
    {
     "data": {
      "text/plain": [
       "\n",
       "  0 0.7 \n",
       " 41  59 "
      ]
     },
     "metadata": {},
     "output_type": "display_data"
    }
   ],
   "source": [
    "table(vendors$delivery_charge)"
   ]
  },
  {
   "cell_type": "code",
   "execution_count": 28,
   "id": "d9f87bd4-11b3-4dbb-8225-347677eb450a",
   "metadata": {},
   "outputs": [
    {
     "data": {
      "text/plain": [
       "\n",
       "   0  0.7 \n",
       "0.41 0.59 "
      ]
     },
     "metadata": {},
     "output_type": "display_data"
    }
   ],
   "source": [
    "prop.table(table(vendors$delivery_charge))"
   ]
  },
  {
   "cell_type": "markdown",
   "id": "8e586edd-ff26-4ce2-8f6b-2424b26f2929",
   "metadata": {},
   "source": [
    "## Question 3"
   ]
  },
  {
   "cell_type": "code",
   "execution_count": 31,
   "id": "9452c8f7-2753-4334-9570-22f71aaacfde",
   "metadata": {},
   "outputs": [
    {
     "data": {
      "text/plain": [
       "\n",
       "  0 0.7 \n",
       " 35  54 "
      ]
     },
     "metadata": {},
     "output_type": "display_data"
    }
   ],
   "source": [
    "table(vendors$delivery_charge[vendors$vendor_category_id==2])"
   ]
  },
  {
   "cell_type": "code",
   "execution_count": 32,
   "id": "bbe0f40d-9655-4653-9ca8-886bdb61cb91",
   "metadata": {},
   "outputs": [
    {
     "data": {
      "text/plain": [
       "\n",
       "        0       0.7 \n",
       "0.3932584 0.6067416 "
      ]
     },
     "metadata": {},
     "output_type": "display_data"
    }
   ],
   "source": [
    "prop.table(table(vendors$delivery_charge[vendors$vendor_category_id==2]))"
   ]
  },
  {
   "cell_type": "code",
   "execution_count": 33,
   "id": "8618c85e-e324-4dbe-9850-4a16ee1d210c",
   "metadata": {},
   "outputs": [
    {
     "data": {
      "text/plain": [
       "\n",
       "  0 0.7 \n",
       "  6   5 "
      ]
     },
     "metadata": {},
     "output_type": "display_data"
    }
   ],
   "source": [
    "table(vendors$delivery_charge[vendors$vendor_category_id==3])"
   ]
  },
  {
   "cell_type": "code",
   "execution_count": 34,
   "id": "f04e4817-4655-46dd-9a46-6c6e8738bd16",
   "metadata": {},
   "outputs": [
    {
     "data": {
      "text/plain": [
       "\n",
       "        0       0.7 \n",
       "0.5454545 0.4545455 "
      ]
     },
     "metadata": {},
     "output_type": "display_data"
    }
   ],
   "source": [
    "prop.table(table(vendors$delivery_charge[vendors$vendor_category_id==3]))"
   ]
  },
  {
   "cell_type": "markdown",
   "id": "da22f29c-d245-4d2b-9fc1-ca14cb6087d9",
   "metadata": {},
   "source": [
    "## Question 4"
   ]
  },
  {
   "cell_type": "code",
   "execution_count": 42,
   "id": "8cffc767-d1c8-4d64-b7dc-f0d2ee8a80d1",
   "metadata": {},
   "outputs": [
    {
     "data": {
      "text/plain": [
       "$`2`\n",
       "\n",
       "  0 0.7 \n",
       " 35  54 \n",
       "\n",
       "$`3`\n",
       "\n",
       "  0 0.7 \n",
       "  6   5 \n"
      ]
     },
     "metadata": {},
     "output_type": "display_data"
    }
   ],
   "source": [
    "tapply(vendors$delivery_charge, vendors$vendor_category_id, table)"
   ]
  },
  {
   "cell_type": "code",
   "execution_count": 44,
   "id": "16cb502b-be66-400b-9aff-be2c745bba4a",
   "metadata": {},
   "outputs": [
    {
     "data": {
      "text/plain": [
       "$`2`\n",
       "x\n",
       "        0       0.7 \n",
       "0.3932584 0.6067416 \n",
       "\n",
       "$`3`\n",
       "x\n",
       "        0       0.7 \n",
       "0.5454545 0.4545455 \n"
      ]
     },
     "metadata": {},
     "output_type": "display_data"
    }
   ],
   "source": [
    "tapply(vendors$delivery_charge, vendors$vendor_category_id, function(x){prop.table(table(x))})"
   ]
  },
  {
   "cell_type": "markdown",
   "id": "88c9cdac-3e92-498f-83fa-e089bfc44ac8",
   "metadata": {},
   "source": [
    "## Question 5"
   ]
  },
  {
   "cell_type": "code",
   "execution_count": 45,
   "id": "d370d7c9-06db-42b9-b75f-240481a5c491",
   "metadata": {},
   "outputs": [
    {
     "data": {
      "text/plain": [
       "$`2`\n",
       "\n",
       "        0       0.7 \n",
       "0.3932584 0.6067416 \n",
       "\n",
       "$`3`\n",
       "\n",
       "        0       0.7 \n",
       "0.5454545 0.4545455 \n"
      ]
     },
     "metadata": {},
     "output_type": "display_data"
    }
   ],
   "source": [
    "sapply(tapply(vendors$delivery_charge, vendors$vendor_category_id, table),prop.table, simplify=FALSE)"
   ]
  },
  {
   "cell_type": "markdown",
   "id": "f76442d6-d02e-4f26-b9d6-c3183e1d6929",
   "metadata": {},
   "source": [
    "## Pledge\n",
    "\n",
    "By submitting this work I hereby pledge that this is my own, personal work. I've acknowledged in the designated place at the top of this file all sources that I used to complete said work, including but not limited to: online resources, books, and electronic communications. I've noted all collaboration with fellow students and/or TA's. I did not copy or plagiarize another's work.\n",
    "\n",
    "> As a Boilermaker pursuing academic excellence, I pledge to be honest and true in all that I do. Accountable together – We are Purdue."
   ]
  }
 ],
 "metadata": {
  "kernelspec": {
   "display_name": "seminar-r",
   "language": "R",
   "name": "seminar-r"
  },
  "language_info": {
   "codemirror_mode": "r",
   "file_extension": ".r",
   "mimetype": "text/x-r-source",
   "name": "R",
   "pygments_lexer": "r",
   "version": "4.3.1"
  }
 },
 "nbformat": 4,
 "nbformat_minor": 5
}
