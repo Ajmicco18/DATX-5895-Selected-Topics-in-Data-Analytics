{
 "cells": [
  {
   "cell_type": "markdown",
   "id": "be02a957-7133-4d02-818e-fedeb3cecb05",
   "metadata": {},
   "source": [
    "# Project 12 -- Anthony Micco"
   ]
  },
  {
   "cell_type": "markdown",
   "id": "a1228853-dd19-4ab2-89e0-0394d7d72de3",
   "metadata": {},
   "source": [
    "**TA Help:** N/A\n",
    "    \n",
    "**Collaboration:** N/A"
   ]
  },
  {
   "cell_type": "markdown",
   "id": "6180e742-8e39-4698-98ff-5b00c8cf8ea0",
   "metadata": {},
   "source": [
    "## Question 1"
   ]
  },
  {
   "cell_type": "code",
   "execution_count": 2,
   "id": "49445606-d363-41b4-b479-e319a9a84c01",
   "metadata": {},
   "outputs": [],
   "source": [
    "options(jupyter.rich_display = F)\n",
    "options(repr.matrix.max.cols = 25, repr.matrix.max.rows =200)\n",
    "library(data.table)"
   ]
  },
  {
   "cell_type": "code",
   "execution_count": 27,
   "id": "adfa7c3f-f248-4646-9e8f-d642dd92d17e",
   "metadata": {},
   "outputs": [],
   "source": [
    "orders<-fread(\"/anvil/projects/tdm/data/restaurant/orders.csv\")"
   ]
  },
  {
   "cell_type": "code",
   "execution_count": 28,
   "id": "5e144a55-cab6-48bd-9700-8b795df5049c",
   "metadata": {},
   "outputs": [
    {
     "data": {
      "text/plain": [
       "  akeed_order_id customer_id item_count grand_total payment_mode promo_code\n",
       "1 163238         92PEE24     1           7.6        2                      \n",
       "2 163240         QS68UD8     1           8.7        1                      \n",
       "3 163241         MB7VY5F     2          14.4        1                      \n",
       "4 163244         KDJ951Y     1           7.1        1                      \n",
       "5 163245         BAL0RVT     4          27.2        1                      \n",
       "6 163246         U263OCD     3          18.2        2                      \n",
       "  vendor_discount_amount promo_code_discount_percentage is_favorite is_rated\n",
       "1 0                      NA                                         No      \n",
       "2 0                      NA                                         No      \n",
       "3 0                      NA                                         No      \n",
       "4 0                      NA                                         No      \n",
       "5 0                      NA                                         No      \n",
       "6 0                      NA                                         No      \n",
       "  vendor_rating driver_rating deliverydistance ... delivery_time      \n",
       "1 NA            0             0                ...                    \n",
       "2 NA            0             0                ...                    \n",
       "3 NA            0             0                ...                    \n",
       "4 NA            0             0                ... 2019-08-01 04:03:00\n",
       "5 NA            0             0                ...                    \n",
       "6 NA            0             0                ...                    \n",
       "  order_accepted_time driver_accepted_time ready_for_pickup_time picked_up_time\n",
       "1 <NA>                <NA>                 <NA>                  <NA>          \n",
       "2 <NA>                <NA>                 <NA>                  <NA>          \n",
       "3 <NA>                <NA>                 <NA>                  <NA>          \n",
       "4 <NA>                <NA>                 <NA>                  <NA>          \n",
       "5 <NA>                <NA>                 <NA>                  <NA>          \n",
       "6 <NA>                <NA>                 <NA>                  <NA>          \n",
       "  delivered_time delivery_date       vendor_id created_at         \n",
       "1 <NA>           2019-07-31 05:30:00 105       2019-08-01 05:30:16\n",
       "2 <NA>           2019-07-31 05:30:00 294       2019-08-01 05:31:10\n",
       "3 <NA>           2019-07-31 05:30:00  83       2019-08-01 05:31:33\n",
       "4 <NA>           2019-07-31 05:30:00  90       2019-08-01 05:34:54\n",
       "5 <NA>           2019-07-31 05:30:00  83       2019-08-01 05:35:51\n",
       "6 <NA>           2019-07-31 05:30:00  83       2019-08-01 05:37:05\n",
       "  LOCATION_NUMBER LOCATION_TYPE CID X LOC_NUM X VENDOR\n",
       "1 0                             92PEE24 X 0 X 105     \n",
       "2 0               Work          QS68UD8 X 0 X 294     \n",
       "3 0                             MB7VY5F X 0 X 83      \n",
       "4 0               Home          KDJ951Y X 0 X 90      \n",
       "5 0               Work          BAL0RVT X 0 X 83      \n",
       "6 0               Work          U263OCD X 0 X 83      "
      ]
     },
     "metadata": {},
     "output_type": "display_data"
    }
   ],
   "source": [
    "head(orders)"
   ]
  },
  {
   "cell_type": "code",
   "execution_count": 4,
   "id": "6aeb5a27-61cf-4c61-9220-f5999fde3f6e",
   "metadata": {},
   "outputs": [
    {
     "data": {
      "text/plain": [
       "[1] \"2019-08-01 05:30:16 UTC\" \"2019-08-01 05:31:10 UTC\"\n",
       "[3] \"2019-08-01 05:31:33 UTC\" \"2019-08-01 05:34:54 UTC\"\n",
       "[5] \"2019-08-01 05:35:51 UTC\" \"2019-08-01 05:37:05 UTC\""
      ]
     },
     "metadata": {},
     "output_type": "display_data"
    }
   ],
   "source": [
    "head(orders$created_at)"
   ]
  },
  {
   "cell_type": "code",
   "execution_count": 5,
   "id": "f95116b0-1c5d-4000-9794-3331c15a4be9",
   "metadata": {},
   "outputs": [
    {
     "data": {
      "text/plain": [
       "\n",
       "2020-02 2019-10 2019-12 2019-11 2020-01 2019-07 2019-06 2019-08 2019-09 2019-05 \n",
       "  23683   19893   19815   18249   17825   10175   10120    8933    6609       1 "
      ]
     },
     "metadata": {},
     "output_type": "display_data"
    }
   ],
   "source": [
    "sort(table(substr(orders$created_at,1,7)),decreasing=TRUE)"
   ]
  },
  {
   "cell_type": "code",
   "execution_count": 6,
   "id": "4a285335-1dc7-489d-a86a-ca9ab84a085b",
   "metadata": {},
   "outputs": [
    {
     "data": {
      "text/plain": [
       "\n",
       " 2020 2 2019 10 2019 12 2019 11  2020 1  2019 7  2019 6  2019 8  2019 9  2019 5 \n",
       "  23683   19893   19815   18249   17825   10175   10120    8933    6609       1 "
      ]
     },
     "metadata": {},
     "output_type": "display_data"
    }
   ],
   "source": [
    "sort(table(paste(year(orders$created_at),month(orders$created_at))),decreasing=TRUE)"
   ]
  },
  {
   "cell_type": "code",
   "execution_count": 7,
   "id": "94dcd628-b68c-4fdc-a510-6276af1f1e56",
   "metadata": {},
   "outputs": [
    {
     "data": {
      "text/plain": [
       "\n",
       "2020-02 2019-10 2019-12 2019-11 2020-01 2019-07 2019-06 2019-08 2019-09 2019-05 \n",
       "  23683   19893   19815   18249   17825   10175   10120    8933    6609       1 "
      ]
     },
     "metadata": {},
     "output_type": "display_data"
    }
   ],
   "source": [
    "sort(table(format(orders$created_at,\"%Y-%m\")),decreasing=TRUE)"
   ]
  },
  {
   "cell_type": "markdown",
   "id": "fc601975-35ed-4680-a4e1-0273ee3cc047",
   "metadata": {},
   "source": [
    "## Question 2"
   ]
  },
  {
   "cell_type": "code",
   "execution_count": 25,
   "id": "ee77817a-f6eb-42d4-a5e9-a00dc62c470f",
   "metadata": {
    "tags": []
   },
   "outputs": [
    {
     "data": {
      "text/plain": [
       "\n",
       "XW90EAP TL7Z2DM VDEJEMP HJFTTGW B28LJKM 2JJAO46 \n",
       "    262     151     146     128     119     115 "
      ]
     },
     "metadata": {},
     "output_type": "display_data"
    }
   ],
   "source": [
    "head(sort(table(orders$customer_id),decreasing=TRUE))"
   ]
  },
  {
   "cell_type": "code",
   "execution_count": 26,
   "id": "853e5257-bbbd-4e0d-a8e9-1e2bb747e85f",
   "metadata": {},
   "outputs": [
    {
     "data": {
      "text/plain": [
       "\n",
       "2019-06 2019-07 2019-10 2019-08 2019-12 2019-09 2019-11 2020-01 2020-02 \n",
       "     37      36      34      32      30      28      23      23      19 "
      ]
     },
     "metadata": {},
     "output_type": "display_data"
    }
   ],
   "source": [
    "sort(table(format(orders$created_at[orders$customer_id==\"XW90EAP\"],\"%Y-%m\")),decreasing=TRUE)"
   ]
  },
  {
   "cell_type": "markdown",
   "id": "14dc22d4-ddc3-41cc-a91a-cb0025bc0c80",
   "metadata": {},
   "source": [
    "A) XW90EAP is the customer_id that placed the most orders with 262."
   ]
  },
  {
   "cell_type": "markdown",
   "id": "8e586edd-ff26-4ce2-8f6b-2424b26f2929",
   "metadata": {},
   "source": [
    "## Question 3"
   ]
  },
  {
   "cell_type": "code",
   "execution_count": 32,
   "id": "bbe0f40d-9655-4653-9ca8-886bdb61cb91",
   "metadata": {},
   "outputs": [
    {
     "data": {
      "text/plain": [
       "\n",
       "     1      2      4      3      5 \n",
       "104714  22079   6696   1361    453 "
      ]
     },
     "metadata": {},
     "output_type": "display_data"
    }
   ],
   "source": [
    "sort(table(orders$payment_mode),decreasing=TRUE)"
   ]
  },
  {
   "cell_type": "code",
   "execution_count": 34,
   "id": "81c48dfe-5a09-4af7-99e6-d6626df6fd05",
   "metadata": {},
   "outputs": [
    {
     "data": {
      "text/plain": [
       "\n",
       "  2   1   4   5 \n",
       "188  59  14   1 "
      ]
     },
     "metadata": {},
     "output_type": "display_data"
    }
   ],
   "source": [
    "sort(table(orders$payment_mode[orders$customer_id==\"XW90EAP\"]),decreasing=TRUE)"
   ]
  },
  {
   "cell_type": "markdown",
   "id": "47c6229f-35f7-400c-8366-c442baa5cf47",
   "metadata": {},
   "source": [
    "B) The customer prefers to use payment method number 2. "
   ]
  },
  {
   "cell_type": "markdown",
   "id": "da22f29c-d245-4d2b-9fc1-ca14cb6087d9",
   "metadata": {},
   "source": [
    "## Question 4"
   ]
  },
  {
   "cell_type": "code",
   "execution_count": 36,
   "id": "8cffc767-d1c8-4d64-b7dc-f0d2ee8a80d1",
   "metadata": {},
   "outputs": [],
   "source": [
    "ordersJan2020<-subset(orders, (year(created_at)==2020)&(month(created_at)==1))"
   ]
  },
  {
   "cell_type": "code",
   "execution_count": 38,
   "id": "2513cb3c-d792-4aca-82e6-74d4c52a4b27",
   "metadata": {},
   "outputs": [],
   "source": [
    "monthlySum<-tapply(ordersJan2020$grand_total, wday(ordersJan2020$created_at), sum)"
   ]
  },
  {
   "cell_type": "code",
   "execution_count": 40,
   "id": "34f65035-b7b8-412a-8139-7821c287867d",
   "metadata": {},
   "outputs": [
    {
     "data": {
      "image/png": "[encoded data removed]",
      "text/plain": [
       "Plot with title \"Sum of Grand Totals Per Day of Week in Jan 2020\""
      ]
     },
     "metadata": {
      "image/png": {
       "height": 420,
       "width": 420
      }
     },
     "output_type": "display_data"
    }
   ],
   "source": [
    "barplot(monthlySum, xlab=\"Day of Week\", ylab=\"Sum of Grand Total\", main=\"Sum of Grand Totals Per Day of Week in Jan 2020\")"
   ]
  },
  {
   "cell_type": "markdown",
   "id": "0d552245-b4d6-474a-9cc9-fa7b8e674d55",
   "metadata": {},
   "source": [
    "Markdown notes and sentences and analysis written here."
   ]
  },
  {
   "cell_type": "markdown",
   "id": "f76442d6-d02e-4f26-b9d6-c3183e1d6929",
   "metadata": {},
   "source": [
    "## Pledge\n",
    "\n",
    "By submitting this work I hereby pledge that this is my own, personal work. I've acknowledged in the designated place at the top of this file all sources that I used to complete said work, including but not limited to: online resources, books, and electronic communications. I've noted all collaboration with fellow students and/or TA's. I did not copy or plagiarize another's work.\n",
    "\n",
    "> As a Boilermaker pursuing academic excellence, I pledge to be honest and true in all that I do. Accountable together – We are Purdue."
   ]
  }
 ],
 "metadata": {
  "kernelspec": {
   "display_name": "seminar-r",
   "language": "R",
   "name": "seminar-r"
  },
  "language_info": {
   "codemirror_mode": "r",
   "file_extension": ".r",
   "mimetype": "text/x-r-source",
   "name": "R",
   "pygments_lexer": "r",
   "version": "4.3.1"
  }
 },
 "nbformat": 4,
 "nbformat_minor": 5
}
