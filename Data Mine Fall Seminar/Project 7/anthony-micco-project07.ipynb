{
 "cells": [
  {
   "cell_type": "markdown",
   "id": "be02a957-7133-4d02-818e-fedeb3cecb05",
   "metadata": {},
   "source": [
    "# Project 07 -- Anthony Micco"
   ]
  },
  {
   "cell_type": "markdown",
   "id": "a1228853-dd19-4ab2-89e0-0394d7d72de3",
   "metadata": {},
   "source": [
    "**TA Help:** N/A\n",
    "    \n",
    "**Collaboration:** N/A"
   ]
  },
  {
   "cell_type": "markdown",
   "id": "6180e742-8e39-4698-98ff-5b00c8cf8ea0",
   "metadata": {},
   "source": [
    "## Question 1"
   ]
  },
  {
   "cell_type": "code",
   "execution_count": 2,
   "id": "49445606-d363-41b4-b479-e319a9a84c01",
   "metadata": {},
   "outputs": [],
   "source": [
    "options(jupyter.rich_display = F)"
   ]
  },
  {
   "cell_type": "code",
   "execution_count": 3,
   "id": "aff98d73-6261-415c-8f95-6ce4f1961e4f",
   "metadata": {},
   "outputs": [],
   "source": [
    "options(repr.matrix.max.cols = 25, repr.matrix.max.rows =200)"
   ]
  },
  {
   "cell_type": "code",
   "execution_count": 5,
   "id": "789ed985-8cd9-4904-a05d-ea2200fdbdfb",
   "metadata": {},
   "outputs": [],
   "source": [
    "library(data.table)"
   ]
  },
  {
   "cell_type": "code",
   "execution_count": 6,
   "id": "689f6c97-938c-46c7-9214-736de53df83a",
   "metadata": {},
   "outputs": [],
   "source": [
    "products <- fread(\"/anvil/projects/tdm/data/icecream/combined/products.csv\")"
   ]
  },
  {
   "cell_type": "code",
   "execution_count": 7,
   "id": "06b4e2e9-9105-489e-ac1e-db8648de40c6",
   "metadata": {},
   "outputs": [],
   "source": [
    "reviews <- fread(\"/anvil/projects/tdm/data/icecream/combined/reviews.csv\")"
   ]
  },
  {
   "cell_type": "code",
   "execution_count": 8,
   "id": "f33fb7b0-8715-45ac-8ddf-189de482ec78",
   "metadata": {},
   "outputs": [],
   "source": [
    "titles <- fread(\"/anvil/projects/tdm/data/movies_and_tv/titles.csv\")"
   ]
  },
  {
   "cell_type": "code",
   "execution_count": 9,
   "id": "3e188db3-b150-4e0f-b8a7-0f88be68a4d5",
   "metadata": {},
   "outputs": [],
   "source": [
    "episodes <- fread(\"/anvil/projects/tdm/data/movies_and_tv/episodes.csv\")"
   ]
  },
  {
   "cell_type": "code",
   "execution_count": 11,
   "id": "58282b73-2693-4571-b6c6-1cec64d5b53d",
   "metadata": {},
   "outputs": [],
   "source": [
    "ratings <- fread(\"/anvil/projects/tdm/data/movies_and_tv/ratings.csv\")"
   ]
  },
  {
   "cell_type": "code",
   "execution_count": 13,
   "id": "a23b10c0-de52-4682-af0a-02a1432c03f9",
   "metadata": {},
   "outputs": [
    {
     "data": {
      "text/plain": [
       "[1] \"CREAM, SKIM MILK, LIQUID SUGAR (SUGAR, WATER), WATER, BROWN SUGAR, SUGAR, MILK, WHEAT FLOUR, EGG YOLKS, CORN SYRUP, EGGS, BUTTER (CREAM, SALT), BUTTEROIL, PECTIN, SEA SALT, SOYBEAN OIL, VANILLA EXTRACT, GUAR GUM, SOY LECITHIN, BAKING POWDER (SODIUM ACID PYROPHOSPHATE, SODIUM BICARBONATE, CORN STARCH, MONOCALCIUM PHOSPHATE), BAKING SODA, SALT, CARRAGEENAN, LACTASE\""
      ]
     },
     "metadata": {},
     "output_type": "display_data"
    }
   ],
   "source": [
    "head(products$ingredients, n=1)"
   ]
  },
  {
   "cell_type": "code",
   "execution_count": 17,
   "id": "bc836fb7-e1a4-404c-ac95-780f8712b65a",
   "metadata": {},
   "outputs": [],
   "source": [
    "GuarGumDF <- subset(products, grepl(\"GUAR GUM\", ingredients))"
   ]
  },
  {
   "cell_type": "code",
   "execution_count": 20,
   "id": "8e89ec26-0bf5-411b-9ad2-c12b61cfe074",
   "metadata": {},
   "outputs": [
    {
     "data": {
      "text/plain": [
       " [1] 5.0 5.0 4.9 4.9 4.9 4.9 4.8 4.8 4.8 4.8 4.8 4.7 4.7 4.7 4.7 4.7 4.7 4.7 4.7\n",
       "[20] 4.7 4.7 4.7 4.7 4.7 4.7 4.7 4.7 4.7 4.6 4.6 4.6 4.6 4.6 4.6 4.6 4.6 4.6 4.6\n",
       "[39] 4.5 4.5 4.5 4.5 4.5 4.4 4.4 4.4 4.4 4.4 4.4 4.4 4.3 4.3 4.3 4.3 4.3 4.3 4.2\n",
       "[58] 4.2 4.2 4.2 4.1 4.1 4.0 4.0 4.0 3.9 3.9 3.9 3.9 3.9 3.8 3.8 3.7 3.6 3.5 3.4\n",
       "[77] 3.4 3.3 3.3 3.3 3.3 3.2 2.9 2.8 1.8"
      ]
     },
     "metadata": {},
     "output_type": "display_data"
    }
   ],
   "source": [
    "sort(GuarGumDF$rating,decreasing=TRUE)"
   ]
  },
  {
   "cell_type": "markdown",
   "id": "b456e57c-4a12-464b-999a-ef2df5af80c1",
   "metadata": {},
   "source": [
    "A) The ingredients in the first product are: CREAM, SKIM MILK, LIQUID SUGAR (SUGAR, WATER), WATER, BROWN SUGAR, SUGAR, MILK, WHEAT FLOUR, EGG YOLKS, CORN SYRUP, EGGS, BUTTER (CREAM, SALT), BUTTEROIL, PECTIN, SEA SALT, SOYBEAN OIL, VANILLA EXTRACT, GUAR GUM, SOY LECITHIN, BAKING POWDER (SODIUM ACID PYROPHOSPHATE, SODIUM BICARBONATE, CORN STARCH, MONOCALCIUM PHOSPHATE), BAKING SODA, SALT, CARRAGEENAN, LACTASE."
   ]
  },
  {
   "cell_type": "markdown",
   "id": "fc601975-35ed-4680-a4e1-0273ee3cc047",
   "metadata": {},
   "source": [
    "## Question 2"
   ]
  },
  {
   "cell_type": "code",
   "execution_count": 22,
   "id": "a16336a1-1ef0-41e8-bc7c-49387db27497",
   "metadata": {},
   "outputs": [
    {
     "data": {
      "text/plain": [
       "[1] \"brand\"        \"key\"          \"name\"         \"subhead\"      \"description\" \n",
       "[6] \"rating\"       \"rating_count\" \"ingredients\" "
      ]
     },
     "metadata": {},
     "output_type": "display_data"
    }
   ],
   "source": [
    "names(products)"
   ]
  },
  {
   "cell_type": "code",
   "execution_count": 23,
   "id": "36fde485-b319-4912-901e-95800b86e5c7",
   "metadata": {},
   "outputs": [
    {
     "data": {
      "text/plain": [
       " [1] \"brand\"       \"key\"         \"author\"      \"date\"        \"stars\"      \n",
       " [6] \"title\"       \"helpful_yes\" \"helpful_no\"  \"text\"        \"taste\"      \n",
       "[11] \"ingredients\" \"texture\"     \"likes\"      "
      ]
     },
     "metadata": {},
     "output_type": "display_data"
    }
   ],
   "source": [
    "names(reviews)"
   ]
  },
  {
   "cell_type": "code",
   "execution_count": 29,
   "id": "dfd26009-2c14-4142-8696-cfaee4b1f59d",
   "metadata": {},
   "outputs": [
    {
     "data": {
      "text/plain": [
       "[1] \"character\""
      ]
     },
     "metadata": {},
     "output_type": "display_data"
    }
   ],
   "source": [
    "class(products$ingredients)"
   ]
  },
  {
   "cell_type": "code",
   "execution_count": 28,
   "id": "852a4471-b6d8-4d95-a8f7-3702e63d4220",
   "metadata": {},
   "outputs": [
    {
     "data": {
      "text/plain": [
       "[1] \"numeric\""
      ]
     },
     "metadata": {},
     "output_type": "display_data"
    }
   ],
   "source": [
    "class(reviews$ingredients)"
   ]
  },
  {
   "cell_type": "code",
   "execution_count": 34,
   "id": "30400d84-7cb8-4d59-9870-6ca0de1b443f",
   "metadata": {},
   "outputs": [],
   "source": [
    "newDF <- merge(products,reviews, by=c(\"brand\",\"key\"))"
   ]
  },
  {
   "cell_type": "code",
   "execution_count": 35,
   "id": "69de8989-abe8-40f5-9543-8bc533083023",
   "metadata": {},
   "outputs": [
    {
     "data": {
      "text/plain": [
       "[1] 21674    19"
      ]
     },
     "metadata": {},
     "output_type": "display_data"
    }
   ],
   "source": [
    "dim(newDF)"
   ]
  },
  {
   "cell_type": "markdown",
   "id": "8e586edd-ff26-4ce2-8f6b-2424b26f2929",
   "metadata": {},
   "source": [
    "## Question 3"
   ]
  },
  {
   "cell_type": "code",
   "execution_count": 38,
   "id": "f913683d-3d46-417d-9d9b-5e9e98a03db3",
   "metadata": {},
   "outputs": [
    {
     "data": {
      "text/plain": [
       "  episode_title_id show_title_id season_number episode_number\n",
       "1 tt0041951        tt0041038      1            9             \n",
       "2 tt0042816        tt0989125      1            17            \n",
       "3 tt0042889        tt0989125     NA            \\\\N           \n",
       "4 tt0043426        tt0040051      3            42            \n",
       "5 tt0043631        tt0989125      2            16            \n",
       "6 tt0043693        tt0989125      2            8             "
      ]
     },
     "metadata": {},
     "output_type": "display_data"
    }
   ],
   "source": [
    "head(episodes)"
   ]
  },
  {
   "cell_type": "code",
   "execution_count": 44,
   "id": "bbe0f40d-9655-4653-9ca8-886bdb61cb91",
   "metadata": {},
   "outputs": [],
   "source": [
    "StrangerThings <- subset(episodes,show_title_id==\"tt4574334\")"
   ]
  },
  {
   "cell_type": "code",
   "execution_count": 45,
   "id": "16bc4f52-ba2b-4742-9238-d372e5dcf8f0",
   "metadata": {},
   "outputs": [
    {
     "data": {
      "text/plain": [
       "  title_id  type  primary_title          original_title         is_adult\n",
       "1 tt0000001 short Carmencita             Carmencita             0       \n",
       "2 tt0000002 short Le clown et ses chiens Le clown et ses chiens 0       \n",
       "3 tt0000003 short Pauvre Pierrot         Pauvre Pierrot         0       \n",
       "4 tt0000004 short Un bon bock            Un bon bock            0       \n",
       "5 tt0000005 short Blacksmith Scene       Blacksmith Scene       0       \n",
       "6 tt0000006 short Chinese Opium Den      Chinese Opium Den      0       \n",
       "  premiered ended runtime_minutes genres                  \n",
       "1 1894      NA     1              Documentary,Short       \n",
       "2 1892      NA     5              Animation,Short         \n",
       "3 1892      NA     4              Animation,Comedy,Romance\n",
       "4 1892      NA    12              Animation,Short         \n",
       "5 1893      NA     1              Comedy,Short            \n",
       "6 1894      NA     1              Short                   "
      ]
     },
     "metadata": {},
     "output_type": "display_data"
    }
   ],
   "source": [
    "head(titles)"
   ]
  },
  {
   "cell_type": "code",
   "execution_count": 43,
   "id": "86727803-87a9-48f5-9d55-05f8b650805e",
   "metadata": {},
   "outputs": [
    {
     "data": {
      "text/plain": [
       "  episode_title_id show_title_id season_number episode_number\n",
       "1 tt11043488       tt4574334     4             1             \n",
       "2 tt11171932       tt4574334     4             2             \n",
       "3 tt11171954       tt4574334     4             3             \n",
       "4 tt11171978       tt4574334     4             4             \n",
       "5 tt11172000       tt4574334     4             5             \n",
       "6 tt11172012       tt4574334     4             6             "
      ]
     },
     "metadata": {},
     "output_type": "display_data"
    }
   ],
   "source": [
    "head(StrangerThings)"
   ]
  },
  {
   "cell_type": "code",
   "execution_count": 50,
   "id": "9fa79a99-943e-4ab4-b85e-0c0668d42764",
   "metadata": {},
   "outputs": [
    {
     "data": {
      "text/plain": [
       "  title_id  rating votes\n",
       "1 tt0000001 5.7    1718 \n",
       "2 tt0000002 6.0     211 \n",
       "3 tt0000003 6.5    1480 \n",
       "4 tt0000004 6.1     124 \n",
       "5 tt0000005 6.2    2283 \n",
       "6 tt0000006 5.1     127 "
      ]
     },
     "metadata": {},
     "output_type": "display_data"
    }
   ],
   "source": [
    "head(ratings)"
   ]
  },
  {
   "cell_type": "code",
   "execution_count": 54,
   "id": "ba97072a-7762-4218-95c7-e5513b9758c9",
   "metadata": {},
   "outputs": [],
   "source": [
    "BigStrangerThingsDF <- merge(merge(merge(merge(StrangerThings, titles, by.x=\"show_title_id\",by.y=\"title_id\"),\n",
    "                                  titles, by.x=\"episode_title_id\", by.y=\"title_id\"),\n",
    "                                  ratings, by.x=\"show_title_id\", by.y=\"title_id\"),\n",
    "                                  ratings, by.x=\"episode_title_id\", by.y=\"title_id\")"
   ]
  },
  {
   "cell_type": "code",
   "execution_count": 55,
   "id": "9a135b82-e56f-438b-b09e-1f98bc09e00e",
   "metadata": {},
   "outputs": [
    {
     "data": {
      "text/plain": [
       " [1] \"episode_title_id\"  \"show_title_id\"     \"season_number\"    \n",
       " [4] \"episode_number\"    \"type.x\"            \"primary_title.x\"  \n",
       " [7] \"original_title.x\"  \"is_adult.x\"        \"premiered.x\"      \n",
       "[10] \"ended.x\"           \"runtime_minutes.x\" \"genres.x\"         \n",
       "[13] \"type.y\"            \"primary_title.y\"   \"original_title.y\" \n",
       "[16] \"is_adult.y\"        \"premiered.y\"       \"ended.y\"          \n",
       "[19] \"runtime_minutes.y\" \"genres.y\"          \"rating.x\"         \n",
       "[22] \"votes.x\"           \"rating.y\"          \"votes.y\"          "
      ]
     },
     "metadata": {},
     "output_type": "display_data"
    }
   ],
   "source": [
    "names(BigStrangerThingsDF)"
   ]
  },
  {
   "cell_type": "code",
   "execution_count": 58,
   "id": "3b974c79-8393-44e6-99e7-940d53e8c6bc",
   "metadata": {},
   "outputs": [],
   "source": [
    "names(BigStrangerThingsDF)[6] <- \"show_title\""
   ]
  },
  {
   "cell_type": "code",
   "execution_count": 59,
   "id": "59a58889-c82a-4e0d-bad9-aa0a783aaf43",
   "metadata": {},
   "outputs": [],
   "source": [
    "names(BigStrangerThingsDF)[14] <- \"episode_title\""
   ]
  },
  {
   "cell_type": "code",
   "execution_count": 61,
   "id": "d0d29faf-7238-4657-b8cc-c344696ab48c",
   "metadata": {},
   "outputs": [],
   "source": [
    "names(BigStrangerThingsDF)[21] <- \"show_rating\""
   ]
  },
  {
   "cell_type": "code",
   "execution_count": 62,
   "id": "5b5b0b38-163b-419f-8385-37cfc2cabe9b",
   "metadata": {},
   "outputs": [],
   "source": [
    "names(BigStrangerThingsDF)[23] <- \"episode_rating\""
   ]
  },
  {
   "cell_type": "code",
   "execution_count": 69,
   "id": "16ad064f-d987-4089-b150-47885b8402c1",
   "metadata": {},
   "outputs": [
    {
     "data": {
      "text/plain": [
       "  episode_title_id show_title_id season_number episode_number type.x  \n",
       "1 tt6020876        tt4574334     2             9              tvSeries\n",
       "2 tt4593138        tt4574334     1             8              tvSeries\n",
       "3 tt6020812        tt4574334     2             8              tvSeries\n",
       "4 tt6020808        tt4574334     2             6              tvSeries\n",
       "5 tt7911942        tt4574334     3             8              tvSeries\n",
       "  show_title      original_title.x is_adult.x premiered.x ended.x\n",
       "1 Stranger Things Stranger Things  0          2016        NA     \n",
       "2 Stranger Things Stranger Things  0          2016        NA     \n",
       "3 Stranger Things Stranger Things  0          2016        NA     \n",
       "4 Stranger Things Stranger Things  0          2016        NA     \n",
       "5 Stranger Things Stranger Things  0          2016        NA     \n",
       "  runtime_minutes.x genres.x             type.y   \n",
       "1 51                Drama,Fantasy,Horror tvEpisode\n",
       "2 51                Drama,Fantasy,Horror tvEpisode\n",
       "3 51                Drama,Fantasy,Horror tvEpisode\n",
       "4 51                Drama,Fantasy,Horror tvEpisode\n",
       "5 51                Drama,Fantasy,Horror tvEpisode\n",
       "  episode_title                          original_title.y                      \n",
       "1 Chapter Nine: The Gate                 Chapter Nine: The Gate                \n",
       "2 Chapter Eight: The Upside Down         Chapter Eight: The Upside Down        \n",
       "3 Chapter Eight: The Mind Flayer         Chapter Eight: The Mind Flayer        \n",
       "4 Chapter Six: The Spy                   Chapter Six: The Spy                  \n",
       "5 Chapter Eight: The Battle of Starcourt Chapter Eight: The Battle of Starcourt\n",
       "  is_adult.y premiered.y ended.y runtime_minutes.y genres.y            \n",
       "1 0          2017        NA      62                Drama,Fantasy,Horror\n",
       "2 0          2016        NA      54                Drama,Fantasy,Horror\n",
       "3 0          2017        NA      47                Drama,Fantasy,Horror\n",
       "4 0          2017        NA      51                Drama,Fantasy,Horror\n",
       "5 0          2019        NA      76                Drama,Fantasy,Horror\n",
       "  show_rating votes.x episode_rating votes.y\n",
       "1 8.7         870577  9.4            19023  \n",
       "2 8.7         870577  9.3            19912  \n",
       "3 8.7         870577  9.3            16915  \n",
       "4 8.7         870577  9.2            15465  \n",
       "5 8.7         870577  9.2            22961  "
      ]
     },
     "metadata": {},
     "output_type": "display_data"
    }
   ],
   "source": [
    "head(BigStrangerThingsDF[order(BigStrangerThingsDF$episode_rating, decreasing=TRUE),],n=5)"
   ]
  },
  {
   "cell_type": "markdown",
   "id": "da22f29c-d245-4d2b-9fc1-ca14cb6087d9",
   "metadata": {},
   "source": [
    "## Question 4"
   ]
  },
  {
   "cell_type": "code",
   "execution_count": 72,
   "id": "8cffc767-d1c8-4d64-b7dc-f0d2ee8a80d1",
   "metadata": {},
   "outputs": [
    {
     "data": {
      "text/plain": [
       "  episode_title_id show_title_id season_number episode_number type.x  \n",
       "1 tt7445494        tt4574334     3             1              tvSeries\n",
       "2 tt7640050        tt4574334     3             2              tvSeries\n",
       "3 tt7911866        tt4574334     3             3              tvSeries\n",
       "  show_title      original_title.x is_adult.x premiered.x ended.x\n",
       "1 Stranger Things Stranger Things  0          2016        NA     \n",
       "2 Stranger Things Stranger Things  0          2016        NA     \n",
       "3 Stranger Things Stranger Things  0          2016        NA     \n",
       "  runtime_minutes.x genres.x             type.y   \n",
       "1 51                Drama,Fantasy,Horror tvEpisode\n",
       "2 51                Drama,Fantasy,Horror tvEpisode\n",
       "3 51                Drama,Fantasy,Horror tvEpisode\n",
       "  episode_title                                   \n",
       "1 Chapter One: Suzie, Do You Copy?                \n",
       "2 Chapter Two: The Mall Rats                      \n",
       "3 Chapter Three: The Case of the Missing Lifeguard\n",
       "  original_title.y                                 is_adult.y premiered.y\n",
       "1 Chapter One: Suzie, Do You Copy?                 0          2019       \n",
       "2 Chapter Two: The Mall Rats                       0          2019       \n",
       "3 Chapter Three: The Case of the Missing Lifeguard 0          2019       \n",
       "  ended.y runtime_minutes.y genres.y             show_rating votes.x\n",
       "1 NA      50                Drama,Fantasy,Horror 8.7         870577 \n",
       "2 NA      50                Drama,Fantasy,Horror 8.7         870577 \n",
       "3 NA      49                Drama,Fantasy,Horror 8.7         870577 \n",
       "  episode_rating votes.y\n",
       "1 7.9            16701  \n",
       "2 8.0            14982  \n",
       "3 8.4            14470  "
      ]
     },
     "metadata": {},
     "output_type": "display_data"
    }
   ],
   "source": [
    "BigStrangerThingsDF[(BigStrangerThingsDF$season_number==3)&(BigStrangerThingsDF$episode_rating < 8.5)]"
   ]
  },
  {
   "cell_type": "code",
   "execution_count": 75,
   "id": "0a0de86a-b292-40ae-a9a8-7acab425facf",
   "metadata": {},
   "outputs": [],
   "source": [
    "Season3DF <- subset(BigStrangerThingsDF, (season_number==3)&(episode_rating < 8.5))"
   ]
  },
  {
   "cell_type": "code",
   "execution_count": 77,
   "id": "f06cb23f-8c63-4cd4-bd2c-7878c5d30190",
   "metadata": {},
   "outputs": [
    {
     "data": {
      "text/plain": [
       "[1]  3 24"
      ]
     },
     "metadata": {},
     "output_type": "display_data"
    }
   ],
   "source": [
    "dim(BigStrangerThingsDF[(BigStrangerThingsDF$season_number==3)&(BigStrangerThingsDF$episode_rating < 8.5)])"
   ]
  },
  {
   "cell_type": "code",
   "execution_count": 76,
   "id": "d1c383e1-e075-4842-9497-859e51b74117",
   "metadata": {},
   "outputs": [
    {
     "data": {
      "text/plain": [
       "[1]  3 24"
      ]
     },
     "metadata": {},
     "output_type": "display_data"
    }
   ],
   "source": [
    "dim(Season3DF)"
   ]
  },
  {
   "cell_type": "markdown",
   "id": "88c9cdac-3e92-498f-83fa-e089bfc44ac8",
   "metadata": {},
   "source": [
    "## Question 5"
   ]
  },
  {
   "cell_type": "code",
   "execution_count": 81,
   "id": "d370d7c9-06db-42b9-b75f-240481a5c491",
   "metadata": {},
   "outputs": [
    {
     "data": {
      "text/plain": [
       "  episode_title_id show_title_id season_number episode_number type.x  \n",
       "1 tt6020684        tt4574334     2             1              tvSeries\n",
       "2 tt6020792        tt4574334     2             2              tvSeries\n",
       "3 tt6020810        tt4574334     2             7              tvSeries\n",
       "4 tt7445494        tt4574334     3             1              tvSeries\n",
       "5 tt7640050        tt4574334     3             2              tvSeries\n",
       "6 tt7911866        tt4574334     3             3              tvSeries\n",
       "  show_title      original_title.x is_adult.x premiered.x ended.x\n",
       "1 Stranger Things Stranger Things  0          2016        NA     \n",
       "2 Stranger Things Stranger Things  0          2016        NA     \n",
       "3 Stranger Things Stranger Things  0          2016        NA     \n",
       "4 Stranger Things Stranger Things  0          2016        NA     \n",
       "5 Stranger Things Stranger Things  0          2016        NA     \n",
       "6 Stranger Things Stranger Things  0          2016        NA     \n",
       "  runtime_minutes.x genres.x             type.y   \n",
       "1 51                Drama,Fantasy,Horror tvEpisode\n",
       "2 51                Drama,Fantasy,Horror tvEpisode\n",
       "3 51                Drama,Fantasy,Horror tvEpisode\n",
       "4 51                Drama,Fantasy,Horror tvEpisode\n",
       "5 51                Drama,Fantasy,Horror tvEpisode\n",
       "6 51                Drama,Fantasy,Horror tvEpisode\n",
       "  episode_title                                   \n",
       "1 Chapter One: MADMAX                             \n",
       "2 Chapter Two: Trick or Treat, Freak              \n",
       "3 Chapter Seven: The Lost Sister                  \n",
       "4 Chapter One: Suzie, Do You Copy?                \n",
       "5 Chapter Two: The Mall Rats                      \n",
       "6 Chapter Three: The Case of the Missing Lifeguard\n",
       "  original_title.y                                 is_adult.y premiered.y\n",
       "1 Chapter One: MADMAX                              0          2017       \n",
       "2 Chapter Two: Trick or Treat, Freak               0          2017       \n",
       "3 Chapter Seven: The Lost Sister                   0          2017       \n",
       "4 Chapter One: Suzie, Do You Copy?                 0          2019       \n",
       "5 Chapter Two: The Mall Rats                       0          2019       \n",
       "6 Chapter Three: The Case of the Missing Lifeguard 0          2019       \n",
       "  ended.y runtime_minutes.y genres.y             show_rating votes.x\n",
       "1 NA      48                Drama,Fantasy,Horror 8.7         870577 \n",
       "2 NA      56                Drama,Fantasy,Horror 8.7         870577 \n",
       "3 NA      45                Drama,Fantasy,Horror 8.7         870577 \n",
       "4 NA      50                Drama,Fantasy,Horror 8.7         870577 \n",
       "5 NA      50                Drama,Fantasy,Horror 8.7         870577 \n",
       "6 NA      49                Drama,Fantasy,Horror 8.7         870577 \n",
       "  episode_rating votes.y\n",
       "1 8.3            15678  \n",
       "2 8.4            14554  \n",
       "3 6.1            22503  \n",
       "4 7.9            16701  \n",
       "5 8.0            14982  \n",
       "6 8.4            14470  "
      ]
     },
     "metadata": {},
     "output_type": "display_data"
    }
   ],
   "source": [
    "season_number <- 3\n",
    "subset(BigStrangerThingsDF, (season_number == season_number) & (episode_rating < 8.5))"
   ]
  },
  {
   "cell_type": "markdown",
   "id": "9fbf00fb-2418-460f-ae94-2a32b0c28952",
   "metadata": {},
   "source": [
    "Subset gets a different result than our indexing because we are specifying from which data frame we are pulling the column from, whereas using subset, we did not specify where the column came from. As a result, the function could look for any data frame that has that column, thus providing different results than indexing."
   ]
  },
  {
   "cell_type": "markdown",
   "id": "f76442d6-d02e-4f26-b9d6-c3183e1d6929",
   "metadata": {},
   "source": [
    "## Pledge\n",
    "\n",
    "By submitting this work I hereby pledge that this is my own, personal work. I've acknowledged in the designated place at the top of this file all sources that I used to complete said work, including but not limited to: online resources, books, and electronic communications. I've noted all collaboration with fellow students and/or TA's. I did not copy or plagiarize another's work.\n",
    "\n",
    "> As a Boilermaker pursuing academic excellence, I pledge to be honest and true in all that I do. Accountable together – We are Purdue."
   ]
  }
 ],
 "metadata": {
  "kernelspec": {
   "display_name": "seminar-r",
   "language": "R",
   "name": "seminar-r"
  },
  "language_info": {
   "codemirror_mode": "r",
   "file_extension": ".r",
   "mimetype": "text/x-r-source",
   "name": "R",
   "pygments_lexer": "r",
   "version": "4.3.1"
  }
 },
 "nbformat": 4,
 "nbformat_minor": 5
}
