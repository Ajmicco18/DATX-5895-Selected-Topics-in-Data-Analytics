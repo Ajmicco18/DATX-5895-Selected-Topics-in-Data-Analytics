{
 "cells": [
  {
   "cell_type": "markdown",
   "id": "be02a957-7133-4d02-818e-fedeb3cecb05",
   "metadata": {},
   "source": [
    "# Project 06 -- Anthony Micco"
   ]
  },
  {
   "cell_type": "markdown",
   "id": "a1228853-dd19-4ab2-89e0-0394d7d72de3",
   "metadata": {},
   "source": [
    "**TA Help:** N/A\n",
    "    \n",
    "**Collaboration:** N/A"
   ]
  },
  {
   "cell_type": "markdown",
   "id": "6180e742-8e39-4698-98ff-5b00c8cf8ea0",
   "metadata": {},
   "source": [
    "## Question 1"
   ]
  },
  {
   "cell_type": "code",
   "execution_count": 2,
   "id": "49445606-d363-41b4-b479-e319a9a84c01",
   "metadata": {},
   "outputs": [],
   "source": [
    "options(jupyter.rich_display = F)"
   ]
  },
  {
   "cell_type": "code",
   "execution_count": 4,
   "id": "9adcf957-f612-4369-9c18-f195da9f678b",
   "metadata": {},
   "outputs": [],
   "source": [
    "options(repr.matrix.max.cols = 25, repr.matrix.max.rows =200)"
   ]
  },
  {
   "cell_type": "code",
   "execution_count": 133,
   "id": "e53b6cf1-4fd2-41b9-bc4c-92f9fa4d0bbc",
   "metadata": {},
   "outputs": [],
   "source": [
    "myDF <- read.csv(\"/anvil/projects/tdm/data/olympics/athlete_events.csv\", stringsAsFactors=TRUE)"
   ]
  },
  {
   "cell_type": "code",
   "execution_count": 163,
   "id": "b71f07b1-d2d2-465f-9666-06ee197c3208",
   "metadata": {
    "tags": []
   },
   "outputs": [
    {
     "data": {
      "text/plain": [
       "  ID Name                     Sex Age Height Weight Team           NOC\n",
       "1 1  A Dijiang                M   24  180    80     China          CHN\n",
       "2 2  A Lamusi                 M   23  170    60     China          CHN\n",
       "3 3  Gunnar Nielsen Aaby      M   24   NA    NA     Denmark        DEN\n",
       "4 4  Edgar Lindenau Aabye     M   34   NA    NA     Denmark/Sweden DEN\n",
       "5 5  Christine Jacoba Aaftink F   21  185    82     Netherlands    NED\n",
       "6 5  Christine Jacoba Aaftink F   21  185    82     Netherlands    NED\n",
       "  Games       Year Season City      Sport        \n",
       "1 1992 Summer 1992 Summer Barcelona Basketball   \n",
       "2 2012 Summer 2012 Summer London    Judo         \n",
       "3 1920 Summer 1920 Summer Antwerpen Football     \n",
       "4 1900 Summer 1900 Summer Paris     Tug-Of-War   \n",
       "5 1988 Winter 1988 Winter Calgary   Speed Skating\n",
       "6 1988 Winter 1988 Winter Calgary   Speed Skating\n",
       "  Event                              Medal\n",
       "1 Basketball Men's Basketball        NA   \n",
       "2 Judo Men's Extra-Lightweight       NA   \n",
       "3 Football Men's Football            NA   \n",
       "4 Tug-Of-War Men's Tug-Of-War        Gold \n",
       "5 Speed Skating Women's 500 metres   NA   \n",
       "6 Speed Skating Women's 1,000 metres NA   "
      ]
     },
     "metadata": {},
     "output_type": "display_data"
    }
   ],
   "source": [
    "head(myDF)"
   ]
  },
  {
   "cell_type": "code",
   "execution_count": 135,
   "id": "12e1edea-645d-46c2-bbec-919c6e0bd11b",
   "metadata": {},
   "outputs": [
    {
     "data": {
      "text/plain": [
       "\n",
       "1896 Summer 1900 Summer 1904 Summer 1906 Summer 1908 Summer 1912 Summer \n",
       "        380        1936        1301        1733        3101        4040 \n",
       "1920 Summer 1924 Summer 1924 Winter 1928 Summer 1928 Winter 1932 Summer \n",
       "       4292        5233         460        4992         582        2969 \n",
       "1932 Winter 1936 Summer 1936 Winter 1948 Summer 1948 Winter 1952 Summer \n",
       "        352        6506         895        6405        1075        8270 \n",
       "1952 Winter 1956 Summer 1956 Winter 1960 Summer 1960 Winter 1964 Summer \n",
       "       1088        5127        1307        8119        1116        7702 \n",
       "1964 Winter 1968 Summer 1968 Winter 1972 Summer 1972 Winter 1976 Summer \n",
       "       1778        8588        1891       10304        1655        8641 \n",
       "1976 Winter 1980 Summer 1980 Winter 1984 Summer 1984 Winter 1988 Summer \n",
       "       1861        7191        1746        9454        2134       12037 \n",
       "1988 Winter 1992 Summer 1992 Winter 1994 Winter 1996 Summer 1998 Winter \n",
       "       2639       12977        3436        3160       13780        3605 \n",
       "2000 Summer 2002 Winter 2004 Summer 2006 Winter 2008 Summer 2010 Winter \n",
       "      13821        4109       13443        4382       13602        4402 \n",
       "2012 Summer 2014 Winter 2016 Summer \n",
       "      12920        4891       13688 "
      ]
     },
     "metadata": {},
     "output_type": "display_data"
    }
   ],
   "source": [
    "#Making a table to list all the games in DF\n",
    "table(myDF$Games)"
   ]
  },
  {
   "cell_type": "code",
   "execution_count": 136,
   "id": "efa897ee-a9d4-4d03-bb85-feadf26ffbd3",
   "metadata": {},
   "outputs": [],
   "source": [
    "#Getting the countries that participated in the 1980 games\n",
    "my1980athletes <- table(myDF$NOC[myDF$Year == 1980])"
   ]
  },
  {
   "cell_type": "code",
   "execution_count": 137,
   "id": "69d96019-1733-431e-a15e-301d77908cbe",
   "metadata": {},
   "outputs": [
    {
     "data": {
      "text/plain": [
       "\n",
       "AFG ALG AND ANG ARG AUS AUT BEL BEN BOL BOT BRA BUL CAN CGO CHN CMR COL CRC CUB \n",
       " 11  63  11  17  26 209 158  90  17   8   8 149 413  86  25  38  29  28  40 288 \n",
       "CYP DEN DOM ECU ESP ETH FIN FRA FRG GBR GDR GRE GUA GUI GUY HUN IND IRL IRQ ISL \n",
       " 21  60   7  16 226  48 210 244 118 404 582  51  10  10  10 394  78  57  44  24 \n",
       "ITA JAM JOR JPN KOR KUW LAO LBA LES LIB LIE LUX MAD MEX MGL MLI MLT MOZ MYA NCA \n",
       "277  32   6  80  24  67  19  38   7  26  17   4  18  74  67   7  12  16   2   6 \n",
       "NED NEP NGR NOR NZL PER POL POR PRK PUR ROU SEN SEY SLE SMR SRI SUI SWE SYR TAN \n",
       "159  10  56 100  18  38 457  18 121   3 381  39  21  32  16   4 159 310  71  48 \n",
       "TCH TTO UGA URS USA VEN VIE YUG ZAM ZIM \n",
       "391  15  16 789 155  43  38 207  43  52 "
      ]
     },
     "metadata": {},
     "output_type": "display_data"
    }
   ],
   "source": [
    "my1980athletes[my1980athletes != 0]"
   ]
  },
  {
   "cell_type": "code",
   "execution_count": 138,
   "id": "41d58fca-2fc7-478b-b7e0-3f1f46d43033",
   "metadata": {},
   "outputs": [],
   "source": [
    "#Gathering the data to find the names of athletes attending multiple games\n",
    "myDuplicatedAthletes <- unique(myDF$Name[duplicated(myDF$Name)])"
   ]
  },
  {
   "cell_type": "code",
   "execution_count": 139,
   "id": "ef3d5cd8-77c0-49ed-825a-fed867c78158",
   "metadata": {},
   "outputs": [],
   "source": [
    "myNewDF <- subset(myDF, Name %in% myDuplicatedAthletes)"
   ]
  },
  {
   "cell_type": "code",
   "execution_count": 140,
   "id": "d81cbae6-85d6-474e-85b5-c1d4c4104915",
   "metadata": {
    "tags": []
   },
   "outputs": [
    {
     "data": {
      "text/plain": [
       "   ID Name                     Sex Age Height Weight Team        NOC\n",
       "5  5  Christine Jacoba Aaftink F   21  185    82     Netherlands NED\n",
       "6  5  Christine Jacoba Aaftink F   21  185    82     Netherlands NED\n",
       "7  5  Christine Jacoba Aaftink F   25  185    82     Netherlands NED\n",
       "8  5  Christine Jacoba Aaftink F   25  185    82     Netherlands NED\n",
       "9  5  Christine Jacoba Aaftink F   27  185    82     Netherlands NED\n",
       "10 5  Christine Jacoba Aaftink F   27  185    82     Netherlands NED\n",
       "   Games       Year Season City        Sport        \n",
       "5  1988 Winter 1988 Winter Calgary     Speed Skating\n",
       "6  1988 Winter 1988 Winter Calgary     Speed Skating\n",
       "7  1992 Winter 1992 Winter Albertville Speed Skating\n",
       "8  1992 Winter 1992 Winter Albertville Speed Skating\n",
       "9  1994 Winter 1994 Winter Lillehammer Speed Skating\n",
       "10 1994 Winter 1994 Winter Lillehammer Speed Skating\n",
       "   Event                              Medal\n",
       "5  Speed Skating Women's 500 metres   NA   \n",
       "6  Speed Skating Women's 1,000 metres NA   \n",
       "7  Speed Skating Women's 500 metres   NA   \n",
       "8  Speed Skating Women's 1,000 metres NA   \n",
       "9  Speed Skating Women's 500 metres   NA   \n",
       "10 Speed Skating Women's 1,000 metres NA   "
      ]
     },
     "metadata": {},
     "output_type": "display_data"
    }
   ],
   "source": [
    "head(myNewDF)"
   ]
  },
  {
   "cell_type": "markdown",
   "id": "fc601975-35ed-4680-a4e1-0273ee3cc047",
   "metadata": {},
   "source": [
    "## Question 2"
   ]
  },
  {
   "cell_type": "code",
   "execution_count": 70,
   "id": "a16336a1-1ef0-41e8-bc7c-49387db27497",
   "metadata": {},
   "outputs": [
    {
     "data": {
      "text/plain": [
       "     AFG      AHO      ALB      ALG      AND      ANG      ANT      ANZ \n",
       "      NA       NA 25.34286       NA 23.06509 24.91011       NA       NA \n",
       "     ARG      ARM      ARU      ASA      AUS      AUT      AZE      BAH \n",
       "      NA 24.60633 24.85714 27.21622       NA       NA 25.42756 26.36096 \n",
       "     BAN      BAR      BDI      BEL      BEN      BER      BHU      BIH \n",
       "22.63636       NA 24.43590       NA       NA       NA 25.97222 25.72388 \n",
       "     BIZ      BLR      BOH      BOL      BOT      BRA      BRN      BRU \n",
       "      NA 25.74930       NA       NA       NA       NA       NA 22.30000 \n",
       "     BUL      BUR      CAF      CAM      CAN      CAY      CGO      CHA \n",
       "      NA       NA       NA       NA       NA       NA       NA       NA \n",
       "     CHI      CHN      CIV      CMR      COD      COK      COL      COM \n",
       "      NA       NA       NA       NA 23.98925 22.85000       NA 22.21053 \n",
       "     CPV      CRC      CRO      CRT      CUB      CYP      CZE      DEN \n",
       "25.83333       NA 25.18379       NA       NA 24.19111 25.97012       NA \n",
       "     DJI      DMA      DOM      ECU      EGY      ERI      ESA      ESP \n",
       "      NA 25.63158       NA       NA       NA 24.67442       NA       NA \n",
       "     EST      ETH      EUN      FIJ      FIN      FRA      FRG      FSM \n",
       "25.55479       NA       NA       NA       NA       NA 24.44012 23.84615 \n",
       "     GAB      GAM      GBR      GBS      GDR      GEO      GEQ      GER \n",
       "24.26984       NA       NA 25.80952 23.12665 25.27972 22.92500       NA \n",
       "     GHA      GRE      GRN      GUA      GUI      GUM      GUY      HAI \n",
       "      NA       NA       NA       NA       NA       NA       NA       NA \n",
       "     HKG      HON      HUN      INA      IND      IOA      IRI      IRL \n",
       "      NA       NA       NA       NA       NA 25.07447       NA       NA \n",
       "     IRQ      ISL      ISR      ISV      ITA      IVB      JAM      JOR \n",
       "      NA 23.76874       NA       NA       NA 26.20000       NA       NA \n",
       "     JPN      KAZ      KEN      KGZ      KIR      KOR      KOS      KSA \n",
       "      NA 25.40938       NA 24.30837 21.63636       NA 23.87500       NA \n",
       "     KUW      LAO      LAT      LBA      LBR      LCA      LES      LIB \n",
       "      NA 21.57407       NA       NA       NA 23.92857 24.90909       NA \n",
       "     LIE      LTU      LUX      MAD      MAL      MAR      MAS      MAW \n",
       "      NA       NA       NA       NA       NA       NA       NA 24.17241 \n",
       "     MDA      MDV      MEX      MGL      MHL      MKD      MLI      MLT \n",
       "25.54274 20.91837       NA       NA 20.28571 22.29762       NA       NA \n",
       "     MNE      MON      MOZ      MRI      MTN      MYA      NAM      NBO \n",
       "27.07447       NA       NA 23.33333       NA       NA 27.85714 22.50000 \n",
       "     NCA      NED      NEP      NFL      NGR      NIG      NOR      NRU \n",
       "      NA       NA       NA 21.00000       NA       NA 26.79657 23.46154 \n",
       "     NZL      OMA      PAK      PAN      PAR      PER      PHI      PLE \n",
       "25.66781       NA       NA       NA 24.02222       NA       NA 24.00000 \n",
       "     PLW      PNG      POL      POR      PRK      PUR      QAT      RHO \n",
       "22.68000       NA       NA       NA       NA       NA       NA 25.50000 \n",
       "     ROT      ROU      RSA      RUS      RWA      SAA      SAM      SCG \n",
       "23.91667       NA       NA       NA       NA 25.06452 25.74603 25.41121 \n",
       "     SEN      SEY      SGP      SKN      SLE      SLO      SMR      SOL \n",
       "      NA 22.64865       NA 24.97619       NA 25.30603 25.78453       NA \n",
       "     SOM      SRB      SRI      SSD      STP      SUD      SUI      SUR \n",
       "      NA 26.41327       NA 24.00000 22.20000       NA       NA       NA \n",
       "     SVK      SWE      SWZ      SYR      TAN      TCH      TGA      THA \n",
       "26.07583       NA 24.14925       NA       NA       NA 24.32609       NA \n",
       "     TJK      TKM      TLS      TOG      TPE      TTO      TUN      TUR \n",
       "26.55714 23.87037 24.77778       NA       NA       NA       NA       NA \n",
       "     TUV      UAE      UAR      UGA      UKR      UNK      URS      URU \n",
       "20.14286       NA       NA       NA 25.05393       NA       NA       NA \n",
       "     USA      UZB      VAN      VEN      VIE      VIN      VNM      WIF \n",
       "      NA 24.39798 24.05714       NA 24.16234 21.54762       NA 26.20000 \n",
       "     YAR      YEM      YMD      YUG      ZAM      ZIM \n",
       "22.18182 21.09375 23.60000       NA       NA       NA "
      ]
     },
     "metadata": {},
     "output_type": "display_data"
    }
   ],
   "source": [
    "# finding average age of athletes \n",
    "tapply(myDF$Age, myDF$NOC, mean)"
   ]
  },
  {
   "cell_type": "code",
   "execution_count": 88,
   "id": "a841b76b-3995-4710-a43b-99caf549a704",
   "metadata": {
    "tags": []
   },
   "outputs": [
    {
     "name": "stderr",
     "output_type": "stream",
     "text": [
      "Warning message in FUN(X[[i]], ...):\n",
      "\"no non-missing arguments to max; returning -Inf\"\n",
      "Warning message in FUN(X[[i]], ...):\n",
      "\"no non-missing arguments to max; returning -Inf\"\n",
      "Warning message in FUN(X[[i]], ...):\n",
      "\"no non-missing arguments to max; returning -Inf\"\n",
      "Warning message in FUN(X[[i]], ...):\n",
      "\"no non-missing arguments to max; returning -Inf\"\n",
      "Warning message in FUN(X[[i]], ...):\n",
      "\"no non-missing arguments to max; returning -Inf\"\n",
      "Warning message in FUN(X[[i]], ...):\n",
      "\"no non-missing arguments to max; returning -Inf\"\n",
      "Warning message in FUN(X[[i]], ...):\n",
      "\"no non-missing arguments to max; returning -Inf\"\n"
     ]
    },
    {
     "data": {
      "text/plain": [
       "Basketball Volleyball   Handball  Wrestling       Judo \n",
       "       226        219        214        214        213 "
      ]
     },
     "metadata": {},
     "output_type": "display_data"
    }
   ],
   "source": [
    "#Finding the max height by sport and sorting the max heights\n",
    "head(sort(tapply(myDF$Height, myDF$Sport, max, na.rm=TRUE), decreasing= TRUE),5)"
   ]
  },
  {
   "cell_type": "markdown",
   "id": "8e586edd-ff26-4ce2-8f6b-2424b26f2929",
   "metadata": {},
   "source": [
    "## Question 3"
   ]
  },
  {
   "cell_type": "code",
   "execution_count": 101,
   "id": "b195be05-20cd-4ede-b9b1-fc12357de110",
   "metadata": {},
   "outputs": [],
   "source": [
    "options(repr.matrix.max.cols = 50, repr.matrix.max.rows =200)"
   ]
  },
  {
   "cell_type": "code",
   "execution_count": 100,
   "id": "bbe0f40d-9655-4653-9ca8-886bdb61cb91",
   "metadata": {},
   "outputs": [],
   "source": [
    "myDF <- read.csv(\"/anvil/projects/tdm/data/death_records/DeathRecords.csv\", stringsAsFactors = TRUE)"
   ]
  },
  {
   "cell_type": "code",
   "execution_count": 123,
   "id": "5500c295-bc14-4992-8e15-fa392199ffad",
   "metadata": {
    "tags": []
   },
   "outputs": [
    {
     "data": {
      "text/plain": [
       "  Id ResidentStatus Education1989Revision Education2003Revision\n",
       "1 1  1              0                     2                    \n",
       "2 2  1              0                     2                    \n",
       "3 3  1              0                     7                    \n",
       "4 4  1              0                     6                    \n",
       "5 5  1              0                     3                    \n",
       "6 6  1              0                     5                    \n",
       "  EducationReportingFlag MonthOfDeath Sex AgeType Age AgeSubstitutionFlag\n",
       "1 1                      January      M   1       87  0                  \n",
       "2 1                      January      M   1       58  0                  \n",
       "3 1                      January      F   1       75  0                  \n",
       "4 1                      January      M   1       74  0                  \n",
       "5 1                      January      M   1       64  0                  \n",
       "6 1                      January      F   1       93  0                  \n",
       "  AgeRecode52 AgeRecode27 AgeRecode12 InfantAgeRecode22\n",
       "1 43          23          11          0                \n",
       "2 37          17           8          0                \n",
       "3 41          21          10          0                \n",
       "4 40          20           9          0                \n",
       "5 38          18           8          0                \n",
       "6 44          24          11          0                \n",
       "  PlaceOfDeathAndDecedentsStatus MaritalStatus DayOfWeekOfDeath CurrentDataYear\n",
       "1 4                              M             4                2014           \n",
       "2 4                              D             3                2014           \n",
       "3 4                              W             2                2014           \n",
       "4 6                              D             1                2014           \n",
       "5 4                              D             2                2014           \n",
       "6 6                              W             4                2014           \n",
       "  InjuryAtWork MannerOfDeath MethodOfDisposition Autopsy ActivityCode\n",
       "1 U            7             C                   N       99          \n",
       "2 U            7             C                   N       99          \n",
       "3 U            7             C                   N       99          \n",
       "4 U            7             C                   N       99          \n",
       "5 U            7             C                   N       99          \n",
       "6 U            7             C                   N       99          \n",
       "  PlaceOfInjury Icd10Code CauseRecode358 CauseRecode113 InfantCauseRecode130\n",
       "1 99            I64       238             70            0                   \n",
       "2 99            I250      214             62            0                   \n",
       "3 99            J449      267             86            0                   \n",
       "4 99            I48       228             68            0                   \n",
       "5 99            I250      214             62            0                   \n",
       "6 99            K137      280            111            0                   \n",
       "  CauseRecode39 NumberOfEntityAxisConditions NumberOfRecordAxisConditions Race\n",
       "1 24            1                            1                            1   \n",
       "2 21            3                            3                            1   \n",
       "3 28            2                            2                            1   \n",
       "4 22            3                            3                            1   \n",
       "5 21            1                            1                            1   \n",
       "6 37            5                            5                            1   \n",
       "  BridgedRaceFlag RaceImputationFlag RaceRecode3 RaceRecode5 HispanicOrigin\n",
       "1 0               0                  1           1           100           \n",
       "2 0               0                  1           1           100           \n",
       "3 0               0                  1           1           100           \n",
       "4 0               0                  1           1           100           \n",
       "5 0               0                  1           1           100           \n",
       "6 0               0                  1           1           100           \n",
       "  HispanicOriginRaceRecode\n",
       "1 6                       \n",
       "2 6                       \n",
       "3 6                       \n",
       "4 6                       \n",
       "5 6                       \n",
       "6 6                       "
      ]
     },
     "metadata": {},
     "output_type": "display_data"
    }
   ],
   "source": [
    "head(myDF)"
   ]
  },
  {
   "cell_type": "code",
   "execution_count": 103,
   "id": "b3e4f40c-fc2e-4e75-959d-2cc1d2caa528",
   "metadata": {
    "collapsed": true,
    "jupyter": {
     "outputs_hidden": true
    },
    "tags": []
   },
   "outputs": [
    {
     "name": "stdout",
     "output_type": "stream",
     "text": [
      "'data.frame':\t2631171 obs. of  38 variables:\n",
      " $ Id                            : int  1 2 3 4 5 6 7 8 9 10 ...\n",
      " $ ResidentStatus                : int  1 1 1 1 1 1 1 1 1 1 ...\n",
      " $ Education1989Revision         : int  0 0 0 0 0 0 0 0 0 0 ...\n",
      " $ Education2003Revision         : int  2 2 7 6 3 5 4 4 3 3 ...\n",
      " $ EducationReportingFlag        : int  1 1 1 1 1 1 1 1 1 1 ...\n",
      " $ MonthOfDeath                  : int  1 1 1 1 1 1 1 1 1 1 ...\n",
      " $ Sex                           : Factor w/ 2 levels \"F\",\"M\": 2 2 1 2 2 1 2 2 1 2 ...\n",
      " $ AgeType                       : int  1 1 1 1 1 1 1 1 1 1 ...\n",
      " $ Age                           : int  87 58 75 74 64 93 82 55 86 23 ...\n",
      " $ AgeSubstitutionFlag           : int  0 0 0 0 0 0 0 0 0 0 ...\n",
      " $ AgeRecode52                   : int  43 37 41 40 38 44 42 37 43 30 ...\n",
      " $ AgeRecode27                   : int  23 17 21 20 18 24 22 17 23 10 ...\n",
      " $ AgeRecode12                   : int  11 8 10 9 8 11 10 8 11 4 ...\n",
      " $ InfantAgeRecode22             : int  0 0 0 0 0 0 0 0 0 0 ...\n",
      " $ PlaceOfDeathAndDecedentsStatus: int  4 4 4 6 4 6 4 7 4 7 ...\n",
      " $ MaritalStatus                 : Factor w/ 5 levels \"D\",\"M\",\"S\",\"U\",..: 2 1 5 1 1 5 2 3 5 3 ...\n",
      " $ DayOfWeekOfDeath              : int  4 3 2 1 2 4 6 6 6 4 ...\n",
      " $ CurrentDataYear               : int  2014 2014 2014 2014 2014 2014 2014 2014 2014 2014 ...\n",
      " $ InjuryAtWork                  : Factor w/ 3 levels \"N\",\"U\",\"Y\": 2 2 2 2 2 2 2 2 2 1 ...\n",
      " $ MannerOfDeath                 : int  7 7 7 7 7 7 7 7 7 2 ...\n",
      " $ MethodOfDisposition           : Factor w/ 7 levels \"B\",\"C\",\"D\",\"E\",..: 2 2 2 2 2 2 2 2 2 6 ...\n",
      " $ Autopsy                       : Factor w/ 5 levels \"N\",\"U\",\"Y\",\"n\",..: 1 1 1 1 1 1 1 1 1 1 ...\n",
      " $ ActivityCode                  : int  99 99 99 99 99 99 99 99 99 9 ...\n",
      " $ PlaceOfInjury                 : int  99 99 99 99 99 99 99 99 99 5 ...\n",
      " $ Icd10Code                     : Factor w/ 3695 levels \"A020\",\"A021\",..: 1570 1440 1762 1521 1440 1846 1441 1440 1070 3540 ...\n",
      " $ CauseRecode358                : int  238 214 267 228 214 280 215 214 175 429 ...\n",
      " $ CauseRecode113                : int  70 62 86 68 62 111 63 62 111 125 ...\n",
      " $ InfantCauseRecode130          : int  0 0 0 0 0 0 0 0 0 0 ...\n",
      " $ CauseRecode39                 : int  24 21 28 22 21 37 21 21 37 40 ...\n",
      " $ NumberOfEntityAxisConditions  : int  1 3 2 3 1 5 4 2 1 3 ...\n",
      " $ NumberOfRecordAxisConditions  : int  1 3 2 3 1 5 3 2 1 3 ...\n",
      " $ Race                          : int  1 1 1 1 1 1 1 2 1 1 ...\n",
      " $ BridgedRaceFlag               : int  0 0 0 0 0 0 0 1 0 0 ...\n",
      " $ RaceImputationFlag            : int  0 0 0 0 0 0 0 0 0 0 ...\n",
      " $ RaceRecode3                   : int  1 1 1 1 1 1 1 3 1 1 ...\n",
      " $ RaceRecode5                   : int  1 1 1 1 1 1 1 2 1 1 ...\n",
      " $ HispanicOrigin                : int  100 100 100 100 100 100 100 100 100 100 ...\n",
      " $ HispanicOriginRaceRecode      : int  6 6 6 6 6 6 6 7 6 6 ...\n"
     ]
    }
   ],
   "source": [
    "str(myDF)"
   ]
  },
  {
   "cell_type": "code",
   "execution_count": 106,
   "id": "e4939363-0214-4562-aa0f-4dbcc10042ee",
   "metadata": {},
   "outputs": [
    {
     "data": {
      "text/plain": [
       "[1] 2631171      38"
      ]
     },
     "metadata": {},
     "output_type": "display_data"
    }
   ],
   "source": [
    "# Getting the number of rows in data frame\n",
    "dim(myDF)"
   ]
  },
  {
   "cell_type": "code",
   "execution_count": 114,
   "id": "82b93ed2-08fb-46df-a0ad-4b70c65129dd",
   "metadata": {
    "tags": []
   },
   "outputs": [
    {
     "data": {
      "text/plain": [
       "\n",
       "  January  February     March     April       May      June      July    August \n",
       "   243719    212363    228872    215957    217242    205058    209757    208399 \n",
       "September   October  November  December \n",
       "   205660    218565    221740    243839 "
      ]
     },
     "metadata": {},
     "output_type": "display_data"
    },
    {
     "data": {
      "text/plain": [
       "[1] January January January January January January\n",
       "12 Levels: January February March April May June July August ... December"
      ]
     },
     "metadata": {},
     "output_type": "display_data"
    }
   ],
   "source": [
    "#changing the MonthOfDeath column from numbers to month\n",
    "table(myDF$MonthOfDeath)\n",
    "month_order <- c(\"January\",\"February\",\"March\",\"April\",\"May\",\"June\",\"July\",\"August\",\"September\",\"October\",\"November\",\"December\")\n",
    "myDF$MonthOfDeath <- factor(myDF$MonthOfDeath)\n",
    "levels(myDF$MonthOfDeath) <- month_order\n",
    "head(myDF$MonthOfDeath)"
   ]
  },
  {
   "cell_type": "code",
   "execution_count": 115,
   "id": "262f99ef-d540-4451-9f46-bffb9ab34984",
   "metadata": {},
   "outputs": [
    {
     "data": {
      "text/plain": [
       "\n",
       "  January  February     March     April       May      June      July    August \n",
       "   243719    212363    228872    215957    217242    205058    209757    208399 \n",
       "September   October  November  December \n",
       "   205660    218565    221740    243839 "
      ]
     },
     "metadata": {},
     "output_type": "display_data"
    }
   ],
   "source": [
    "#totaling the number of people to die in each month\n",
    "table(myDF$MonthOfDeath)"
   ]
  },
  {
   "cell_type": "markdown",
   "id": "0d552245-b4d6-474a-9cc9-fa7b8e674d55",
   "metadata": {},
   "source": [
    "A) There are 2631171 rows in the data frame."
   ]
  },
  {
   "cell_type": "markdown",
   "id": "da22f29c-d245-4d2b-9fc1-ca14cb6087d9",
   "metadata": {},
   "source": [
    "## Question 4"
   ]
  },
  {
   "cell_type": "code",
   "execution_count": 122,
   "id": "8cffc767-d1c8-4d64-b7dc-f0d2ee8a80d1",
   "metadata": {},
   "outputs": [
    {
     "data": {
      "text/plain": [
       "       5        4        1       28        7       48        6       58 \n",
       "82.21547 76.75468 74.51773 72.98769 72.41096 69.85284 68.57571 68.09494 \n",
       "      18        2       78       68        3       38 \n",
       "67.84568 66.31246 64.39815 63.90203 62.09667 60.61637 "
      ]
     },
     "metadata": {},
     "output_type": "display_data"
    }
   ],
   "source": [
    "# finding the average age for each race at the time of death\n",
    "sort(tapply(myDF$Age, myDF$Race, mean),decreasing=TRUE)"
   ]
  },
  {
   "cell_type": "code",
   "execution_count": 127,
   "id": "cdd01522-41d7-4e31-bf15-ca7a6f094e4f",
   "metadata": {},
   "outputs": [
    {
     "data": {
      "text/plain": [
       "       5        4        1       28        7       58       48        6 \n",
       "84.32215 78.88483 77.70897 75.22638 74.31771 73.26718 73.18021 70.87021 \n",
       "      18        2       78       68        3       38 \n",
       "70.71257 70.00623 68.48257 67.25878 65.40892 62.94444 "
      ]
     },
     "metadata": {},
     "output_type": "display_data"
    }
   ],
   "source": [
    "#finding the average age for females of each race at the time of death\n",
    "sort(tapply(myDF$Age[myDF$Sex == \"F\"], myDF$Race[myDF$Sex==\"F\"], mean),decreasing=TRUE)"
   ]
  },
  {
   "cell_type": "code",
   "execution_count": 126,
   "id": "902aafe0-e7b1-4c57-9ebd-2d6f85a28fa0",
   "metadata": {},
   "outputs": [
    {
     "data": {
      "text/plain": [
       "       5        4        1        7       28       48        6       18 \n",
       "79.25332 74.80935 71.38702 70.43836 70.36849 67.28077 66.42105 65.89437 \n",
       "      58        2       68       78        3       38 \n",
       "64.43243 62.77403 61.19678 61.08548 59.34319 58.83569 "
      ]
     },
     "metadata": {},
     "output_type": "display_data"
    }
   ],
   "source": [
    "#finding the average age for males of each race at the time of death\n",
    "sort(tapply(myDF$Age[myDF$Sex == \"M\"], myDF$Race[myDF$Sex==\"M\"], mean),decreasing=TRUE)"
   ]
  },
  {
   "cell_type": "markdown",
   "id": "88c9cdac-3e92-498f-83fa-e089bfc44ac8",
   "metadata": {},
   "source": [
    "## Question 5"
   ]
  },
  {
   "cell_type": "code",
   "execution_count": 167,
   "id": "d370d7c9-06db-42b9-b75f-240481a5c491",
   "metadata": {},
   "outputs": [],
   "source": [
    "# code creating graph about Olympic data frame\n",
    "myOlympicDF <- read.csv(\"/anvil/projects/tdm/data/olympics/athlete_events.csv\", stringsAsFactors=TRUE)\n",
    "my2016DF <- subset(myOlympicDF, myOlympicDF$Year == 2016)\n",
    "myOlympicWeights <- tail(sort(tapply(my2016DF$Weight, my2016DF$NOC, mean,na.rm=TRUE)),5)"
   ]
  },
  {
   "cell_type": "code",
   "execution_count": 173,
   "id": "cbdddd08-2423-4d5e-b62d-7c9791f0bd35",
   "metadata": {},
   "outputs": [
    {
     "data": {
      "image/png": "[encoded data removed]",
      "text/plain": [
       "Plot with title \"Highest Average Weight of Athletes: 2016 Olympics\""
      ]
     },
     "metadata": {
      "image/png": {
       "height": 420,
       "width": 420
      }
     },
     "output_type": "display_data"
    }
   ],
   "source": [
    "barplot(myOlympicWeights, main=\"Highest Average Weight of Athletes: 2016 Olympics\",xlab=\"Country\",ylab=\"Weight (KG)\",col=\"blue\") "
   ]
  },
  {
   "cell_type": "code",
   "execution_count": 170,
   "id": "4c787ba7-3805-437a-993f-0201357f0a05",
   "metadata": {},
   "outputs": [
    {
     "data": {
      "text/plain": [
       "[1] Syria\n",
       "1184 Levels: 30. Februar A North American Team Acipactli Acturus ... rn-2"
      ]
     },
     "metadata": {},
     "output_type": "display_data"
    },
    {
     "data": {
      "text/plain": [
       "[1] Croatia\n",
       "1184 Levels: 30. Februar A North American Team Acipactli Acturus ... rn-2"
      ]
     },
     "metadata": {},
     "output_type": "display_data"
    },
    {
     "data": {
      "text/plain": [
       "[1] Individual Olympic Athletes\n",
       "1184 Levels: 30. Februar A North American Team Acipactli Acturus ... rn-2"
      ]
     },
     "metadata": {},
     "output_type": "display_data"
    },
    {
     "data": {
      "text/plain": [
       "[1] Bosnia and Herzegovina\n",
       "1184 Levels: 30. Februar A North American Team Acipactli Acturus ... rn-2"
      ]
     },
     "metadata": {},
     "output_type": "display_data"
    },
    {
     "data": {
      "text/plain": [
       "[1] United States Virgin Islands\n",
       "1184 Levels: 30. Februar A North American Team Acipactli Acturus ... rn-2"
      ]
     },
     "metadata": {},
     "output_type": "display_data"
    }
   ],
   "source": [
    "head(myOlympicDF$Team[myOlympicDF$NOC==\"SYR\"],1)\n",
    "head(myOlympicDF$Team[myOlympicDF$NOC==\"CRO\"],1)\n",
    "head(myOlympicDF$Team[myOlympicDF$NOC==\"IOA\"],1)\n",
    "head(myOlympicDF$Team[myOlympicDF$NOC==\"BIH\"],1)\n",
    "head(myOlympicDF$Team[myOlympicDF$NOC==\"ISV\"],1)"
   ]
  },
  {
   "cell_type": "code",
   "execution_count": 175,
   "id": "7d74ef75-e135-44de-bfab-74d80a677b33",
   "metadata": {},
   "outputs": [],
   "source": [
    "# code creating graph about death record data frame\n",
    "myDeathRecordDF <- read.csv(\"/anvil/projects/tdm/data/death_records/DeathRecords.csv\", stringsAsFactors = TRUE)\n",
    "maritalStatus <- sort(table(myDeathRecordDF$MaritalStatus))"
   ]
  },
  {
   "cell_type": "code",
   "execution_count": 180,
   "id": "fd7be26d-79c5-4358-bc6a-c9519720d947",
   "metadata": {},
   "outputs": [
    {
     "name": "stderr",
     "output_type": "stream",
     "text": [
      "Warning message in dotchart(maritalStatus, main = \"Number of Deaths by Marital Status\", :\n",
      "\"'x' is neither a vector nor a matrix: using as.numeric(x)\"\n"
     ]
    },
    {
     "data": {
      "image/png": "[encoded data removed]",
      "text/plain": [
       "Plot with title \"Number of Deaths by Marital Status\""
      ]
     },
     "metadata": {
      "image/png": {
       "height": 420,
       "width": 420
      }
     },
     "output_type": "display_data"
    }
   ],
   "source": [
    "dotchart(maritalStatus,main=\"Number of Deaths by Marital Status\", ylab=\"Marital Status\",xlab=\"Number\",col=\"black\")"
   ]
  },
  {
   "cell_type": "markdown",
   "id": "9fbf00fb-2418-460f-ae94-2a32b0c28952",
   "metadata": {},
   "source": [
    "A) For the Olympic Data frame, I thought it would be interesting to see which country sent the heaviest athletes to the 2016. Surprisingly, the United States was not the heaviest team in 2016. The top 5 heaviest teams in 2016 in decreasing order were the US Virgin Islands, Bosnia and Herzegovina, Individual Olympic Athletes, Croatia and Syria. \n",
    "\n",
    "B) For the death record data frame, I looked into the number of deaths by marital status. It was interesting to see that most people that passed away were married or widowed, while the fewest deaths occurred with the group of people where their marital status was unknown."
   ]
  },
  {
   "cell_type": "markdown",
   "id": "f76442d6-d02e-4f26-b9d6-c3183e1d6929",
   "metadata": {},
   "source": [
    "## Pledge\n",
    "\n",
    "By submitting this work I hereby pledge that this is my own, personal work. I've acknowledged in the designated place at the top of this file all sources that I used to complete said work, including but not limited to: online resources, books, and electronic communications. I've noted all collaboration with fellow students and/or TA's. I did not copy or plagiarize another's work.\n",
    "\n",
    "> As a Boilermaker pursuing academic excellence, I pledge to be honest and true in all that I do. Accountable together – We are Purdue."
   ]
  }
 ],
 "metadata": {
  "kernelspec": {
   "display_name": "seminar-r",
   "language": "R",
   "name": "seminar-r"
  },
  "language_info": {
   "codemirror_mode": "r",
   "file_extension": ".r",
   "mimetype": "text/x-r-source",
   "name": "R",
   "pygments_lexer": "r",
   "version": "4.3.1"
  }
 },
 "nbformat": 4,
 "nbformat_minor": 5
}
