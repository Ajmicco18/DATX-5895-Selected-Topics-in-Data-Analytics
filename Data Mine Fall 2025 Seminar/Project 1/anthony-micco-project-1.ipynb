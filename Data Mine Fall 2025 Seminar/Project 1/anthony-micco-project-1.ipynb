{
 "cells": [
  {
   "cell_type": "markdown",
   "id": "be02a957-7133-4d02-818e-fedeb3cecb05",
   "metadata": {},
   "source": [
    "# Project 01 -- Anthony Micco"
   ]
  },
  {
   "cell_type": "markdown",
   "id": "a1228853-dd19-4ab2-89e0-0394d7d72de3",
   "metadata": {},
   "source": [
    "**TA Help:** N/A\n",
    "    \n",
    "**Collaboration:** Used information from the Stack Overflow page (https://stackoverflow.com/questions/5761212/how-do-i-count-the-number-of-rows-and-columns-in-a-file-using-bash) to find the bash command to calculate the number of rows in a CSV and not count the header row. "
   ]
  },
  {
   "cell_type": "code",
   "execution_count": 2,
   "id": "edf25d96-6f8f-40d8-8737-b54183726d4a",
   "metadata": {},
   "outputs": [
    {
     "name": "stdout",
     "output_type": "stream",
     "text": [
      "hello world\n"
     ]
    }
   ],
   "source": [
    "%%bash\n",
    "\n",
    "echo hello world"
   ]
  },
  {
   "cell_type": "markdown",
   "id": "6180e742-8e39-4698-98ff-5b00c8cf8ea0",
   "metadata": {},
   "source": [
    "## Question 1"
   ]
  },
  {
   "cell_type": "code",
   "execution_count": 1,
   "id": "49445606-d363-41b4-b479-e319a9a84c01",
   "metadata": {},
   "outputs": [],
   "source": [
    "#setting the working directory to the /anvil/projects/tdm/data/bay_area_bike_share/kaggle/ directory"
   ]
  },
  {
   "cell_type": "code",
   "execution_count": 3,
   "id": "74d4f99a-db81-4461-bde6-6134f5d94c56",
   "metadata": {},
   "outputs": [
    {
     "name": "stdout",
     "output_type": "stream",
     "text": [
      "archive.zip\n",
      "bay_area_bike_share.db\n",
      "station.csv\n",
      "status.csv\n",
      "trip.csv\n",
      "weather.csv\n",
      "/anvil/projects/tdm/data/bay_area_bike_share/kaggle\n"
     ]
    }
   ],
   "source": [
    "%%bash \n",
    "cd /anvil/projects/tdm/data/bay_area_bike_share/kaggle/\n",
    "ls\n",
    "pwd"
   ]
  },
  {
   "cell_type": "code",
   "execution_count": 4,
   "id": "211c58b2-cb8d-4092-b5a7-f18e75771d11",
   "metadata": {},
   "outputs": [],
   "source": [
    "#getting the number of columns in the status.csv file "
   ]
  },
  {
   "cell_type": "code",
   "execution_count": 19,
   "id": "be263ad6-21da-4123-b167-340514fb69af",
   "metadata": {},
   "outputs": [
    {
     "name": "stdout",
     "output_type": "stream",
     "text": [
      "station_id,bikes_available,docks_available,time\n",
      "2,2,25,2013/08/29 12:06:01\n"
     ]
    }
   ],
   "source": [
    "%%bash\n",
    "\n",
    "head -n2 /anvil/projects/tdm/data/bay_area_bike_share/kaggle/status.csv"
   ]
  },
  {
   "cell_type": "code",
   "execution_count": 6,
   "id": "0b7d1623-52e9-481e-8fb0-7c3b3e923d6b",
   "metadata": {},
   "outputs": [],
   "source": [
    "#getting the size of the status.csv file"
   ]
  },
  {
   "cell_type": "code",
   "execution_count": 7,
   "id": "d0765ce2-001e-4e4c-98f2-0fcdb9c2e09d",
   "metadata": {},
   "outputs": [
    {
     "name": "stdout",
     "output_type": "stream",
     "text": [
      "total 5240353\n",
      "drwxrwsr-x+ 2 nobody nogroup       4096 Jul 28  2023 .\n",
      "drwxrwsr-x+ 4 nobody nogroup      16384 Jul 28  2023 ..\n",
      "-rw-rw----  1 nobody nogroup  581418405 Jul 24  2023 archive.zip\n",
      "-rw-r--r--  1 nobody nogroup 2712824832 Nov 14  2019 bay_area_bike_share.db\n",
      "-rw-r--r--  1 nobody nogroup       5647 Nov 14  2019 station.csv\n",
      "-rw-r--r--  1 nobody nogroup 1989696383 Nov 14  2019 status.csv\n",
      "-rw-r--r--  1 nobody nogroup   80208848 Nov 14  2019 trip.csv\n",
      "-rw-r--r--  1 nobody nogroup     438063 Nov 14  2019 weather.csv\n",
      "/anvil/projects/tdm/data/bay_area_bike_share/kaggle\n"
     ]
    }
   ],
   "source": [
    "%%bash\n",
    "cd /anvil/projects/tdm/data/bay_area_bike_share/kaggle/\n",
    "ls -la\n",
    "pwd"
   ]
  },
  {
   "cell_type": "markdown",
   "id": "b456e57c-4a12-464b-999a-ef2df5af80c1",
   "metadata": {},
   "source": [
    "A) There are 4 columns in the dataset\n",
    "\n",
    "B) The size of the status.csv file is 1989696383 MB."
   ]
  },
  {
   "cell_type": "markdown",
   "id": "fc601975-35ed-4680-a4e1-0273ee3cc047",
   "metadata": {},
   "source": [
    "## Question 2"
   ]
  },
  {
   "cell_type": "code",
   "execution_count": 8,
   "id": "a16336a1-1ef0-41e8-bc7c-49387db27497",
   "metadata": {},
   "outputs": [],
   "source": [
    "#Getting the months and years bay_area_bike_share/baywheels directory"
   ]
  },
  {
   "cell_type": "code",
   "execution_count": 60,
   "id": "57d80a75-483b-41b0-b669-7924b0729b68",
   "metadata": {},
   "outputs": [
    {
     "name": "stdout",
     "output_type": "stream",
     "text": [
      "2017-fordgobike-tripdata.csv\n",
      "201801-fordgobike-tripdata.csv\n",
      "201802-fordgobike-tripdata.csv\n",
      "201803-fordgobike-tripdata.csv\n",
      "201804-fordgobike-tripdata.csv\n",
      "201805-fordgobike-tripdata.csv\n",
      "201806-fordgobike-tripdata.csv\n",
      "201807-fordgobike-tripdata.csv\n",
      "201808-fordgobike-tripdata.csv\n",
      "201809-fordgobike-tripdata.csv\n",
      "201810-fordgobike-tripdata.csv\n",
      "201811-fordgobike-tripdata.csv\n",
      "201812-fordgobike-tripdata.csv\n",
      "201901-fordgobike-tripdata.csv\n",
      "201902-fordgobike-tripdata.csv\n",
      "201903-fordgobike-tripdata.csv\n",
      "201904-fordgobike-tripdata.csv\n",
      "201905-baywheels-tripdata.csv\n",
      "201906-baywheels-tripdata.csv\n",
      "201907-baywheels-tripdata.csv\n",
      "201908-baywheels-tripdata.csv\n",
      "201909-baywheels-tripdata.csv\n",
      "201910-baywheels-tripdata.csv\n",
      "201911-baywheels-tripdata.csv\n",
      "201912-baywheels-tripdata.csv\n",
      "202001-baywheels-tripdata.csv\n",
      "202002-baywheels-tripdata.csv\n",
      "202003-baywheels-tripdata.csv\n",
      "202005-baywheels-tripdata.csv\n",
      "202006-baywheels-tripdata.csv\n",
      "202007-baywheels-tripdata.csv\n",
      "202008-baywheels-tripdata.csv\n",
      "202009-baywheels-tripdata.csv\n",
      "202010-baywheels-tripdata.csv\n",
      "202011-baywheels-tripdata.csv\n",
      "202012-baywheels-tripdata.csv\n",
      "202101-baywheels-tripdata.csv\n",
      "202102-baywheels-tripdata.csv\n",
      "202103-baywheels-tripdata.csv\n",
      "202104-baywheels-tripdata.csv\n",
      "202105-baywheels-tripdata.csv\n",
      "202106-baywheels-tripdata.csv\n",
      "202107-baywheels-tripdata.csv\n",
      "202108-baywheels-tripdata.csv\n",
      "202109-baywheels-tripdata.csv\n",
      "202110-baywheels-tripdata.csv\n",
      "202111-baywheels-tripdata.csv\n",
      "202112-baywheels-tripdata.csv\n",
      "202201-baywheels-tripdata.csv\n",
      "202202-baywheels-tripdata.csv\n",
      "202203-baywheels-tripdata.csv\n",
      "202204-baywheels-tripdata.csv\n",
      "202205-baywheels-tripdata.csv\n",
      "202206-baywheels-tripdata.csv\n",
      "202207-baywheels-tripdata.csv\n",
      "202208-baywheels-tripdata.csv\n",
      "202209-baywheels-tripdata.csv\n",
      "202210-baywheels-tripdata.csv\n",
      "202211-baywheeels-tripdata.csv\n",
      "202212-baywheels-tripdata.csv\n",
      "202301-baywheels-tripdata.csv\n",
      "202302-baywheels-tripdata.csv\n",
      "202303-baywheels-tripdata.csv\n",
      "202304-baywheels-tripdata.csv\n",
      "202305-baywheels-tripdata.csv\n",
      "202306-baywheels-tripdata.csv\n",
      "202307-baywheels-tripdata.csv\n",
      "202308-baywheels-tripdata.csv\n",
      "202309-baywheels-tripdata.csv\n",
      "202310-baywheels-tripdata.csv\n",
      "202311-baywheels-tripdata.csv\n",
      "202312-baywheels-tripdata.csv\n",
      "202401-baywheels-tripdata.csv\n",
      "202402-baywheels-tripdata.csv\n",
      "202403-baywheels-tripdata.csv\n",
      "202404-baywheels-tripdata.csv\n",
      "202405-baywheels-tripdata.csv\n",
      "202406-baywheels-tripdata.csv\n",
      "202407-baywheels-tripdata.csv\n",
      "202408-baywheels-tripdata.csv\n",
      "202409-baywheels-tripdata.csv\n",
      "202410-baywheels-tripdata.csv\n",
      "202411-baywheels-tripdata.csv\n",
      "202412-baywheels-tripdata.csv\n",
      "202501-baywheels-tripdata.csv\n",
      "202502-baywheels-tripdata.csv\n",
      "202503-baywheels-tripdata.csv\n",
      "202504-baywheels-tripdata.csv\n",
      "202505-baywheels-tripdata.csv\n",
      "202506-baywheels-tripdata.csv\n",
      "202507-baywheels-tripdata.csv\n",
      "/anvil/projects/tdm/data/bay_area_bike_share/baywheels\n"
     ]
    }
   ],
   "source": [
    "%%bash \n",
    "cd /anvil/projects/tdm/data/bay_area_bike_share/baywheels\n",
    "ls\n",
    "pwd"
   ]
  },
  {
   "cell_type": "code",
   "execution_count": 12,
   "id": "647f40c7-3016-4978-9e03-6361315fdb60",
   "metadata": {},
   "outputs": [],
   "source": [
    "#getting the years represented in the years directory"
   ]
  },
  {
   "cell_type": "code",
   "execution_count": 15,
   "id": "4d787060-2d68-4962-958a-56f7235ad6a6",
   "metadata": {},
   "outputs": [
    {
     "name": "stdout",
     "output_type": "stream",
     "text": [
      "escaped2020sample.txt\n",
      "itcont1980.txt\n",
      "itcont1982.txt\n",
      "itcont1984.txt\n",
      "itcont1986.txt\n",
      "itcont1988.txt\n",
      "itcont1990.txt\n",
      "itcont1992.txt\n",
      "itcont1994.txt\n",
      "itcont1996.txt\n",
      "itcont1998.txt\n",
      "itcont2000.txt\n",
      "itcont2002.txt\n",
      "itcont2004.txt\n",
      "itcont2006.txt\n",
      "itcont2008.txt\n",
      "itcont2010.txt\n",
      "itcont2012.txt\n",
      "itcont2014.txt\n",
      "itcont2016.txt\n",
      "itcont2018.txt\n",
      "itcont2020.txt\n",
      "itcont2022.txt\n",
      "itcont2024.txt\n",
      "/anvil/projects/tdm/data/election\n"
     ]
    }
   ],
   "source": [
    "%%bash \n",
    "cd /anvil/projects/tdm/data/election\n",
    "ls\n",
    "pwd"
   ]
  },
  {
   "cell_type": "markdown",
   "id": "8e586edd-ff26-4ce2-8f6b-2424b26f2929",
   "metadata": {},
   "source": [
    "## Question 3"
   ]
  },
  {
   "cell_type": "code",
   "execution_count": 16,
   "id": "bbe0f40d-9655-4653-9ca8-886bdb61cb91",
   "metadata": {},
   "outputs": [],
   "source": [
    "# testing example used in examples book"
   ]
  },
  {
   "cell_type": "code",
   "execution_count": 20,
   "id": "247a6d64-d920-498f-828a-126c07a5d3fd",
   "metadata": {},
   "outputs": [
    {
     "name": "stdout",
     "output_type": "stream",
     "text": [
      "id,duration,start_date,start_station_name,start_station_id,end_date,end_station_name,end_station_id,bike_id,subscription_type,zip_code\n",
      "4576,63,8/29/2013 14:13,South Van Ness at Market,66,8/29/2013 14:14,South Van Ness at Market,66,520,Subscriber,94127\n",
      "4607,70,8/29/2013 14:42,San Jose City Hall,10,8/29/2013 14:43,San Jose City Hall,10,661,Subscriber,95138\n",
      "4130,71,8/29/2013 10:16,Mountain View City Hall,27,8/29/2013 10:17,Mountain View City Hall,27,48,Subscriber,97214\n",
      "4251,77,8/29/2013 11:29,San Jose City Hall,10,8/29/2013 11:30,San Jose City Hall,10,26,Subscriber,95060\n",
      "4299,83,8/29/2013 12:02,South Van Ness at Market,66,8/29/2013 12:04,Market at 10th,67,319,Subscriber,94103\n"
     ]
    }
   ],
   "source": [
    "%%bash\n",
    "\n",
    "head -n6 /anvil/projects/tdm/data/bay_area_bike_share/kaggle/trip.csv"
   ]
  },
  {
   "cell_type": "code",
   "execution_count": 21,
   "id": "894c2f2b-54bf-49c9-9ef8-df10d2eb3855",
   "metadata": {},
   "outputs": [],
   "source": [
    "#getting the starting and ending location and storing it in my home directory"
   ]
  },
  {
   "cell_type": "code",
   "execution_count": 22,
   "id": "d7edb7a5-3b16-4143-a986-9c58313d8b81",
   "metadata": {},
   "outputs": [],
   "source": [
    "%%bash\n",
    "\n",
    "cut -d, -f4,7 /anvil/projects/tdm/data/bay_area_bike_share/kaggle/trip.csv >$HOME/startandendlocations.csv"
   ]
  },
  {
   "cell_type": "code",
   "execution_count": 23,
   "id": "b17fd396-fb3b-469c-a72d-f3db10acdd8c",
   "metadata": {},
   "outputs": [],
   "source": [
    "#checking to ensure the data is there"
   ]
  },
  {
   "cell_type": "code",
   "execution_count": 38,
   "id": "226c4b0d-26b0-49a3-bcd1-9fa201c06a42",
   "metadata": {},
   "outputs": [
    {
     "name": "stdout",
     "output_type": "stream",
     "text": [
      "start_station_name,end_station_name\n",
      "South Van Ness at Market,South Van Ness at Market\n",
      "San Jose City Hall,San Jose City Hall\n",
      "Mountain View City Hall,Mountain View City Hall\n",
      "San Jose City Hall,San Jose City Hall\n",
      "South Van Ness at Market,Market at 10th\n",
      "Golden Gate at Polk,Golden Gate at Polk\n",
      "Santa Clara at Almaden,Adobe on Almaden\n",
      "San Salvador at 1st,San Salvador at 1st\n",
      "South Van Ness at Market,South Van Ness at Market\n",
      "/home/x-amicco\n"
     ]
    }
   ],
   "source": [
    "%%bash\n",
    "cd $HOME\n",
    "head startandendlocations.csv\n",
    "pwd"
   ]
  },
  {
   "cell_type": "markdown",
   "id": "da22f29c-d245-4d2b-9fc1-ca14cb6087d9",
   "metadata": {},
   "source": [
    "## Question 4"
   ]
  },
  {
   "cell_type": "code",
   "execution_count": 33,
   "id": "8cffc767-d1c8-4d64-b7dc-f0d2ee8a80d1",
   "metadata": {},
   "outputs": [],
   "source": [
    "#creating the new file containing the pattern Van Ness"
   ]
  },
  {
   "cell_type": "code",
   "execution_count": 36,
   "id": "ceb7693e-e800-4fa6-a4f0-aefa766d733b",
   "metadata": {},
   "outputs": [],
   "source": [
    "%%bash\n",
    "\n",
    "grep \"Van Ness\" /anvil/projects/tdm/data/bay_area_bike_share/kaggle/trip.csv >$HOME/vanness.csv"
   ]
  },
  {
   "cell_type": "code",
   "execution_count": 37,
   "id": "d53f4646-e74b-4b05-b394-01e6aff5b567",
   "metadata": {},
   "outputs": [],
   "source": [
    "#checking to make sure the vanness.csv file populated correctly"
   ]
  },
  {
   "cell_type": "code",
   "execution_count": 39,
   "id": "1563e5a0-da88-4b4f-894c-fc71fdb8554d",
   "metadata": {},
   "outputs": [
    {
     "name": "stdout",
     "output_type": "stream",
     "text": [
      "4576,63,8/29/2013 14:13,South Van Ness at Market,66,8/29/2013 14:14,South Van Ness at Market,66,520,Subscriber,94127\n",
      "4299,83,8/29/2013 12:02,South Van Ness at Market,66,8/29/2013 12:04,Market at 10th,67,319,Subscriber,94103\n",
      "4760,113,8/29/2013 17:01,South Van Ness at Market,66,8/29/2013 17:03,South Van Ness at Market,66,553,Subscriber,94103\n",
      "5070,168,8/29/2013 21:43,South Van Ness at Market,66,8/29/2013 21:46,South Van Ness at Market,66,598,Subscriber,94115\n",
      "4625,175,8/29/2013 15:02,San Francisco City Hall,58,8/29/2013 15:05,South Van Ness at Market,66,267,Subscriber,94115\n",
      "4721,184,8/29/2013 16:27,Market at 10th,67,8/29/2013 16:30,South Van Ness at Market,66,416,Subscriber,94107\n",
      "4720,188,8/29/2013 16:27,Market at 10th,67,8/29/2013 16:30,South Van Ness at Market,66,379,Subscriber,94109\n",
      "4824,207,8/29/2013 17:38,Market at 10th,67,8/29/2013 17:42,South Van Ness at Market,66,632,Subscriber,94103\n",
      "4765,228,8/29/2013 17:05,South Van Ness at Market,66,8/29/2013 17:08,Market at 10th,67,553,Subscriber,94103\n",
      "5002,236,8/29/2013 20:01,Golden Gate at Polk,59,8/29/2013 20:05,South Van Ness at Market,66,375,Subscriber,94122\n",
      "/home/x-amicco\n"
     ]
    }
   ],
   "source": [
    "%%bash\n",
    "cd $HOME\n",
    "head vanness.csv\n",
    "pwd"
   ]
  },
  {
   "cell_type": "markdown",
   "id": "88c9cdac-3e92-498f-83fa-e089bfc44ac8",
   "metadata": {},
   "source": [
    "## Question 5"
   ]
  },
  {
   "cell_type": "code",
   "execution_count": 41,
   "id": "d370d7c9-06db-42b9-b75f-240481a5c491",
   "metadata": {},
   "outputs": [],
   "source": [
    "# seeing the head of the status.csv data "
   ]
  },
  {
   "cell_type": "code",
   "execution_count": 50,
   "id": "ef3d3624-af02-4939-a040-73b6b71d7939",
   "metadata": {},
   "outputs": [
    {
     "name": "stdout",
     "output_type": "stream",
     "text": [
      "station_id,bikes_available,docks_available,time\n",
      "2,2,25,2013/08/29 12:06:01\n",
      "2,2,25,2013/08/29 12:07:01\n",
      "2,2,25,2013/08/29 12:08:01\n",
      "2,2,25,2013/08/29 12:09:01\n",
      "2,2,25,2013/08/29 12:10:01\n"
     ]
    }
   ],
   "source": [
    "%%bash\n",
    "head -n6 /anvil/projects/tdm/data/bay_area_bike_share/kaggle/status.csv"
   ]
  },
  {
   "cell_type": "code",
   "execution_count": 45,
   "id": "8d636acd-abc1-4f77-aa5c-8b54dbec6cd6",
   "metadata": {},
   "outputs": [],
   "source": [
    "#getting all the rows with data from station 2"
   ]
  },
  {
   "cell_type": "code",
   "execution_count": 76,
   "id": "86eba826-2cef-4cd5-9e26-94d9b4137518",
   "metadata": {},
   "outputs": [],
   "source": [
    "%%bash\n",
    "grep \"^2,\" /anvil/projects/tdm/data/bay_area_bike_share/kaggle/status.csv > $HOME/station2.csv"
   ]
  },
  {
   "cell_type": "code",
   "execution_count": 77,
   "id": "9b5bfbcb-5304-40e9-bcf3-f2c85ddb5a3f",
   "metadata": {},
   "outputs": [],
   "source": [
    "#checking to make sure it populated correctly"
   ]
  },
  {
   "cell_type": "code",
   "execution_count": 78,
   "id": "c9fe5765-88a7-4dc0-b782-f17c223c4aa0",
   "metadata": {},
   "outputs": [
    {
     "name": "stdout",
     "output_type": "stream",
     "text": [
      "2,2,25,2013/08/29 12:06:01\n",
      "2,2,25,2013/08/29 12:07:01\n",
      "2,2,25,2013/08/29 12:08:01\n",
      "2,2,25,2013/08/29 12:09:01\n",
      "2,2,25,2013/08/29 12:10:01\n",
      "2,2,25,2013/08/29 12:11:01\n",
      "2,2,25,2013/08/29 12:12:01\n",
      "2,2,25,2013/08/29 12:13:01\n",
      "2,2,25,2013/08/29 12:15:01\n",
      "2,2,25,2013/08/29 12:16:02\n",
      "2,18,9,2015-08-31 23:50:02\n",
      "2,18,9,2015-08-31 23:51:02\n",
      "2,18,9,2015-08-31 23:52:02\n",
      "2,18,9,2015-08-31 23:53:03\n",
      "2,18,9,2015-08-31 23:54:02\n",
      "2,18,9,2015-08-31 23:55:02\n",
      "2,18,9,2015-08-31 23:56:01\n",
      "2,18,9,2015-08-31 23:57:02\n",
      "2,18,9,2015-08-31 23:58:02\n",
      "2,18,9,2015-08-31 23:59:02\n"
     ]
    }
   ],
   "source": [
    "%%bash\n",
    "head $HOME/station2.csv\n",
    "tail $HOME/station2.csv"
   ]
  },
  {
   "cell_type": "code",
   "execution_count": 79,
   "id": "7e177d94-ac91-45d7-adf2-eb540ec8546e",
   "metadata": {},
   "outputs": [],
   "source": [
    "#finding the number of rows in the station2.csv file"
   ]
  },
  {
   "cell_type": "code",
   "execution_count": 80,
   "id": "9a90c1c5-68bb-4dcb-aeec-53c1d42440b5",
   "metadata": {},
   "outputs": [
    {
     "name": "stdout",
     "output_type": "stream",
     "text": [
      "1046897\n"
     ]
    }
   ],
   "source": [
    "%%bash\n",
    "tail -n +2 $HOME/station2.csv | wc -l"
   ]
  },
  {
   "cell_type": "code",
   "execution_count": 81,
   "id": "66bac3e7-e108-4eb5-b347-d4e6ce9f2602",
   "metadata": {},
   "outputs": [],
   "source": [
    "#getting all the rows with data from station 3"
   ]
  },
  {
   "cell_type": "code",
   "execution_count": 82,
   "id": "5f34bb71-7fa7-469e-acef-e4e8b5490c14",
   "metadata": {},
   "outputs": [],
   "source": [
    "%%bash\n",
    "grep \"^3,\" /anvil/projects/tdm/data/bay_area_bike_share/kaggle/status.csv > $HOME/station3.csv"
   ]
  },
  {
   "cell_type": "code",
   "execution_count": 83,
   "id": "a499a585-0574-43b9-88fb-af9af8d29fa0",
   "metadata": {},
   "outputs": [],
   "source": [
    "#checking to make sure it populated correctly"
   ]
  },
  {
   "cell_type": "code",
   "execution_count": 84,
   "id": "fd73cdfd-1e98-4d8d-be2d-55e47d3d9333",
   "metadata": {},
   "outputs": [
    {
     "name": "stdout",
     "output_type": "stream",
     "text": [
      "3,8,7,2013/08/29 12:06:01\n",
      "3,8,7,2013/08/29 12:07:01\n",
      "3,8,7,2013/08/29 12:08:01\n",
      "3,8,7,2013/08/29 12:09:01\n",
      "3,8,7,2013/08/29 12:10:01\n",
      "3,8,7,2013/08/29 12:11:01\n",
      "3,8,7,2013/08/29 12:12:01\n",
      "3,8,7,2013/08/29 12:13:01\n",
      "3,8,7,2013/08/29 12:15:01\n",
      "3,8,7,2013/08/29 12:16:02\n",
      "3,7,8,2015-08-31 23:50:02\n",
      "3,7,8,2015-08-31 23:51:02\n",
      "3,7,8,2015-08-31 23:52:02\n",
      "3,7,8,2015-08-31 23:53:03\n",
      "3,7,8,2015-08-31 23:54:02\n",
      "3,7,8,2015-08-31 23:55:02\n",
      "3,7,8,2015-08-31 23:56:01\n",
      "3,7,8,2015-08-31 23:57:02\n",
      "3,7,8,2015-08-31 23:58:02\n",
      "3,7,8,2015-08-31 23:59:02\n"
     ]
    }
   ],
   "source": [
    "%%bash\n",
    "head $HOME/station3.csv\n",
    "tail $HOME/station3.csv"
   ]
  },
  {
   "cell_type": "code",
   "execution_count": 86,
   "id": "e677b18c-48dc-4bf0-9a7b-44f1e4783c6c",
   "metadata": {},
   "outputs": [],
   "source": [
    "#finding the number of rows in the station3.csv file"
   ]
  },
  {
   "cell_type": "code",
   "execution_count": 87,
   "id": "baedcbb3-3da3-40e0-a1b5-e8cef542e8d5",
   "metadata": {},
   "outputs": [
    {
     "name": "stdout",
     "output_type": "stream",
     "text": [
      "1047112\n"
     ]
    }
   ],
   "source": [
    "%%bash\n",
    "tail -n +2 $HOME/station3.csv | wc -l"
   ]
  },
  {
   "cell_type": "code",
   "execution_count": 69,
   "id": "a29f364c-9f83-4118-94f7-575390d909c9",
   "metadata": {},
   "outputs": [],
   "source": [
    "#getting all the rows with data from station 4"
   ]
  },
  {
   "cell_type": "code",
   "execution_count": 74,
   "id": "14690066-df52-498c-8e8d-60e7cbbfa9b6",
   "metadata": {},
   "outputs": [],
   "source": [
    "%%bash\n",
    "grep \"^4,\" /anvil/projects/tdm/data/bay_area_bike_share/kaggle/status.csv > $HOME/station4.csv"
   ]
  },
  {
   "cell_type": "code",
   "execution_count": 88,
   "id": "84909e41-0fe7-486f-8745-d289cdbd4633",
   "metadata": {},
   "outputs": [],
   "source": [
    "#checking to make sure it populated correctly"
   ]
  },
  {
   "cell_type": "code",
   "execution_count": 89,
   "id": "7e0be1b2-e328-4351-bba3-677a663da622",
   "metadata": {},
   "outputs": [
    {
     "name": "stdout",
     "output_type": "stream",
     "text": [
      "4,0,11,2013/08/29 12:06:01\n",
      "4,0,11,2013/08/29 12:07:01\n",
      "4,0,11,2013/08/29 12:08:01\n",
      "4,0,11,2013/08/29 12:09:01\n",
      "4,0,11,2013/08/29 12:10:01\n",
      "4,0,11,2013/08/29 12:11:01\n",
      "4,0,11,2013/08/29 12:12:01\n",
      "4,0,11,2013/08/29 12:13:01\n",
      "4,0,11,2013/08/29 12:15:01\n",
      "4,0,11,2013/08/29 12:16:02\n",
      "4,1,10,2015-08-31 23:50:02\n",
      "4,1,10,2015-08-31 23:51:02\n",
      "4,1,10,2015-08-31 23:52:02\n",
      "4,1,10,2015-08-31 23:53:03\n",
      "4,1,10,2015-08-31 23:54:02\n",
      "4,1,10,2015-08-31 23:55:02\n",
      "4,1,10,2015-08-31 23:56:01\n",
      "4,1,10,2015-08-31 23:57:02\n",
      "4,1,10,2015-08-31 23:58:02\n",
      "4,1,10,2015-08-31 23:59:02\n"
     ]
    }
   ],
   "source": [
    "%%bash\n",
    "head $HOME/station4.csv\n",
    "tail $HOME/station4.csv"
   ]
  },
  {
   "cell_type": "code",
   "execution_count": 91,
   "id": "d970c5a7-a176-4e83-a316-8b81bbc87a35",
   "metadata": {},
   "outputs": [],
   "source": [
    "#finding the number of rows in the station4.csv file"
   ]
  },
  {
   "cell_type": "code",
   "execution_count": 92,
   "id": "58450e3c-1c27-4670-b0b8-daca7997b696",
   "metadata": {},
   "outputs": [
    {
     "name": "stdout",
     "output_type": "stream",
     "text": [
      "1047099\n"
     ]
    }
   ],
   "source": [
    "%%bash\n",
    "tail -n +2 $HOME/station4.csv | wc -l"
   ]
  },
  {
   "cell_type": "code",
   "execution_count": 66,
   "id": "3b718735-d7d3-4d93-b898-7ebb99527649",
   "metadata": {},
   "outputs": [],
   "source": [
    "#getting all the rows with data from station 5"
   ]
  },
  {
   "cell_type": "code",
   "execution_count": 93,
   "id": "e974a0fa-4777-47b7-900f-493eb0e28def",
   "metadata": {},
   "outputs": [],
   "source": [
    "%%bash\n",
    "grep \"^5,\" /anvil/projects/tdm/data/bay_area_bike_share/kaggle/status.csv > $HOME/station5.csv"
   ]
  },
  {
   "cell_type": "code",
   "execution_count": 94,
   "id": "ca8e3344-cfbf-4e9d-a5a4-3437d9b4a584",
   "metadata": {},
   "outputs": [],
   "source": [
    "#checking to make sure it populated correctly"
   ]
  },
  {
   "cell_type": "code",
   "execution_count": 96,
   "id": "38bcadd6-7339-4fbd-83e5-1fa20b010b7a",
   "metadata": {},
   "outputs": [
    {
     "name": "stdout",
     "output_type": "stream",
     "text": [
      "5,10,9,2013/08/29 12:06:01\n",
      "5,10,9,2013/08/29 12:07:01\n",
      "5,10,9,2013/08/29 12:08:01\n",
      "5,10,9,2013/08/29 12:09:01\n",
      "5,10,9,2013/08/29 12:10:01\n",
      "5,10,9,2013/08/29 12:11:01\n",
      "5,10,9,2013/08/29 12:12:01\n",
      "5,10,9,2013/08/29 12:13:01\n",
      "5,10,9,2013/08/29 12:15:01\n",
      "5,10,9,2013/08/29 12:16:02\n",
      "5,10,9,2015-08-31 23:50:02\n",
      "5,10,9,2015-08-31 23:51:02\n",
      "5,10,9,2015-08-31 23:52:02\n",
      "5,10,9,2015-08-31 23:53:03\n",
      "5,10,9,2015-08-31 23:54:02\n",
      "5,10,9,2015-08-31 23:55:02\n",
      "5,10,9,2015-08-31 23:56:01\n",
      "5,10,9,2015-08-31 23:57:02\n",
      "5,10,9,2015-08-31 23:58:02\n",
      "5,10,9,2015-08-31 23:59:02\n"
     ]
    }
   ],
   "source": [
    "%%bash\n",
    "head $HOME/station5.csv\n",
    "tail $HOME/station5.csv"
   ]
  },
  {
   "cell_type": "code",
   "execution_count": 97,
   "id": "c59f9b81-809e-4834-89d4-5031414de111",
   "metadata": {},
   "outputs": [],
   "source": [
    "#finding the number of rows in the station5.csv file"
   ]
  },
  {
   "cell_type": "code",
   "execution_count": 98,
   "id": "9c7913e1-0837-46b2-8059-3bd9d4e53431",
   "metadata": {},
   "outputs": [
    {
     "name": "stdout",
     "output_type": "stream",
     "text": [
      "1047141\n"
     ]
    }
   ],
   "source": [
    "%%bash\n",
    "tail -n +2 $HOME/station5.csv | wc -l"
   ]
  },
  {
   "cell_type": "markdown",
   "id": "9fbf00fb-2418-460f-ae94-2a32b0c28952",
   "metadata": {},
   "source": [
    "A) There are 1046897 rows of data that correspond to Station 2\n",
    "\n",
    "B) There are 1047112 rows of data that correspond to Station 3\n",
    "\n",
    "C) There are 1047099 rows of data that correspond to Station 4\n",
    "\n",
    "D) There are 1047141 rows of data that correspond to Station 5"
   ]
  },
  {
   "cell_type": "markdown",
   "id": "f76442d6-d02e-4f26-b9d6-c3183e1d6929",
   "metadata": {},
   "source": [
    "## Pledge\n",
    "\n",
    "By submitting this work I hereby pledge that this is my own, personal work. I've acknowledged in the designated place at the top of this file all sources that I used to complete said work, including but not limited to: online resources, books, and electronic communications. I've noted all collaboration with fellow students and/or TA's. I did not copy or plagiarize another's work.\n",
    "\n",
    "> As a Boilermaker pursuing academic excellence, I pledge to be honest and true in all that I do. Accountable together – We are Purdue."
   ]
  }
 ],
 "metadata": {
  "kernelspec": {
   "display_name": "seminar",
   "language": "python",
   "name": "python3"
  },
  "language_info": {
   "codemirror_mode": {
    "name": "ipython",
    "version": 3
   },
   "file_extension": ".py",
   "mimetype": "text/x-python",
   "name": "python",
   "nbconvert_exporter": "python",
   "pygments_lexer": "ipython3",
   "version": "3.12.11"
  }
 },
 "nbformat": 4,
 "nbformat_minor": 5
}
