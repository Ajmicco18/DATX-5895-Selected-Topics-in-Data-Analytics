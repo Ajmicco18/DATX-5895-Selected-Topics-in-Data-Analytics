{
 "cells": [
  {
   "cell_type": "markdown",
   "id": "be02a957-7133-4d02-818e-fedeb3cecb05",
   "metadata": {},
   "source": [
    "# Project 10 -- Anthony Micco"
   ]
  },
  {
   "cell_type": "markdown",
   "id": "a1228853-dd19-4ab2-89e0-0394d7d72de3",
   "metadata": {},
   "source": [
    "**TA Help:** N/A\n",
    "\n",
    "**Collaboration:** N/A\n",
    "\n",
    "**Internet Resources:** N/A\n",
    "\n",
    "**ChatGPT, Gemini, Claude, etc:** NONE\n",
    "\n",
    "***Link to AI Chat History***: NONE \\\n",
    "**OVERALL MESSAGE:** Any time that you used anything except your brain to solve the questions in these projects, you need to disclose such resources at the start of the project, with details about your usage of the tools.\n",
    "\n",
    "**YOUR OWN WORK:** Even when you utilize other resources, do NOT just copy and paste.  Write all explanations in your own words, using several sentences in English, which are understandable and which you wrote (and did not just copy and paste)."
   ]
  },
  {
   "cell_type": "markdown",
   "id": "6180e742-8e39-4698-98ff-5b00c8cf8ea0",
   "metadata": {},
   "source": [
    "## Question 1"
   ]
  },
  {
   "cell_type": "code",
   "execution_count": 13,
   "id": "49445606-d363-41b4-b479-e319a9a84c01",
   "metadata": {},
   "outputs": [],
   "source": [
    "# connecting to a MongoDB instance using Python's pymongo library\n",
    "\n",
    "from pymongo import MongoClient\n",
    "import pandas as pd\n",
    "import json\n",
    "\n",
    "# create a client to connect to the local MongoDB instance\n",
    "client = MongoClient('mongodb://localhost:27017/')\n",
    "\n",
    "# Create or connect to a database\n",
    "db = client['movies_db']\n",
    "\n",
    "# Create or connect to a collection\n",
    "movies = db['movies']"
   ]
  },
  {
   "cell_type": "code",
   "execution_count": 14,
   "id": "42e24fcd-f77c-4cd3-96df-d1f24268858f",
   "metadata": {},
   "outputs": [
    {
     "name": "stderr",
     "output_type": "stream",
     "text": [
      "/tmp/ipykernel_216/622833.py:4: DtypeWarning: Columns (10) have mixed types. Specify dtype option on import or set low_memory=False.\n",
      "  df = pd.read_csv('/anvil/projects/tdm/data/MovieLens/movies_metadata.csv')\n"
     ]
    },
    {
     "name": "stdout",
     "output_type": "stream",
     "text": [
      "Inserted 45466 movies\n"
     ]
    }
   ],
   "source": [
    "#importing the movies data into the MongoDB using the client we made in the previous cell\n",
    "\n",
    "# Read the CSV file and convert to MongoDB documents\n",
    "df = pd.read_csv('/anvil/projects/tdm/data/MovieLens/movies_metadata.csv')\n",
    "\n",
    "# Convert DataFrame to list of dictionaries\n",
    "movies_data = df.to_dict('records')\n",
    "\n",
    "# Insert the data into MongoDB\n",
    "result = movies.insert_many(movies_data)\n",
    "print(f\"Inserted {len(result.inserted_ids)} movies\")"
   ]
  },
  {
   "cell_type": "code",
   "execution_count": 15,
   "id": "1def007c-f2d8-4121-b868-915a4b401ecb",
   "metadata": {},
   "outputs": [
    {
     "name": "stdout",
     "output_type": "stream",
     "text": [
      "Total movies in collection: 136398\n",
      "\n",
      "Sample movie documents:\n",
      "Title: Toy Story\n",
      "Release Date: 1995-10-30\n",
      "Vote Average: 7.7\n",
      "---\n",
      "Title: Jumanji\n",
      "Release Date: 1995-12-15\n",
      "Vote Average: 6.9\n",
      "---\n",
      "Title: Grumpier Old Men\n",
      "Release Date: 1995-12-22\n",
      "Vote Average: 6.5\n",
      "---\n",
      "Title: Waiting to Exhale\n",
      "Release Date: 1995-12-22\n",
      "Vote Average: 6.1\n",
      "---\n",
      "Title: Father of the Bride Part II\n",
      "Release Date: 1995-02-10\n",
      "Vote Average: 5.7\n",
      "---\n"
     ]
    }
   ],
   "source": [
    "#viewing the first 5 rows of data from the movies dataset\n",
    "\n",
    "# Find all movies (limit to first 5 for display)\n",
    "sample_movies = list(movies.find().limit(5))\n",
    "print(f\"Total movies in collection: {movies.count_documents({})}\")\n",
    "print(\"\\nSample movie documents:\")\n",
    "for movie in sample_movies:\n",
    "    print(f\"Title: {movie.get('title', 'N/A')}\")\n",
    "    print(f\"Release Date: {movie.get('release_date', 'N/A')}\")\n",
    "    print(f\"Vote Average: {movie.get('vote_average', 'N/A')}\")\n",
    "    print(\"---\")"
   ]
  },
  {
   "cell_type": "code",
   "execution_count": 16,
   "id": "73f3a8be-804a-4d06-b00d-dd28cce7d7ec",
   "metadata": {},
   "outputs": [
    {
     "name": "stdout",
     "output_type": "stream",
     "text": [
      "Movie document structure:\n",
      "_id: ObjectId\n",
      "  Value: 690109e45817d5eff963ff2f\n",
      "\n",
      "adult: str\n",
      "  Value: False\n",
      "\n",
      "belongs_to_collection: str\n",
      "  Value: {'id': 10194, 'name': 'Toy Story Collection', 'poster_path': '/7G9915LfUQ2lVfwMEEhDsn3kT4B.jpg', 'ba...\n",
      "\n",
      "budget: str\n",
      "  Value: 30000000\n",
      "\n",
      "genres: str\n",
      "  Value: [{'id': 16, 'name': 'Animation'}, {'id': 35, 'name': 'Comedy'}, {'id': 10751, 'name': 'Family'}]\n",
      "\n",
      "homepage: str\n",
      "  Value: http://toystory.disney.com/toy-story\n",
      "\n",
      "id: str\n",
      "  Value: 862\n",
      "\n",
      "imdb_id: str\n",
      "  Value: tt0114709\n",
      "\n",
      "original_language: str\n",
      "  Value: en\n",
      "\n",
      "original_title: str\n",
      "  Value: Toy Story\n",
      "\n",
      "overview: str\n",
      "  Value: Led by Woody, Andy's toys live happily in his room until Andy's birthday brings Buzz Lightyear onto ...\n",
      "\n",
      "popularity: float\n",
      "  Value: 21.946943\n",
      "\n",
      "poster_path: str\n",
      "  Value: /rhIRbceoE9lR4veEXuwCC2wARtG.jpg\n",
      "\n",
      "production_companies: str\n",
      "  Value: [{'name': 'Pixar Animation Studios', 'id': 3}]\n",
      "\n",
      "production_countries: str\n",
      "  Value: [{'iso_3166_1': 'US', 'name': 'United States of America'}]\n",
      "\n",
      "release_date: str\n",
      "  Value: 1995-10-30\n",
      "\n",
      "revenue: float\n",
      "  Value: 373554033.0\n",
      "\n",
      "runtime: float\n",
      "  Value: 81.0\n",
      "\n",
      "spoken_languages: str\n",
      "  Value: [{'iso_639_1': 'en', 'name': 'English'}]\n",
      "\n",
      "status: str\n",
      "  Value: Released\n",
      "\n",
      "tagline: float\n",
      "  Value: nan\n",
      "\n",
      "title: str\n",
      "  Value: Toy Story\n",
      "\n",
      "video: bool\n",
      "  Value: False\n",
      "\n",
      "vote_average: float\n",
      "  Value: 7.7\n",
      "\n",
      "vote_count: float\n",
      "  Value: 5415.0\n",
      "\n"
     ]
    }
   ],
   "source": [
    "#viewing the structure of each movie document or record\n",
    "\n",
    "# Get the structure of a movie document\n",
    "sample_movie = movies.find_one()\n",
    "print(\"Movie document structure:\")\n",
    "for key, value in sample_movie.items():\n",
    "    print(f\"{key}: {type(value).__name__}\")\n",
    "    if isinstance(value, str) and len(str(value)) > 100:\n",
    "        print(f\"  Value: {str(value)[:100]}...\")\n",
    "    else:\n",
    "        print(f\"  Value: {value}\")\n",
    "    print()"
   ]
  },
  {
   "cell_type": "markdown",
   "id": "b456e57c-4a12-464b-999a-ef2df5af80c1",
   "metadata": {},
   "source": [
    "1.1) There are 45466 movies in the collection \\\n",
    "1.2) The structure of a movie document contains 25 different columns \\\n",
    "1.3) There are a variety of different fields available in each movie document such as runtime, title, video, and adult among others \\\n",
    "1.4) Some sample movie titles include Toy Story, Jumanji, and Grumpier Old Men"
   ]
  },
  {
   "cell_type": "markdown",
   "id": "fc601975-35ed-4680-a4e1-0273ee3cc047",
   "metadata": {},
   "source": [
    "## Question 2"
   ]
  },
  {
   "cell_type": "code",
   "execution_count": 21,
   "id": "a16336a1-1ef0-41e8-bc7c-49387db27497",
   "metadata": {},
   "outputs": [
    {
     "name": "stdout",
     "output_type": "stream",
     "text": [
      "Movies with rating above 8.0: 3390\n",
      "Se7en - Rating: 8.1\n",
      "The Usual Suspects - Rating: 8.1\n",
      "Taxi Driver - Rating: 8.1\n",
      "Reckless - Rating: 10.0\n",
      "Star Wars - Rating: 8.1\n"
     ]
    }
   ],
   "source": [
    "# using practice query to find all movies with a rating above 8.0 \n",
    "\n",
    "# Find movies with rating above 8.0\n",
    "high_rated_movies = list(movies.find({\"vote_average\": {\"$gt\": 8.0}}))\n",
    "print(f\"Movies with rating above 8.0: {len(high_rated_movies)}\")\n",
    "for movie in high_rated_movies[:5]:  # Show first 5\n",
    "    print(f\"{movie['title']} - Rating: {movie['vote_average']}\")"
   ]
  },
  {
   "cell_type": "code",
   "execution_count": 22,
   "id": "b8bb85e4-1afc-4a12-8d82-dda56569ddb8",
   "metadata": {},
   "outputs": [
    {
     "name": "stdout",
     "output_type": "stream",
     "text": [
      "Good movies released after 2000: 11688\n",
      "Venice - Rating: 7.5, Year: 2010\n",
      "The Sleepover - Rating: 8.0, Year: 2013\n",
      "The Farmer's Wife - Rating: 10.0, Year: 2012\n",
      "Black Tar Heroin: The Dark End of the Street - Rating: 7.1, Year: 2000\n",
      "Erin Brockovich - Rating: 7.1, Year: 2000\n"
     ]
    }
   ],
   "source": [
    "# practicing understanding how to do multiple filters when querying ($and operator)\n",
    "\n",
    "# Example: Find movies with rating above 7.0 AND released after 2000\n",
    "recent_good_movies = list(movies.find({\n",
    "    \"$and\": [\n",
    "        {\"vote_average\": {\"$gt\": 7.0}},\n",
    "        {\"release_date\": {\"$regex\": \"200[0-9]|201[0-9]|202[0-9]\"}}  # Regex for years 2000+, as the release year is a string. This is a common pattern for dates in MongoDB.\n",
    "    ]\n",
    "}))\n",
    "print(f\"Good movies released after 2000: {len(recent_good_movies)}\")\n",
    "for movie in recent_good_movies[:5]:  # Show first 5\n",
    "    print(f\"{movie['title']} - Rating: {movie['vote_average']}, Year: {movie['release_date'][:4]}\")"
   ]
  },
  {
   "cell_type": "code",
   "execution_count": 28,
   "id": "b8133b00-90e5-49b1-9064-6d857c16ee83",
   "metadata": {},
   "outputs": [
    {
     "name": "stdout",
     "output_type": "stream",
     "text": [
      "Movies rated higher than 6.0, released in the 1990s: 7734\n",
      "Toy Story - Rating: 7.7, Year: 1995\n",
      "Jumanji - Rating: 6.9, Year: 1995\n",
      "Grumpier Old Men - Rating: 6.5, Year: 1995\n",
      "Waiting to Exhale - Rating: 6.1, Year: 1995\n",
      "Heat - Rating: 7.7, Year: 1995\n"
     ]
    }
   ],
   "source": [
    "#writing a query to find movies with a rating above 6.0 and released in the 1990s \n",
    "\n",
    "ninetiesMovies = list(movies.find({\n",
    "    \"$and\":[ {\"vote_average\":{\"$gt\":6.0}},\n",
    "            {\"release_date\":{\"$regex\":\"199[0-9]\"}}\n",
    "           ]\n",
    "}))\n",
    "\n",
    "print(f\"Movies rated higher than 6.0, released in the 1990s: {len(ninetiesMovies)}\")\n",
    "for movie in ninetiesMovies[:5]:\n",
    "    print(f\"{movie['title']} - Rating: {movie['vote_average']}, Year: {movie['release_date'][:4]}\")"
   ]
  },
  {
   "cell_type": "code",
   "execution_count": 27,
   "id": "a3e0fc6f-676e-4a97-a901-f84b818dedcb",
   "metadata": {},
   "outputs": [
    {
     "name": "stdout",
     "output_type": "stream",
     "text": [
      "There are 39546 comedy movies\n",
      "Toy Story - Genres: [{'id': 16, 'name': 'Animation'}, {'id': 35, 'name': 'Comedy'}, {'id': 10751, 'name': 'Family'}]\n",
      "Grumpier Old Men - Genres: [{'id': 10749, 'name': 'Romance'}, {'id': 35, 'name': 'Comedy'}]\n",
      "Waiting to Exhale - Genres: [{'id': 35, 'name': 'Comedy'}, {'id': 18, 'name': 'Drama'}, {'id': 10749, 'name': 'Romance'}]\n",
      "Father of the Bride Part II - Genres: [{'id': 35, 'name': 'Comedy'}]\n",
      "Sabrina - Genres: [{'id': 35, 'name': 'Comedy'}, {'id': 10749, 'name': 'Romance'}]\n"
     ]
    }
   ],
   "source": [
    "#writing a query to find movies from the comedy genre\n",
    "\n",
    "comedies = list(movies.find({\n",
    "    \"genres\":{\"$regex\":\"Comedy\", \"$options\":\"i\"}\n",
    "}))\n",
    "print(f\"There are {len(comedies)} comedy movies\")\n",
    "for movie in comedies[:5]:\n",
    "    print(f\"{movie['title']} - Genres: {movie.get('genres','N/A')}\")"
   ]
  },
  {
   "cell_type": "markdown",
   "id": "14dc22d4-ddc3-41cc-a91a-cb0025bc0c80",
   "metadata": {},
   "source": [
    "2.4) There are 7734 movies with a rating higher than 6.0 released in the 1990s. There were 39546 movies that were comedies."
   ]
  },
  {
   "cell_type": "markdown",
   "id": "8e586edd-ff26-4ce2-8f6b-2424b26f2929",
   "metadata": {},
   "source": [
    "## Question 3"
   ]
  },
  {
   "cell_type": "code",
   "execution_count": 30,
   "id": "bbe0f40d-9655-4653-9ca8-886bdb61cb91",
   "metadata": {},
   "outputs": [
    {
     "name": "stdout",
     "output_type": "stream",
     "text": [
      "Movies sorted by rating (highest first):\n",
      "Reckless - Rating: 10.0\n",
      "Girl in the Cadillac - Rating: 10.0\n",
      "The Haunted World of Edward D. Wood, Jr. - Rating: 10.0\n",
      "Carmen Miranda: Bananas Is My Business - Rating: 10.0\n",
      "Other Voices Other Rooms - Rating: 10.0\n"
     ]
    }
   ],
   "source": [
    "# testing out MongoDB's sort method \n",
    "\n",
    "# Find all movies sorted by rating (descending)\n",
    "movies_by_rating = list(movies.find().sort(\"vote_average\", -1))\n",
    "print(\"Movies sorted by rating (highest first):\")\n",
    "for movie in movies_by_rating[:5]:  # Show top 5\n",
    "    print(f\"{movie['title']} - Rating: {movie['vote_average']}\")"
   ]
  },
  {
   "cell_type": "code",
   "execution_count": 31,
   "id": "6e41607b-1ed8-45d2-bd8e-4f1eb204bc6e",
   "metadata": {},
   "outputs": [
    {
     "name": "stdout",
     "output_type": "stream",
     "text": [
      "Highest rated movie: Reckless - Rating: 10.0\n"
     ]
    }
   ],
   "source": [
    "#finding the highest rated movie in the dataset\n",
    "\n",
    "highest_rated = movies.find().sort(\"vote_average\", -1).limit(1)\n",
    "top_movie = list(highest_rated)[0]\n",
    "print(f\"Highest rated movie: {top_movie['title']} - Rating: {top_movie['vote_average']}\")"
   ]
  },
  {
   "cell_type": "code",
   "execution_count": 35,
   "id": "b3190921-aa01-4ad4-a9ac-8703e176d8d9",
   "metadata": {},
   "outputs": [
    {
     "name": "stdout",
     "output_type": "stream",
     "text": [
      "Forever - Rating: 10.0, Year: 2006\n",
      "Pavement: Slow Century - Rating: 10.0, Year: 2002\n",
      "High Roller: The Stu Ungar Story - Rating: 10.0, Year: 2003\n"
     ]
    }
   ],
   "source": [
    "#writing a query to find the three most popular movies released after 2000\n",
    "\n",
    "moviesAfter2000 = list(movies.find({\n",
    "    \"release_date\":{\"$regex\":\"200[0-9]|201[0-0]|202[0-9]\"}\n",
    "}).sort(\"vote_average\",-1).limit(3))\n",
    "for movie in moviesAfter2000: \n",
    "    print(f\"{movie['title']} - Rating: {movie['vote_average']}, Year: {movie['release_date'][:4]}\")"
   ]
  },
  {
   "cell_type": "code",
   "execution_count": 36,
   "id": "713090bb-8fda-48e9-8d39-01fb5faf9e68",
   "metadata": {},
   "outputs": [
    {
     "name": "stdout",
     "output_type": "stream",
     "text": [
      "Total movies: 136398\n",
      "Movies with rating above 8.0: 3390\n",
      "Movies released in 2010s or 2020s: 38400\n"
     ]
    }
   ],
   "source": [
    "#practicing using the count_documents() method\n",
    "\n",
    "total_movies = movies.count_documents({})\n",
    "high_rated_count = movies.count_documents({\"vote_average\": {\"$gt\": 8.0}})\n",
    "recent_movies_count = movies.count_documents({\"release_date\": {\"$regex\": \"201[0-9]|202[0-9]\"}})\n",
    "\n",
    "print(f\"Total movies: {total_movies}\")\n",
    "print(f\"Movies with rating above 8.0: {high_rated_count}\")\n",
    "print(f\"Movies released in 2010s or 2020s: {recent_movies_count}\")"
   ]
  },
  {
   "cell_type": "code",
   "execution_count": 40,
   "id": "2b70abfa-8baf-4927-b6bb-00890a6f478d",
   "metadata": {},
   "outputs": [
    {
     "name": "stdout",
     "output_type": "stream",
     "text": [
      "Total movies with rating above 7.0 released in the 1990s: 2664\n"
     ]
    }
   ],
   "source": [
    "#finding the count of movies with a rating greater than 7 released in the 1990s\n",
    "\n",
    "moviesInThe90s = movies.count_documents(\n",
    "    {\"$and\" :[\n",
    "        {\"vote_average\":{\"$gt\":7.0}}, \n",
    "        {\"release_date\": {\"$regex\": \"199[0-9]\"}}\n",
    "    ]\n",
    "    })\n",
    "\n",
    "print(f\"Total movies with rating above 7.0 released in the 1990s: {moviesInThe90s}\")"
   ]
  },
  {
   "cell_type": "markdown",
   "id": "47c6229f-35f7-400c-8366-c442baa5cf47",
   "metadata": {},
   "source": [
    "3.4) The three most popular movies released after 2000 are Forever, Pavement: Slow Century, and High Roller: The Stu Ungar Story. There were 2664 movies with a rating greater than 7 released in the 1990s."
   ]
  },
  {
   "cell_type": "markdown",
   "id": "da22f29c-d245-4d2b-9fc1-ca14cb6087d9",
   "metadata": {},
   "source": [
    "## Question 4"
   ]
  },
  {
   "cell_type": "code",
   "execution_count": 42,
   "id": "8cffc767-d1c8-4d64-b7dc-f0d2ee8a80d1",
   "metadata": {},
   "outputs": [],
   "source": [
    "# basic aggregation pipeline structure\n",
    "\n",
    "pipeline = [\n",
    "    {\"$match\": {\"field\": \"value\"}},  # Filter documents (like WHERE)\n",
    "    {\"$group\": {\"_id\": \"$field\", \"count\": {\"$sum\": 1}}},  # Group and aggregate\n",
    "    {\"$sort\": {\"count\": -1}}  # Sort results\n",
    "    # ... # other operations can be added here\n",
    "]\n",
    "\n",
    "#result = collection.aggregate(pipeline)"
   ]
  },
  {
   "cell_type": "code",
   "execution_count": 43,
   "id": "6116c6fa-8a3b-4501-8373-9bebd23815fe",
   "metadata": {},
   "outputs": [
    {
     "name": "stdout",
     "output_type": "stream",
     "text": [
      "Movies by genre (top 10):\n",
      "[{'id': 18, 'name': 'Drama'}]: 15000 movies\n",
      "[{'id': 35, 'name': 'Comedy'}]: 10863 movies\n",
      "[{'id': 99, 'name': 'Documentary'}]: 8169 movies\n",
      "[]: 7326 movies\n",
      "[{'id': 18, 'name': 'Drama'}, {'id': 10749, 'name': 'Romance'}]: 3903 movies\n",
      "[{'id': 35, 'name': 'Comedy'}, {'id': 18, 'name': 'Drama'}]: 3405 movies\n",
      "[{'id': 27, 'name': 'Horror'}]: 2922 movies\n",
      "[{'id': 35, 'name': 'Comedy'}, {'id': 10749, 'name': 'Romance'}]: 2790 movies\n",
      "[{'id': 35, 'name': 'Comedy'}, {'id': 18, 'name': 'Drama'}, {'id': 10749, 'name': 'Romance'}]: 1779 movies\n",
      "[{'id': 18, 'name': 'Drama'}, {'id': 35, 'name': 'Comedy'}]: 1596 movies\n"
     ]
    }
   ],
   "source": [
    "#performing a simple aggregation of the movies' genres to understand its functionality\n",
    "\n",
    "# Count movies by genre (this is a simplified example - real genre data might be more complex)\n",
    "pipeline = [\n",
    "    {\"$group\": {\"_id\": \"$genres\", \"count\": {\"$sum\": 1}}},\n",
    "    {\"$sort\": {\"count\": -1}},\n",
    "    {\"$limit\": 10}\n",
    "]\n",
    "\n",
    "genre_counts = list(movies.aggregate(pipeline))\n",
    "\n",
    "print(\"Movies by genre (top 10):\")\n",
    "for genre in genre_counts:\n",
    "    print(f\"{genre['_id']}: {genre['count']} movies\")"
   ]
  },
  {
   "cell_type": "code",
   "execution_count": 44,
   "id": "319a36f0-fcb6-434f-a81c-fafd84c19088",
   "metadata": {},
   "outputs": [
    {
     "name": "stdout",
     "output_type": "stream",
     "text": [
      "Average rating by year (recent years):\n",
      "nan: nan rating (261 movies)\n",
      "22: nan rating (3 movies)\n",
      "2020: 0.00 rating (3 movies)\n",
      "2018: 0.00 rating (15 movies)\n",
      "2017: 5.86 rating (1596 movies)\n",
      "2016: 5.82 rating (4812 movies)\n",
      "2015: 5.76 rating (5715 movies)\n",
      "2014: 5.65 rating (5922 movies)\n",
      "2013: 5.76 rating (5667 movies)\n",
      "2012: 5.64 rating (5166 movies)\n"
     ]
    }
   ],
   "source": [
    "#finding the average rating of movies by their release year utilizing $addFields to extract the year\n",
    "\n",
    "# Average rating by release year\n",
    "pipeline = [\n",
    "    {\"$addFields\": {\n",
    "        \"year\": {\"$substr\": [\"$release_date\", 0, 4]}  # Extract year from date\n",
    "    }},\n",
    "    {\"$match\": {\"year\": {\"$ne\": \"\"}}},  # Filter out empty years\n",
    "    {\"$group\": {\n",
    "        \"_id\": \"$year\",\n",
    "        \"avg_rating\": {\"$avg\": \"$vote_average\"},\n",
    "        \"count\": {\"$sum\": 1}\n",
    "    }},\n",
    "    {\"$sort\": {\"_id\": -1}},  # Sort by year descending\n",
    "    {\"$limit\": 10}\n",
    "]\n",
    "\n",
    "avg_ratings = list(movies.aggregate(pipeline))\n",
    "print(\"Average rating by year (recent years):\")\n",
    "for year in avg_ratings:\n",
    "    print(f\"{year['_id']}: {year['avg_rating']:.2f} rating ({year['count']} movies)\")"
   ]
  },
  {
   "cell_type": "code",
   "execution_count": 47,
   "id": "312610eb-c214-47a1-8ef1-539c7b15c3de",
   "metadata": {},
   "outputs": [
    {
     "name": "stdout",
     "output_type": "stream",
     "text": [
      "Average rating by popularity ranges:\n",
      "Low (0-10): 6.01 avg rating, 2.5 avg popularity (85392 movies)\n",
      "Medium (10-50): 6.46 avg rating, 13.6 avg popularity (7959 movies)\n",
      "High (50-100): 7.83 avg rating, 71.4 avg popularity (24 movies)\n",
      "Very High (100+): 7.35 avg rating, 195.8 avg popularity (36 movies)\n"
     ]
    }
   ],
   "source": [
    "#using the $match stage to filter documents before grouping to find the average rating by popularity ranges\n",
    "\n",
    "pipeline = [\n",
    "    {\"$match\": {\n",
    "        \"popularity\": {\"$exists\": True, \"$gt\": 0}, #making sure popularity score exists and is greater than 0\n",
    "        \"vote_average\": {\"$gt\": 0} #making sure vote_average is greater than 0\n",
    "    }},\n",
    "    {\"$addFields\": {\n",
    "        \"popularity_range\": { #creating new field popularity_range based on the value of popularity\n",
    "            \"$switch\": {\n",
    "                \"branches\": [\n",
    "                    {\"case\": {\"$lt\": [\"$popularity\", 10]}, \"then\": \"Low (0-10)\"},\n",
    "                    {\"case\": {\"$lt\": [\"$popularity\", 50]}, \"then\": \"Medium (10-50)\"},\n",
    "                    {\"case\": {\"$lt\": [\"$popularity\", 100]}, \"then\": \"High (50-100)\"}\n",
    "                ],\n",
    "                \"default\": \"Very High (100+)\"\n",
    "            }\n",
    "        }\n",
    "    }},\n",
    "    {\"$group\": {\n",
    "        \"_id\": \"$popularity_range\", #grouping by the new field\n",
    "        \"avg_rating\": {\"$avg\": \"$vote_average\"},\n",
    "        \"avg_popularity\": {\"$avg\": \"$popularity\"},\n",
    "        \"count\": {\"$sum\": 1}\n",
    "    }},\n",
    "    {\"$sort\": {\"avg_popularity\": 1}} #sorting by the average popularity score\n",
    "]\n",
    "\n",
    "popularity_ratings = list(movies.aggregate(pipeline))\n",
    "print(\"Average rating by popularity ranges:\")\n",
    "for pop_range in popularity_ratings:\n",
    "    print(f\"{pop_range['_id']}: {pop_range['avg_rating']:.2f} avg rating, {pop_range['avg_popularity']:.1f} avg popularity ({pop_range['count']} movies)\")"
   ]
  },
  {
   "cell_type": "markdown",
   "id": "0d552245-b4d6-474a-9cc9-fa7b8e674d55",
   "metadata": {},
   "source": [
    "4.4) From these aggregation results you can see how columns relate to one another such as year and the average rating as we found. From this, we could potentially analyze if movies are getting better or worse overtime. We can also see that there are not many movies that are highly rated as most movies are rated below 7, whereas there are fewer movies that are highly rated and rated above 7."
   ]
  },
  {
   "cell_type": "markdown",
   "id": "88c9cdac-3e92-498f-83fa-e089bfc44ac8",
   "metadata": {},
   "source": [
    "## Question 5"
   ]
  },
  {
   "cell_type": "code",
   "execution_count": 49,
   "id": "d370d7c9-06db-42b9-b75f-240481a5c491",
   "metadata": {},
   "outputs": [
    {
     "name": "stdout",
     "output_type": "stream",
     "text": [
      "Updated 1 document\n",
      "Toy Story's our rating: 9.5\n"
     ]
    }
   ],
   "source": [
    "# updating documents using the update_one() and update_many() methods\n",
    "\n",
    "# Update a single document (find a specific movie by title)\n",
    "result = movies.update_one(\n",
    "    {\"title\": \"Toy Story\"},\n",
    "    {\"$set\": {\"our_rating\": 9.5}}\n",
    ")\n",
    "print(f\"Updated {result.modified_count} document\")\n",
    "\n",
    "# Check the update\n",
    "updated_movie = movies.find_one({\"title\": \"Toy Story\"})\n",
    "print(f\"Toy Story's our rating: {updated_movie.get('our_rating', 'No rating')}\")"
   ]
  },
  {
   "cell_type": "code",
   "execution_count": 50,
   "id": "b0328b6f-a99e-4633-8828-4114fefce570",
   "metadata": {},
   "outputs": [
    {
     "name": "stdout",
     "output_type": "stream",
     "text": [
      "Updated 136398 documents with watched field\n"
     ]
    }
   ],
   "source": [
    "# Update all movies to add a 'watched' field\n",
    "result = movies.update_many(\n",
    "    {},\n",
    "    {\"$set\": {\"watched\": False}}\n",
    ")\n",
    "print(f\"Updated {result.modified_count} documents with watched field\")"
   ]
  },
  {
   "cell_type": "code",
   "execution_count": 51,
   "id": "017dfb30-22f9-4773-9123-1d943e9da4f8",
   "metadata": {},
   "outputs": [
    {
     "name": "stdout",
     "output_type": "stream",
     "text": [
      "Deleted 9618 movies with rating below 2.0\n",
      "Remaining movies: 126780\n"
     ]
    }
   ],
   "source": [
    "# deleting documents using the delete_one() and delete_many() methods\n",
    "\n",
    "# Delete movies with very low ratings (be careful with this!)\n",
    "result = movies.delete_many({\"vote_average\": {\"$lt\": 2.0}})\n",
    "print(f\"Deleted {result.deleted_count} movies with rating below 2.0\")\n",
    "\n",
    "# Check how many movies remain\n",
    "remaining_movies = movies.count_documents({})\n",
    "print(f\"Remaining movies: {remaining_movies}\")"
   ]
  },
  {
   "cell_type": "code",
   "execution_count": 52,
   "id": "f39a41f2-a7e9-40c1-b026-72a4d65ca287",
   "metadata": {},
   "outputs": [
    {
     "name": "stdout",
     "output_type": "stream",
     "text": [
      "Deleted 1182 movies from 1990\n",
      "Remaining movies: 125598\n",
      "Sample remaining movies:\n",
      "- Toy Story (1995-10-30)\n",
      "- Jumanji (1995-12-15)\n",
      "- Grumpier Old Men (1995-12-22)\n"
     ]
    }
   ],
   "source": [
    "# Delete movies from a specific year (example: 1990)\n",
    "result = movies.delete_many({\"release_date\": {\"$regex\": \"1990\"}})\n",
    "print(f\"Deleted {result.deleted_count} movies from 1990\")\n",
    "\n",
    "# Check remaining movies\n",
    "remaining_movies = movies.count_documents({})\n",
    "print(f\"Remaining movies: {remaining_movies}\")\n",
    "\n",
    "# Show some sample remaining movies\n",
    "sample_movies = list(movies.find().limit(3))\n",
    "print(\"Sample remaining movies:\")\n",
    "for movie in sample_movies:\n",
    "    print(f\"- {movie['title']} ({movie.get('release_date', 'N/A')})\")"
   ]
  },
  {
   "cell_type": "markdown",
   "id": "f76442d6-d02e-4f26-b9d6-c3183e1d6929",
   "metadata": {},
   "source": [
    "## Pledge\n",
    "\n",
    "By submitting this work I hereby pledge that this is my own, personal work. I've acknowledged in the designated place at the top of this file all sources that I used to complete said work, including but not limited to: online resources, books, and electronic communications. I've noted all collaboration with fellow students and/or TA's. I did not copy or plagiarize another's work.\n",
    "\n",
    "> As a Boilermaker pursuing academic excellence, I pledge to be honest and true in all that I do. Accountable together – We are Purdue.\n",
    "\n",
    "https://www.purdue.edu/odos/osrr/honor-pledge/\n"
   ]
  }
 ],
 "metadata": {
  "kernelspec": {
   "display_name": "seminar",
   "language": "python",
   "name": "python3"
  },
  "language_info": {
   "codemirror_mode": {
    "name": "ipython",
    "version": 3
   },
   "file_extension": ".py",
   "mimetype": "text/x-python",
   "name": "python",
   "nbconvert_exporter": "python",
   "pygments_lexer": "ipython3",
   "version": "3.12.11"
  }
 },
 "nbformat": 4,
 "nbformat_minor": 5
}
