{
 "cells": [
  {
   "cell_type": "markdown",
   "id": "be02a957-7133-4d02-818e-fedeb3cecb05",
   "metadata": {},
   "source": [
    "# Project 02- Anthony Micco"
   ]
  },
  {
   "cell_type": "markdown",
   "id": "a1228853-dd19-4ab2-89e0-0394d7d72de3",
   "metadata": {},
   "source": [
    "**TA Help:** N/A\n",
    "    \n",
    "**Collaboration:** N/A"
   ]
  },
  {
   "cell_type": "code",
   "execution_count": 1,
   "id": "20add722-fc95-44c4-8e94-2a9b6bba1160",
   "metadata": {},
   "outputs": [
    {
     "name": "stdout",
     "output_type": "stream",
     "text": [
      "anthony-micco-project-02.ipynb\n",
      "Hello World!\n"
     ]
    }
   ],
   "source": [
    "#testing using the ! method\n",
    "!ls\n",
    "\n",
    "import pandas as pd\n",
    "myDF = pd.DataFrame({'col1': [1, 2, 3], 'col2': [4, 5, 6]})\n",
    "myDF.head()\n",
    "\n",
    "!echo \"Hello World!\""
   ]
  },
  {
   "cell_type": "markdown",
   "id": "6180e742-8e39-4698-98ff-5b00c8cf8ea0",
   "metadata": {},
   "source": [
    "## Question 1"
   ]
  },
  {
   "cell_type": "code",
   "execution_count": 3,
   "id": "49445606-d363-41b4-b479-e319a9a84c01",
   "metadata": {},
   "outputs": [],
   "source": [
    "# code for step 1 finding the home directory and current working directory"
   ]
  },
  {
   "cell_type": "code",
   "execution_count": 4,
   "id": "346ed74a-1e79-4a23-b31f-a63e41c4a174",
   "metadata": {},
   "outputs": [
    {
     "name": "stdout",
     "output_type": "stream",
     "text": [
      "My Home directory is /home/x-amicco\n",
      "My working directory is: /home/x-amicco/TDM 201/Project-2\n"
     ]
    }
   ],
   "source": [
    "%%bash \n",
    "echo \"My Home directory is $HOME\"\n",
    "echo \"My working directory is: $(pwd)\""
   ]
  },
  {
   "cell_type": "code",
   "execution_count": 5,
   "id": "9e1b4eea-d489-44dd-bb08-bbb3e4bd653a",
   "metadata": {},
   "outputs": [],
   "source": [
    "# code for step 2 changing my directory to /anvil/projects/tdm/"
   ]
  },
  {
   "cell_type": "code",
   "execution_count": 7,
   "id": "f0fe6d45-a34d-4926-b9a9-a644774a07c4",
   "metadata": {},
   "outputs": [
    {
     "name": "stdout",
     "output_type": "stream",
     "text": [
      "/anvil/projects/tdm\n"
     ]
    }
   ],
   "source": [
    "%%bash \n",
    "cd /anvil/projects/tdm/\n",
    "pwd"
   ]
  },
  {
   "cell_type": "code",
   "execution_count": 8,
   "id": "596dadb5-9b06-459d-a840-90eaad139cec",
   "metadata": {},
   "outputs": [],
   "source": [
    "# running the code from step 1 again"
   ]
  },
  {
   "cell_type": "code",
   "execution_count": 10,
   "id": "b404804e-c92e-4510-80df-ce5235621a04",
   "metadata": {},
   "outputs": [
    {
     "name": "stdout",
     "output_type": "stream",
     "text": [
      "My Home directory is /home/x-amicco\n",
      "My working directory is: /home/x-amicco/TDM 201/Project-2\n"
     ]
    }
   ],
   "source": [
    "%%bash \n",
    "echo \"My Home directory is $HOME\"\n",
    "echo \"My working directory is: $(pwd)\""
   ]
  },
  {
   "cell_type": "markdown",
   "id": "55d0f2c9-c38c-41fa-8a70-7233341f4080",
   "metadata": {},
   "source": [
    "1c) In step 1 and step 2, there is a difference when I print the current working directory because in step 1 it is simply the directory that I have my project in, while in step 2 it is the /anil/projects/tdm/ directory since we used the cd command to switch to that directory. The difference between the `$HOME` directory and the pwd directory is the `$HOME` directory will always be the same because it is the root directory where all sub directories live in, while the pwd directory changes depending on the directory you are working in. "
   ]
  },
  {
   "cell_type": "markdown",
   "id": "fc601975-35ed-4680-a4e1-0273ee3cc047",
   "metadata": {},
   "source": [
    "## Question 2"
   ]
  },
  {
   "cell_type": "code",
   "execution_count": 11,
   "id": "a16336a1-1ef0-41e8-bc7c-49387db27497",
   "metadata": {},
   "outputs": [],
   "source": [
    "# changing my directory to /anvil/projects/tdm/data/zillow using the cd command"
   ]
  },
  {
   "cell_type": "code",
   "execution_count": 12,
   "id": "d9e0fc42-41cc-4570-901d-ede1fcebd5e3",
   "metadata": {},
   "outputs": [
    {
     "name": "stdout",
     "output_type": "stream",
     "text": [
      "/anvil/projects/tdm/data/zillow\n"
     ]
    }
   ],
   "source": [
    "%%bash\n",
    "cd /anvil/projects/tdm/data/zillow\n",
    "pwd"
   ]
  },
  {
   "cell_type": "code",
   "execution_count": 26,
   "id": "f58e6cc7-5ad7-4d9c-a9df-57ee29b594aa",
   "metadata": {},
   "outputs": [],
   "source": [
    "#running each of the commands for a,b,c,d of step 2 "
   ]
  },
  {
   "cell_type": "code",
   "execution_count": 17,
   "id": "951c71f3-c405-41d8-8591-bc7f8f418117",
   "metadata": {},
   "outputs": [
    {
     "name": "stdout",
     "output_type": "stream",
     "text": [
      "/home/x-amicco\n"
     ]
    }
   ],
   "source": [
    "%%bash\n",
    "cd\n",
    "pwd\n",
    "cd /anvil/projects/tdm/data/zillow"
   ]
  },
  {
   "cell_type": "code",
   "execution_count": 18,
   "id": "be791e5f-560e-4da8-8af8-f39b75607288",
   "metadata": {},
   "outputs": [
    {
     "name": "stdout",
     "output_type": "stream",
     "text": [
      "/home/x-amicco/TDM 201/Project-2\n"
     ]
    }
   ],
   "source": [
    "%%bash\n",
    "cd .\n",
    "pwd\n",
    "cd /anvil/projects/tdm/data/zillow"
   ]
  },
  {
   "cell_type": "code",
   "execution_count": 20,
   "id": "23643401-240a-43cd-b1ac-fc71c527dc21",
   "metadata": {},
   "outputs": [
    {
     "name": "stdout",
     "output_type": "stream",
     "text": [
      "/home/x-amicco/TDM 201\n"
     ]
    }
   ],
   "source": [
    "%%bash\n",
    "cd ..\n",
    "pwd\n",
    "cd /anvil/projects/tdm/data/zillow"
   ]
  },
  {
   "cell_type": "code",
   "execution_count": 25,
   "id": "795e3dba-13ee-4412-a1f1-f742bcd96f03",
   "metadata": {},
   "outputs": [
    {
     "name": "stdout",
     "output_type": "stream",
     "text": [
      "/home/x-amicco\n"
     ]
    }
   ],
   "source": [
    "%%bash\n",
    "cd ../../\n",
    "pwd\n",
    "cd /anvil/projects/tdm/data/zillow"
   ]
  },
  {
   "cell_type": "code",
   "execution_count": 27,
   "id": "7a2d6edb-2607-4b9b-a2a6-b9a03d725400",
   "metadata": {},
   "outputs": [],
   "source": [
    "#running the commands for e,f,g of step 2 "
   ]
  },
  {
   "cell_type": "code",
   "execution_count": 24,
   "id": "611ab0fc-42d3-4282-9c90-f128e144e995",
   "metadata": {},
   "outputs": [
    {
     "name": "stdout",
     "output_type": "stream",
     "text": [
      "anthony-micco-project-02.ipynb\n"
     ]
    }
   ],
   "source": [
    "%%bash\n",
    "ls\n",
    "cd /anvil/projects/tdm/data/zillow"
   ]
  },
  {
   "cell_type": "code",
   "execution_count": 29,
   "id": "e948e3ba-a394-4247-9c88-7c3fd7b4060e",
   "metadata": {},
   "outputs": [
    {
     "name": "stdout",
     "output_type": "stream",
     "text": [
      "total 6\n",
      "drwxr-xr-x 3 x-amicco x-xsede    4 Sep  4 18:48 .\n",
      "drwxr-xr-x 5 x-amicco nogroup    5 Sep  3 21:04 ..\n",
      "drwxr-xr-x 2 x-amicco x-xsede    3 Sep  3 21:05 .ipynb_checkpoints\n",
      "-rw-r--r-- 1 x-amicco x-xsede 9738 Sep  4 18:48 anthony-micco-project-02.ipynb\n"
     ]
    }
   ],
   "source": [
    "%%bash\n",
    "ls -la\n",
    "cd /anvil/projects/tdm/data/zillow"
   ]
  },
  {
   "cell_type": "code",
   "execution_count": 31,
   "id": "2bc2afe1-3be2-4b4a-a5d5-e30859c2ac8a",
   "metadata": {},
   "outputs": [
    {
     "name": "stdout",
     "output_type": "stream",
     "text": [
      "Project-1\n",
      "Project-2\n",
      "/home/x-amicco/TDM 201/Project-2\n"
     ]
    }
   ],
   "source": [
    "%%bash\n",
    "ls ../\n",
    "pwd\n",
    "cd /anvil/projects/tdm/data/zillow"
   ]
  },
  {
   "cell_type": "markdown",
   "id": "14dc22d4-ddc3-41cc-a91a-cb0025bc0c80",
   "metadata": {},
   "source": [
    "2d) The cd command returns your `$HOME` directory if a directory is not specified. The cd . command makes sure you stay in your current directory. The cd .. command moves you up one directory from your current directory. The cd ../../ command moves you up two directories from your current directory. The ls command lists all of the files located in your current directory. The ls -la command returns a list of the all the files in a directory, including some of the hidden ones. Finally, the ls ../ command returns a list of files one directory up from your current directory.\n",
    "\n",
    "2e) Using relative paths is beneficial when running particular commands like ls because it allows you to view files in directories outside of your current working directory. For example, in part g of question 2, I was able to see the files one directory up from my current directory without ever changing my directory. "
   ]
  },
  {
   "cell_type": "markdown",
   "id": "8e586edd-ff26-4ce2-8f6b-2424b26f2929",
   "metadata": {},
   "source": [
    "## Question 3"
   ]
  },
  {
   "cell_type": "code",
   "execution_count": 35,
   "id": "bbe0f40d-9655-4653-9ca8-886bdb61cb91",
   "metadata": {},
   "outputs": [],
   "source": [
    "#changing the working directory to /anvil/projects/tdm/data/icecream/breyers"
   ]
  },
  {
   "cell_type": "code",
   "execution_count": 37,
   "id": "d26f077f-9481-433c-b9ea-f2d09ccad39d",
   "metadata": {},
   "outputs": [
    {
     "name": "stdout",
     "output_type": "stream",
     "text": [
      "/anvil/projects/tdm/data/icecream/breyers\n",
      "images\n",
      "products.csv\n",
      "reviews.csv\n"
     ]
    }
   ],
   "source": [
    "%%bash \n",
    "cd /anvil/projects/tdm/data/icecream/breyers\n",
    "pwd\n",
    "ls "
   ]
  },
  {
   "cell_type": "code",
   "execution_count": 38,
   "id": "3494a2de-bee6-4fbc-a994-11476dc7157c",
   "metadata": {},
   "outputs": [],
   "source": [
    "#printing the first 5 rows of the reviews.csv file"
   ]
  },
  {
   "cell_type": "code",
   "execution_count": 41,
   "id": "2c60ce87-7b78-4680-8fad-89efee4d9c9c",
   "metadata": {},
   "outputs": [
    {
     "name": "stdout",
     "output_type": "stream",
     "text": [
      "key,author,date,stars,title,helpful_yes,helpful_no,text\n",
      "0_breyers,LABEL READER,2020-04-17,2,EVER INCREASING INGEDIENTS LIST.,81,3,\"Not the long ago Breyers set itself apart from other brands by using ONLY MILK, CREAM, SUGAR, and VANILLA in it's Vanilla ice cream. They went so far as to have TV commercials with children reading the ver very simple label. Now they show similar comercials stating the Breyers is made WITH those ingredients but no longer ONLY WITH. Read the label for yourself. The ice cream is still good but the longer ingrediants list ant the missing word \"\"ONLY\"\" hasn't gone unnoticed despite the attempt to gloss over the corporate decision to move away from the one distinctive characteristic that set the Breyers brand apart from the others.\"\n",
      "0_breyers,AK in WA,2020-06-09,1,This is NO LONGER the Breyers We Used to Know,94,2,\"I must agree with many one-star ratings here. The main beef is the huge change in your formula/ingredients. It's always been Breyers. When I first moved to the west coast, there was no Breyers, so I did not eat ice cream for several years. Then it's here ... in the past several years I've noticed: a) it no longer stays frozen long enough to eat it; b) when it melts, it forms into a scary gummy mess. Breyers used to melt and turn back into cream and milk basically. Why on earth would you decide to take a once delicious natural treat and load it up with a boatload of nasty chemicals that have RUINED YOUR PRODUCT?\"\n",
      "0_breyers,wing18,2020-09-29,2,Not as good as the natural they used to make!!,72,3,\"This natural vanilla ice cream is not nearly as good as it used to be and I don't care for it any longer. Breyers needs to remove the vegetable gum from this ice cream in order for me to purchase this again. I do not like the texture that the vegetable gum gives to the ice cream. My local Pennsylvania Turkey Hill brand ice cream offers an all natural ice cream that is so much better than this version from Breyers. They do not put any fillers in their ice cream at all!!\n",
      "I do not think that the quality of Breyers ice cream is bad by any means but not nearly as good as it could be if they used all natural ingredients.\n"
     ]
    }
   ],
   "source": [
    "%%bash\n",
    "head -n5 /anvil/projects/tdm/data/icecream/breyers/reviews.csv"
   ]
  },
  {
   "cell_type": "code",
   "execution_count": 40,
   "id": "7d462332-09d8-4f82-bfad-fc35728cafcd",
   "metadata": {},
   "outputs": [],
   "source": [
    "#printing the last 5 rows of the reviews.csv file"
   ]
  },
  {
   "cell_type": "code",
   "execution_count": 42,
   "id": "a4c4ca74-f527-4d56-811f-860c234e8705",
   "metadata": {},
   "outputs": [
    {
     "name": "stdout",
     "output_type": "stream",
     "text": [
      "68_breyers,Randi,2020-04-22,1,Terrible missing the chocolate ice cream,0,0,\"There was no chocolate ice cream in this at all, this was very very disappointing, didn’t even come close to looking like the package\"\n",
      "68_breyers,Bethie,2020-09-08,1,Terrible,0,0,This ice cream has no flavor at all. No one in the entire family liked it. Kids refusing ice cream - for real?\n",
      "68_breyers,Nshaw1994,2020-09-09,5,Flavor of the week!,0,0,Absolutely love this flavor! The only thing that would make it better is caramel and cookie dough bites!\n",
      "68_breyers,PamelaG,2020-06-01,5,Love this flavor!!,0,0,Brilliant combo - love the cheesecake and brownie chunks - please keep making this!!\n",
      "68_breyers,Fanchon,2020-08-22,5,Great,0,0,Has a delicious taste with all natural ingredients\n"
     ]
    }
   ],
   "source": [
    "%%bash\n",
    "tail -n5 /anvil/projects/tdm/data/icecream/breyers/reviews.csv"
   ]
  },
  {
   "cell_type": "code",
   "execution_count": 43,
   "id": "3caff079-2875-410d-a424-2d1dfe84fd24",
   "metadata": {},
   "outputs": [],
   "source": [
    "#printing only the column names of the csv file"
   ]
  },
  {
   "cell_type": "code",
   "execution_count": 47,
   "id": "1fc20335-025e-47c0-9759-3335b6b69480",
   "metadata": {},
   "outputs": [
    {
     "name": "stdout",
     "output_type": "stream",
     "text": [
      "key,author,date,stars,title,helpful_yes,helpful_no,text\n"
     ]
    }
   ],
   "source": [
    "%%bash\n",
    "head -n1 /anvil/projects/tdm/data/icecream/breyers/reviews.csv"
   ]
  },
  {
   "cell_type": "code",
   "execution_count": 52,
   "id": "395157b1-aed8-46f6-8972-ad0ab1186876",
   "metadata": {},
   "outputs": [],
   "source": [
    "#running the wc reviews.csv command"
   ]
  },
  {
   "cell_type": "code",
   "execution_count": 53,
   "id": "88c2cf29-3076-4008-babc-64cd8eb1c25c",
   "metadata": {},
   "outputs": [
    {
     "name": "stdout",
     "output_type": "stream",
     "text": [
      "   5464  225282 1436490 /anvil/projects/tdm/data/icecream/breyers/reviews.csv\n"
     ]
    }
   ],
   "source": [
    "%%bash\n",
    "wc /anvil/projects/tdm/data/icecream/breyers/reviews.csv"
   ]
  },
  {
   "cell_type": "code",
   "execution_count": 54,
   "id": "812e5b21-fba4-4694-be32-458ff1fe46a0",
   "metadata": {},
   "outputs": [],
   "source": [
    "#getting only the line count from the file"
   ]
  },
  {
   "cell_type": "code",
   "execution_count": 55,
   "id": "7e96dffd-c1e2-4681-8d5d-5fd3d282ed7a",
   "metadata": {},
   "outputs": [
    {
     "name": "stdout",
     "output_type": "stream",
     "text": [
      "5464 /anvil/projects/tdm/data/icecream/breyers/reviews.csv\n"
     ]
    }
   ],
   "source": [
    "%%bash\n",
    "wc -l /anvil/projects/tdm/data/icecream/breyers/reviews.csv"
   ]
  },
  {
   "cell_type": "markdown",
   "id": "47c6229f-35f7-400c-8366-c442baa5cf47",
   "metadata": {},
   "source": [
    "3c) The wc command returns three different numbers when it is run. The first number is the number of rows of data in the file. The second number is the total number of words in the file, and the third number is the total count of the characters in the file. "
   ]
  },
  {
   "cell_type": "markdown",
   "id": "da22f29c-d245-4d2b-9fc1-ca14cb6087d9",
   "metadata": {},
   "source": [
    "## Question 4"
   ]
  },
  {
   "cell_type": "code",
   "execution_count": 56,
   "id": "8cffc767-d1c8-4d64-b7dc-f0d2ee8a80d1",
   "metadata": {},
   "outputs": [],
   "source": [
    "# code used to find the size limit for the $HOME and $SCRATCH directories (Only works in terminal tho)"
   ]
  },
  {
   "cell_type": "code",
   "execution_count": 106,
   "id": "97059d71-b448-490c-9339-d8076b1bf4cd",
   "metadata": {
    "collapsed": true,
    "jupyter": {
     "outputs_hidden": true
    }
   },
   "outputs": [
    {
     "name": "stderr",
     "output_type": "stream",
     "text": [
      "bash: line 1: myquota: command not found\n"
     ]
    },
    {
     "ename": "CalledProcessError",
     "evalue": "Command 'b'myquota\\n'' returned non-zero exit status 127.",
     "output_type": "error",
     "traceback": [
      "\u001b[31m---------------------------------------------------------------------------\u001b[39m",
      "\u001b[31mCalledProcessError\u001b[39m                        Traceback (most recent call last)",
      "\u001b[36mCell\u001b[39m\u001b[36m \u001b[39m\u001b[32mIn[106]\u001b[39m\u001b[32m, line 1\u001b[39m\n\u001b[32m----> \u001b[39m\u001b[32m1\u001b[39m \u001b[43mget_ipython\u001b[49m\u001b[43m(\u001b[49m\u001b[43m)\u001b[49m\u001b[43m.\u001b[49m\u001b[43mrun_cell_magic\u001b[49m\u001b[43m(\u001b[49m\u001b[33;43m'\u001b[39;49m\u001b[33;43mbash\u001b[39;49m\u001b[33;43m'\u001b[39;49m\u001b[43m,\u001b[49m\u001b[43m \u001b[49m\u001b[33;43m'\u001b[39;49m\u001b[33;43m'\u001b[39;49m\u001b[43m,\u001b[49m\u001b[43m \u001b[49m\u001b[33;43m'\u001b[39;49m\u001b[33;43mmyquota\u001b[39;49m\u001b[38;5;130;43;01m\\n\u001b[39;49;00m\u001b[33;43m'\u001b[39;49m\u001b[43m)\u001b[49m\n",
      "\u001b[36mFile \u001b[39m\u001b[32m/usr/local/lib/python3.12/site-packages/IPython/core/interactiveshell.py:2565\u001b[39m, in \u001b[36mInteractiveShell.run_cell_magic\u001b[39m\u001b[34m(self, magic_name, line, cell)\u001b[39m\n\u001b[32m   2563\u001b[39m \u001b[38;5;28;01mwith\u001b[39;00m \u001b[38;5;28mself\u001b[39m.builtin_trap:\n\u001b[32m   2564\u001b[39m     args = (magic_arg_s, cell)\n\u001b[32m-> \u001b[39m\u001b[32m2565\u001b[39m     result = \u001b[43mfn\u001b[49m\u001b[43m(\u001b[49m\u001b[43m*\u001b[49m\u001b[43margs\u001b[49m\u001b[43m,\u001b[49m\u001b[43m \u001b[49m\u001b[43m*\u001b[49m\u001b[43m*\u001b[49m\u001b[43mkwargs\u001b[49m\u001b[43m)\u001b[49m\n\u001b[32m   2567\u001b[39m \u001b[38;5;66;03m# The code below prevents the output from being displayed\u001b[39;00m\n\u001b[32m   2568\u001b[39m \u001b[38;5;66;03m# when using magics with decorator @output_can_be_silenced\u001b[39;00m\n\u001b[32m   2569\u001b[39m \u001b[38;5;66;03m# when the last Python token in the expression is a ';'.\u001b[39;00m\n\u001b[32m   2570\u001b[39m \u001b[38;5;28;01mif\u001b[39;00m \u001b[38;5;28mgetattr\u001b[39m(fn, magic.MAGIC_OUTPUT_CAN_BE_SILENCED, \u001b[38;5;28;01mFalse\u001b[39;00m):\n",
      "\u001b[36mFile \u001b[39m\u001b[32m/usr/local/lib/python3.12/site-packages/IPython/core/magics/script.py:160\u001b[39m, in \u001b[36mScriptMagics._make_script_magic.<locals>.named_script_magic\u001b[39m\u001b[34m(line, cell)\u001b[39m\n\u001b[32m    158\u001b[39m \u001b[38;5;28;01melse\u001b[39;00m:\n\u001b[32m    159\u001b[39m     line = script\n\u001b[32m--> \u001b[39m\u001b[32m160\u001b[39m \u001b[38;5;28;01mreturn\u001b[39;00m \u001b[38;5;28;43mself\u001b[39;49m\u001b[43m.\u001b[49m\u001b[43mshebang\u001b[49m\u001b[43m(\u001b[49m\u001b[43mline\u001b[49m\u001b[43m,\u001b[49m\u001b[43m \u001b[49m\u001b[43mcell\u001b[49m\u001b[43m)\u001b[49m\n",
      "\u001b[36mFile \u001b[39m\u001b[32m/usr/local/lib/python3.12/site-packages/IPython/core/magics/script.py:343\u001b[39m, in \u001b[36mScriptMagics.shebang\u001b[39m\u001b[34m(self, line, cell)\u001b[39m\n\u001b[32m    338\u001b[39m \u001b[38;5;28;01mif\u001b[39;00m args.raise_error \u001b[38;5;129;01mand\u001b[39;00m p.returncode != \u001b[32m0\u001b[39m:\n\u001b[32m    339\u001b[39m     \u001b[38;5;66;03m# If we get here and p.returncode is still None, we must have\u001b[39;00m\n\u001b[32m    340\u001b[39m     \u001b[38;5;66;03m# killed it but not yet seen its return code. We don't wait for it,\u001b[39;00m\n\u001b[32m    341\u001b[39m     \u001b[38;5;66;03m# in case it's stuck in uninterruptible sleep. -9 = SIGKILL\u001b[39;00m\n\u001b[32m    342\u001b[39m     rc = p.returncode \u001b[38;5;129;01mor\u001b[39;00m -\u001b[32m9\u001b[39m\n\u001b[32m--> \u001b[39m\u001b[32m343\u001b[39m     \u001b[38;5;28;01mraise\u001b[39;00m CalledProcessError(rc, cell)\n",
      "\u001b[31mCalledProcessError\u001b[39m: Command 'b'myquota\\n'' returned non-zero exit status 127."
     ]
    }
   ],
   "source": [
    "%%bash \n",
    "myquota"
   ]
  },
  {
   "cell_type": "code",
   "execution_count": 59,
   "id": "42001b32-0f71-4818-9769-6e8b218631d2",
   "metadata": {},
   "outputs": [],
   "source": [
    "#copying the reviews.csv file to my SCRATCH directory"
   ]
  },
  {
   "cell_type": "code",
   "execution_count": 107,
   "id": "8513d9ca-4ed9-4553-a49e-40ce78b7205b",
   "metadata": {},
   "outputs": [
    {
     "name": "stdout",
     "output_type": "stream",
     "text": [
      "reviews.csv\n"
     ]
    }
   ],
   "source": [
    "%%bash\n",
    "rm -r $SCRATCH/myfolder\n",
    "mkdir $SCRATCH/myfolder\n",
    "cp /anvil/projects/tdm/data/icecream/breyers/reviews.csv $SCRATCH/myfolder\n",
    "cd $SCRATCH/myfolder \n",
    "ls"
   ]
  },
  {
   "cell_type": "code",
   "execution_count": 70,
   "id": "8b4bd093-67ac-4255-a39d-2249b5373c10",
   "metadata": {},
   "outputs": [],
   "source": [
    "#copying the entire icecream directory to my scratch directory"
   ]
  },
  {
   "cell_type": "code",
   "execution_count": 108,
   "id": "ea90640a-c562-4070-89f7-4788c8f116da",
   "metadata": {},
   "outputs": [
    {
     "name": "stdout",
     "output_type": "stream",
     "text": [
      "icecream\n",
      "reviews.csv\n"
     ]
    }
   ],
   "source": [
    "%%bash\n",
    "cp -r /anvil/projects/tdm/data/icecream/ $SCRATCH/myfolder\n",
    "cd $SCRATCH/myfolder/\n",
    "ls"
   ]
  },
  {
   "cell_type": "code",
   "execution_count": 72,
   "id": "71e438cc-eb25-4dd3-8372-2ab963e40ec1",
   "metadata": {},
   "outputs": [],
   "source": [
    "#printing the entire list of the files and folders in the SCRATCH directory"
   ]
  },
  {
   "cell_type": "code",
   "execution_count": 109,
   "id": "0ee1f7f6-af20-4f4f-ae59-b807007d2331",
   "metadata": {},
   "outputs": [
    {
     "name": "stdout",
     "output_type": "stream",
     "text": [
      "total 1539\n",
      "drwxr-xr-x 3 x-amicco x-xsede    4096 Sep  4 19:32 .\n",
      "drwx------ 3 x-amicco nogroup    4096 Sep  4 19:32 ..\n",
      "drwxr-xr-x 7 x-amicco x-xsede    4096 Sep  4 19:32 icecream\n",
      "-rw-r--r-- 1 x-amicco x-xsede 1436490 Sep  4 19:32 reviews.csv\n"
     ]
    }
   ],
   "source": [
    "%%bash\n",
    "cd $SCRATCH/myfolder/\n",
    "ls -la"
   ]
  },
  {
   "cell_type": "code",
   "execution_count": 92,
   "id": "ad7c49d2-6518-4355-a921-f182ed894d49",
   "metadata": {},
   "outputs": [],
   "source": [
    "#deleting the reviews.csv from the SCRATCH directory"
   ]
  },
  {
   "cell_type": "code",
   "execution_count": 110,
   "id": "fa4457f4-1393-4426-857e-fd3b4c52e6d3",
   "metadata": {},
   "outputs": [
    {
     "name": "stdout",
     "output_type": "stream",
     "text": [
      "icecream\n"
     ]
    }
   ],
   "source": [
    "%%bash\n",
    "cd $SCRATCH/myfolder\n",
    "rm -r reviews.csv\n",
    "ls"
   ]
  },
  {
   "cell_type": "code",
   "execution_count": 94,
   "id": "53e6e8fb-c932-47f7-bbf5-f9f61aa05dcc",
   "metadata": {},
   "outputs": [],
   "source": [
    "#deleting the icecream from the SCRATCH directory"
   ]
  },
  {
   "cell_type": "code",
   "execution_count": 111,
   "id": "268db5c7-8f25-4d0a-ab83-073f68999050",
   "metadata": {},
   "outputs": [],
   "source": [
    "%%bash\n",
    "cd $SCRATCH/myfolder\n",
    "rm -r icecream\n",
    "ls"
   ]
  },
  {
   "cell_type": "code",
   "execution_count": 112,
   "id": "67a520d5-a7ff-42d2-9186-8b9fce53d437",
   "metadata": {},
   "outputs": [],
   "source": [
    "#printing the list of all files and folders in the $SCRATCH directory"
   ]
  },
  {
   "cell_type": "code",
   "execution_count": 113,
   "id": "504cc72e-17ba-472a-8a40-16ab8b22f4b9",
   "metadata": {},
   "outputs": [
    {
     "name": "stdout",
     "output_type": "stream",
     "text": [
      "total 1026\n",
      "drwx------     3 x-amicco nogroup   4096 Sep  4 19:32 .\n",
      "drwxr-xr-x 13294 nobody   nogroup 524288 Sep  4 17:30 ..\n",
      "drwxr-xr-x     2 x-amicco x-xsede   4096 Sep  4 19:32 myfolder\n"
     ]
    }
   ],
   "source": [
    "%%bash \n",
    "cd $SCRATCH\n",
    "ls -la"
   ]
  },
  {
   "cell_type": "markdown",
   "id": "0d552245-b4d6-474a-9cc9-fa7b8e674d55",
   "metadata": {},
   "source": [
    "4a) The size limit for my `$HOME` directory is 25.0 GB, and the size limit for my `$scratch` directory is 100.0 TB. "
   ]
  },
  {
   "cell_type": "markdown",
   "id": "88c9cdac-3e92-498f-83fa-e089bfc44ac8",
   "metadata": {},
   "source": [
    "## Question 5"
   ]
  },
  {
   "cell_type": "code",
   "execution_count": 114,
   "id": "d370d7c9-06db-42b9-b75f-240481a5c491",
   "metadata": {},
   "outputs": [],
   "source": [
    "# creating the new mydinner directory"
   ]
  },
  {
   "cell_type": "code",
   "execution_count": 115,
   "id": "b29d8ca6-5360-4b70-ab14-1737736ad83a",
   "metadata": {},
   "outputs": [],
   "source": [
    "%%bash \n",
    "mkdir $HOME/mydinner"
   ]
  },
  {
   "cell_type": "code",
   "execution_count": 116,
   "id": "5dff751b-e12a-4f34-bece-a59f7ae88018",
   "metadata": {},
   "outputs": [],
   "source": [
    "#populating the file with the food files"
   ]
  },
  {
   "cell_type": "code",
   "execution_count": 120,
   "id": "ecd10f42-589a-41d5-b605-46c57da673e5",
   "metadata": {},
   "outputs": [],
   "source": [
    "%%bash\n",
    "cd $HOME/mydinner\n",
    "touch spaghetti.txt bread.txt broccoli.txt smoothie.txt tiramisu.txt chicken.txt"
   ]
  },
  {
   "cell_type": "code",
   "execution_count": 118,
   "id": "817c107d-a000-4b33-b60f-3ced1da1ce2a",
   "metadata": {},
   "outputs": [],
   "source": [
    "#displaying the contents of the mydinner directory"
   ]
  },
  {
   "cell_type": "code",
   "execution_count": 121,
   "id": "9fd76c69-0ed2-496d-8908-0c6c5c0685d5",
   "metadata": {},
   "outputs": [
    {
     "name": "stdout",
     "output_type": "stream",
     "text": [
      "bread.txt\n",
      "broccoli.txt\n",
      "chicken.txt\n",
      "smoothie.txt\n",
      "spaghetti.txt\n",
      "tiramisu.txt\n"
     ]
    }
   ],
   "source": [
    "%%bash\n",
    "cd $HOME/mydinner\n",
    "ls"
   ]
  },
  {
   "cell_type": "code",
   "execution_count": 122,
   "id": "c9f40e7a-6cc3-45f8-a15e-6283895f6ac9",
   "metadata": {},
   "outputs": [],
   "source": [
    "#adding the ingredients to each of the files"
   ]
  },
  {
   "cell_type": "code",
   "execution_count": 124,
   "id": "d6bd10e9-ae50-4637-ad5f-556e2dc681aa",
   "metadata": {},
   "outputs": [],
   "source": [
    "%%bash\n",
    "cd $HOME/mydinner\n",
    "echo \"noodle, tomato sauce\" >> spaghetti.txt\n",
    "echo \"bread, garlic, butter, cheese\" >> bread.txt\n",
    "echo \"broccoli, salt, pepper\" >> broccoli.txt\n",
    "echo \"strawberry, banana, milk\" >> smoothie.txt\n",
    "echo \"top-secret tiramisu recipe from granny\" >> tiramisu.txt\n",
    "echo \"chicken, pepper, olive oil\" >> chicken.txt"
   ]
  },
  {
   "cell_type": "code",
   "execution_count": 125,
   "id": "dca3b4a3-7de4-4c8c-88be-09f4a383df50",
   "metadata": {},
   "outputs": [],
   "source": [
    "#printing out the contents of each of the files in mydinner"
   ]
  },
  {
   "cell_type": "code",
   "execution_count": 126,
   "id": "ebb8ecef-07bf-45ef-8df7-11545e9c0304",
   "metadata": {},
   "outputs": [
    {
     "name": "stdout",
     "output_type": "stream",
     "text": [
      "     1\tnoodle, tomato sauce\n",
      "     2\tbread, garlic, butter, cheese\n",
      "     3\tbroccoli, salt, pepper\n",
      "     4\tstrawberry, banana, milk\n",
      "     5\ttop-secret tiramisu recipe from granny\n",
      "     6\tchicken, pepper, olive oil\n"
     ]
    }
   ],
   "source": [
    "%%bash\n",
    "cd $HOME/mydinner\n",
    "cat -n spaghetti.txt bread.txt broccoli.txt smoothie.txt tiramisu.txt chicken.txt"
   ]
  },
  {
   "cell_type": "code",
   "execution_count": 127,
   "id": "70d9d4d5-6910-4615-9b76-f201b33920b1",
   "metadata": {},
   "outputs": [],
   "source": [
    "#moving the mydinner directory to the $SCRATCH directory and renaming it"
   ]
  },
  {
   "cell_type": "code",
   "execution_count": 128,
   "id": "48d3d405-55b1-4501-868b-7fbf50fe0cd0",
   "metadata": {},
   "outputs": [],
   "source": [
    "%%bash\n",
    "mv $HOME/mydinner $SCRATCH/mybreakfast"
   ]
  },
  {
   "cell_type": "code",
   "execution_count": 129,
   "id": "33e3c839-c1e5-40e3-af6d-01fd522efd41",
   "metadata": {},
   "outputs": [],
   "source": [
    "#displaying the contents of the $SCRATCH directory"
   ]
  },
  {
   "cell_type": "code",
   "execution_count": 132,
   "id": "22134d34-24c9-4038-82cd-126291a81c27",
   "metadata": {},
   "outputs": [
    {
     "name": "stdout",
     "output_type": "stream",
     "text": [
      "bread.txt\n",
      "broccoli.txt\n",
      "chicken.txt\n",
      "smoothie.txt\n",
      "spaghetti.txt\n",
      "tiramisu.txt\n"
     ]
    }
   ],
   "source": [
    "%%bash\n",
    "cd $SCRATCH/mybreakfast\n",
    "ls "
   ]
  },
  {
   "cell_type": "code",
   "execution_count": 133,
   "id": "b8987381-9e4e-49cc-a560-5064724d3326",
   "metadata": {},
   "outputs": [],
   "source": [
    "#deleting the mybreakfast directory"
   ]
  },
  {
   "cell_type": "code",
   "execution_count": 134,
   "id": "b554441c-2778-4293-8e98-45d7b2e924bb",
   "metadata": {},
   "outputs": [
    {
     "name": "stdout",
     "output_type": "stream",
     "text": [
      "myfolder\n"
     ]
    }
   ],
   "source": [
    "%%bash\n",
    "rm -r $SCRATCH/mybreakfast\n",
    "cd $SCRATCH\n",
    "ls"
   ]
  },
  {
   "cell_type": "markdown",
   "id": "f76442d6-d02e-4f26-b9d6-c3183e1d6929",
   "metadata": {},
   "source": [
    "## Pledge\n",
    "\n",
    "By submitting this work I hereby pledge that this is my own, personal work. I've acknowledged in the designated place at the top of this file all sources that I used to complete said work, including but not limited to: online resources, books, and electronic communications. I've noted all collaboration with fellow students and/or TA's. I did not copy or plagiarize another's work.\n",
    "\n",
    "> As a Boilermaker pursuing academic excellence, I pledge to be honest and true in all that I do. Accountable together – We are Purdue."
   ]
  }
 ],
 "metadata": {
  "kernelspec": {
   "display_name": "seminar",
   "language": "python",
   "name": "python3"
  },
  "language_info": {
   "codemirror_mode": {
    "name": "ipython",
    "version": 3
   },
   "file_extension": ".py",
   "mimetype": "text/x-python",
   "name": "python",
   "nbconvert_exporter": "python",
   "pygments_lexer": "ipython3",
   "version": "3.12.11"
  }
 },
 "nbformat": 4,
 "nbformat_minor": 5
}
