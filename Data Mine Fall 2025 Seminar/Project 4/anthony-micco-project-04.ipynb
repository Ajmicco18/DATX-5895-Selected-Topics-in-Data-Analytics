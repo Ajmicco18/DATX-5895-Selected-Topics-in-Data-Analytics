{
 "cells": [
  {
   "cell_type": "markdown",
   "id": "be02a957-7133-4d02-818e-fedeb3cecb05",
   "metadata": {},
   "source": [
    "# Project 04 -- Anthony Micco"
   ]
  },
  {
   "cell_type": "markdown",
   "id": "a1228853-dd19-4ab2-89e0-0394d7d72de3",
   "metadata": {},
   "source": [
    "**TA Help:** N/A\n",
    "    \n",
    "**Collaboration:** N/A"
   ]
  },
  {
   "cell_type": "markdown",
   "id": "6180e742-8e39-4698-98ff-5b00c8cf8ea0",
   "metadata": {},
   "source": [
    "## Question 1"
   ]
  },
  {
   "cell_type": "code",
   "execution_count": 16,
   "id": "49445606-d363-41b4-b479-e319a9a84c01",
   "metadata": {},
   "outputs": [],
   "source": [
    "# navigating to the restaurant directory and printing the second column of orders.csv"
   ]
  },
  {
   "cell_type": "code",
   "execution_count": 17,
   "id": "3ca99000-5f4b-4128-a1f8-df2c59e1b781",
   "metadata": {},
   "outputs": [
    {
     "name": "stdout",
     "output_type": "stream",
     "text": [
      "customer_id\n",
      "92PEE24\n",
      "QS68UD8\n",
      "MB7VY5F\n",
      "KDJ951Y\n",
      "BAL0RVT\n",
      "U263OCD\n",
      "I9DNSMJ\n",
      "I9DNSMJ\n",
      "QYXXJCF\n"
     ]
    }
   ],
   "source": [
    "%%bash \n",
    "cd /anvil/projects/tdm/data/restaurant/\n",
    "head /anvil/projects/tdm/data/restaurant/orders.csv | awk -F\",\" '{print $2}'"
   ]
  },
  {
   "cell_type": "code",
   "execution_count": 18,
   "id": "544641f8-4797-4b46-b29f-7432b4a25459",
   "metadata": {},
   "outputs": [],
   "source": [
    "#finding all the .csv files located in the restaurant directory"
   ]
  },
  {
   "cell_type": "code",
   "execution_count": 19,
   "id": "3d43d13f-a070-4d0e-9651-c7937622d3a6",
   "metadata": {},
   "outputs": [
    {
     "name": "stdout",
     "output_type": "stream",
     "text": [
      "SampleSubmission (1).csv\n",
      "orders.csv\n",
      "test_customers.csv\n",
      "test_full.csv\n",
      "test_locations.csv\n",
      "train_customers.csv\n",
      "train_full.csv\n",
      "train_locations.csv\n",
      "vendors.csv\n"
     ]
    }
   ],
   "source": [
    "%%bash \n",
    "cd /anvil/projects/tdm/data/restaurant/\n",
    "ls /anvil/projects/tdm/data/restaurant/ | awk '/\\.csv$/'"
   ]
  },
  {
   "cell_type": "code",
   "execution_count": 20,
   "id": "831281f9-a64d-491b-8345-2a865eb24c75",
   "metadata": {},
   "outputs": [],
   "source": [
    "#printing the second column of the first five lines of tracks.csv "
   ]
  },
  {
   "cell_type": "code",
   "execution_count": 27,
   "id": "db33765c-0a26-4248-a33d-64c368454738",
   "metadata": {},
   "outputs": [
    {
     "name": "stdout",
     "output_type": "stream",
     "text": [
      "\n",
      "\n",
      "\n",
      "\n",
      "\n"
     ]
    }
   ],
   "source": [
    "%%bash\n",
    "cd /anvil/projects/tdm/data/amazon/\n",
    "cat /anvil/projects/tdm/data/amazon/tracks.csv | awk -F\",\" '{print $2}' | head -n 5"
   ]
  },
  {
   "cell_type": "markdown",
   "id": "b456e57c-4a12-464b-999a-ef2df5af80c1",
   "metadata": {},
   "source": [
    "1.4) The default field separator when using the awk command is simply whitespace. If we want to use a different delimiter we can use the -F command with a specific delimiter such as -F\",\" to use commas as a delimiter. "
   ]
  },
  {
   "cell_type": "markdown",
   "id": "fc601975-35ed-4680-a4e1-0273ee3cc047",
   "metadata": {},
   "source": [
    "## Question 2"
   ]
  },
  {
   "cell_type": "code",
   "execution_count": 28,
   "id": "a16336a1-1ef0-41e8-bc7c-49387db27497",
   "metadata": {},
   "outputs": [],
   "source": [
    "#finding the total item count sold in orders.csv "
   ]
  },
  {
   "cell_type": "code",
   "execution_count": 30,
   "id": "9262b282-37a3-4284-b213-3cec6a0b166a",
   "metadata": {},
   "outputs": [
    {
     "name": "stdout",
     "output_type": "stream",
     "text": [
      "akeed_order_id,customer_id,item_count,grand_total,payment_mode,promo_code,vendor_discount_amount,promo_code_discount_percentage,is_favorite,is_rated,vendor_rating,driver_rating,deliverydistance,preparationtime,delivery_time,order_accepted_time,driver_accepted_time,ready_for_pickup_time,picked_up_time,delivered_time,delivery_date,vendor_id,created_at,LOCATION_NUMBER,LOCATION_TYPE,CID X LOC_NUM X VENDOR\n",
      "163238.0,92PEE24,1.0,7.6,2,,0.0,,,No,,0.0,0.0,,,,,,,,2019-07-31 05:30:00,105,2019-08-01 05:30:16,0,,92PEE24 X 0 X 105\n",
      "163240.0,QS68UD8,1.0,8.7,1,,0.0,,,No,,0.0,0.0,,,,,,,,2019-07-31 05:30:00,294,2019-08-01 05:31:10,0,Work,QS68UD8 X 0 X 294\n",
      "163241.0,MB7VY5F,2.0,14.4,1,,0.0,,,No,,0.0,0.0,,,,,,,,2019-07-31 05:30:00,83,2019-08-01 05:31:33,0,,MB7VY5F X 0 X 83\n",
      "163244.0,KDJ951Y,1.0,7.1,1,,0.0,,,No,,0.0,0.0,,2019-08-01 04:03:00,,,,,,2019-07-31 05:30:00,90,2019-08-01 05:34:54,0,Home,KDJ951Y X 0 X 90\n",
      "163245.0,BAL0RVT,4.0,27.2,1,,0.0,,,No,,0.0,0.0,,,,,,,,2019-07-31 05:30:00,83,2019-08-01 05:35:51,0,Work,BAL0RVT X 0 X 83\n",
      "163246.0,U263OCD,3.0,18.2,2,,0.0,,,No,,0.0,0.0,,,,,,,,2019-07-31 05:30:00,83,2019-08-01 05:37:05,0,Work,U263OCD X 0 X 83\n",
      "163247.0,I9DNSMJ,2.0,14.4,1,,0.0,,,No,,0.0,0.0,,,,,,,,2019-07-31 05:30:00,105,2019-08-01 05:37:17,0,Work,I9DNSMJ X 0 X 105\n",
      "163248.0,I9DNSMJ,2.0,14.4,1,,0.0,,,No,,0.0,0.0,,,,,,,,2019-07-31 05:30:00,105,2019-08-01 05:37:23,0,Work,I9DNSMJ X 0 X 105\n",
      "163250.0,QYXXJCF,2.0,9.2,1,,0.0,,,No,,0.0,0.0,,,,,,,,2019-07-31 05:30:00,78,2019-08-01 05:38:12,0,Other,QYXXJCF X 0 X 78\n"
     ]
    }
   ],
   "source": [
    "%%bash \n",
    "cd /anvil/projects/tdm/data/restaurant/\n",
    "head /anvil/projects/tdm/data/restaurant/orders.csv"
   ]
  },
  {
   "cell_type": "code",
   "execution_count": 37,
   "id": "d53eb67f-1fad-4250-86f7-1a902b76478c",
   "metadata": {},
   "outputs": [
    {
     "name": "stdout",
     "output_type": "stream",
     "text": [
      "The total items sold is: 308801\n"
     ]
    }
   ],
   "source": [
    "%%bash \n",
    "cd /anvil/projects/tdm/data/restaurant/\n",
    "cat /anvil/projects/tdm/data/restaurant/orders.csv | awk -F\",\" 'BEGIN{count=0} {count+=$3} END{print \"The total items sold is: \" count}'"
   ]
  },
  {
   "cell_type": "code",
   "execution_count": 38,
   "id": "003509ed-c837-4b00-bf72-7a643d6d6b85",
   "metadata": {},
   "outputs": [],
   "source": [
    "#Finding the total revenue in orders.csv"
   ]
  },
  {
   "cell_type": "code",
   "execution_count": 41,
   "id": "23326885-7605-41aa-ad06-880068002cda",
   "metadata": {},
   "outputs": [
    {
     "name": "stdout",
     "output_type": "stream",
     "text": [
      "The total revenue is: 2.07822e+06\n"
     ]
    }
   ],
   "source": [
    "%%bash \n",
    "cd /anvil/projects/tdm/data/restaurant/\n",
    "cat /anvil/projects/tdm/data/restaurant/orders.csv | awk -F\",\" 'BEGIN{revenue=0} {if ($7 == 0.0) {revenue+=$4}} END{print \"The total revenue is: \" revenue}'"
   ]
  },
  {
   "cell_type": "code",
   "execution_count": 42,
   "id": "20b8a51a-65bd-452d-b4e7-d35e5715eadc",
   "metadata": {},
   "outputs": [],
   "source": [
    "#modifying the print component to not use scientific notation"
   ]
  },
  {
   "cell_type": "code",
   "execution_count": 46,
   "id": "19b401e4-79d8-4e46-9c90-0113726bf3ee",
   "metadata": {},
   "outputs": [
    {
     "name": "stdout",
     "output_type": "stream",
     "text": [
      "The total revenue is: 2078216.30\n"
     ]
    }
   ],
   "source": [
    "%%bash \n",
    "cd /anvil/projects/tdm/data/restaurant/\n",
    "cat /anvil/projects/tdm/data/restaurant/orders.csv | awk -F\",\" 'BEGIN{revenue=0} {if ($7 == 0.0) {revenue+=$4}} END{printf \"The total revenue is: \" \"%.2f\\n\", revenue}'"
   ]
  },
  {
   "cell_type": "code",
   "execution_count": 47,
   "id": "28db3324-0154-4460-bf3a-f3a8d9fa1156",
   "metadata": {},
   "outputs": [],
   "source": [
    "#Finding the total count of all orders greater than $100"
   ]
  },
  {
   "cell_type": "code",
   "execution_count": 49,
   "id": "958e1ddc-d713-49bf-b737-933eed9e9af7",
   "metadata": {},
   "outputs": [
    {
     "name": "stdout",
     "output_type": "stream",
     "text": [
      "The # of orders over $100 is: 226\n"
     ]
    }
   ],
   "source": [
    "%%bash \n",
    "cd /anvil/projects/tdm/data/restaurant/\n",
    "cat /anvil/projects/tdm/data/restaurant/orders.csv | awk -F\",\" 'BEGIN{count=0} {if ($4 > 100.0) {count+=1}} END{print \"The # of orders over $100 is: \" count}'"
   ]
  },
  {
   "cell_type": "code",
   "execution_count": 50,
   "id": "fc56a171-92eb-4b37-bc91-7dd9bee26c49",
   "metadata": {},
   "outputs": [],
   "source": [
    "#Finding the most frequently ordered customer"
   ]
  },
  {
   "cell_type": "code",
   "execution_count": 54,
   "id": "3438a31d-9ced-4eb3-943d-46ddc7fa4932",
   "metadata": {},
   "outputs": [
    {
     "name": "stdout",
     "output_type": "stream",
     "text": [
      "    107 HX76ORD\n",
      "    109 BUIAFFT\n",
      "    113 TVSPG2H\n",
      "    114 KXXRD9J\n",
      "    115 2JJAO46\n",
      "    119 B28LJKM\n",
      "    128 HJFTTGW\n",
      "    146 VDEJEMP\n",
      "    151 TL7Z2DM\n",
      "    262 XW90EAP\n"
     ]
    }
   ],
   "source": [
    "%%bash \n",
    "cd /anvil/projects/tdm/data/restaurant/\n",
    "cat /anvil/projects/tdm/data/restaurant/orders.csv | awk -F\",\" '{print $2}' | sort | uniq -c | sort -n | tail"
   ]
  },
  {
   "cell_type": "code",
   "execution_count": 55,
   "id": "365e2942-8f8b-402e-8ed5-b955978ed8f3",
   "metadata": {},
   "outputs": [],
   "source": [
    "#Finding the total amount of money the customer spent"
   ]
  },
  {
   "cell_type": "code",
   "execution_count": 56,
   "id": "232f1b4a-98a3-4bfe-852c-121cdabe5cfe",
   "metadata": {},
   "outputs": [
    {
     "name": "stdout",
     "output_type": "stream",
     "text": [
      "The customer spent: 3830.60\n"
     ]
    }
   ],
   "source": [
    "%%bash \n",
    "cd /anvil/projects/tdm/data/restaurant/\n",
    "cat /anvil/projects/tdm/data/restaurant/orders.csv | awk -F\",\" 'BEGIN{total=0} {if ($2 == \"XW90EAP\") {total+=$4}} END{printf \"The customer spent: \" \"%.2f\\n\", total}'"
   ]
  },
  {
   "cell_type": "markdown",
   "id": "14dc22d4-ddc3-41cc-a91a-cb0025bc0c80",
   "metadata": {},
   "source": [
    "2.6) The customer with the most orders is customer **XW90EAP** \\\n",
    "2.7) This customer spent **$3830.60**"
   ]
  },
  {
   "cell_type": "markdown",
   "id": "8e586edd-ff26-4ce2-8f6b-2424b26f2929",
   "metadata": {},
   "source": [
    "## Question 3"
   ]
  },
  {
   "cell_type": "code",
   "execution_count": 57,
   "id": "bbe0f40d-9655-4653-9ca8-886bdb61cb91",
   "metadata": {},
   "outputs": [],
   "source": [
    "# finding the total number of orders for each gender group"
   ]
  },
  {
   "cell_type": "code",
   "execution_count": 60,
   "id": "56297823-f790-4d61-8951-06f0e866d204",
   "metadata": {},
   "outputs": [
    {
     "name": "stdout",
     "output_type": "stream",
     "text": [
      " 520000\n",
      "Male 1062300\n",
      "Female 89700\n"
     ]
    }
   ],
   "source": [
    "%%bash\n",
    "cd /anvil/projects/tdm/data/restaurant/\n",
    "awk -F\",\" 'NR > 1 {count[$2]++} END {for (g in count) print g, count[g]}' /anvil/projects/tdm/data/restaurant/test_full.csv"
   ]
  },
  {
   "cell_type": "code",
   "execution_count": 61,
   "id": "cbb7fff2-f4a9-4fa3-8664-f57236f82a31",
   "metadata": {},
   "outputs": [],
   "source": [
    "# finding how many orders were placed at a customer's favorite restaurant"
   ]
  },
  {
   "cell_type": "code",
   "execution_count": 69,
   "id": "a01dca0e-f157-4491-b3c0-bf944f5561ed",
   "metadata": {},
   "outputs": [
    {
     "name": "stdout",
     "output_type": "stream",
     "text": [
      "100108\n"
     ]
    }
   ],
   "source": [
    "%%bash\n",
    "cd /anvil/projects/tdm/data/restaurant/\n",
    "awk -F\",\" 'NR > 1 {if ($9) {count++}} END {print count}' /anvil/projects/tdm/data/restaurant/orders.csv"
   ]
  },
  {
   "cell_type": "code",
   "execution_count": 70,
   "id": "fddce0e3-12b8-4124-b38f-86c19cfa0141",
   "metadata": {},
   "outputs": [],
   "source": [
    "#finding which vendor was marked as a favorite by the most number of customers"
   ]
  },
  {
   "cell_type": "code",
   "execution_count": 15,
   "id": "d277e280-2c1a-4b9a-aed3-113016917dcc",
   "metadata": {},
   "outputs": [
    {
     "name": "stdout",
     "output_type": "stream",
     "text": [
      "   1578 Vendor: 191\n",
      "   1622 Vendor: 356\n",
      "   1928 Vendor: 189\n",
      "   2559 Vendor: 846\n",
      "   2833 Vendor: 86\n",
      "   3280 Vendor: 386\n",
      "   4480 Vendor: 105\n",
      "   4961 Vendor: 84\n",
      "   5006 Vendor: 113\n",
      "   5093 Vendor: 79\n"
     ]
    }
   ],
   "source": [
    "%%bash \n",
    "cd /anvil/projects/tdm/data/restaurant/\n",
    "cat /anvil/projects/tdm/data/restaurant/orders.csv | awk -F\",\" '{if ($9) print \"Vendor: \" $22}' | sort | uniq -c | sort -n | tail"
   ]
  },
  {
   "cell_type": "markdown",
   "id": "47c6229f-35f7-400c-8366-c442baa5cf47",
   "metadata": {},
   "source": [
    "3.3) **100108** orders were placed from a customer's favorite vendor. \\\n",
    "3.4) The vendor marked favorite by the most customers is **vendor id 79** with 5093 customers."
   ]
  },
  {
   "cell_type": "markdown",
   "id": "da22f29c-d245-4d2b-9fc1-ca14cb6087d9",
   "metadata": {},
   "source": [
    "## Question 4"
   ]
  },
  {
   "cell_type": "code",
   "execution_count": 76,
   "id": "8cffc767-d1c8-4d64-b7dc-f0d2ee8a80d1",
   "metadata": {},
   "outputs": [],
   "source": [
    "# finding which vendor has the highest rating ordered from by gender"
   ]
  },
  {
   "cell_type": "code",
   "execution_count": 78,
   "id": "738a97ef-0cae-4cb6-b24a-7d03af7ea630",
   "metadata": {},
   "outputs": [
    {
     "name": "stdout",
     "output_type": "stream",
     "text": [
      "customer_id,gender,status_x,verified_x,created_at_x,updated_at_x,location_number,location_type,latitude_x,longitude_x,id,authentication_id,latitude_y,longitude_y,vendor_category_en,vendor_category_id,delivery_charge,serving_distance,is_open,OpeningTime,OpeningTime2,prepration_time,commission,is_akeed_delivering,discount_percentage,status_y,verified_y,rank,language,vendor_rating,sunday_from_time1,sunday_to_time1,sunday_from_time2,sunday_to_time2,monday_from_time1,monday_to_time1,monday_from_time2,monday_to_time2,tuesday_from_time1,tuesday_to_time1,tuesday_from_time2,tuesday_to_time2,wednesday_from_time1,wednesday_to_time1,wednesday_from_time2,wednesday_to_time2,thursday_from_time1,thursday_to_time1,thursday_from_time2,thursday_to_time2,friday_from_time1,friday_to_time1,friday_from_time2,friday_to_time2,saturday_from_time1,saturday_to_time1,saturday_from_time2,saturday_to_time2,primary_tags,open_close_flags,vendor_tag,vendor_tag_name,one_click_vendor,country_id,city_id,created_at_y,updated_at_y,device_type,display_orders,location_number_obj,id_obj,CID X LOC_NUM X VENDOR\n"
     ]
    }
   ],
   "source": [
    "%%bash \n",
    "head -n 1 /anvil/projects/tdm/data/restaurant/test_full.csv"
   ]
  },
  {
   "cell_type": "code",
   "execution_count": 96,
   "id": "50dd1f18-57ed-4b88-a614-6ac158729235",
   "metadata": {},
   "outputs": [
    {
     "name": "stdout",
     "output_type": "stream",
     "text": [
      " 4.8\n",
      "Male 4.8\n",
      "Female 4.8\n"
     ]
    }
   ],
   "source": [
    "%%bash\n",
    "cd /anvil/projects/tdm/data/restaurant/\n",
    "awk -F\",\" 'NR > 1 {gender = $2; if ($30 > max[gender]) {max[gender] = $30}} END {for (g in max) {print g, max[g]}}' test_full.csv"
   ]
  },
  {
   "cell_type": "code",
   "execution_count": 95,
   "id": "06f09e1b-0798-404c-b7eb-956270f1b8ca",
   "metadata": {},
   "outputs": [],
   "source": [
    "#finding the average vendor rating by gender"
   ]
  },
  {
   "cell_type": "code",
   "execution_count": 109,
   "id": "15d0cdcb-8be6-451a-9561-ffd0487ec5c5",
   "metadata": {},
   "outputs": [
    {
     "name": "stdout",
     "output_type": "stream",
     "text": [
      " 4.01\n",
      "Male 4.35\n",
      "Female 4.35\n"
     ]
    }
   ],
   "source": [
    "%%bash\n",
    "cd /anvil/projects/tdm/data/restaurant/\n",
    "awk -F\",\" 'NR > 1 {gender = $2; rating=$30; sum[gender] += rating; count[gender]++;} END {for (g in sum) { avg = sum[g] / count[g];  printf \"%s %.2f\\n\", g, avg}}' test_full.csv"
   ]
  },
  {
   "cell_type": "code",
   "execution_count": 1,
   "id": "4fd1caa9-81be-4586-9911-8ba9615a9acd",
   "metadata": {},
   "outputs": [],
   "source": [
    "#finding which vendor offered the most discounts"
   ]
  },
  {
   "cell_type": "code",
   "execution_count": 17,
   "id": "409dacb3-e54e-45bc-bece-59f567b8a23f",
   "metadata": {},
   "outputs": [
    {
     "name": "stdout",
     "output_type": "stream",
     "text": [
      "      1 Vendor: 66\n",
      "      1 Vendor: vendor_id\n",
      "     13 Vendor: 85\n",
      "    183 Vendor: 148\n"
     ]
    }
   ],
   "source": [
    "%%bash \n",
    "cd /anvil/projects/tdm/data/restaurant/\n",
    "cat /anvil/projects/tdm/data/restaurant/orders.csv | awk -F\",\" '{if ($7 >0) print \"Vendor: \" $22}' | sort | uniq -c | sort -n | tail"
   ]
  },
  {
   "cell_type": "code",
   "execution_count": 27,
   "id": "debd9372-1580-4e7e-9dd9-62d747924e40",
   "metadata": {},
   "outputs": [],
   "source": [
    "#finding the total number of orders for vendor 148"
   ]
  },
  {
   "cell_type": "code",
   "execution_count": 26,
   "id": "de49e9ff-7d7c-41dc-85c5-25db31099f64",
   "metadata": {},
   "outputs": [
    {
     "name": "stdout",
     "output_type": "stream",
     "text": [
      "1078\n"
     ]
    }
   ],
   "source": [
    "%%bash \n",
    "cd /anvil/projects/tdm/data/restaurant/\n",
    "cat /anvil/projects/tdm/data/restaurant/orders.csv | awk -F\",\" 'BEGIN{total=0} {if ($22 == \"148\") {total++}} END{print total}'"
   ]
  },
  {
   "cell_type": "code",
   "execution_count": 28,
   "id": "f4bdcb40-babd-40c7-a82e-e8f20cdefb78",
   "metadata": {},
   "outputs": [],
   "source": [
    " #finding the percentage with a discount for vendor 148"
   ]
  },
  {
   "cell_type": "code",
   "execution_count": 34,
   "id": "fb917985-786f-4757-a1d3-ae6470aedfde",
   "metadata": {},
   "outputs": [
    {
     "name": "stdout",
     "output_type": "stream",
     "text": [
      "16.98\n"
     ]
    }
   ],
   "source": [
    "%%bash \n",
    "cd /anvil/projects/tdm/data/restaurant/\n",
    "cat /anvil/projects/tdm/data/restaurant/orders.csv | awk -F\",\" 'BEGIN{total=0} {if ($22 == \"148\" && $7 >0) {total++}} END{printf \"%.2f\\n\", total / 1078 * 100}'"
   ]
  },
  {
   "cell_type": "code",
   "execution_count": 35,
   "id": "7c040828-4846-4344-af15-4c35317c9c1b",
   "metadata": {},
   "outputs": [],
   "source": [
    "#Finding the vendor that had the most orders delivered to work"
   ]
  },
  {
   "cell_type": "code",
   "execution_count": 7,
   "id": "64dc247e-d7a1-4c86-98f7-31778ecd752b",
   "metadata": {},
   "outputs": [
    {
     "name": "stdout",
     "output_type": "stream",
     "text": [
      "237 989\n"
     ]
    }
   ],
   "source": [
    "%%bash \n",
    "cd /anvil/projects/tdm/data/restaurant/\n",
    "awk -F\",\" 'NR > 1 {if ($25== \"Work\") {count[$22]++}} END{max = 0; for(v in count){if(count[v]>max) max=count[v]; vendor=v;} print vendor, max}' /anvil/projects/tdm/data/restaurant/orders.csv"
   ]
  },
  {
   "cell_type": "markdown",
   "id": "0d552245-b4d6-474a-9cc9-fa7b8e674d55",
   "metadata": {},
   "source": [
    "4.2) The highest rating for a vendor by gender is: male: 4.8 and female: 4.8  \\\n",
    "4.3) The average rating for each vendor by gender is: male: 4.35 and female: 4.35\\\n",
    "4.4) Vendor ID 148 offered the most discounts \\\n",
    "4.5) Vendor 148 received 1078 orders and only 16.98 % had discounts \\\n",
    "4.6) Vendor 237 had the most orders delivered to the location_type \"work\""
   ]
  },
  {
   "cell_type": "markdown",
   "id": "88c9cdac-3e92-498f-83fa-e089bfc44ac8",
   "metadata": {},
   "source": [
    "## Question 5"
   ]
  },
  {
   "cell_type": "code",
   "execution_count": 12,
   "id": "d370d7c9-06db-42b9-b75f-240481a5c491",
   "metadata": {},
   "outputs": [],
   "source": [
    "#viewing the head of train_locations.csv"
   ]
  },
  {
   "cell_type": "code",
   "execution_count": 14,
   "id": "bcb844e0-952a-4953-af5a-cb9abb6d62af",
   "metadata": {},
   "outputs": [
    {
     "name": "stdout",
     "output_type": "stream",
     "text": [
      "customer_id,location_number,location_type,latitude,longitude\n",
      "02SFNJH,0,NA,1.6823915384615757,-78.7897371818186\n",
      "02SFNJH,1,NA,1.6791365450962032,0.7668233053886399\n",
      "02SFNJH,2,NA,-0.4986483973653315,0.6612414365454651\n",
      "RU43CXC,0,Home,0.10085325202709132,0.43816546553915037\n",
      "BDFBPRD,0,NA,2.523125243914389,0.7334637242284848\n",
      "WMGKW6W,0,NA,12.66341321723571,-1.429919200187407\n",
      "NDYLK9A,0,NA,-0.20327980769232123,-78.56688511363677\n",
      "NDYLK9A,1,NA,-0.20437114344229615,0.43559274875681514\n",
      "PB2B28D,0,Home,2.5756051968780787,0.7082701813272576\n"
     ]
    }
   ],
   "source": [
    "%%bash \n",
    "head -n 10 /anvil/projects/tdm/data/restaurant/train_locations.csv"
   ]
  },
  {
   "cell_type": "code",
   "execution_count": null,
   "id": "50a3ac44-52ad-448c-9399-12a32e93860d",
   "metadata": {},
   "outputs": [],
   "source": [
    "# calculating the top 5 customers and recreating the formatted output"
   ]
  },
  {
   "cell_type": "code",
   "execution_count": 21,
   "id": "37f9aa65-de01-47ef-9ca1-55d3757b5ec2",
   "metadata": {},
   "outputs": [
    {
     "name": "stdout",
     "output_type": "stream",
     "text": [
      "**************************************************\n",
      "*              Our Best Customers                *\n",
      "**************************************************\n",
      "30 4Y0K8NQ\n",
      "26 NETYQ1C\n",
      "20 5EP9F62\n",
      "19 4UZKXW2\n",
      "19 YYKZN0F\n"
     ]
    }
   ],
   "source": [
    "%%bash\n",
    "cd /anvil/projects/tdm/data/restaurant/\n",
    "awk -F, 'NR > 1 {count[$1]++; total++} END {for (c in count) print count[c], c; print \"TOTAL: \", total}' train_locations.csv | sort -k1,1nr | awk 'BEGIN { print \"**************************************************\"; print \"*              Our Best Customers                *\"; print \"**************************************************\"}$1 != \"TOTAL\" && NR <= 5 { printf \"%-2s %s\\n\", $1, $2 }$1 == \"TOTAL\" {print \"**************************************************\"; printf \"* Total lines processed: %-23s *\\n\", $2; print \"**************************************************\"}'"
   ]
  },
  {
   "cell_type": "markdown",
   "id": "f76442d6-d02e-4f26-b9d6-c3183e1d6929",
   "metadata": {},
   "source": [
    "## Pledge\n",
    "\n",
    "By submitting this work I hereby pledge that this is my own, personal work. I've acknowledged in the designated place at the top of this file all sources that I used to complete said work, including but not limited to: online resources, books, and electronic communications. I've noted all collaboration with fellow students and/or TA's. I did not copy or plagiarize another's work.\n",
    "\n",
    "> As a Boilermaker pursuing academic excellence, I pledge to be honest and true in all that I do. Accountable together – We are Purdue."
   ]
  }
 ],
 "metadata": {
  "kernelspec": {
   "display_name": "seminar",
   "language": "python",
   "name": "python3"
  },
  "language_info": {
   "codemirror_mode": {
    "name": "ipython",
    "version": 3
   },
   "file_extension": ".py",
   "mimetype": "text/x-python",
   "name": "python",
   "nbconvert_exporter": "python",
   "pygments_lexer": "ipython3",
   "version": "3.12.11"
  }
 },
 "nbformat": 4,
 "nbformat_minor": 5
}
