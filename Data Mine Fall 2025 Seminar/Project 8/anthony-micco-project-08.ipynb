{
 "cells": [
  {
   "cell_type": "markdown",
   "id": "be02a957-7133-4d02-818e-fedeb3cecb05",
   "metadata": {},
   "source": [
    "# Project 08 -- Anthony Micco"
   ]
  },
  {
   "cell_type": "markdown",
   "id": "a1228853-dd19-4ab2-89e0-0394d7d72de3",
   "metadata": {},
   "source": [
    "**TA Help:** N/A\n",
    "\n",
    "**Collaboration:** N/A\n",
    "\n",
    "**Internet Resources:** N/A\n",
    "\n",
    "**ChatGPT, Gemini, Claude, etc:** None\n",
    "\n",
    "***Link to AI Chat History***: N/A \\\n",
    "**OVERALL MESSAGE:** Any time that you used anything except your brain to solve the questions in these projects, you need to disclose such resources at the start of the project, with details about your usage of the tools.\n",
    "\n",
    "**YOUR OWN WORK:** Even when you utilize other resources, do NOT just copy and paste.  Write all explanations in your own words, using several sentences in English, which are understandable and which you wrote (and did not just copy and paste)."
   ]
  },
  {
   "cell_type": "markdown",
   "id": "6180e742-8e39-4698-98ff-5b00c8cf8ea0",
   "metadata": {},
   "source": [
    "## Question 1"
   ]
  },
  {
   "cell_type": "code",
   "execution_count": 4,
   "id": "49445606-d363-41b4-b479-e319a9a84c01",
   "metadata": {},
   "outputs": [],
   "source": [
    "# copying the Lahman database to my local folder by using the python sqlite3 library"
   ]
  },
  {
   "cell_type": "code",
   "execution_count": 5,
   "id": "b8446a54-94ca-431b-b263-f94ce311fd4d",
   "metadata": {},
   "outputs": [],
   "source": [
    "import sqlite3\n",
    "\n",
    "# Load the Lahman database\n",
    "read_only_lahman = sqlite3.connect('/anvil/projects/tdm/data/lahman/lahman.db')\n",
    "local_lahman = sqlite3.connect('./lahman.db')\n",
    "\n",
    "read_only_lahman.backup(local_lahman) # Backup the database to your local file\n",
    "read_only_lahman.close()\n",
    "local_lahman.close()"
   ]
  },
  {
   "cell_type": "code",
   "execution_count": 6,
   "id": "b8ea6a64-c253-43b6-a4c5-5f93232d4132",
   "metadata": {},
   "outputs": [],
   "source": [
    "#connecting to the Lahman database"
   ]
  },
  {
   "cell_type": "code",
   "execution_count": 7,
   "id": "e94d51f8-1d79-41ed-8db9-3d243effbf2e",
   "metadata": {},
   "outputs": [],
   "source": [
    "%sql sqlite:///./lahman.db"
   ]
  },
  {
   "cell_type": "code",
   "execution_count": 8,
   "id": "bc0c8d20-0c6d-4101-a107-c7aa03cbb2a6",
   "metadata": {},
   "outputs": [
    {
     "name": "stdout",
     "output_type": "stream",
     "text": [
      " * sqlite:///./lahman.db\n",
      "Done.\n"
     ]
    },
    {
     "data": {
      "text/html": [
       "<table>\n",
       "    <thead>\n",
       "        <tr>\n",
       "            <th>yearID</th>\n",
       "            <th>lgID</th>\n",
       "            <th>teamID</th>\n",
       "            <th>franchID</th>\n",
       "            <th>divID</th>\n",
       "            <th>teamRank</th>\n",
       "            <th>G</th>\n",
       "            <th>Ghome</th>\n",
       "            <th>W</th>\n",
       "            <th>L</th>\n",
       "            <th>DivWin</th>\n",
       "            <th>WCWin</th>\n",
       "            <th>LgWin</th>\n",
       "            <th>WSWin</th>\n",
       "            <th>R</th>\n",
       "            <th>AB</th>\n",
       "            <th>H</th>\n",
       "            <th>2B</th>\n",
       "            <th>3B</th>\n",
       "            <th>HR</th>\n",
       "            <th>BB</th>\n",
       "            <th>SO</th>\n",
       "            <th>SB</th>\n",
       "            <th>CS</th>\n",
       "            <th>HBP</th>\n",
       "            <th>SF</th>\n",
       "            <th>RA</th>\n",
       "            <th>ER</th>\n",
       "            <th>ERA</th>\n",
       "            <th>CG</th>\n",
       "            <th>SHO</th>\n",
       "            <th>SV</th>\n",
       "            <th>IPouts</th>\n",
       "            <th>HA</th>\n",
       "            <th>HRA</th>\n",
       "            <th>BBA</th>\n",
       "            <th>SOA</th>\n",
       "            <th>E</th>\n",
       "            <th>DP</th>\n",
       "            <th>FP</th>\n",
       "            <th>name</th>\n",
       "            <th>park</th>\n",
       "            <th>attendance</th>\n",
       "            <th>BPF</th>\n",
       "            <th>PPF</th>\n",
       "            <th>teamIDBR</th>\n",
       "            <th>teamIDlahman45</th>\n",
       "            <th>teamIDretro</th>\n",
       "        </tr>\n",
       "    </thead>\n",
       "    <tbody>\n",
       "        <tr>\n",
       "            <td>1871</td>\n",
       "            <td>NA</td>\n",
       "            <td>BS1</td>\n",
       "            <td>BNA</td>\n",
       "            <td></td>\n",
       "            <td>3</td>\n",
       "            <td>31</td>\n",
       "            <td></td>\n",
       "            <td>20</td>\n",
       "            <td>10</td>\n",
       "            <td></td>\n",
       "            <td></td>\n",
       "            <td>N</td>\n",
       "            <td></td>\n",
       "            <td>401</td>\n",
       "            <td>1372</td>\n",
       "            <td>426</td>\n",
       "            <td>70</td>\n",
       "            <td>37</td>\n",
       "            <td>3</td>\n",
       "            <td>60</td>\n",
       "            <td>19</td>\n",
       "            <td>73</td>\n",
       "            <td>16</td>\n",
       "            <td></td>\n",
       "            <td></td>\n",
       "            <td>303</td>\n",
       "            <td>109</td>\n",
       "            <td>3.55</td>\n",
       "            <td>22</td>\n",
       "            <td>1</td>\n",
       "            <td>3</td>\n",
       "            <td>828</td>\n",
       "            <td>367</td>\n",
       "            <td>2</td>\n",
       "            <td>42</td>\n",
       "            <td>23</td>\n",
       "            <td>243</td>\n",
       "            <td>24</td>\n",
       "            <td>0.834</td>\n",
       "            <td>Boston Red Stockings</td>\n",
       "            <td>South End Grounds I</td>\n",
       "            <td></td>\n",
       "            <td>103</td>\n",
       "            <td>98</td>\n",
       "            <td>BOS</td>\n",
       "            <td>BS1</td>\n",
       "            <td>BS1</td>\n",
       "        </tr>\n",
       "        <tr>\n",
       "            <td>1871</td>\n",
       "            <td>NA</td>\n",
       "            <td>CH1</td>\n",
       "            <td>CNA</td>\n",
       "            <td></td>\n",
       "            <td>2</td>\n",
       "            <td>28</td>\n",
       "            <td></td>\n",
       "            <td>19</td>\n",
       "            <td>9</td>\n",
       "            <td></td>\n",
       "            <td></td>\n",
       "            <td>N</td>\n",
       "            <td></td>\n",
       "            <td>302</td>\n",
       "            <td>1196</td>\n",
       "            <td>323</td>\n",
       "            <td>52</td>\n",
       "            <td>21</td>\n",
       "            <td>10</td>\n",
       "            <td>60</td>\n",
       "            <td>22</td>\n",
       "            <td>69</td>\n",
       "            <td>21</td>\n",
       "            <td></td>\n",
       "            <td></td>\n",
       "            <td>241</td>\n",
       "            <td>77</td>\n",
       "            <td>2.76</td>\n",
       "            <td>25</td>\n",
       "            <td>0</td>\n",
       "            <td>1</td>\n",
       "            <td>753</td>\n",
       "            <td>308</td>\n",
       "            <td>6</td>\n",
       "            <td>28</td>\n",
       "            <td>22</td>\n",
       "            <td>229</td>\n",
       "            <td>16</td>\n",
       "            <td>0.829</td>\n",
       "            <td>Chicago White Stockings</td>\n",
       "            <td>Union Base-Ball Grounds</td>\n",
       "            <td></td>\n",
       "            <td>104</td>\n",
       "            <td>102</td>\n",
       "            <td>CHI</td>\n",
       "            <td>CH1</td>\n",
       "            <td>CH1</td>\n",
       "        </tr>\n",
       "        <tr>\n",
       "            <td>1871</td>\n",
       "            <td>NA</td>\n",
       "            <td>CL1</td>\n",
       "            <td>CFC</td>\n",
       "            <td></td>\n",
       "            <td>8</td>\n",
       "            <td>29</td>\n",
       "            <td></td>\n",
       "            <td>10</td>\n",
       "            <td>19</td>\n",
       "            <td></td>\n",
       "            <td></td>\n",
       "            <td>N</td>\n",
       "            <td></td>\n",
       "            <td>249</td>\n",
       "            <td>1186</td>\n",
       "            <td>328</td>\n",
       "            <td>35</td>\n",
       "            <td>40</td>\n",
       "            <td>7</td>\n",
       "            <td>26</td>\n",
       "            <td>25</td>\n",
       "            <td>18</td>\n",
       "            <td>8</td>\n",
       "            <td></td>\n",
       "            <td></td>\n",
       "            <td>341</td>\n",
       "            <td>116</td>\n",
       "            <td>4.11</td>\n",
       "            <td>23</td>\n",
       "            <td>0</td>\n",
       "            <td>0</td>\n",
       "            <td>762</td>\n",
       "            <td>346</td>\n",
       "            <td>13</td>\n",
       "            <td>53</td>\n",
       "            <td>34</td>\n",
       "            <td>234</td>\n",
       "            <td>15</td>\n",
       "            <td>0.818</td>\n",
       "            <td>Cleveland Forest Citys</td>\n",
       "            <td>National Association Grounds</td>\n",
       "            <td></td>\n",
       "            <td>96</td>\n",
       "            <td>100</td>\n",
       "            <td>CLE</td>\n",
       "            <td>CL1</td>\n",
       "            <td>CL1</td>\n",
       "        </tr>\n",
       "        <tr>\n",
       "            <td>1871</td>\n",
       "            <td>NA</td>\n",
       "            <td>FW1</td>\n",
       "            <td>KEK</td>\n",
       "            <td></td>\n",
       "            <td>7</td>\n",
       "            <td>19</td>\n",
       "            <td></td>\n",
       "            <td>7</td>\n",
       "            <td>12</td>\n",
       "            <td></td>\n",
       "            <td></td>\n",
       "            <td>N</td>\n",
       "            <td></td>\n",
       "            <td>137</td>\n",
       "            <td>746</td>\n",
       "            <td>178</td>\n",
       "            <td>19</td>\n",
       "            <td>8</td>\n",
       "            <td>2</td>\n",
       "            <td>33</td>\n",
       "            <td>9</td>\n",
       "            <td>16</td>\n",
       "            <td>4</td>\n",
       "            <td></td>\n",
       "            <td></td>\n",
       "            <td>243</td>\n",
       "            <td>97</td>\n",
       "            <td>5.17</td>\n",
       "            <td>19</td>\n",
       "            <td>1</td>\n",
       "            <td>0</td>\n",
       "            <td>507</td>\n",
       "            <td>261</td>\n",
       "            <td>5</td>\n",
       "            <td>21</td>\n",
       "            <td>17</td>\n",
       "            <td>163</td>\n",
       "            <td>8</td>\n",
       "            <td>0.803</td>\n",
       "            <td>Fort Wayne Kekiongas</td>\n",
       "            <td>Hamilton Field</td>\n",
       "            <td></td>\n",
       "            <td>101</td>\n",
       "            <td>107</td>\n",
       "            <td>KEK</td>\n",
       "            <td>FW1</td>\n",
       "            <td>FW1</td>\n",
       "        </tr>\n",
       "        <tr>\n",
       "            <td>1871</td>\n",
       "            <td>NA</td>\n",
       "            <td>NY2</td>\n",
       "            <td>NNA</td>\n",
       "            <td></td>\n",
       "            <td>5</td>\n",
       "            <td>33</td>\n",
       "            <td></td>\n",
       "            <td>16</td>\n",
       "            <td>17</td>\n",
       "            <td></td>\n",
       "            <td></td>\n",
       "            <td>N</td>\n",
       "            <td></td>\n",
       "            <td>302</td>\n",
       "            <td>1404</td>\n",
       "            <td>403</td>\n",
       "            <td>43</td>\n",
       "            <td>21</td>\n",
       "            <td>1</td>\n",
       "            <td>33</td>\n",
       "            <td>15</td>\n",
       "            <td>46</td>\n",
       "            <td>15</td>\n",
       "            <td></td>\n",
       "            <td></td>\n",
       "            <td>313</td>\n",
       "            <td>121</td>\n",
       "            <td>3.72</td>\n",
       "            <td>32</td>\n",
       "            <td>1</td>\n",
       "            <td>0</td>\n",
       "            <td>879</td>\n",
       "            <td>373</td>\n",
       "            <td>7</td>\n",
       "            <td>42</td>\n",
       "            <td>22</td>\n",
       "            <td>235</td>\n",
       "            <td>14</td>\n",
       "            <td>0.84</td>\n",
       "            <td>New York Mutuals</td>\n",
       "            <td>Union Grounds (Brooklyn)</td>\n",
       "            <td></td>\n",
       "            <td>90</td>\n",
       "            <td>88</td>\n",
       "            <td>NYU</td>\n",
       "            <td>NY2</td>\n",
       "            <td>NY2</td>\n",
       "        </tr>\n",
       "    </tbody>\n",
       "</table>"
      ],
      "text/plain": [
       "[(1871, 'NA', 'BS1', 'BNA', '', 3, 31, '', 20, 10, '', '', 'N', '', 401, 1372, 426, 70, 37, 3, 60, 19, 73, 16, '', '', 303, 109, 3.55, 22, 1, 3, 828, 367, 2, 42, 23, 243, 24, 0.834, 'Boston Red Stockings', 'South End Grounds I', '', 103, 98, 'BOS', 'BS1', 'BS1'),\n",
       " (1871, 'NA', 'CH1', 'CNA', '', 2, 28, '', 19, 9, '', '', 'N', '', 302, 1196, 323, 52, 21, 10, 60, 22, 69, 21, '', '', 241, 77, 2.76, 25, 0, 1, 753, 308, 6, 28, 22, 229, 16, 0.829, 'Chicago White Stockings', 'Union Base-Ball Grounds', '', 104, 102, 'CHI', 'CH1', 'CH1'),\n",
       " (1871, 'NA', 'CL1', 'CFC', '', 8, 29, '', 10, 19, '', '', 'N', '', 249, 1186, 328, 35, 40, 7, 26, 25, 18, 8, '', '', 341, 116, 4.11, 23, 0, 0, 762, 346, 13, 53, 34, 234, 15, 0.818, 'Cleveland Forest Citys', 'National Association Grounds', '', 96, 100, 'CLE', 'CL1', 'CL1'),\n",
       " (1871, 'NA', 'FW1', 'KEK', '', 7, 19, '', 7, 12, '', '', 'N', '', 137, 746, 178, 19, 8, 2, 33, 9, 16, 4, '', '', 243, 97, 5.17, 19, 1, 0, 507, 261, 5, 21, 17, 163, 8, 0.803, 'Fort Wayne Kekiongas', 'Hamilton Field', '', 101, 107, 'KEK', 'FW1', 'FW1'),\n",
       " (1871, 'NA', 'NY2', 'NNA', '', 5, 33, '', 16, 17, '', '', 'N', '', 302, 1404, 403, 43, 21, 1, 33, 15, 46, 15, '', '', 313, 121, 3.72, 32, 1, 0, 879, 373, 7, 42, 22, 235, 14, 0.84, 'New York Mutuals', 'Union Grounds (Brooklyn)', '', 90, 88, 'NYU', 'NY2', 'NY2')]"
      ]
     },
     "execution_count": 8,
     "metadata": {},
     "output_type": "execute_result"
    }
   ],
   "source": [
    "%%sql\n",
    "SELECT * FROM Teams LIMIT 5;"
   ]
  },
  {
   "cell_type": "code",
   "execution_count": 9,
   "id": "3208cc26-4a21-438c-a465-a6ae4820894e",
   "metadata": {},
   "outputs": [],
   "source": [
    "#practicing loading and connecting to a database using sqlite3 library with the chinook database"
   ]
  },
  {
   "cell_type": "code",
   "execution_count": 10,
   "id": "423f5f8b-2e4a-4e81-a21a-7edfdae40e73",
   "metadata": {},
   "outputs": [],
   "source": [
    "import sqlite3\n",
    "\n",
    "#load in the db\n",
    "chinook = sqlite3.connect('/anvil/projects/tdm/data/chinook/Chinook_Sqlite.sqlite')\n",
    "local_db = sqlite3.connect('./chinook.sqlite')\n",
    "\n",
    "chinook.backup(local_db)\n",
    "chinook.close()\n",
    "local_db.close()"
   ]
  },
  {
   "cell_type": "code",
   "execution_count": 11,
   "id": "72e3eef4-f968-4ec0-96ff-2e07f92c645e",
   "metadata": {},
   "outputs": [],
   "source": [
    "%sql sqlite:///./chinook.sqlite"
   ]
  },
  {
   "cell_type": "code",
   "execution_count": 12,
   "id": "18066d46-973c-41bb-b4c7-2fe0624bfbdb",
   "metadata": {},
   "outputs": [
    {
     "name": "stdout",
     "output_type": "stream",
     "text": [
      " * sqlite:///./chinook.sqlite\n",
      "   sqlite:///./lahman.db\n",
      "Done.\n"
     ]
    },
    {
     "data": {
      "text/html": [
       "<table>\n",
       "    <thead>\n",
       "        <tr>\n",
       "            <th>ArtistId</th>\n",
       "            <th>Name</th>\n",
       "        </tr>\n",
       "    </thead>\n",
       "    <tbody>\n",
       "        <tr>\n",
       "            <td>1</td>\n",
       "            <td>AC/DC</td>\n",
       "        </tr>\n",
       "        <tr>\n",
       "            <td>2</td>\n",
       "            <td>Accept</td>\n",
       "        </tr>\n",
       "        <tr>\n",
       "            <td>3</td>\n",
       "            <td>Aerosmith</td>\n",
       "        </tr>\n",
       "        <tr>\n",
       "            <td>4</td>\n",
       "            <td>Alanis Morissette</td>\n",
       "        </tr>\n",
       "        <tr>\n",
       "            <td>5</td>\n",
       "            <td>Alice In Chains</td>\n",
       "        </tr>\n",
       "    </tbody>\n",
       "</table>"
      ],
      "text/plain": [
       "[(1, 'AC/DC'),\n",
       " (2, 'Accept'),\n",
       " (3, 'Aerosmith'),\n",
       " (4, 'Alanis Morissette'),\n",
       " (5, 'Alice In Chains')]"
      ]
     },
     "execution_count": 12,
     "metadata": {},
     "output_type": "execute_result"
    }
   ],
   "source": [
    "%%sql\n",
    "SELECT * FROM Artist LIMIT 5"
   ]
  },
  {
   "cell_type": "markdown",
   "id": "fc601975-35ed-4680-a4e1-0273ee3cc047",
   "metadata": {},
   "source": [
    "## Question 2"
   ]
  },
  {
   "cell_type": "code",
   "execution_count": 13,
   "id": "a16336a1-1ef0-41e8-bc7c-49387db27497",
   "metadata": {},
   "outputs": [],
   "source": [
    "# connecting to my local lahman database"
   ]
  },
  {
   "cell_type": "code",
   "execution_count": 14,
   "id": "e6f0888e-b0e7-44d7-955e-23acbf6475b1",
   "metadata": {},
   "outputs": [],
   "source": [
    "%sql sqlite:///./lahman.db"
   ]
  },
  {
   "cell_type": "code",
   "execution_count": 15,
   "id": "9d2e4b31-77c5-4f9d-bc18-2e640a5c6c17",
   "metadata": {},
   "outputs": [],
   "source": [
    "#creating a new table called MyPlayers "
   ]
  },
  {
   "cell_type": "code",
   "execution_count": 16,
   "id": "3c3aa14a-ce25-442e-aa55-fe0daf04b0ce",
   "metadata": {},
   "outputs": [
    {
     "name": "stdout",
     "output_type": "stream",
     "text": [
      "   sqlite:///./chinook.sqlite\n",
      " * sqlite:///./lahman.db\n",
      "Done.\n"
     ]
    },
    {
     "data": {
      "text/plain": [
       "[]"
      ]
     },
     "execution_count": 16,
     "metadata": {},
     "output_type": "execute_result"
    }
   ],
   "source": [
    "%%sql\n",
    "CREATE TABLE MyPlayers (\n",
    "    playerID TEXT PRIMARY KEY,\n",
    "    name TEXT NOT NULL,\n",
    "    teamID TEXT NOT NULL\n",
    ")"
   ]
  },
  {
   "cell_type": "code",
   "execution_count": 17,
   "id": "a59985ef-8276-4a5e-a880-3563056bcfc7",
   "metadata": {},
   "outputs": [],
   "source": [
    "#inserting a player into the MyPlayers table and checking to see if it is there"
   ]
  },
  {
   "cell_type": "code",
   "execution_count": 18,
   "id": "cfd8607b-aad8-478c-bc6e-cf30019d5096",
   "metadata": {},
   "outputs": [
    {
     "name": "stdout",
     "output_type": "stream",
     "text": [
      "   sqlite:///./chinook.sqlite\n",
      " * sqlite:///./lahman.db\n",
      "1 rows affected.\n"
     ]
    },
    {
     "data": {
      "text/plain": [
       "[]"
      ]
     },
     "execution_count": 18,
     "metadata": {},
     "output_type": "execute_result"
    }
   ],
   "source": [
    "%%sql\n",
    "INSERT INTO MyPlayers(playerID, name, teamID) \n",
    "VALUES('player1', 'John Doe','team1')"
   ]
  },
  {
   "cell_type": "code",
   "execution_count": 19,
   "id": "3be34b46-784c-4734-b7bc-7fb18c3917b0",
   "metadata": {},
   "outputs": [
    {
     "name": "stdout",
     "output_type": "stream",
     "text": [
      "   sqlite:///./chinook.sqlite\n",
      " * sqlite:///./lahman.db\n",
      "Done.\n"
     ]
    },
    {
     "data": {
      "text/html": [
       "<table>\n",
       "    <thead>\n",
       "        <tr>\n",
       "            <th>playerID</th>\n",
       "            <th>name</th>\n",
       "            <th>teamID</th>\n",
       "        </tr>\n",
       "    </thead>\n",
       "    <tbody>\n",
       "        <tr>\n",
       "            <td>player1</td>\n",
       "            <td>John Doe</td>\n",
       "            <td>team1</td>\n",
       "        </tr>\n",
       "    </tbody>\n",
       "</table>"
      ],
      "text/plain": [
       "[('player1', 'John Doe', 'team1')]"
      ]
     },
     "execution_count": 19,
     "metadata": {},
     "output_type": "execute_result"
    }
   ],
   "source": [
    "%%sql\n",
    "SELECT * FROM MyPlayers"
   ]
  },
  {
   "cell_type": "code",
   "execution_count": 20,
   "id": "01273fba-9a79-447f-9fb1-5debdbd6a627",
   "metadata": {},
   "outputs": [],
   "source": [
    "#inserting multiple players into the table and checking to ensure they are there"
   ]
  },
  {
   "cell_type": "code",
   "execution_count": 21,
   "id": "b8a51880-0780-4066-87d1-64055b935356",
   "metadata": {},
   "outputs": [
    {
     "name": "stdout",
     "output_type": "stream",
     "text": [
      "   sqlite:///./chinook.sqlite\n",
      " * sqlite:///./lahman.db\n",
      "3 rows affected.\n"
     ]
    },
    {
     "data": {
      "text/plain": [
       "[]"
      ]
     },
     "execution_count": 21,
     "metadata": {},
     "output_type": "execute_result"
    }
   ],
   "source": [
    "%%sql\n",
    "INSERT INTO MyPlayers (playerID, name, teamID)\n",
    "VALUES\n",
    "('player2', 'Jane Smith', 'team1'),\n",
    "('player3', 'Bob Johnson', 'team2'),\n",
    "('player4', 'Alice Brown', 'team2');"
   ]
  },
  {
   "cell_type": "code",
   "execution_count": 22,
   "id": "63c8a732-08cf-472e-952c-4641c4f683f8",
   "metadata": {},
   "outputs": [
    {
     "name": "stdout",
     "output_type": "stream",
     "text": [
      "   sqlite:///./chinook.sqlite\n",
      " * sqlite:///./lahman.db\n",
      "Done.\n"
     ]
    },
    {
     "data": {
      "text/html": [
       "<table>\n",
       "    <thead>\n",
       "        <tr>\n",
       "            <th>playerID</th>\n",
       "            <th>name</th>\n",
       "            <th>teamID</th>\n",
       "        </tr>\n",
       "    </thead>\n",
       "    <tbody>\n",
       "        <tr>\n",
       "            <td>player1</td>\n",
       "            <td>John Doe</td>\n",
       "            <td>team1</td>\n",
       "        </tr>\n",
       "        <tr>\n",
       "            <td>player2</td>\n",
       "            <td>Jane Smith</td>\n",
       "            <td>team1</td>\n",
       "        </tr>\n",
       "        <tr>\n",
       "            <td>player3</td>\n",
       "            <td>Bob Johnson</td>\n",
       "            <td>team2</td>\n",
       "        </tr>\n",
       "        <tr>\n",
       "            <td>player4</td>\n",
       "            <td>Alice Brown</td>\n",
       "            <td>team2</td>\n",
       "        </tr>\n",
       "    </tbody>\n",
       "</table>"
      ],
      "text/plain": [
       "[('player1', 'John Doe', 'team1'),\n",
       " ('player2', 'Jane Smith', 'team1'),\n",
       " ('player3', 'Bob Johnson', 'team2'),\n",
       " ('player4', 'Alice Brown', 'team2')]"
      ]
     },
     "execution_count": 22,
     "metadata": {},
     "output_type": "execute_result"
    }
   ],
   "source": [
    "%%sql\n",
    "SELECT * FROM MyPlayers"
   ]
  },
  {
   "cell_type": "code",
   "execution_count": 23,
   "id": "eaeb2b51-d5f8-4707-9339-f1ee33b61644",
   "metadata": {},
   "outputs": [],
   "source": [
    "#inserting into the MyPlayers table from the 'master' players table and make sure it populated correctly"
   ]
  },
  {
   "cell_type": "code",
   "execution_count": 24,
   "id": "dc9021e4-8365-4fde-b30b-f5de6901118a",
   "metadata": {},
   "outputs": [
    {
     "name": "stdout",
     "output_type": "stream",
     "text": [
      "   sqlite:///./chinook.sqlite\n",
      " * sqlite:///./lahman.db\n",
      "5149 rows affected.\n"
     ]
    },
    {
     "data": {
      "text/plain": [
       "[]"
      ]
     },
     "execution_count": 24,
     "metadata": {},
     "output_type": "execute_result"
    }
   ],
   "source": [
    "%%sql\n",
    "INSERT INTO MyPlayers (playerID, name, teamID)\n",
    "SELECT p.playerID, p.nameFirst || ' ' || p.nameLast AS name, MIN(s.teamID) AS teamID\n",
    "FROM People p\n",
    "JOIN Salaries s ON s.playerID = p.playerID\n",
    "WHERE s.yearID = ( SELECT MAX(yearID) FROM Salaries s2 WHERE s2.playerID = s.playerID)\n",
    "GROUP BY p.playerID;"
   ]
  },
  {
   "cell_type": "code",
   "execution_count": 29,
   "id": "090905b6-59a1-4f92-9e21-eecced3efd39",
   "metadata": {},
   "outputs": [
    {
     "name": "stdout",
     "output_type": "stream",
     "text": [
      "   sqlite:///./chinook.sqlite\n",
      " * sqlite:///./lahman.db\n",
      "Done.\n"
     ]
    },
    {
     "data": {
      "text/html": [
       "<table>\n",
       "    <thead>\n",
       "        <tr>\n",
       "            <th>playerID</th>\n",
       "            <th>name</th>\n",
       "            <th>teamID</th>\n",
       "        </tr>\n",
       "    </thead>\n",
       "    <tbody>\n",
       "        <tr>\n",
       "            <td>aardsda01</td>\n",
       "            <td>David Aardsma</td>\n",
       "            <td>NYA</td>\n",
       "        </tr>\n",
       "        <tr>\n",
       "            <td>aasedo01</td>\n",
       "            <td>Don Aase</td>\n",
       "            <td>NYN</td>\n",
       "        </tr>\n",
       "        <tr>\n",
       "            <td>abadan01</td>\n",
       "            <td>Andy Abad</td>\n",
       "            <td>CIN</td>\n",
       "        </tr>\n",
       "        <tr>\n",
       "            <td>abadfe01</td>\n",
       "            <td>Fernando Abad</td>\n",
       "            <td>MIN</td>\n",
       "        </tr>\n",
       "        <tr>\n",
       "            <td>abbotje01</td>\n",
       "            <td>Jeff Abbott</td>\n",
       "            <td>FLO</td>\n",
       "        </tr>\n",
       "    </tbody>\n",
       "</table>"
      ],
      "text/plain": [
       "[('aardsda01', 'David Aardsma', 'NYA'),\n",
       " ('aasedo01', 'Don Aase', 'NYN'),\n",
       " ('abadan01', 'Andy Abad', 'CIN'),\n",
       " ('abadfe01', 'Fernando Abad', 'MIN'),\n",
       " ('abbotje01', 'Jeff Abbott', 'FLO')]"
      ]
     },
     "execution_count": 29,
     "metadata": {},
     "output_type": "execute_result"
    }
   ],
   "source": [
    "%%sql\n",
    "SELECT * FROM MyPlayers ORDER BY playerID LIMIT 5"
   ]
  },
  {
   "cell_type": "markdown",
   "id": "8e586edd-ff26-4ce2-8f6b-2424b26f2929",
   "metadata": {},
   "source": [
    "## Question 3"
   ]
  },
  {
   "cell_type": "code",
   "execution_count": 35,
   "id": "bbe0f40d-9655-4653-9ca8-886bdb61cb91",
   "metadata": {},
   "outputs": [],
   "source": [
    "# using the alter table table to add the new column \"age\" to MyPlayers"
   ]
  },
  {
   "cell_type": "code",
   "execution_count": 36,
   "id": "41e8d981-35d0-483c-a3ad-0574f2acbb7a",
   "metadata": {},
   "outputs": [
    {
     "name": "stdout",
     "output_type": "stream",
     "text": [
      "   sqlite:///./chinook.sqlite\n",
      " * sqlite:///./lahman.db\n",
      "Done.\n"
     ]
    },
    {
     "data": {
      "text/plain": [
       "[]"
      ]
     },
     "execution_count": 36,
     "metadata": {},
     "output_type": "execute_result"
    }
   ],
   "source": [
    "%%sql\n",
    "ALTER TABLE MyPlayers\n",
    "ADD COLUMN age INTEGER;"
   ]
  },
  {
   "cell_type": "code",
   "execution_count": 37,
   "id": "2d26dfb3-317b-4c39-912a-1018551c73c0",
   "metadata": {},
   "outputs": [],
   "source": [
    "# using the alter table table to remove the column \"teamID\" from MyPlayers"
   ]
  },
  {
   "cell_type": "code",
   "execution_count": 38,
   "id": "105851df-c911-494e-a04d-aaa87a016663",
   "metadata": {},
   "outputs": [
    {
     "name": "stdout",
     "output_type": "stream",
     "text": [
      "   sqlite:///./chinook.sqlite\n",
      " * sqlite:///./lahman.db\n",
      "Done.\n"
     ]
    },
    {
     "data": {
      "text/plain": [
       "[]"
      ]
     },
     "execution_count": 38,
     "metadata": {},
     "output_type": "execute_result"
    }
   ],
   "source": [
    "%%sql\n",
    "ALTER TABLE MyPlayers\n",
    "DROP COLUMN teamID;"
   ]
  },
  {
   "cell_type": "code",
   "execution_count": 39,
   "id": "c8771742-e0f6-4b99-a3ca-8241d1156dfd",
   "metadata": {},
   "outputs": [],
   "source": [
    "#viewing the changes we made to the table"
   ]
  },
  {
   "cell_type": "code",
   "execution_count": 40,
   "id": "c3e96ecd-eb36-41e8-80ff-3db837791218",
   "metadata": {},
   "outputs": [
    {
     "name": "stdout",
     "output_type": "stream",
     "text": [
      "   sqlite:///./chinook.sqlite\n",
      " * sqlite:///./lahman.db\n",
      "Done.\n"
     ]
    },
    {
     "data": {
      "text/html": [
       "<table>\n",
       "    <thead>\n",
       "        <tr>\n",
       "            <th>playerID</th>\n",
       "            <th>name</th>\n",
       "            <th>age</th>\n",
       "        </tr>\n",
       "    </thead>\n",
       "    <tbody>\n",
       "        <tr>\n",
       "            <td>player1</td>\n",
       "            <td>John Doe</td>\n",
       "            <td>None</td>\n",
       "        </tr>\n",
       "        <tr>\n",
       "            <td>player2</td>\n",
       "            <td>Jane Smith</td>\n",
       "            <td>None</td>\n",
       "        </tr>\n",
       "        <tr>\n",
       "            <td>player3</td>\n",
       "            <td>Bob Johnson</td>\n",
       "            <td>None</td>\n",
       "        </tr>\n",
       "        <tr>\n",
       "            <td>player4</td>\n",
       "            <td>Alice Brown</td>\n",
       "            <td>None</td>\n",
       "        </tr>\n",
       "        <tr>\n",
       "            <td>aardsda01</td>\n",
       "            <td>David Aardsma</td>\n",
       "            <td>None</td>\n",
       "        </tr>\n",
       "    </tbody>\n",
       "</table>"
      ],
      "text/plain": [
       "[('player1', 'John Doe', None),\n",
       " ('player2', 'Jane Smith', None),\n",
       " ('player3', 'Bob Johnson', None),\n",
       " ('player4', 'Alice Brown', None),\n",
       " ('aardsda01', 'David Aardsma', None)]"
      ]
     },
     "execution_count": 40,
     "metadata": {},
     "output_type": "execute_result"
    }
   ],
   "source": [
    "%%sql\n",
    "SELECT * FROM MyPlayers LIMIT 5;"
   ]
  },
  {
   "cell_type": "code",
   "execution_count": 41,
   "id": "dd266aaf-a21a-406d-8530-d6f15e38fef3",
   "metadata": {},
   "outputs": [],
   "source": [
    "# adding the new column \"height\" to MyPlayers"
   ]
  },
  {
   "cell_type": "code",
   "execution_count": 42,
   "id": "cd4a90e7-3678-49b1-ba71-543a62f07e85",
   "metadata": {},
   "outputs": [
    {
     "name": "stdout",
     "output_type": "stream",
     "text": [
      "   sqlite:///./chinook.sqlite\n",
      " * sqlite:///./lahman.db\n",
      "Done.\n"
     ]
    },
    {
     "data": {
      "text/plain": [
       "[]"
      ]
     },
     "execution_count": 42,
     "metadata": {},
     "output_type": "execute_result"
    }
   ],
   "source": [
    "%%sql \n",
    "ALTER TABLE MyPlayers\n",
    "ADD COLUMN height REAL;"
   ]
  },
  {
   "cell_type": "code",
   "execution_count": 43,
   "id": "ad6f2cfd-f00a-4759-8723-0beeee817a82",
   "metadata": {},
   "outputs": [],
   "source": [
    "# adding the new column \"weight\" to MyPlayers"
   ]
  },
  {
   "cell_type": "code",
   "execution_count": 44,
   "id": "3162c262-7ce6-4fab-aed0-a74b3bd43e3f",
   "metadata": {},
   "outputs": [
    {
     "name": "stdout",
     "output_type": "stream",
     "text": [
      "   sqlite:///./chinook.sqlite\n",
      " * sqlite:///./lahman.db\n",
      "Done.\n"
     ]
    },
    {
     "data": {
      "text/plain": [
       "[]"
      ]
     },
     "execution_count": 44,
     "metadata": {},
     "output_type": "execute_result"
    }
   ],
   "source": [
    "%%sql \n",
    "ALTER TABLE MyPlayers\n",
    "ADD COLUMN weight REAL;"
   ]
  },
  {
   "cell_type": "code",
   "execution_count": 45,
   "id": "72a4f889-22a6-46f6-8632-6d1473d3d7d5",
   "metadata": {},
   "outputs": [],
   "source": [
    "#checking to see if the columns were added"
   ]
  },
  {
   "cell_type": "code",
   "execution_count": 47,
   "id": "e3cc19f5-0d69-41e3-9f44-9664b2b1b2ac",
   "metadata": {},
   "outputs": [
    {
     "name": "stdout",
     "output_type": "stream",
     "text": [
      "   sqlite:///./chinook.sqlite\n",
      " * sqlite:///./lahman.db\n",
      "Done.\n"
     ]
    },
    {
     "data": {
      "text/html": [
       "<table>\n",
       "    <thead>\n",
       "        <tr>\n",
       "            <th>playerID</th>\n",
       "            <th>name</th>\n",
       "            <th>age</th>\n",
       "            <th>height</th>\n",
       "            <th>weight</th>\n",
       "        </tr>\n",
       "    </thead>\n",
       "    <tbody>\n",
       "        <tr>\n",
       "            <td>player1</td>\n",
       "            <td>John Doe</td>\n",
       "            <td>None</td>\n",
       "            <td>None</td>\n",
       "            <td>None</td>\n",
       "        </tr>\n",
       "        <tr>\n",
       "            <td>player2</td>\n",
       "            <td>Jane Smith</td>\n",
       "            <td>None</td>\n",
       "            <td>None</td>\n",
       "            <td>None</td>\n",
       "        </tr>\n",
       "        <tr>\n",
       "            <td>player3</td>\n",
       "            <td>Bob Johnson</td>\n",
       "            <td>None</td>\n",
       "            <td>None</td>\n",
       "            <td>None</td>\n",
       "        </tr>\n",
       "        <tr>\n",
       "            <td>player4</td>\n",
       "            <td>Alice Brown</td>\n",
       "            <td>None</td>\n",
       "            <td>None</td>\n",
       "            <td>None</td>\n",
       "        </tr>\n",
       "        <tr>\n",
       "            <td>aardsda01</td>\n",
       "            <td>David Aardsma</td>\n",
       "            <td>None</td>\n",
       "            <td>None</td>\n",
       "            <td>None</td>\n",
       "        </tr>\n",
       "    </tbody>\n",
       "</table>"
      ],
      "text/plain": [
       "[('player1', 'John Doe', None, None, None),\n",
       " ('player2', 'Jane Smith', None, None, None),\n",
       " ('player3', 'Bob Johnson', None, None, None),\n",
       " ('player4', 'Alice Brown', None, None, None),\n",
       " ('aardsda01', 'David Aardsma', None, None, None)]"
      ]
     },
     "execution_count": 47,
     "metadata": {},
     "output_type": "execute_result"
    }
   ],
   "source": [
    "%%sql\n",
    "SELECT * FROM MyPlayers LIMIT 5"
   ]
  },
  {
   "cell_type": "code",
   "execution_count": 48,
   "id": "4cd7cf15-cf50-49a0-bb2c-504c49f7bcdd",
   "metadata": {},
   "outputs": [],
   "source": [
    "#creating 5 players with arbitary names, weights,heights and ids"
   ]
  },
  {
   "cell_type": "code",
   "execution_count": 49,
   "id": "782b4ae2-92a5-4aa6-bc43-b0186d0a8f13",
   "metadata": {},
   "outputs": [
    {
     "name": "stdout",
     "output_type": "stream",
     "text": [
      "   sqlite:///./chinook.sqlite\n",
      " * sqlite:///./lahman.db\n",
      "5 rows affected.\n"
     ]
    },
    {
     "data": {
      "text/plain": [
       "[]"
      ]
     },
     "execution_count": 49,
     "metadata": {},
     "output_type": "execute_result"
    }
   ],
   "source": [
    "%%sql\n",
    "INSERT INTO MyPlayers(playerID, name, age, height, weight)\n",
    "VALUES\n",
    "('player5','Jim Jones',24,68,215),\n",
    "('player6','John Smith',33,77,232),\n",
    "('player7','Randy Austin',28,69,187),\n",
    "('player8','Mario Amico',22,72,203),\n",
    "('player9','Nick Bero',30,65,176);"
   ]
  },
  {
   "cell_type": "code",
   "execution_count": 50,
   "id": "7b44c5ad-71a2-4e0d-bbcc-7006223e311c",
   "metadata": {},
   "outputs": [],
   "source": [
    "#Selecting the 5 tallest players ordered by height in descending order"
   ]
  },
  {
   "cell_type": "code",
   "execution_count": 51,
   "id": "e59d4c04-5339-4380-969f-8aa414e2bc3b",
   "metadata": {},
   "outputs": [
    {
     "name": "stdout",
     "output_type": "stream",
     "text": [
      "   sqlite:///./chinook.sqlite\n",
      " * sqlite:///./lahman.db\n",
      "Done.\n"
     ]
    },
    {
     "data": {
      "text/html": [
       "<table>\n",
       "    <thead>\n",
       "        <tr>\n",
       "            <th>playerID</th>\n",
       "            <th>name</th>\n",
       "            <th>age</th>\n",
       "            <th>height</th>\n",
       "            <th>weight</th>\n",
       "        </tr>\n",
       "    </thead>\n",
       "    <tbody>\n",
       "        <tr>\n",
       "            <td>player6</td>\n",
       "            <td>John Smith</td>\n",
       "            <td>33</td>\n",
       "            <td>77.0</td>\n",
       "            <td>232.0</td>\n",
       "        </tr>\n",
       "        <tr>\n",
       "            <td>player8</td>\n",
       "            <td>Mario Amico</td>\n",
       "            <td>22</td>\n",
       "            <td>72.0</td>\n",
       "            <td>203.0</td>\n",
       "        </tr>\n",
       "        <tr>\n",
       "            <td>player7</td>\n",
       "            <td>Randy Austin</td>\n",
       "            <td>28</td>\n",
       "            <td>69.0</td>\n",
       "            <td>187.0</td>\n",
       "        </tr>\n",
       "        <tr>\n",
       "            <td>player5</td>\n",
       "            <td>Jim Jones</td>\n",
       "            <td>24</td>\n",
       "            <td>68.0</td>\n",
       "            <td>215.0</td>\n",
       "        </tr>\n",
       "        <tr>\n",
       "            <td>player9</td>\n",
       "            <td>Nick Bero</td>\n",
       "            <td>30</td>\n",
       "            <td>65.0</td>\n",
       "            <td>176.0</td>\n",
       "        </tr>\n",
       "    </tbody>\n",
       "</table>"
      ],
      "text/plain": [
       "[('player6', 'John Smith', 33, 77.0, 232.0),\n",
       " ('player8', 'Mario Amico', 22, 72.0, 203.0),\n",
       " ('player7', 'Randy Austin', 28, 69.0, 187.0),\n",
       " ('player5', 'Jim Jones', 24, 68.0, 215.0),\n",
       " ('player9', 'Nick Bero', 30, 65.0, 176.0)]"
      ]
     },
     "execution_count": 51,
     "metadata": {},
     "output_type": "execute_result"
    }
   ],
   "source": [
    "%%sql \n",
    "SELECT * FROM MyPlayers ORDER BY height DESC LIMIT 5"
   ]
  },
  {
   "cell_type": "markdown",
   "id": "da22f29c-d245-4d2b-9fc1-ca14cb6087d9",
   "metadata": {},
   "source": [
    "## Question 4"
   ]
  },
  {
   "cell_type": "code",
   "execution_count": 52,
   "id": "8cffc767-d1c8-4d64-b7dc-f0d2ee8a80d1",
   "metadata": {},
   "outputs": [],
   "source": [
    "#using the delete from command to a record from the table"
   ]
  },
  {
   "cell_type": "code",
   "execution_count": 53,
   "id": "5445b123-a4f4-4c69-b2f8-1a0b380fbf30",
   "metadata": {},
   "outputs": [
    {
     "name": "stdout",
     "output_type": "stream",
     "text": [
      "   sqlite:///./chinook.sqlite\n",
      " * sqlite:///./lahman.db\n",
      "1 rows affected.\n"
     ]
    },
    {
     "data": {
      "text/plain": [
       "[]"
      ]
     },
     "execution_count": 53,
     "metadata": {},
     "output_type": "execute_result"
    }
   ],
   "source": [
    "%%sql \n",
    "DELETE FROM MyPlayers\n",
    "WHERE playerID = 'player1';"
   ]
  },
  {
   "cell_type": "code",
   "execution_count": 54,
   "id": "59b0d395-8a55-4666-ba70-e28b8febe66e",
   "metadata": {},
   "outputs": [],
   "source": [
    "#checking to make sure the deletion occurred properly"
   ]
  },
  {
   "cell_type": "code",
   "execution_count": 55,
   "id": "138b0978-49b4-4b8a-bba5-7ef5972acad1",
   "metadata": {},
   "outputs": [
    {
     "name": "stdout",
     "output_type": "stream",
     "text": [
      "   sqlite:///./chinook.sqlite\n",
      " * sqlite:///./lahman.db\n",
      "Done.\n"
     ]
    },
    {
     "data": {
      "text/html": [
       "<table>\n",
       "    <thead>\n",
       "        <tr>\n",
       "            <th>playerID</th>\n",
       "            <th>name</th>\n",
       "            <th>age</th>\n",
       "            <th>height</th>\n",
       "            <th>weight</th>\n",
       "        </tr>\n",
       "    </thead>\n",
       "    <tbody>\n",
       "    </tbody>\n",
       "</table>"
      ],
      "text/plain": [
       "[]"
      ]
     },
     "execution_count": 55,
     "metadata": {},
     "output_type": "execute_result"
    }
   ],
   "source": [
    "%%sql\n",
    "SELECT * FROM MyPlayers WHERE playerID = 'player1' LIMIT 5;"
   ]
  },
  {
   "cell_type": "code",
   "execution_count": 56,
   "id": "a0402f17-4b6d-4a50-a427-2437407b3598",
   "metadata": {},
   "outputs": [],
   "source": [
    "#deleting all players from the table with a height less than 6 feet (72 inches)"
   ]
  },
  {
   "cell_type": "code",
   "execution_count": 57,
   "id": "5812429e-5b88-4640-aa36-73286a694510",
   "metadata": {},
   "outputs": [
    {
     "name": "stdout",
     "output_type": "stream",
     "text": [
      "   sqlite:///./chinook.sqlite\n",
      " * sqlite:///./lahman.db\n",
      "3 rows affected.\n"
     ]
    },
    {
     "data": {
      "text/plain": [
       "[]"
      ]
     },
     "execution_count": 57,
     "metadata": {},
     "output_type": "execute_result"
    }
   ],
   "source": [
    "%%sql\n",
    "DELETE FROM MyPlayers\n",
    "WHERE height < 72.0;"
   ]
  },
  {
   "cell_type": "code",
   "execution_count": 58,
   "id": "8ec2a1bc-dd4e-4ee3-9aa0-b584d08cda25",
   "metadata": {},
   "outputs": [],
   "source": [
    "#confirming the deletion occurred properly"
   ]
  },
  {
   "cell_type": "code",
   "execution_count": 59,
   "id": "0a85bb31-f024-46c9-aca9-ddea222e3ad3",
   "metadata": {},
   "outputs": [
    {
     "name": "stdout",
     "output_type": "stream",
     "text": [
      "   sqlite:///./chinook.sqlite\n",
      " * sqlite:///./lahman.db\n",
      "Done.\n"
     ]
    },
    {
     "data": {
      "text/html": [
       "<table>\n",
       "    <thead>\n",
       "        <tr>\n",
       "            <th>playerID</th>\n",
       "            <th>name</th>\n",
       "            <th>age</th>\n",
       "            <th>height</th>\n",
       "            <th>weight</th>\n",
       "        </tr>\n",
       "    </thead>\n",
       "    <tbody>\n",
       "    </tbody>\n",
       "</table>"
      ],
      "text/plain": [
       "[]"
      ]
     },
     "execution_count": 59,
     "metadata": {},
     "output_type": "execute_result"
    }
   ],
   "source": [
    "%%sql\n",
    "SELECT * FROM MyPlayers WHERE height < 72.0 LIMIT 5;"
   ]
  },
  {
   "cell_type": "markdown",
   "id": "88c9cdac-3e92-498f-83fa-e089bfc44ac8",
   "metadata": {},
   "source": [
    "## Question 5"
   ]
  },
  {
   "cell_type": "code",
   "execution_count": 60,
   "id": "d370d7c9-06db-42b9-b75f-240481a5c491",
   "metadata": {},
   "outputs": [],
   "source": [
    "# running the delete table command to remove all the data from the table"
   ]
  },
  {
   "cell_type": "code",
   "execution_count": 61,
   "id": "7343dd15-059f-4a8f-8bc2-80d5234218f2",
   "metadata": {},
   "outputs": [
    {
     "name": "stdout",
     "output_type": "stream",
     "text": [
      "   sqlite:///./chinook.sqlite\n",
      " * sqlite:///./lahman.db\n",
      "5154 rows affected.\n"
     ]
    },
    {
     "data": {
      "text/plain": [
       "[]"
      ]
     },
     "execution_count": 61,
     "metadata": {},
     "output_type": "execute_result"
    }
   ],
   "source": [
    "%%sql\n",
    "DELETE FROM MyPlayers;"
   ]
  },
  {
   "cell_type": "code",
   "execution_count": 62,
   "id": "1f88bb61-e6fc-459f-b00b-6559a56e285f",
   "metadata": {},
   "outputs": [],
   "source": [
    "#deleting the entire table from the database using the drop table command"
   ]
  },
  {
   "cell_type": "code",
   "execution_count": 63,
   "id": "7d78ab7a-76a2-4c88-94f4-5139a8bf2d31",
   "metadata": {},
   "outputs": [
    {
     "name": "stdout",
     "output_type": "stream",
     "text": [
      "   sqlite:///./chinook.sqlite\n",
      " * sqlite:///./lahman.db\n",
      "Done.\n"
     ]
    },
    {
     "data": {
      "text/plain": [
       "[]"
      ]
     },
     "execution_count": 63,
     "metadata": {},
     "output_type": "execute_result"
    }
   ],
   "source": [
    "%%sql\n",
    "DROP TABLE MyPlayers;"
   ]
  },
  {
   "cell_type": "code",
   "execution_count": 64,
   "id": "ef40a617-f70e-4445-b399-de390cfd1112",
   "metadata": {},
   "outputs": [],
   "source": [
    "#checking to make sure the table was dropped correctly"
   ]
  },
  {
   "cell_type": "code",
   "execution_count": 65,
   "id": "1c57dcf2-0ea5-45a1-8c83-ad528f389464",
   "metadata": {},
   "outputs": [
    {
     "name": "stdout",
     "output_type": "stream",
     "text": [
      "   sqlite:///./chinook.sqlite\n",
      " * sqlite:///./lahman.db\n",
      "(sqlite3.OperationalError) no such table: MyPlayers\n",
      "[SQL: SELECT * FROM MyPlayers LIMIT 5;]\n",
      "(Background on this error at: https://sqlalche.me/e/20/e3q8)\n"
     ]
    }
   ],
   "source": [
    "%%sql\n",
    "SELECT * FROM MyPlayers LIMIT 5;"
   ]
  },
  {
   "cell_type": "code",
   "execution_count": null,
   "id": "ec1a75b4-045b-4c1c-9206-f0cd9dad72c9",
   "metadata": {},
   "outputs": [],
   "source": []
  },
  {
   "cell_type": "markdown",
   "id": "f76442d6-d02e-4f26-b9d6-c3183e1d6929",
   "metadata": {},
   "source": [
    "## Pledge\n",
    "\n",
    "By submitting this work I hereby pledge that this is my own, personal work. I've acknowledged in the designated place at the top of this file all sources that I used to complete said work, including but not limited to: online resources, books, and electronic communications. I've noted all collaboration with fellow students and/or TA's. I did not copy or plagiarize another's work.\n",
    "\n",
    "> As a Boilermaker pursuing academic excellence, I pledge to be honest and true in all that I do. Accountable together – We are Purdue.\n",
    "\n",
    "https://www.purdue.edu/odos/osrr/honor-pledge/\n"
   ]
  }
 ],
 "metadata": {
  "kernelspec": {
   "display_name": "seminar",
   "language": "python",
   "name": "python3"
  },
  "language_info": {
   "codemirror_mode": {
    "name": "ipython",
    "version": 3
   },
   "file_extension": ".py",
   "mimetype": "text/x-python",
   "name": "python",
   "nbconvert_exporter": "python",
   "pygments_lexer": "ipython3",
   "version": "3.12.11"
  }
 },
 "nbformat": 4,
 "nbformat_minor": 5
}
