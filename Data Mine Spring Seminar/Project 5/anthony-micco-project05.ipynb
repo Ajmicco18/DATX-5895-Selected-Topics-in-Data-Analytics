{
 "cells": [
  {
   "cell_type": "markdown",
   "id": "be02a957-7133-4d02-818e-fedeb3cecb05",
   "metadata": {},
   "source": [
    "# Project 05 -- Anthony Micco "
   ]
  },
  {
   "cell_type": "markdown",
   "id": "a1228853-dd19-4ab2-89e0-0394d7d72de3",
   "metadata": {},
   "source": [
    "**TA Help:** N/A\n",
    "    \n",
    "**Collaboration:** Looked up how to find max value of a dictionary for Question 4 and used lambda function similar to\n",
    "what is used in the following article: https://www.geeksforgeeks.org/python-get-key-with-maximum-value-in-dictionary/"
   ]
  },
  {
   "cell_type": "markdown",
   "id": "6180e742-8e39-4698-98ff-5b00c8cf8ea0",
   "metadata": {},
   "source": [
    "## Question 1"
   ]
  },
  {
   "cell_type": "code",
   "execution_count": 2,
   "id": "49445606-d363-41b4-b479-e319a9a84c01",
   "metadata": {},
   "outputs": [],
   "source": [
    "import pandas as pd"
   ]
  },
  {
   "cell_type": "code",
   "execution_count": 2,
   "id": "7bbd4243-1f9a-4e28-988d-c09e864a98a6",
   "metadata": {},
   "outputs": [],
   "source": [
    "myDF =pd.read_csv('/anvil/projects/tdm/data/noaa/2018.csv', header=None, names=[\"id\",\"date\",\"element_code\",\"value\",\"mflag\",\"qflag\",\"sflag\",\"obstime\"])"
   ]
  },
  {
   "cell_type": "code",
   "execution_count": 5,
   "id": "b47909f1-7c0f-4fde-a71c-4a395c9ac6f5",
   "metadata": {},
   "outputs": [
    {
     "name": "stdout",
     "output_type": "stream",
     "text": [
      "12.317542410053962\n"
     ]
    }
   ],
   "source": [
    "avgTemp = myDF[(myDF[\"date\"] >= 20180101  ) & (myDF[\"date\"]<= 20180115) & (myDF[\"element_code\"] == \"TAVG\")][\"value\"].mean()\n",
    "print(avgTemp)"
   ]
  },
  {
   "cell_type": "code",
   "execution_count": 14,
   "id": "20256fab-851a-44fe-8981-d2d5f1c52d8d",
   "metadata": {},
   "outputs": [],
   "source": [
    "def avg_aggreg_temp(file_location, column_title_list, start_date, end_date, test_element_code):\n",
    "    #Define the data frame with file_location and column_title _list\n",
    "    df = pd.read_csv(file_location, header=None, names=column_title_list)\n",
    "    #Define average temp with the parameters of start_date, end_date and element_code\n",
    "    avgTemp= df[(df['date'] >= start_date) & (df['date']<= end_date) & (df['element_code']==test_element_code)]['value'].mean()\n",
    "    #Return the avgTemp value\n",
    "    return avgTemp"
   ]
  },
  {
   "cell_type": "code",
   "execution_count": 13,
   "id": "d192f916-5a78-4bed-8ebc-2dd563310e8f",
   "metadata": {},
   "outputs": [
    {
     "data": {
      "text/plain": [
       "12.317542410053962"
      ]
     },
     "execution_count": 13,
     "metadata": {},
     "output_type": "execute_result"
    }
   ],
   "source": [
    "avg_aggreg_temp('/anvil/projects/tdm/data/noaa/2018.csv',[\"id\",\"date\",\"element_code\",\"value\",\"mflag\",\"qflag\",\"sflag\",\"obstime\"], 20180101,20180115,'TAVG') "
   ]
  },
  {
   "cell_type": "markdown",
   "id": "fc601975-35ed-4680-a4e1-0273ee3cc047",
   "metadata": {},
   "source": [
    "## Question 2"
   ]
  },
  {
   "cell_type": "code",
   "execution_count": 22,
   "id": "a16336a1-1ef0-41e8-bc7c-49387db27497",
   "metadata": {},
   "outputs": [
    {
     "name": "stdout",
     "output_type": "stream",
     "text": [
      "{1880: 127.30054644808743, 1881: 49.00669116954104, 1882: 58.33541290428501, 1883: 50.54050116550116}\n"
     ]
    }
   ],
   "source": [
    "year_dict = {}\n",
    "for year in range(1880,1884):\n",
    "    file = Path(f'/anvil/projects/tdm/data/noaa/{year}.csv')\n",
    "    myDF = pd.read_csv(file, header=None, names=[\"id\",\"date\",\"element_code\",\"value\",\"mflag\",\"qflag\",\"sflag\",\"obstime\"])\n",
    "    result = myDF[(myDF[\"element_code\"] == \"TAVG\")][\"value\"].mean()\n",
    "    year_dict[year]=result\n",
    "\n",
    "print(year_dict)"
   ]
  },
  {
   "cell_type": "code",
   "execution_count": 1,
   "id": "16efde48-a23c-4801-902c-b2d21fd1369d",
   "metadata": {},
   "outputs": [],
   "source": [
    "from pathlib import Path\n",
    "def avg_year_dict(years_list, column_title_list, test_element_code):\n",
    "    #Define your year dictionary\n",
    "    year_dict = {}\n",
    "    \n",
    "    #Iterate through the year list passed as a parameter\n",
    "    for year in years_list:\n",
    "        #Define the file you intend to use for the specific year\n",
    "        file = Path(f'/anvil/projects/tdm/data/noaa/{year}.csv')\n",
    "        #Creates the specified dataframe\n",
    "        myDF = pd.read_csv(file, header=None, names=column_title_list)\n",
    "        #Defines result and runs mean function to obtain the average\n",
    "        result = myDF[(myDF[\"element_code\"] == test_element_code)][\"value\"].mean()\n",
    "        #Adds year and the average to the dictionary object\n",
    "        year_dict[year]=result\n",
    "    \n",
    "    return year_dict"
   ]
  },
  {
   "cell_type": "code",
   "execution_count": 24,
   "id": "b786527c-d315-4381-a9e2-eff232bf9172",
   "metadata": {},
   "outputs": [
    {
     "data": {
      "text/plain": [
       "{1880: 127.30054644808743,\n",
       " 1881: 49.00669116954104,\n",
       " 1882: 58.33541290428501,\n",
       " 1883: 50.54050116550116}"
      ]
     },
     "execution_count": 24,
     "metadata": {},
     "output_type": "execute_result"
    }
   ],
   "source": [
    "avg_year_dict(range(1880,1884),[\"id\",\"date\",\"element_code\",\"value\",\"mflag\",\"qflag\",\"sflag\",\"obstime\"], \"TAVG\")"
   ]
  },
  {
   "cell_type": "markdown",
   "id": "8e586edd-ff26-4ce2-8f6b-2424b26f2929",
   "metadata": {},
   "source": [
    "## Question 3"
   ]
  },
  {
   "cell_type": "code",
   "execution_count": 29,
   "id": "bbe0f40d-9655-4653-9ca8-886bdb61cb91",
   "metadata": {},
   "outputs": [
    {
     "name": "stdout",
     "output_type": "stream",
     "text": [
      "{1880: 29.344827586206897, 1881: -91.92592592592592, 1882: -70.57430167597765}\n"
     ]
    }
   ],
   "source": [
    "month_dict={}\n",
    "\n",
    "for year in range(1880,1883):\n",
    "    file = Path(f'/anvil/projects/tdm/data/noaa/{year}.csv')\n",
    "    df =pd.read_csv(file, header=None, names=[\"id\",\"date\",\"element_code\",\"value\",\"mflag\",\"qflag\",\"sflag\",\"obstime\"])\n",
    "    df[\"month\"] = pd.to_datetime(df[\"date\"], format ='%Y%m%d').dt.month\n",
    "    result = df[(df[\"element_code\"] == \"TAVG\") & (df[\"month\"]== 2)][\"value\"].mean()\n",
    "    month_dict[year] = result\n",
    "    \n",
    "print(month_dict)"
   ]
  },
  {
   "cell_type": "code",
   "execution_count": 30,
   "id": "0a6a4c2c-a4a7-4377-830b-bb158d870346",
   "metadata": {},
   "outputs": [
    {
     "name": "stdout",
     "output_type": "stream",
     "text": [
      "{1880: 161.06451612903226, 1881: 50.14686098654708, 1882: 33.98886827458256}\n"
     ]
    }
   ],
   "source": [
    "month_dict={}\n",
    "\n",
    "for year in range(1880,1883):\n",
    "    file = Path(f'/anvil/projects/tdm/data/noaa/{year}.csv')\n",
    "    df =pd.read_csv(file, header=None, names=[\"id\",\"date\",\"element_code\",\"value\",\"mflag\",\"qflag\",\"sflag\",\"obstime\"])\n",
    "    df[\"month\"] = pd.to_datetime(df[\"date\"], format ='%Y%m%d').dt.month\n",
    "    result = df[(df[\"element_code\"] == \"TAVG\") & (df[\"month\"]== 10)][\"value\"].mean()\n",
    "    month_dict[year] = result\n",
    "    \n",
    "print(month_dict)"
   ]
  },
  {
   "cell_type": "code",
   "execution_count": 33,
   "id": "c9762bb6-14ab-4ad2-b7f3-e15b3e225aa7",
   "metadata": {},
   "outputs": [],
   "source": [
    "def avg_month_dict(years_list, month, column_title_list, test_element_code):\n",
    "    #Define your year dictionary\n",
    "    month_dict = {}\n",
    "    \n",
    "    #Iterate through the year list passed as a parameter\n",
    "    for year in years_list:\n",
    "        #Define the file you intend to use for the specific year\n",
    "        file = Path(f'/anvil/projects/tdm/data/noaa/{year}.csv')\n",
    "        #Creates the specified dataframe\n",
    "        myDF = pd.read_csv(file, header=None, names=column_title_list)\n",
    "        #Create the month column and extract the month data from the date column\n",
    "        myDF[\"month\"] = pd.to_datetime(df[\"date\"], format ='%Y%m%d').dt.month\n",
    "        #Defines result and runs mean function to obtain the average\n",
    "        result = myDF[(myDF[\"element_code\"] == test_element_code) & (myDF[\"month\"]==month)][\"value\"].mean()\n",
    "        #Adds year and the average to the dictionary object\n",
    "        month_dict[month]=result\n",
    "    \n",
    "    return year_dict"
   ]
  },
  {
   "cell_type": "code",
   "execution_count": 34,
   "id": "03589b47-5203-4135-a78c-2be0ebfa3eb6",
   "metadata": {},
   "outputs": [
    {
     "data": {
      "text/plain": [
       "{1880: 127.30054644808743,\n",
       " 1881: 49.00669116954104,\n",
       " 1882: 58.33541290428501,\n",
       " 1883: 50.54050116550116}"
      ]
     },
     "execution_count": 34,
     "metadata": {},
     "output_type": "execute_result"
    }
   ],
   "source": [
    "avg_month_dict(range(1880,1884), 8, [\"id\",\"date\",\"element_code\",\"value\",\"mflag\",\"qflag\",\"sflag\",\"obstime\"], \"TAVG\")"
   ]
  },
  {
   "cell_type": "markdown",
   "id": "da22f29c-d245-4d2b-9fc1-ca14cb6087d9",
   "metadata": {},
   "source": [
    "## Question 4"
   ]
  },
  {
   "cell_type": "code",
   "execution_count": 11,
   "id": "8cffc767-d1c8-4d64-b7dc-f0d2ee8a80d1",
   "metadata": {},
   "outputs": [
    {
     "name": "stdout",
     "output_type": "stream",
     "text": [
      "{1880: 3}\n",
      "{1880: 3, 1881: 14}\n",
      "{1880: 3, 1881: 14, 1882: 8}\n",
      "{1880: 3, 1881: 14, 1882: 8, 1883: 5}\n",
      "1881\n"
     ]
    }
   ],
   "source": [
    "year_dict = {}\n",
    "for year in range(1880,1884):\n",
    "    file = Path(f'/anvil/projects/tdm/data/noaa/{year}.csv')\n",
    "    myDF = pd.read_csv(file, header=None, names=[\"id\",\"date\",\"element_code\",\"value\",\"mflag\",\"qflag\",\"sflag\",\"obstime\"])\n",
    "    qflagDF = myDF[myDF[\"qflag\"] == \"X\"]\n",
    "    count = len(qflagDF)\n",
    "    year_dict[year]=count\n",
    "    print(year_dict)\n",
    "\n",
    "Keymax = max(year_dict, key= lambda x: year_dict[x])\n",
    "print(Keymax)"
   ]
  },
  {
   "cell_type": "code",
   "execution_count": 16,
   "id": "dfa16d94-73ff-4f5c-a944-ab66f6226d38",
   "metadata": {},
   "outputs": [],
   "source": [
    "def find_max_qflag(years_list, test_qflag):\n",
    "    #Define a dictionary to hold key-valuepairs\n",
    "    year_dict = {}\n",
    "    #iterate through list of years\n",
    "    for year in years_list:\n",
    "        #define the file using the Path function\n",
    "        file = Path(f'/anvil/projects/tdm/data/noaa/{year}.csv')\n",
    "        #Define your data frame using the file from the Path function\n",
    "        myDF = pd.read_csv(file, header=None, names=[\"id\",\"date\",\"element_code\",\"value\",\"mflag\",\"qflag\",\"sflag\",\"obstime\"])\n",
    "        #Create a new DF called aflagdf that only contains items with the indicated qflag\n",
    "        qflagDF = myDF[myDF[\"qflag\"] == test_qflag]\n",
    "        #Determine the length of the df \n",
    "        count = len(qflagDF)\n",
    "        #Add the result to the year_dict dictionary\n",
    "        year_dict[year]=count  \n",
    "        \n",
    "    #Uses a lambda to find the key which has the max value in the dictionary\n",
    "    Keymax = max(year_dict, key= lambda x: year_dict[x])    \n",
    "    \n",
    "    return Keymax"
   ]
  },
  {
   "cell_type": "code",
   "execution_count": 19,
   "id": "0ceee00d-f823-454f-81c6-298aff474cd8",
   "metadata": {},
   "outputs": [
    {
     "data": {
      "text/plain": [
       "1880"
      ]
     },
     "execution_count": 19,
     "metadata": {},
     "output_type": "execute_result"
    }
   ],
   "source": [
    "find_max_qflag(range(1880,1884), \"D\")"
   ]
  },
  {
   "cell_type": "code",
   "execution_count": 20,
   "id": "264986cd-ef68-46d1-9c81-e2bdf1e54ca2",
   "metadata": {},
   "outputs": [
    {
     "data": {
      "text/plain": [
       "1880"
      ]
     },
     "execution_count": 20,
     "metadata": {},
     "output_type": "execute_result"
    }
   ],
   "source": [
    "find_max_qflag(range(1880,1884), \"G\")"
   ]
  },
  {
   "cell_type": "code",
   "execution_count": 21,
   "id": "d0fb41d5-9a2c-4c91-b0f5-e9dc781d2cfb",
   "metadata": {},
   "outputs": [
    {
     "data": {
      "text/plain": [
       "1883"
      ]
     },
     "execution_count": 21,
     "metadata": {},
     "output_type": "execute_result"
    }
   ],
   "source": [
    "find_max_qflag(range(1880,1884), \"I\")"
   ]
  },
  {
   "cell_type": "code",
   "execution_count": 22,
   "id": "d0aa372e-4353-4793-a674-6197867cdac6",
   "metadata": {},
   "outputs": [
    {
     "data": {
      "text/plain": [
       "1882"
      ]
     },
     "execution_count": 22,
     "metadata": {},
     "output_type": "execute_result"
    }
   ],
   "source": [
    "find_max_qflag(range(1880,1884), \"K\")"
   ]
  },
  {
   "cell_type": "code",
   "execution_count": 23,
   "id": "6a98f3da-6188-45a9-a6df-31fdd8376d65",
   "metadata": {},
   "outputs": [
    {
     "data": {
      "text/plain": [
       "1881"
      ]
     },
     "execution_count": 23,
     "metadata": {},
     "output_type": "execute_result"
    }
   ],
   "source": [
    "find_max_qflag(range(1880,1884), \"L\")"
   ]
  },
  {
   "cell_type": "code",
   "execution_count": 24,
   "id": "26f4b2c7-1c53-4ca7-ae98-bb97c4754877",
   "metadata": {},
   "outputs": [
    {
     "data": {
      "text/plain": [
       "1880"
      ]
     },
     "execution_count": 24,
     "metadata": {},
     "output_type": "execute_result"
    }
   ],
   "source": [
    "find_max_qflag(range(1880,1884), \"O\")"
   ]
  },
  {
   "cell_type": "code",
   "execution_count": 25,
   "id": "71bf733f-20ee-4fad-ac5b-d8d944f24c0a",
   "metadata": {},
   "outputs": [
    {
     "data": {
      "text/plain": [
       "1880"
      ]
     },
     "execution_count": 25,
     "metadata": {},
     "output_type": "execute_result"
    }
   ],
   "source": [
    "find_max_qflag(range(1880,1884), \"N\")"
   ]
  },
  {
   "cell_type": "code",
   "execution_count": 26,
   "id": "62765338-b331-4a26-83a8-b31731022836",
   "metadata": {},
   "outputs": [
    {
     "data": {
      "text/plain": [
       "1882"
      ]
     },
     "execution_count": 26,
     "metadata": {},
     "output_type": "execute_result"
    }
   ],
   "source": [
    "find_max_qflag(range(1880,1884), \"S\")"
   ]
  },
  {
   "cell_type": "code",
   "execution_count": 27,
   "id": "2aadae05-75b3-4b0b-9b1f-e4d38c4118d4",
   "metadata": {},
   "outputs": [
    {
     "data": {
      "text/plain": [
       "1881"
      ]
     },
     "execution_count": 27,
     "metadata": {},
     "output_type": "execute_result"
    }
   ],
   "source": [
    "find_max_qflag(range(1880,1884), \"X\")"
   ]
  },
  {
   "cell_type": "markdown",
   "id": "88c9cdac-3e92-498f-83fa-e089bfc44ac8",
   "metadata": {},
   "source": [
    "## Question 5"
   ]
  },
  {
   "cell_type": "code",
   "execution_count": 10,
   "id": "d370d7c9-06db-42b9-b75f-240481a5c491",
   "metadata": {},
   "outputs": [],
   "source": [
    "def find_min_avg_temp(year_list, column_title_list):\n",
    "    \"\"\"\n",
    "    This function finds the minimum average temperature recorded over a span of years and stores them in a dictionary with \n",
    "    the key being the year and the value being the minimum average temperature\n",
    "    \n",
    "    Inputs: year_list-a list of the years the user wants to recorded the minimum average temperature of\n",
    "            column_title_list- a list of the columns for the df since the NOAA data doesn't define columns\n",
    "    \n",
    "    Output: the function returns a dictionary of year and minimum average temperature pairs\n",
    "    \"\"\"\n",
    "    #Define a dictionary to hold key-valuepairs\n",
    "    year_dict = {}\n",
    "    #iterate through list of years\n",
    "    for year in year_list:\n",
    "        #define the file using the Path function\n",
    "        file = Path(f'/anvil/projects/tdm/data/noaa/{year}.csv')\n",
    "        #Define your data frame using the file from the Path function\n",
    "        myDF = pd.read_csv(file, header=None, names=column_title_list)\n",
    "        #Define min_value that uses the minimum function to find the minimum value in the df\n",
    "        min_value = myDF[myDF[\"element_code\"]==\"TAVG\"][\"value\"].min()\n",
    "        #Add the value to the year_dict dictionary \n",
    "        year_dict[year] = min_value\n",
    "    \n",
    "    #return the year and the minimum average temperature\n",
    "    return(year_dict)"
   ]
  },
  {
   "cell_type": "code",
   "execution_count": 11,
   "id": "7febceef-5c2d-4fd2-8e45-a5484b0efe6f",
   "metadata": {},
   "outputs": [
    {
     "data": {
      "text/plain": [
       "{1880: -61,\n",
       " 1881: -362,\n",
       " 1882: -519,\n",
       " 1883: -535,\n",
       " 1884: -497,\n",
       " 1885: -659,\n",
       " 1886: -657,\n",
       " 1887: -599,\n",
       " 1888: -572,\n",
       " 1889: -584}"
      ]
     },
     "execution_count": 11,
     "metadata": {},
     "output_type": "execute_result"
    }
   ],
   "source": [
    "find_min_avg_temp(range(1880, 1890), [\"id\",\"date\",\"element_code\",\"value\",\"mflag\",\"qflag\",\"sflag\",\"obstime\"])"
   ]
  },
  {
   "cell_type": "markdown",
   "id": "f76442d6-d02e-4f26-b9d6-c3183e1d6929",
   "metadata": {},
   "source": [
    "## Pledge\n",
    "\n",
    "By submitting this work I hereby pledge that this is my own, personal work. I've acknowledged in the designated place at the top of this file all sources that I used to complete said work, including but not limited to: online resources, books, and electronic communications. I've noted all collaboration with fellow students and/or TA's. I did not copy or plagiarize another's work.\n",
    "\n",
    "> As a Boilermaker pursuing academic excellence, I pledge to be honest and true in all that I do. Accountable together – We are Purdue."
   ]
  }
 ],
 "metadata": {
  "kernelspec": {
   "display_name": "seminar",
   "language": "python",
   "name": "seminar"
  },
  "language_info": {
   "codemirror_mode": {
    "name": "ipython",
    "version": 3
   },
   "file_extension": ".py",
   "mimetype": "text/x-python",
   "name": "python",
   "nbconvert_exporter": "python",
   "pygments_lexer": "ipython3",
   "version": "3.11.5"
  }
 },
 "nbformat": 4,
 "nbformat_minor": 5
}
