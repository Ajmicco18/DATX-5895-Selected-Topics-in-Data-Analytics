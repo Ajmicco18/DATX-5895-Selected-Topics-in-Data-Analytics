{
 "cells": [
  {
   "cell_type": "markdown",
   "id": "be02a957-7133-4d02-818e-fedeb3cecb05",
   "metadata": {},
   "source": [
    "# Project 02 -- Anthony Micco "
   ]
  },
  {
   "cell_type": "markdown",
   "id": "a1228853-dd19-4ab2-89e0-0394d7d72de3",
   "metadata": {},
   "source": [
    "**TA Help:** N/A\n",
    "    \n",
    "**Collaboration:** N/A"
   ]
  },
  {
   "cell_type": "markdown",
   "id": "6180e742-8e39-4698-98ff-5b00c8cf8ea0",
   "metadata": {},
   "source": [
    "## Question 1"
   ]
  },
  {
   "cell_type": "code",
   "execution_count": 1,
   "id": "49445606-d363-41b4-b479-e319a9a84c01",
   "metadata": {},
   "outputs": [],
   "source": [
    "# create a list mydata\n",
    "mydata = [(\"Anthony\", 21, \"Computer Science\"),\n",
    "          (\"Jason\", 19, \"Mathematics\"),\n",
    "          (\"Nick\", 20, \"Pyschology\"),\n",
    "          (\"Alex\", 19, \"Computer Science\"),\n",
    "          (\"Carson\", 20, \"Business\"),\n",
    "          (\"Nico\", 21, \"Marketing\")]"
   ]
  },
  {
   "cell_type": "code",
   "execution_count": 2,
   "id": "14618ebf-8896-48e7-a1e6-f5c5cd93cd19",
   "metadata": {},
   "outputs": [
    {
     "name": "stdout",
     "output_type": "stream",
     "text": [
      "      Name  Age             Major\n",
      "0  Anthony   21  Computer Science\n",
      "1    Jason   19       Mathematics\n",
      "2     Nick   20        Pyschology\n",
      "3     Alex   19  Computer Science\n",
      "4   Carson   20          Business\n"
     ]
    }
   ],
   "source": [
    "#Create the studentDF data frame\n",
    "import pandas as pd\n",
    "studentDF = pd.DataFrame(data=mydata, columns=['Name', 'Age', 'Major'])\n",
    "print(studentDF.head())"
   ]
  },
  {
   "cell_type": "code",
   "execution_count": 3,
   "id": "f655f5de-1d9a-493a-b3b6-1c9bbcac6b0c",
   "metadata": {},
   "outputs": [
    {
     "name": "stdout",
     "output_type": "stream",
     "text": [
      "Name           Jason\n",
      "Age               19\n",
      "Major    Mathematics\n",
      "Name: 1, dtype: object\n"
     ]
    }
   ],
   "source": [
    "#Get the second student's information\n",
    "print(studentDF.iloc[1])"
   ]
  },
  {
   "cell_type": "markdown",
   "id": "fc601975-35ed-4680-a4e1-0273ee3cc047",
   "metadata": {},
   "source": [
    "## Question 2"
   ]
  },
  {
   "cell_type": "code",
   "execution_count": 4,
   "id": "a16336a1-1ef0-41e8-bc7c-49387db27497",
   "metadata": {},
   "outputs": [],
   "source": [
    "#Creating myDF data frame\n",
    "import pandas as pd\n",
    "myDF = pd.read_csv(\"/anvil/projects/tdm/data/craigslist/vehicles.csv\")"
   ]
  },
  {
   "cell_type": "code",
   "execution_count": 5,
   "id": "dccf6ed4-1e30-4449-bfb3-7b925e0fd560",
   "metadata": {},
   "outputs": [
    {
     "data": {
      "text/html": [
       "<div>\n",
       "<style scoped>\n",
       "    .dataframe tbody tr th:only-of-type {\n",
       "        vertical-align: middle;\n",
       "    }\n",
       "\n",
       "    .dataframe tbody tr th {\n",
       "        vertical-align: top;\n",
       "    }\n",
       "\n",
       "    .dataframe thead th {\n",
       "        text-align: right;\n",
       "    }\n",
       "</style>\n",
       "<table border=\"1\" class=\"dataframe\">\n",
       "  <thead>\n",
       "    <tr style=\"text-align: right;\">\n",
       "      <th></th>\n",
       "      <th>id</th>\n",
       "      <th>url</th>\n",
       "      <th>region</th>\n",
       "      <th>region_url</th>\n",
       "      <th>price</th>\n",
       "      <th>year</th>\n",
       "      <th>manufacturer</th>\n",
       "      <th>model</th>\n",
       "      <th>condition</th>\n",
       "      <th>cylinders</th>\n",
       "      <th>...</th>\n",
       "      <th>size</th>\n",
       "      <th>type</th>\n",
       "      <th>paint_color</th>\n",
       "      <th>image_url</th>\n",
       "      <th>description</th>\n",
       "      <th>county</th>\n",
       "      <th>state</th>\n",
       "      <th>lat</th>\n",
       "      <th>long</th>\n",
       "      <th>posting_date</th>\n",
       "    </tr>\n",
       "  </thead>\n",
       "  <tbody>\n",
       "    <tr>\n",
       "      <th>0</th>\n",
       "      <td>7222695916</td>\n",
       "      <td>https://prescott.craigslist.org/cto/d/prescott...</td>\n",
       "      <td>prescott</td>\n",
       "      <td>https://prescott.craigslist.org</td>\n",
       "      <td>6000</td>\n",
       "      <td>NaN</td>\n",
       "      <td>NaN</td>\n",
       "      <td>NaN</td>\n",
       "      <td>NaN</td>\n",
       "      <td>NaN</td>\n",
       "      <td>...</td>\n",
       "      <td>NaN</td>\n",
       "      <td>NaN</td>\n",
       "      <td>NaN</td>\n",
       "      <td>NaN</td>\n",
       "      <td>NaN</td>\n",
       "      <td>NaN</td>\n",
       "      <td>az</td>\n",
       "      <td>NaN</td>\n",
       "      <td>NaN</td>\n",
       "      <td>NaN</td>\n",
       "    </tr>\n",
       "    <tr>\n",
       "      <th>1</th>\n",
       "      <td>7218891961</td>\n",
       "      <td>https://fayar.craigslist.org/ctd/d/bentonville...</td>\n",
       "      <td>fayetteville</td>\n",
       "      <td>https://fayar.craigslist.org</td>\n",
       "      <td>11900</td>\n",
       "      <td>NaN</td>\n",
       "      <td>NaN</td>\n",
       "      <td>NaN</td>\n",
       "      <td>NaN</td>\n",
       "      <td>NaN</td>\n",
       "      <td>...</td>\n",
       "      <td>NaN</td>\n",
       "      <td>NaN</td>\n",
       "      <td>NaN</td>\n",
       "      <td>NaN</td>\n",
       "      <td>NaN</td>\n",
       "      <td>NaN</td>\n",
       "      <td>ar</td>\n",
       "      <td>NaN</td>\n",
       "      <td>NaN</td>\n",
       "      <td>NaN</td>\n",
       "    </tr>\n",
       "    <tr>\n",
       "      <th>2</th>\n",
       "      <td>7221797935</td>\n",
       "      <td>https://keys.craigslist.org/cto/d/summerland-k...</td>\n",
       "      <td>florida keys</td>\n",
       "      <td>https://keys.craigslist.org</td>\n",
       "      <td>21000</td>\n",
       "      <td>NaN</td>\n",
       "      <td>NaN</td>\n",
       "      <td>NaN</td>\n",
       "      <td>NaN</td>\n",
       "      <td>NaN</td>\n",
       "      <td>...</td>\n",
       "      <td>NaN</td>\n",
       "      <td>NaN</td>\n",
       "      <td>NaN</td>\n",
       "      <td>NaN</td>\n",
       "      <td>NaN</td>\n",
       "      <td>NaN</td>\n",
       "      <td>fl</td>\n",
       "      <td>NaN</td>\n",
       "      <td>NaN</td>\n",
       "      <td>NaN</td>\n",
       "    </tr>\n",
       "    <tr>\n",
       "      <th>3</th>\n",
       "      <td>7222270760</td>\n",
       "      <td>https://worcester.craigslist.org/cto/d/west-br...</td>\n",
       "      <td>worcester / central MA</td>\n",
       "      <td>https://worcester.craigslist.org</td>\n",
       "      <td>1500</td>\n",
       "      <td>NaN</td>\n",
       "      <td>NaN</td>\n",
       "      <td>NaN</td>\n",
       "      <td>NaN</td>\n",
       "      <td>NaN</td>\n",
       "      <td>...</td>\n",
       "      <td>NaN</td>\n",
       "      <td>NaN</td>\n",
       "      <td>NaN</td>\n",
       "      <td>NaN</td>\n",
       "      <td>NaN</td>\n",
       "      <td>NaN</td>\n",
       "      <td>ma</td>\n",
       "      <td>NaN</td>\n",
       "      <td>NaN</td>\n",
       "      <td>NaN</td>\n",
       "    </tr>\n",
       "    <tr>\n",
       "      <th>4</th>\n",
       "      <td>7210384030</td>\n",
       "      <td>https://greensboro.craigslist.org/cto/d/trinit...</td>\n",
       "      <td>greensboro</td>\n",
       "      <td>https://greensboro.craigslist.org</td>\n",
       "      <td>4900</td>\n",
       "      <td>NaN</td>\n",
       "      <td>NaN</td>\n",
       "      <td>NaN</td>\n",
       "      <td>NaN</td>\n",
       "      <td>NaN</td>\n",
       "      <td>...</td>\n",
       "      <td>NaN</td>\n",
       "      <td>NaN</td>\n",
       "      <td>NaN</td>\n",
       "      <td>NaN</td>\n",
       "      <td>NaN</td>\n",
       "      <td>NaN</td>\n",
       "      <td>nc</td>\n",
       "      <td>NaN</td>\n",
       "      <td>NaN</td>\n",
       "      <td>NaN</td>\n",
       "    </tr>\n",
       "  </tbody>\n",
       "</table>\n",
       "<p>5 rows × 26 columns</p>\n",
       "</div>"
      ],
      "text/plain": [
       "           id                                                url  \\\n",
       "0  7222695916  https://prescott.craigslist.org/cto/d/prescott...   \n",
       "1  7218891961  https://fayar.craigslist.org/ctd/d/bentonville...   \n",
       "2  7221797935  https://keys.craigslist.org/cto/d/summerland-k...   \n",
       "3  7222270760  https://worcester.craigslist.org/cto/d/west-br...   \n",
       "4  7210384030  https://greensboro.craigslist.org/cto/d/trinit...   \n",
       "\n",
       "                   region                         region_url  price  year  \\\n",
       "0                prescott    https://prescott.craigslist.org   6000   NaN   \n",
       "1            fayetteville       https://fayar.craigslist.org  11900   NaN   \n",
       "2            florida keys        https://keys.craigslist.org  21000   NaN   \n",
       "3  worcester / central MA   https://worcester.craigslist.org   1500   NaN   \n",
       "4              greensboro  https://greensboro.craigslist.org   4900   NaN   \n",
       "\n",
       "  manufacturer model condition cylinders  ... size  type paint_color  \\\n",
       "0          NaN   NaN       NaN       NaN  ...  NaN   NaN         NaN   \n",
       "1          NaN   NaN       NaN       NaN  ...  NaN   NaN         NaN   \n",
       "2          NaN   NaN       NaN       NaN  ...  NaN   NaN         NaN   \n",
       "3          NaN   NaN       NaN       NaN  ...  NaN   NaN         NaN   \n",
       "4          NaN   NaN       NaN       NaN  ...  NaN   NaN         NaN   \n",
       "\n",
       "  image_url description county state lat long posting_date  \n",
       "0       NaN         NaN    NaN    az NaN  NaN          NaN  \n",
       "1       NaN         NaN    NaN    ar NaN  NaN          NaN  \n",
       "2       NaN         NaN    NaN    fl NaN  NaN          NaN  \n",
       "3       NaN         NaN    NaN    ma NaN  NaN          NaN  \n",
       "4       NaN         NaN    NaN    nc NaN  NaN          NaN  \n",
       "\n",
       "[5 rows x 26 columns]"
      ]
     },
     "execution_count": 5,
     "metadata": {},
     "output_type": "execute_result"
    }
   ],
   "source": [
    "myDF.head()"
   ]
  },
  {
   "cell_type": "code",
   "execution_count": 6,
   "id": "77e7db27-d55f-4d1f-888e-45d57adc9b9c",
   "metadata": {},
   "outputs": [
    {
     "data": {
      "text/html": [
       "<div>\n",
       "<style scoped>\n",
       "    .dataframe tbody tr th:only-of-type {\n",
       "        vertical-align: middle;\n",
       "    }\n",
       "\n",
       "    .dataframe tbody tr th {\n",
       "        vertical-align: top;\n",
       "    }\n",
       "\n",
       "    .dataframe thead th {\n",
       "        text-align: right;\n",
       "    }\n",
       "</style>\n",
       "<table border=\"1\" class=\"dataframe\">\n",
       "  <thead>\n",
       "    <tr style=\"text-align: right;\">\n",
       "      <th></th>\n",
       "      <th>id</th>\n",
       "      <th>url</th>\n",
       "      <th>region</th>\n",
       "      <th>region_url</th>\n",
       "      <th>price</th>\n",
       "      <th>year</th>\n",
       "      <th>manufacturer</th>\n",
       "      <th>model</th>\n",
       "      <th>condition</th>\n",
       "      <th>cylinders</th>\n",
       "      <th>...</th>\n",
       "      <th>size</th>\n",
       "      <th>type</th>\n",
       "      <th>paint_color</th>\n",
       "      <th>image_url</th>\n",
       "      <th>description</th>\n",
       "      <th>county</th>\n",
       "      <th>state</th>\n",
       "      <th>lat</th>\n",
       "      <th>long</th>\n",
       "      <th>posting_date</th>\n",
       "    </tr>\n",
       "  </thead>\n",
       "  <tbody>\n",
       "    <tr>\n",
       "      <th>426875</th>\n",
       "      <td>7301591192</td>\n",
       "      <td>https://wyoming.craigslist.org/ctd/d/atlanta-2...</td>\n",
       "      <td>wyoming</td>\n",
       "      <td>https://wyoming.craigslist.org</td>\n",
       "      <td>23590</td>\n",
       "      <td>2019.0</td>\n",
       "      <td>nissan</td>\n",
       "      <td>maxima s sedan 4d</td>\n",
       "      <td>good</td>\n",
       "      <td>6 cylinders</td>\n",
       "      <td>...</td>\n",
       "      <td>NaN</td>\n",
       "      <td>sedan</td>\n",
       "      <td>NaN</td>\n",
       "      <td>https://images.craigslist.org/00o0o_iiraFnHg8q...</td>\n",
       "      <td>Carvana is the safer way to buy a car During t...</td>\n",
       "      <td>NaN</td>\n",
       "      <td>wy</td>\n",
       "      <td>33.786500</td>\n",
       "      <td>-84.445400</td>\n",
       "      <td>2021-04-04T03:21:31-0600</td>\n",
       "    </tr>\n",
       "    <tr>\n",
       "      <th>426876</th>\n",
       "      <td>7301591187</td>\n",
       "      <td>https://wyoming.craigslist.org/ctd/d/atlanta-2...</td>\n",
       "      <td>wyoming</td>\n",
       "      <td>https://wyoming.craigslist.org</td>\n",
       "      <td>30590</td>\n",
       "      <td>2020.0</td>\n",
       "      <td>volvo</td>\n",
       "      <td>s60 t5 momentum sedan 4d</td>\n",
       "      <td>good</td>\n",
       "      <td>NaN</td>\n",
       "      <td>...</td>\n",
       "      <td>NaN</td>\n",
       "      <td>sedan</td>\n",
       "      <td>red</td>\n",
       "      <td>https://images.craigslist.org/00x0x_15sbgnxCIS...</td>\n",
       "      <td>Carvana is the safer way to buy a car During t...</td>\n",
       "      <td>NaN</td>\n",
       "      <td>wy</td>\n",
       "      <td>33.786500</td>\n",
       "      <td>-84.445400</td>\n",
       "      <td>2021-04-04T03:21:29-0600</td>\n",
       "    </tr>\n",
       "    <tr>\n",
       "      <th>426877</th>\n",
       "      <td>7301591147</td>\n",
       "      <td>https://wyoming.craigslist.org/ctd/d/atlanta-2...</td>\n",
       "      <td>wyoming</td>\n",
       "      <td>https://wyoming.craigslist.org</td>\n",
       "      <td>34990</td>\n",
       "      <td>2020.0</td>\n",
       "      <td>cadillac</td>\n",
       "      <td>xt4 sport suv 4d</td>\n",
       "      <td>good</td>\n",
       "      <td>NaN</td>\n",
       "      <td>...</td>\n",
       "      <td>NaN</td>\n",
       "      <td>hatchback</td>\n",
       "      <td>white</td>\n",
       "      <td>https://images.craigslist.org/00L0L_farM7bxnxR...</td>\n",
       "      <td>Carvana is the safer way to buy a car During t...</td>\n",
       "      <td>NaN</td>\n",
       "      <td>wy</td>\n",
       "      <td>33.779214</td>\n",
       "      <td>-84.411811</td>\n",
       "      <td>2021-04-04T03:21:17-0600</td>\n",
       "    </tr>\n",
       "    <tr>\n",
       "      <th>426878</th>\n",
       "      <td>7301591140</td>\n",
       "      <td>https://wyoming.craigslist.org/ctd/d/atlanta-2...</td>\n",
       "      <td>wyoming</td>\n",
       "      <td>https://wyoming.craigslist.org</td>\n",
       "      <td>28990</td>\n",
       "      <td>2018.0</td>\n",
       "      <td>lexus</td>\n",
       "      <td>es 350 sedan 4d</td>\n",
       "      <td>good</td>\n",
       "      <td>6 cylinders</td>\n",
       "      <td>...</td>\n",
       "      <td>NaN</td>\n",
       "      <td>sedan</td>\n",
       "      <td>silver</td>\n",
       "      <td>https://images.craigslist.org/00z0z_bKnIVGLkDT...</td>\n",
       "      <td>Carvana is the safer way to buy a car During t...</td>\n",
       "      <td>NaN</td>\n",
       "      <td>wy</td>\n",
       "      <td>33.786500</td>\n",
       "      <td>-84.445400</td>\n",
       "      <td>2021-04-04T03:21:11-0600</td>\n",
       "    </tr>\n",
       "    <tr>\n",
       "      <th>426879</th>\n",
       "      <td>7301591129</td>\n",
       "      <td>https://wyoming.craigslist.org/ctd/d/atlanta-2...</td>\n",
       "      <td>wyoming</td>\n",
       "      <td>https://wyoming.craigslist.org</td>\n",
       "      <td>30590</td>\n",
       "      <td>2019.0</td>\n",
       "      <td>bmw</td>\n",
       "      <td>4 series 430i gran coupe</td>\n",
       "      <td>good</td>\n",
       "      <td>NaN</td>\n",
       "      <td>...</td>\n",
       "      <td>NaN</td>\n",
       "      <td>coupe</td>\n",
       "      <td>NaN</td>\n",
       "      <td>https://images.craigslist.org/00Y0Y_lEUocjyRxa...</td>\n",
       "      <td>Carvana is the safer way to buy a car During t...</td>\n",
       "      <td>NaN</td>\n",
       "      <td>wy</td>\n",
       "      <td>33.779214</td>\n",
       "      <td>-84.411811</td>\n",
       "      <td>2021-04-04T03:21:07-0600</td>\n",
       "    </tr>\n",
       "  </tbody>\n",
       "</table>\n",
       "<p>5 rows × 26 columns</p>\n",
       "</div>"
      ],
      "text/plain": [
       "                id                                                url  \\\n",
       "426875  7301591192  https://wyoming.craigslist.org/ctd/d/atlanta-2...   \n",
       "426876  7301591187  https://wyoming.craigslist.org/ctd/d/atlanta-2...   \n",
       "426877  7301591147  https://wyoming.craigslist.org/ctd/d/atlanta-2...   \n",
       "426878  7301591140  https://wyoming.craigslist.org/ctd/d/atlanta-2...   \n",
       "426879  7301591129  https://wyoming.craigslist.org/ctd/d/atlanta-2...   \n",
       "\n",
       "         region                      region_url  price    year manufacturer  \\\n",
       "426875  wyoming  https://wyoming.craigslist.org  23590  2019.0       nissan   \n",
       "426876  wyoming  https://wyoming.craigslist.org  30590  2020.0        volvo   \n",
       "426877  wyoming  https://wyoming.craigslist.org  34990  2020.0     cadillac   \n",
       "426878  wyoming  https://wyoming.craigslist.org  28990  2018.0        lexus   \n",
       "426879  wyoming  https://wyoming.craigslist.org  30590  2019.0          bmw   \n",
       "\n",
       "                           model condition    cylinders  ... size       type  \\\n",
       "426875         maxima s sedan 4d      good  6 cylinders  ...  NaN      sedan   \n",
       "426876  s60 t5 momentum sedan 4d      good          NaN  ...  NaN      sedan   \n",
       "426877          xt4 sport suv 4d      good          NaN  ...  NaN  hatchback   \n",
       "426878           es 350 sedan 4d      good  6 cylinders  ...  NaN      sedan   \n",
       "426879  4 series 430i gran coupe      good          NaN  ...  NaN      coupe   \n",
       "\n",
       "       paint_color                                          image_url  \\\n",
       "426875         NaN  https://images.craigslist.org/00o0o_iiraFnHg8q...   \n",
       "426876         red  https://images.craigslist.org/00x0x_15sbgnxCIS...   \n",
       "426877       white  https://images.craigslist.org/00L0L_farM7bxnxR...   \n",
       "426878      silver  https://images.craigslist.org/00z0z_bKnIVGLkDT...   \n",
       "426879         NaN  https://images.craigslist.org/00Y0Y_lEUocjyRxa...   \n",
       "\n",
       "                                              description county state  \\\n",
       "426875  Carvana is the safer way to buy a car During t...    NaN    wy   \n",
       "426876  Carvana is the safer way to buy a car During t...    NaN    wy   \n",
       "426877  Carvana is the safer way to buy a car During t...    NaN    wy   \n",
       "426878  Carvana is the safer way to buy a car During t...    NaN    wy   \n",
       "426879  Carvana is the safer way to buy a car During t...    NaN    wy   \n",
       "\n",
       "              lat       long              posting_date  \n",
       "426875  33.786500 -84.445400  2021-04-04T03:21:31-0600  \n",
       "426876  33.786500 -84.445400  2021-04-04T03:21:29-0600  \n",
       "426877  33.779214 -84.411811  2021-04-04T03:21:17-0600  \n",
       "426878  33.786500 -84.445400  2021-04-04T03:21:11-0600  \n",
       "426879  33.779214 -84.411811  2021-04-04T03:21:07-0600  \n",
       "\n",
       "[5 rows x 26 columns]"
      ]
     },
     "execution_count": 6,
     "metadata": {},
     "output_type": "execute_result"
    }
   ],
   "source": [
    "myDF.tail()"
   ]
  },
  {
   "cell_type": "markdown",
   "id": "8e586edd-ff26-4ce2-8f6b-2424b26f2929",
   "metadata": {},
   "source": [
    "## Question 3"
   ]
  },
  {
   "cell_type": "code",
   "execution_count": 7,
   "id": "bbe0f40d-9655-4653-9ca8-886bdb61cb91",
   "metadata": {},
   "outputs": [
    {
     "name": "stdout",
     "output_type": "stream",
     "text": [
      "(426880, 26)\n"
     ]
    }
   ],
   "source": [
    "# display the number of columns and rows in myDF\n",
    "print(myDF.shape)"
   ]
  },
  {
   "cell_type": "code",
   "execution_count": 8,
   "id": "bc30ca82-80f0-49da-9a1e-7c33a6d8bcd7",
   "metadata": {},
   "outputs": [
    {
     "name": "stdout",
     "output_type": "stream",
     "text": [
      "Index(['id', 'url', 'region', 'region_url', 'price', 'year', 'manufacturer',\n",
      "       'model', 'condition', 'cylinders', 'fuel', 'odometer', 'title_status',\n",
      "       'transmission', 'VIN', 'drive', 'size', 'type', 'paint_color',\n",
      "       'image_url', 'description', 'county', 'state', 'lat', 'long',\n",
      "       'posting_date'],\n",
      "      dtype='object')\n"
     ]
    }
   ],
   "source": [
    "print(myDF.columns)"
   ]
  },
  {
   "cell_type": "markdown",
   "id": "47c6229f-35f7-400c-8366-c442baa5cf47",
   "metadata": {},
   "source": [
    "a) There are 426880 rows and 26 columns in myDF."
   ]
  },
  {
   "cell_type": "markdown",
   "id": "da22f29c-d245-4d2b-9fc1-ca14cb6087d9",
   "metadata": {},
   "source": [
    "## Question 4"
   ]
  },
  {
   "cell_type": "code",
   "execution_count": 9,
   "id": "8cffc767-d1c8-4d64-b7dc-f0d2ee8a80d1",
   "metadata": {},
   "outputs": [
    {
     "data": {
      "text/plain": [
       "312633"
      ]
     },
     "execution_count": 9,
     "metadata": {},
     "output_type": "execute_result"
    }
   ],
   "source": [
    "# Finding number of cars with a price > $6000\n",
    "len(myDF[myDF['price'] > 6000])"
   ]
  },
  {
   "cell_type": "code",
   "execution_count": 10,
   "id": "94fc490f-8d25-48ea-b0e1-2d4f08bdeae6",
   "metadata": {},
   "outputs": [
    {
     "data": {
      "text/plain": [
       "array(['az', 'ar', 'fl', 'ma', 'nc', 'ny', 'or', 'pa', 'tx', 'wa', 'wi',\n",
       "       'al', 'ak', 'ca', 'co', 'ct', 'dc', 'de', 'ga', 'hi', 'id', 'il',\n",
       "       'in', 'ia', 'ks', 'ky', 'la', 'me', 'md', 'mi', 'mn', 'ms', 'mo',\n",
       "       'mt', 'ne', 'nv', 'nj', 'nm', 'nh', 'nd', 'oh', 'ok', 'ri', 'sc',\n",
       "       'sd', 'tn', 'ut', 'vt', 'va', 'wv', 'wy'], dtype=object)"
      ]
     },
     "execution_count": 10,
     "metadata": {},
     "output_type": "execute_result"
    }
   ],
   "source": [
    "myDF['state'].unique()"
   ]
  },
  {
   "cell_type": "code",
   "execution_count": 11,
   "id": "b7c66ae7-6164-4239-ac18-ae5f0cf9cfa3",
   "metadata": {},
   "outputs": [
    {
     "data": {
      "text/plain": [
       "22945"
      ]
     },
     "execution_count": 11,
     "metadata": {},
     "output_type": "execute_result"
    }
   ],
   "source": [
    "# Finding the number of cars from Texas\n",
    "len(myDF[myDF['state'] == 'tx'])  "
   ]
  },
  {
   "cell_type": "code",
   "execution_count": 12,
   "id": "38873edd-75b4-4da8-88d5-d03064449e29",
   "metadata": {},
   "outputs": [
    {
     "data": {
      "text/plain": [
       "5704"
      ]
     },
     "execution_count": 12,
     "metadata": {},
     "output_type": "execute_result"
    }
   ],
   "source": [
    "# Finding the number of cars from Indiana\n",
    "len(myDF[myDF['state'] == 'in'])"
   ]
  },
  {
   "cell_type": "code",
   "execution_count": 13,
   "id": "52ff10c6-320d-462a-9db0-945e00b0b636",
   "metadata": {},
   "outputs": [
    {
     "data": {
      "text/plain": [
       "array(['prescott', 'fayetteville', 'florida keys',\n",
       "       'worcester / central MA', 'greensboro', 'hudson valley',\n",
       "       'medford-ashland', 'erie', 'el paso', 'bellingham',\n",
       "       'skagit / island / SJI', 'la crosse', 'auburn', 'birmingham',\n",
       "       'dothan', 'florence / muscle shoals', 'gadsden-anniston',\n",
       "       'huntsville / decatur', 'mobile', 'montgomery', 'tuscaloosa',\n",
       "       'anchorage / mat-su', 'fairbanks', 'kenai peninsula',\n",
       "       'southeast alaska', 'flagstaff / sedona', 'mohave county',\n",
       "       'phoenix', 'show low', 'sierra vista', 'tucson', 'yuma',\n",
       "       'fort smith', 'jonesboro', 'little rock', 'texarkana',\n",
       "       'bakersfield', 'chico', 'fresno / madera', 'gold country',\n",
       "       'hanford-corcoran', 'humboldt county', 'imperial county',\n",
       "       'inland empire', 'los angeles', 'mendocino county', 'merced',\n",
       "       'modesto', 'monterey bay', 'orange county', 'palm springs',\n",
       "       'redding', 'reno / tahoe', 'sacramento', 'san diego',\n",
       "       'san luis obispo', 'santa barbara', 'santa maria', 'SF bay area',\n",
       "       'siskiyou county', 'stockton', 'susanville', 'ventura county',\n",
       "       'visalia-tulare', 'yuba-sutter', 'boulder', 'colorado springs',\n",
       "       'denver', 'eastern CO', 'fort collins / north CO', 'high rockies',\n",
       "       'pueblo', 'western slope', 'eastern CT', 'hartford', 'new haven',\n",
       "       'northwest CT', 'washington, DC', 'delaware', 'daytona beach',\n",
       "       'ft myers / SW florida', 'gainesville', 'heartland florida',\n",
       "       'jacksonville', 'lakeland', 'north central FL', 'ocala',\n",
       "       'okaloosa / walton', 'orlando', 'panama city', 'pensacola',\n",
       "       'sarasota-bradenton', 'south florida', 'space coast',\n",
       "       'st augustine', 'tallahassee', 'tampa bay area', 'treasure coast',\n",
       "       'albany', 'athens', 'atlanta', 'augusta', 'brunswick', 'columbus',\n",
       "       'macon / warner robins', 'northwest GA', 'savannah / hinesville',\n",
       "       'statesboro', 'valdosta', 'hawaii', 'boise', 'east idaho',\n",
       "       'lewiston / clarkston', 'pullman / moscow',\n",
       "       \"spokane / coeur d'alene\", 'twin falls', 'bloomington-normal',\n",
       "       'champaign urbana', 'chicago', 'decatur', 'la salle co',\n",
       "       'mattoon-charleston', 'peoria', 'quad cities, IA/IL', 'rockford',\n",
       "       'southern illinois', 'springfield', 'st louis, MO', 'western IL',\n",
       "       'bloomington', 'evansville', 'fort wayne', 'indianapolis',\n",
       "       'kokomo', 'lafayette / west lafayette', 'muncie / anderson',\n",
       "       'richmond', 'south bend / michiana', 'terre haute', 'ames',\n",
       "       'cedar rapids', 'des moines', 'dubuque', 'fort dodge', 'iowa city',\n",
       "       'mason city', 'omaha / council bluffs', 'sioux city',\n",
       "       'southeast IA', 'waterloo / cedar falls', 'kansas city, MO',\n",
       "       'lawrence', 'manhattan', 'northwest KS', 'salina', 'southeast KS',\n",
       "       'southwest KS', 'topeka', 'wichita', 'bowling green',\n",
       "       'eastern kentucky', 'huntington-ashland', 'lexington',\n",
       "       'louisville', 'owensboro', 'western KY', 'baton rouge',\n",
       "       'central louisiana', 'houma', 'lafayette', 'lake charles',\n",
       "       'monroe', 'new orleans', 'shreveport', 'maine', 'annapolis',\n",
       "       'baltimore', 'cumberland valley', 'eastern shore', 'frederick',\n",
       "       'southern maryland', 'western maryland', 'boston',\n",
       "       'cape cod / islands', 'south coast', 'western massachusetts',\n",
       "       'ann arbor', 'battle creek', 'central michigan', 'detroit metro',\n",
       "       'flint', 'grand rapids', 'holland', 'jackson', 'kalamazoo',\n",
       "       'lansing', 'muskegon', 'northern michigan', 'port huron',\n",
       "       'saginaw-midland-baycity', 'southwest michigan', 'the thumb',\n",
       "       'upper peninsula', 'bemidji', 'brainerd', 'duluth / superior',\n",
       "       'fargo / moorhead', 'mankato', 'minneapolis / st paul',\n",
       "       'rochester', 'southwest MN', 'st cloud', 'gulfport / biloxi',\n",
       "       'hattiesburg', 'meridian', 'north mississippi', 'southwest MS',\n",
       "       'columbia / jeff city', 'joplin', 'kansas city', 'kirksville',\n",
       "       'lake of the ozarks', 'southeast missouri', 'st joseph',\n",
       "       'st louis', 'billings', 'bozeman', 'butte', 'eastern montana',\n",
       "       'great falls', 'helena', 'kalispell', 'missoula', 'asheville',\n",
       "       'boone', 'charlotte', 'eastern NC', 'hickory / lenoir',\n",
       "       'outer banks', 'raleigh / durham / CH', 'wilmington',\n",
       "       'winston-salem', 'grand island', 'lincoln', 'north platte',\n",
       "       'scottsbluff / panhandle', 'elko', 'las vegas', 'central NJ',\n",
       "       'jersey shore', 'north jersey', 'south jersey', 'albuquerque',\n",
       "       'clovis / portales', 'farmington', 'las cruces',\n",
       "       'roswell / carlsbad', 'santa fe / taos', 'binghamton', 'buffalo',\n",
       "       'catskills', 'chautauqua', 'elmira-corning', 'finger lakes',\n",
       "       'glens falls', 'ithaca', 'long island', 'new york city', 'oneonta',\n",
       "       'plattsburgh-adirondacks', 'potsdam-canton-massena', 'syracuse',\n",
       "       'twin tiers NY/PA', 'utica-rome-oneida', 'watertown',\n",
       "       'new hampshire', 'bismarck', 'grand forks', 'north dakota',\n",
       "       'akron / canton', 'ashtabula', 'chillicothe', 'cincinnati',\n",
       "       'cleveland', 'dayton / springfield', 'lima / findlay', 'mansfield',\n",
       "       'northern panhandle', 'parkersburg-marietta', 'sandusky', 'toledo',\n",
       "       'tuscarawas co', 'youngstown', 'zanesville / cambridge',\n",
       "       'fort smith, AR', 'lawton', 'northwest OK', 'oklahoma city',\n",
       "       'stillwater', 'texoma', 'tulsa', 'bend', 'corvallis/albany',\n",
       "       'east oregon', 'eugene', 'klamath falls', 'oregon coast',\n",
       "       'portland', 'roseburg', 'salem', 'altoona-johnstown', 'harrisburg',\n",
       "       'lancaster', 'lehigh valley', 'meadville', 'philadelphia',\n",
       "       'pittsburgh', 'poconos', 'reading', 'scranton / wilkes-barre',\n",
       "       'state college', 'williamsport', 'york', 'rhode island',\n",
       "       'charleston', 'columbia', 'florence', 'greenville / upstate',\n",
       "       'hilton head', 'myrtle beach', 'northeast SD',\n",
       "       'pierre / central SD', 'rapid city / west SD',\n",
       "       'sioux falls / SE SD', 'south dakota', 'chattanooga',\n",
       "       'clarksville', 'cookeville', 'knoxville', 'memphis', 'nashville',\n",
       "       'tri-cities', 'abilene', 'amarillo', 'austin',\n",
       "       'beaumont / port arthur', 'brownsville', 'college station',\n",
       "       'corpus christi', 'dallas / fort worth', 'deep east texas',\n",
       "       'del rio / eagle pass', 'galveston', 'houston',\n",
       "       'killeen / temple / ft hood', 'laredo', 'lubbock',\n",
       "       'mcallen / edinburg', 'odessa / midland', 'san angelo',\n",
       "       'san antonio', 'san marcos', 'southwest TX', 'tyler / east TX',\n",
       "       'victoria', 'waco', 'wichita falls', 'logan', 'ogden-clearfield',\n",
       "       'provo / orem', 'salt lake city', 'st george', 'vermont',\n",
       "       'charlottesville', 'danville', 'fredericksburg', 'harrisonburg',\n",
       "       'lynchburg', 'new river valley', 'norfolk / hampton roads',\n",
       "       'roanoke', 'southwest VA', 'winchester',\n",
       "       'kennewick-pasco-richland', 'moses lake', 'olympic peninsula',\n",
       "       'seattle-tacoma', 'wenatchee', 'yakima', 'eastern panhandle',\n",
       "       'morgantown', 'southern WV', 'west virginia (old)',\n",
       "       'appleton-oshkosh-FDL', 'eau claire', 'green bay', 'janesville',\n",
       "       'kenosha-racine', 'madison', 'milwaukee', 'northern WI',\n",
       "       'sheboygan', 'wausau', 'wyoming'], dtype=object)"
      ]
     },
     "execution_count": 13,
     "metadata": {},
     "output_type": "execute_result"
    }
   ],
   "source": [
    "#Display each unique region\n",
    "myDF['region'].unique()"
   ]
  },
  {
   "cell_type": "code",
   "execution_count": 14,
   "id": "b4872023-8acf-46d0-899a-4229c687dd96",
   "metadata": {},
   "outputs": [
    {
     "data": {
      "text/plain": [
       "404"
      ]
     },
     "execution_count": 14,
     "metadata": {},
     "output_type": "execute_result"
    }
   ],
   "source": [
    "#Displaying the number of unique regions\n",
    "len(myDF['region'].unique())"
   ]
  },
  {
   "cell_type": "markdown",
   "id": "0d552245-b4d6-474a-9cc9-fa7b8e674d55",
   "metadata": {},
   "source": [
    "a) There are 312633 vehicles with a price greater than $6000.\n",
    "\n",
    "b) There are 5704 vehicles from Indiana and 22945 vehicles from Texas.\n",
    "\n",
    "c) There are 404 unique regions in the data frame."
   ]
  },
  {
   "cell_type": "markdown",
   "id": "88c9cdac-3e92-498f-83fa-e089bfc44ac8",
   "metadata": {},
   "source": [
    "## Question 5"
   ]
  },
  {
   "cell_type": "code",
   "execution_count": 15,
   "id": "d370d7c9-06db-42b9-b75f-240481a5c491",
   "metadata": {},
   "outputs": [],
   "source": [
    "# creating the subset of myDF for barplot\n",
    "subsetDF = myDF[myDF['price'] < 6000]"
   ]
  },
  {
   "cell_type": "code",
   "execution_count": 16,
   "id": "6aaaaf09-926f-49bf-8161-40c3c5877fa5",
   "metadata": {},
   "outputs": [
    {
     "data": {
      "text/plain": [
       "(112670, 26)"
      ]
     },
     "execution_count": 16,
     "metadata": {},
     "output_type": "execute_result"
    }
   ],
   "source": [
    "subsetDF.shape"
   ]
  },
  {
   "cell_type": "code",
   "execution_count": 17,
   "id": "de6f7326-5b91-435d-84c7-51bbb3ffde29",
   "metadata": {},
   "outputs": [],
   "source": [
    "stateDF = subsetDF.groupby('state').size()"
   ]
  },
  {
   "cell_type": "code",
   "execution_count": 57,
   "id": "afb90995-7092-4514-b0ca-4f9d2197c4b9",
   "metadata": {
    "collapsed": true,
    "jupyter": {
     "outputs_hidden": true
    },
    "tags": []
   },
   "outputs": [
    {
     "data": {
      "text/plain": [
       "state\n",
       "ak      283\n",
       "al      982\n",
       "ar     1264\n",
       "az     1754\n",
       "ca    13650\n",
       "co     2404\n",
       "ct     1505\n",
       "dc      942\n",
       "de      296\n",
       "fl     7299\n",
       "ga     1866\n",
       "hi      729\n",
       "ia     1881\n",
       "id     2050\n",
       "il     3011\n",
       "in     1268\n",
       "ks     1358\n",
       "ky      659\n",
       "la      868\n",
       "ma     2369\n",
       "md     1448\n",
       "me     1036\n",
       "mi     4746\n",
       "mn     2023\n",
       "mo      866\n",
       "ms      252\n",
       "mt      991\n",
       "nc     4831\n",
       "nd       59\n",
       "ne      186\n",
       "nh      783\n",
       "nj     2850\n",
       "nm     1144\n",
       "nv      545\n",
       "ny     5071\n",
       "oh     5649\n",
       "ok     2073\n",
       "or     6460\n",
       "pa     3916\n",
       "ri      599\n",
       "sc     1474\n",
       "sd      315\n",
       "tn     1980\n",
       "tx     5463\n",
       "ut      180\n",
       "va     3944\n",
       "vt      494\n",
       "wa     3737\n",
       "wi     2871\n",
       "wv      145\n",
       "wy      101\n",
       "dtype: int64"
      ]
     },
     "execution_count": 57,
     "metadata": {},
     "output_type": "execute_result"
    }
   ],
   "source": [
    "stateDF"
   ]
  },
  {
   "cell_type": "code",
   "execution_count": 18,
   "id": "5de633fb-62ab-44ef-a9bb-bf71b25d1e6a",
   "metadata": {},
   "outputs": [
    {
     "data": {
      "text/plain": [
       "Text(0, 0.5, 'Number of Cars')"
      ]
     },
     "execution_count": 18,
     "metadata": {},
     "output_type": "execute_result"
    },
    {
     "data": {
      "image/png": "[encoded data removed]",
      "text/plain": [
       "<Figure size 2500x1000 with 1 Axes>"
      ]
     },
     "metadata": {},
     "output_type": "display_data"
    }
   ],
   "source": [
    "#Creating the bar plot\n",
    "import matplotlib.pyplot as plt\n",
    "stateDF.plot(kind='bar', figsize=(25,10))\n",
    "plt.title('Number of Car Priced < 6000 per State')\n",
    "plt.xlabel('State')\n",
    "plt.ylabel('Number of Cars')"
   ]
  },
  {
   "cell_type": "markdown",
   "id": "9fbf00fb-2418-460f-ae94-2a32b0c28952",
   "metadata": {},
   "source": [
    "Markdown notes and sentences and analysis written here."
   ]
  },
  {
   "cell_type": "markdown",
   "id": "f76442d6-d02e-4f26-b9d6-c3183e1d6929",
   "metadata": {},
   "source": [
    "## Pledge\n",
    "\n",
    "By submitting this work I hereby pledge that this is my own, personal work. I've acknowledged in the designated place at the top of this file all sources that I used to complete said work, including but not limited to: online resources, books, and electronic communications. I've noted all collaboration with fellow students and/or TA's. I did not copy or plagiarize another's work.\n",
    "\n",
    "> As a Boilermaker pursuing academic excellence, I pledge to be honest and true in all that I do. Accountable together – We are Purdue."
   ]
  }
 ],
 "metadata": {
  "kernelspec": {
   "display_name": "seminar",
   "language": "python",
   "name": "seminar"
  },
  "language_info": {
   "codemirror_mode": {
    "name": "ipython",
    "version": 3
   },
   "file_extension": ".py",
   "mimetype": "text/x-python",
   "name": "python",
   "nbconvert_exporter": "python",
   "pygments_lexer": "ipython3",
   "version": "3.11.5"
  }
 },
 "nbformat": 4,
 "nbformat_minor": 5
}
