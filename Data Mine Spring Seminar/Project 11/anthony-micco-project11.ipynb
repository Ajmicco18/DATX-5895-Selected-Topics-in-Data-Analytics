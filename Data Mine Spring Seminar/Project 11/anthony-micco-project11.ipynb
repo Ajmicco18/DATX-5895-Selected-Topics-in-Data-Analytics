{
 "cells": [
  {
   "cell_type": "markdown",
   "id": "be02a957-7133-4d02-818e-fedeb3cecb05",
   "metadata": {},
   "source": [
    "# Project 11 -- Anthony Micco"
   ]
  },
  {
   "cell_type": "markdown",
   "id": "a1228853-dd19-4ab2-89e0-0394d7d72de3",
   "metadata": {},
   "source": [
    "**TA Help:** N/A\n",
    "    \n",
    "**Collaboration:** N/A"
   ]
  },
  {
   "cell_type": "markdown",
   "id": "6180e742-8e39-4698-98ff-5b00c8cf8ea0",
   "metadata": {},
   "source": [
    "## Question 1"
   ]
  },
  {
   "cell_type": "code",
   "execution_count": 1,
   "id": "49445606-d363-41b4-b479-e319a9a84c01",
   "metadata": {},
   "outputs": [],
   "source": [
    "# creating flight class\n",
    "class Flight:\n",
    "    \n",
    "    def __init__(self,flight_number, origin_airport_ID, destination_airport_ID, departure_time, arrival_time, departure_delay, arrival_delay):\n",
    "        \n",
    "        self.flight_number = flight_number\n",
    "        self.origin_airport_ID = origin_airport_ID\n",
    "        self.destination_airport_ID = destination_airport_ID\n",
    "        self.departure_time = departure_time\n",
    "        self.arrival_time = arrival_time\n",
    "        self.departure_delay = departure_delay\n",
    "        self.arrival_delay = arrival_delay\n",
    "        \n",
    "    def getArrDelay(self):\n",
    "        return self.arrival_delay"
   ]
  },
  {
   "cell_type": "markdown",
   "id": "fc601975-35ed-4680-a4e1-0273ee3cc047",
   "metadata": {},
   "source": [
    "## Question 2"
   ]
  },
  {
   "cell_type": "code",
   "execution_count": 2,
   "id": "a16336a1-1ef0-41e8-bc7c-49387db27497",
   "metadata": {},
   "outputs": [],
   "source": [
    "# specifying columns\n",
    "cols = [ 'DepDelay', 'ArrDelay','Flight_Number_Reporting_Airline', 'Distance','CarrierDelay', 'WeatherDelay', \n",
    "        'DepTime', 'ArrTime', 'Origin','Dest', 'AirTime']"
   ]
  },
  {
   "cell_type": "code",
   "execution_count": 3,
   "id": "02e0da0a-9732-412e-8536-768a3e71b4b6",
   "metadata": {},
   "outputs": [],
   "source": [
    "# creating column dictionary \n",
    "col_types = {'DepDelay': 'float64','ArrDelay': 'float64','Flight_Number_Reporting_Airline':'int64',\n",
    "             'Distance': 'float64','CarrierDelay': 'float64','WeatherDelay': 'float64','Dest':'object',\n",
    "             'Origin':'object','DepTime': 'float64','ArrTime': 'float64','AirTime': 'float64'}"
   ]
  },
  {
   "cell_type": "code",
   "execution_count": 4,
   "id": "16fd1e5b-54e8-4c80-ae12-15adc8ce911a",
   "metadata": {},
   "outputs": [],
   "source": [
    "import pandas as pd\n",
    "import numpy as np\n",
    "\n",
    "#creating dataframe\n",
    "mydf = pd.read_csv(\"/anvil/projects/tdm/data/flights/2014.csv\", usecols=cols, dtype=col_types, nrows=100)"
   ]
  },
  {
   "cell_type": "code",
   "execution_count": 5,
   "id": "4752609f-490d-4399-9f15-ff786ae896f6",
   "metadata": {},
   "outputs": [],
   "source": [
    "#iterating through data frame to populate list\n",
    "myListOfFlights = []\n",
    "\n",
    "for index, row in mydf.iterrows():\n",
    "    myflight = Flight(\n",
    "        flight_number = row['Flight_Number_Reporting_Airline'],\n",
    "        origin_airport_ID = row['Origin'],\n",
    "        destination_airport_ID = row['Dest'],\n",
    "        departure_time = row['DepTime'],\n",
    "        arrival_time = row['ArrTime'],\n",
    "        departure_delay = row['DepDelay'],\n",
    "        arrival_delay = row['ArrDelay']\n",
    "    )\n",
    "    myListOfFlights.append(myflight)"
   ]
  },
  {
   "cell_type": "code",
   "execution_count": 6,
   "id": "110a5014-a329-47ff-a499-a61bf7fee7b5",
   "metadata": {},
   "outputs": [
    {
     "data": {
      "text/plain": [
       "100"
      ]
     },
     "execution_count": 6,
     "metadata": {},
     "output_type": "execute_result"
    }
   ],
   "source": [
    "len(myListOfFlights)"
   ]
  },
  {
   "cell_type": "markdown",
   "id": "8e586edd-ff26-4ce2-8f6b-2424b26f2929",
   "metadata": {},
   "source": [
    "## Question 3"
   ]
  },
  {
   "cell_type": "code",
   "execution_count": 7,
   "id": "bbe0f40d-9655-4653-9ca8-886bdb61cb91",
   "metadata": {},
   "outputs": [],
   "source": [
    "#defining delays dictionary\n",
    "delays_dest = {}\n",
    "\n",
    "for myflights in myListOfFlights:\n",
    "    if myflights.destination_airport_ID not in delays_dest:\n",
    "        delays_dest[myflights.destination_airport_ID] = []\n",
    "    delays_dest[myflights.destination_airport_ID].append(myflights.getArrDelay())"
   ]
  },
  {
   "cell_type": "code",
   "execution_count": 8,
   "id": "d2e0cae0-fcc0-4724-a33d-bedbbe3e4557",
   "metadata": {
    "tags": []
   },
   "outputs": [
    {
     "data": {
      "text/plain": [
       "{'ICT': [-4.0, 20.0],\n",
       " 'DFW': [2.0,\n",
       "  -7.0,\n",
       "  -16.0,\n",
       "  1.0,\n",
       "  9.0,\n",
       "  30.0,\n",
       "  27.0,\n",
       "  8.0,\n",
       "  91.0,\n",
       "  -3.0,\n",
       "  -13.0,\n",
       "  21.0,\n",
       "  -2.0,\n",
       "  -6.0,\n",
       "  -16.0,\n",
       "  37.0,\n",
       "  19.0,\n",
       "  -17.0,\n",
       "  -11.0,\n",
       "  5.0,\n",
       "  34.0,\n",
       "  -2.0,\n",
       "  -3.0,\n",
       "  -2.0,\n",
       "  -26.0,\n",
       "  -17.0,\n",
       "  -14.0,\n",
       "  -7.0,\n",
       "  15.0,\n",
       "  -19.0,\n",
       "  25.0],\n",
       " 'TPA': [-10.0,\n",
       "  57.0,\n",
       "  -1.0,\n",
       "  53.0,\n",
       "  83.0,\n",
       "  34.0,\n",
       "  -15.0,\n",
       "  12.0,\n",
       "  16.0,\n",
       "  -11.0,\n",
       "  2.0,\n",
       "  -11.0,\n",
       "  -4.0,\n",
       "  -7.0,\n",
       "  -14.0,\n",
       "  -10.0,\n",
       "  34.0,\n",
       "  -10.0,\n",
       "  -5.0,\n",
       "  -13.0],\n",
       " 'OGG': [-65.0, -52.0, -18.0, -17.0, -44.0, -42.0, -39.0, 0.0],\n",
       " 'SJC': [-12.0, -16.0, -3.0],\n",
       " 'KOA': [-34.0, -42.0, -46.0, -36.0],\n",
       " 'SMF': [-8.0],\n",
       " 'SEA': [-16.0, 4.0, 4.0, -3.0, -38.0, -20.0, -19.0, -15.0, -30.0],\n",
       " 'PDX': [-32.0, -21.0, -22.0],\n",
       " 'OAK': [-14.0, -21.0],\n",
       " 'HNL': [-52.0, -23.0, -36.0, -29.0, -36.0, -8.0, -17.0],\n",
       " 'SAN': [8.0, -21.0, -23.0],\n",
       " 'ANC': [-27.0, -27.0],\n",
       " 'LIH': [-58.0, -24.0],\n",
       " 'BLI': [-18.0],\n",
       " 'DCA': [-21.0, -23.0]}"
      ]
     },
     "execution_count": 8,
     "metadata": {},
     "output_type": "execute_result"
    }
   ],
   "source": [
    "delays_dest"
   ]
  },
  {
   "cell_type": "code",
   "execution_count": 9,
   "id": "899a8c58-51ff-4772-b24c-667ac5d85f1b",
   "metadata": {},
   "outputs": [],
   "source": [
    "#defining average delays dictionary\n",
    "average_delays = {myairport: sum(mydelays)/len(mydelays) for myairport, mydelays in delays_dest.items()}"
   ]
  },
  {
   "cell_type": "code",
   "execution_count": 10,
   "id": "7b390312-7842-4238-b852-cabf52d59d7e",
   "metadata": {},
   "outputs": [
    {
     "data": {
      "text/plain": [
       "{'ICT': 8.0,\n",
       " 'DFW': 4.612903225806452,\n",
       " 'TPA': 9.0,\n",
       " 'OGG': -34.625,\n",
       " 'SJC': -10.333333333333334,\n",
       " 'KOA': -39.5,\n",
       " 'SMF': -8.0,\n",
       " 'SEA': -14.777777777777779,\n",
       " 'PDX': -25.0,\n",
       " 'OAK': -17.5,\n",
       " 'HNL': -28.714285714285715,\n",
       " 'SAN': -12.0,\n",
       " 'ANC': -27.0,\n",
       " 'LIH': -41.0,\n",
       " 'BLI': -18.0,\n",
       " 'DCA': -22.0}"
      ]
     },
     "execution_count": 10,
     "metadata": {},
     "output_type": "execute_result"
    }
   ],
   "source": [
    "average_delays"
   ]
  },
  {
   "cell_type": "markdown",
   "id": "da22f29c-d245-4d2b-9fc1-ca14cb6087d9",
   "metadata": {},
   "source": [
    "## Question 4"
   ]
  },
  {
   "cell_type": "code",
   "execution_count": 11,
   "id": "8cffc767-d1c8-4d64-b7dc-f0d2ee8a80d1",
   "metadata": {},
   "outputs": [],
   "source": [
    "# creating average delays function\n",
    "def arr_avg_delays(myFlightList):\n",
    "    #Defining the destination delay dictionary\n",
    "    delays_dest = {}\n",
    "    \n",
    "    #Iterating though the flight list to populate delays_dictionary\n",
    "    for myflights in myFlightList:\n",
    "        #if the Airport ID is not already in dictionary, then add it\n",
    "        if myflights.destination_airport_ID not in delays_dest:\n",
    "            delays_dest[myflights.destination_airport_ID] = []\n",
    "        #Adding arrvival delay to the dictionary\n",
    "        delays_dest[myflights.destination_airport_ID].append(myflights.getArrDelay())\n",
    "    \n",
    "    #Defining the average delay dictionary and calculating the average delay for each airport\n",
    "    average_delays = {myairport: sum(mydelays)/len(mydelays) for myairport, mydelays in delays_dest.items()}\n",
    "    \n",
    "    return average_delays  "
   ]
  },
  {
   "cell_type": "code",
   "execution_count": 12,
   "id": "762aca1d-36dc-4432-b9c7-74571bdb357c",
   "metadata": {},
   "outputs": [
    {
     "data": {
      "text/plain": [
       "{'ICT': 8.0,\n",
       " 'DFW': 4.612903225806452,\n",
       " 'TPA': 9.0,\n",
       " 'OGG': -34.625,\n",
       " 'SJC': -10.333333333333334,\n",
       " 'KOA': -39.5,\n",
       " 'SMF': -8.0,\n",
       " 'SEA': -14.777777777777779,\n",
       " 'PDX': -25.0,\n",
       " 'OAK': -17.5,\n",
       " 'HNL': -28.714285714285715,\n",
       " 'SAN': -12.0,\n",
       " 'ANC': -27.0,\n",
       " 'LIH': -41.0,\n",
       " 'BLI': -18.0,\n",
       " 'DCA': -22.0}"
      ]
     },
     "execution_count": 12,
     "metadata": {},
     "output_type": "execute_result"
    }
   ],
   "source": [
    "arr_avg_delays(myListOfFlights)"
   ]
  },
  {
   "cell_type": "markdown",
   "id": "88c9cdac-3e92-498f-83fa-e089bfc44ac8",
   "metadata": {},
   "source": [
    "## Question 5"
   ]
  },
  {
   "cell_type": "code",
   "execution_count": 13,
   "id": "d93386e2-4c9a-4fd7-ae7f-ddc9e15ae88d",
   "metadata": {},
   "outputs": [],
   "source": [
    "#updating Flight class\n",
    "class Flight:\n",
    "    \n",
    "    def __init__(self,flight_number, origin_airport_ID, destination_airport_ID, departure_time, arrival_time, departure_delay, arrival_delay):\n",
    "        \n",
    "        self.flight_number = flight_number\n",
    "        self.origin_airport_ID = origin_airport_ID\n",
    "        self.destination_airport_ID = destination_airport_ID\n",
    "        self.departure_time = departure_time\n",
    "        self.arrival_time = arrival_time\n",
    "        self.departure_delay = departure_delay\n",
    "        self.arrival_delay = arrival_delay\n",
    "        \n",
    "    def getArrDelay(self):\n",
    "        return self.arrival_delay\n",
    "    \n",
    "    def getDepDelay(self):\n",
    "        return self.departure_delay"
   ]
  },
  {
   "cell_type": "code",
   "execution_count": 14,
   "id": "abbbb273-841c-4871-8bdf-f6f782289ccb",
   "metadata": {},
   "outputs": [],
   "source": [
    "#recreating myListOfFlights after class update\n",
    "myListOfFlights = []\n",
    "\n",
    "for index, row in mydf.iterrows():\n",
    "    myflight = Flight(\n",
    "        flight_number = row['Flight_Number_Reporting_Airline'],\n",
    "        origin_airport_ID = row['Origin'],\n",
    "        destination_airport_ID = row['Dest'],\n",
    "        departure_time = row['DepTime'],\n",
    "        arrival_time = row['ArrTime'],\n",
    "        departure_delay = row['DepDelay'],\n",
    "        arrival_delay = row['ArrDelay']\n",
    "    )\n",
    "    myListOfFlights.append(myflight)"
   ]
  },
  {
   "cell_type": "code",
   "execution_count": 15,
   "id": "2ecf619d-626b-4460-87a3-3320d3b05e85",
   "metadata": {},
   "outputs": [],
   "source": [
    "#creating average delays function for origin airport\n",
    "def dep_avg_delays(myFlightList):\n",
    "    #Defining the destination delay dictionary\n",
    "    delays_origin = {}\n",
    "    \n",
    "    #Iterating though the flight list to populate delays_dictionary\n",
    "    for myflights in myFlightList:\n",
    "        #if the Airport ID is not already in dictionary, then add it\n",
    "        if myflights.origin_airport_ID not in delays_origin:\n",
    "            delays_origin[myflights.origin_airport_ID] = []\n",
    "        #Adding arrvival delay to the dictionary\n",
    "        delays_origin[myflights.origin_airport_ID].append(myflights.getDepDelay())\n",
    "    \n",
    "    #Defining the average delay dictionary and calculating the average delay for each airport\n",
    "    average_delays = {myairport: sum(mydelays)/len(mydelays) for myairport, mydelays in delays_origin.items()}\n",
    "    \n",
    "    return average_delays  "
   ]
  },
  {
   "cell_type": "code",
   "execution_count": 16,
   "id": "8c22f1f9-2c76-4d22-a56f-3513432f89dc",
   "metadata": {},
   "outputs": [
    {
     "data": {
      "text/plain": [
       "{'DFW': 3.0,\n",
       " 'ICT': 10.612903225806452,\n",
       " 'MIA': 15.05,\n",
       " 'BLI': -10.5,\n",
       " 'PDX': -9.75,\n",
       " 'OGG': -5.777777777777778,\n",
       " 'OAK': -7.0,\n",
       " 'SMF': -9.0,\n",
       " 'KOA': -13.5,\n",
       " 'HNL': -6.285714285714286,\n",
       " 'SJC': -4.0,\n",
       " 'SEA': -2.6666666666666665,\n",
       " 'SAN': -4.0,\n",
       " 'LIH': -8.0,\n",
       " 'ANC': -9.0,\n",
       " 'DCA': -7.5}"
      ]
     },
     "execution_count": 16,
     "metadata": {},
     "output_type": "execute_result"
    }
   ],
   "source": [
    "dep_avg_delays(myListOfFlights)"
   ]
  },
  {
   "cell_type": "markdown",
   "id": "f76442d6-d02e-4f26-b9d6-c3183e1d6929",
   "metadata": {},
   "source": [
    "## Pledge\n",
    "\n",
    "By submitting this work I hereby pledge that this is my own, personal work. I've acknowledged in the designated place at the top of this file all sources that I used to complete said work, including but not limited to: online resources, books, and electronic communications. I've noted all collaboration with fellow students and/or TA's. I did not copy or plagiarize another's work.\n",
    "\n",
    "> As a Boilermaker pursuing academic excellence, I pledge to be honest and true in all that I do. Accountable together – We are Purdue."
   ]
  }
 ],
 "metadata": {
  "kernelspec": {
   "display_name": "seminar",
   "language": "python",
   "name": "seminar"
  },
  "language_info": {
   "codemirror_mode": {
    "name": "ipython",
    "version": 3
   },
   "file_extension": ".py",
   "mimetype": "text/x-python",
   "name": "python",
   "nbconvert_exporter": "python",
   "pygments_lexer": "ipython3",
   "version": "3.11.5"
  }
 },
 "nbformat": 4,
 "nbformat_minor": 5
}
