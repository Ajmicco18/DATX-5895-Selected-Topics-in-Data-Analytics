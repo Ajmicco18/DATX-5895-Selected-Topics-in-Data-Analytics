{
 "cells": [
  {
   "cell_type": "markdown",
   "id": "be02a957-7133-4d02-818e-fedeb3cecb05",
   "metadata": {},
   "source": [
    "# Project 14 -- Anthony Micco"
   ]
  },
  {
   "cell_type": "markdown",
   "id": "a1228853-dd19-4ab2-89e0-0394d7d72de3",
   "metadata": {},
   "source": [
    "**TA Help:** N/A\n",
    "    \n",
    "**Collaboration:** N/A"
   ]
  },
  {
   "cell_type": "markdown",
   "id": "6180e742-8e39-4698-98ff-5b00c8cf8ea0",
   "metadata": {},
   "source": [
    "## Question 1"
   ]
  },
  {
   "cell_type": "markdown",
   "id": "b456e57c-4a12-464b-999a-ef2df5af80c1",
   "metadata": {},
   "source": [
    "My favorite data set to work with during this semester was the flights dataset. The flights dataset was enjoyable to work with because it had so much data that we had to limit the data specifying the columns we wanted and the column types. It also contained some really neat data such as departure and arrival delay that was interesting to manipulate and analyze throughout the semester. Utilizing this dataset, I was able to learn many different ways to analyze the data such as numpy and pandas functions, as well as python math functions. This is illustrated in Question 2 of project 10 where I was manipulating the Departure Delay delay with the nan_to_num function in numpy."
   ]
  },
  {
   "cell_type": "code",
   "execution_count": null,
   "id": "49445606-d363-41b4-b479-e319a9a84c01",
   "metadata": {},
   "outputs": [],
   "source": [
    "# creating a mydelays numpy array\n",
    "\n",
    "mydelays = df[\"DepDelay\"].to_numpy()\n",
    "\n",
    "\n",
    "print(f\"The shape of mydelays is: {mydelays.shape}\")\n",
    "\n",
    "print(f\"The data type in mydelays is: {mydelays.dtype}\")\n",
    "\n",
    "\n",
    "mydelaysClean = np.nan_to_num(mydelays, nan=0)\n",
    "\n",
    "mydelaysClean.mean()\n",
    "\n",
    "\n",
    "mydelaysPlus = np.nan_to_num(mydelays,nan=0)\n",
    "\n",
    "for i in range(0,len(mydelaysPlus)):\n",
    "\n",
    "    mydelaysPlus[i] +=15\n",
    "\n",
    "\n",
    "mydelaysPlus.mean()\n",
    "\n",
    "\n",
    "print(f\"The average delayed departure time is: {mydelaysClean.mean()}\")\n",
    "\n",
    "print(f\"The average delayed departure time after adding 15 minutes is: {mydelaysPlus.mean()}\")"
   ]
  },
  {
   "cell_type": "markdown",
   "id": "fc601975-35ed-4680-a4e1-0273ee3cc047",
   "metadata": {},
   "source": [
    "## Question 2"
   ]
  },
  {
   "cell_type": "markdown",
   "id": "14dc22d4-ddc3-41cc-a91a-cb0025bc0c80",
   "metadata": {},
   "source": [
    "Out of all the functions I have utilized this semester, my favorite function was the super() function we used when working with classes during the last couple projects. I had utilized inheritance in programming languages such as C++ and Java, but I had never done any inheritance in Python, so I thought it was unique to use that function instead of using the extends syntax when defining the child class. Question 1 of Project 12 depicts where I was using the super() function when defining the ScheduledFlight class. "
   ]
  },
  {
   "cell_type": "code",
   "execution_count": null,
   "id": "a16336a1-1ef0-41e8-bc7c-49387db27497",
   "metadata": {},
   "outputs": [],
   "source": [
    "#creating ScheduledFlight subclass\n",
    "\n",
    "class ScheduledFlight(Flight):\n",
    "\n",
    "    \n",
    "\n",
    "    def __init__(self, flight_number, origin_airport_ID, destination_airport_ID, departure_time, arrival_time, departure_delay, arrival_delay, CRSDepTime, CRSArrTime):\n",
    "\n",
    "        \n",
    "\n",
    "        super().__init__(flight_number, origin_airport_ID, destination_airport_ID, departure_time, arrival_time, departure_delay, arrival_delay)\n",
    "\n",
    "        self.CRSDepTime = CRSDepTime\n",
    "\n",
    "        self.CRSArrTime = CRSArrTime\n",
    "\n",
    "    \n",
    "\n",
    "    def isOnTime(self):\n",
    "\n",
    "        if super().getArrDelay() <= 0 and super().getDepDelay() <= 0:\n",
    "\n",
    "            return True\n",
    "\n",
    "        else:\n",
    "\n",
    "            return False"
   ]
  },
  {
   "cell_type": "markdown",
   "id": "8e586edd-ff26-4ce2-8f6b-2424b26f2929",
   "metadata": {},
   "source": [
    "## Question 3"
   ]
  },
  {
   "cell_type": "markdown",
   "id": "47c6229f-35f7-400c-8366-c442baa5cf47",
   "metadata": {},
   "source": [
    "When working with functions, loops and classes, I would first ensure that each function worked outside of each structure before implementing them. I began utilizing this approach after watching one of Dr. Ward's videos and realizing that as long as the code worked outside of the structures, then with a bit of tweaking, they would work inside of them too. I utilized this approach in Question 3 of Project 7 where I was creating a function to return a dictionary that contained each element codes' amount of snowfall."
   ]
  },
  {
   "cell_type": "code",
   "execution_count": null,
   "id": "bbe0f40d-9655-4653-9ca8-886bdb61cb91",
   "metadata": {},
   "outputs": [],
   "source": [
    "#1883\n",
    "\n",
    "df = pd.read_csv(\"/anvil/projects/tdm/data/noaa/1883.csv\", \n",
    "\n",
    "                 header=None,\n",
    "\n",
    "                 names=[\"id\",\"date\",\"element_code\",\"value\",\"mflag\",\"qflag\",\"sflag\",\"obstime\"])\n",
    "\n",
    "len(df[(df['id'].str.startswith('US'))&(df['element_code']==\"SNOW\")&(df['value']>0)])\n",
    "\n",
    "\n",
    "us_snow_dict = {'1880':203, '1881':266,'1882':253,'1883':187}\n",
    "\n",
    "\n",
    "def find_us_id_snow(myyears):\n",
    "\n",
    "    year_dict = {}\n",
    "\n",
    "    column_title_list=[\"id\",\"date\",\"element_code\",\"value\",\"mflag\",\"qflag\",\"sflag\",\"obstime\"]\n",
    "\n",
    "    for year in myyears:\n",
    "\n",
    "        file = Path(f'/anvil/projects/tdm/data/noaa/{year}.csv')\n",
    "\n",
    "        myDF = pd.read_csv(file, header=None, names=column_title_list)\n",
    "\n",
    "        x = len(myDF[(myDF['id'].str.startswith('US'))&(myDF['element_code']==\"SNOW\")&(myDF['value']>0)])\n",
    "\n",
    "        year_dict[year]=x\n",
    "\n",
    "        \n",
    "\n",
    "    return year_dict"
   ]
  },
  {
   "cell_type": "markdown",
   "id": "da22f29c-d245-4d2b-9fc1-ca14cb6087d9",
   "metadata": {},
   "source": [
    "## Question 4"
   ]
  },
  {
   "cell_type": "markdown",
   "id": "0d552245-b4d6-474a-9cc9-fa7b8e674d55",
   "metadata": {},
   "source": [
    "This semester I did not really think that there were any questions that were confusing or difficult for me to understand. I thought that Dr. Ward and the DataMine staff did a great job of creating questions that were straight forward and clear to understand exactly what they wanted from us. "
   ]
  },
  {
   "cell_type": "markdown",
   "id": "88c9cdac-3e92-498f-83fa-e089bfc44ac8",
   "metadata": {},
   "source": [
    "## Question 5"
   ]
  },
  {
   "cell_type": "markdown",
   "id": "9fbf00fb-2418-460f-ae94-2a32b0c28952",
   "metadata": {},
   "source": [
    "I would like to explore more with Pandas, I know there is a GUI that can be used with Pandas to display your data. In addition, I am sure there are many more pandas function aside from pd.read_csv() that can be useful when analyzing and manipulating data. In addition, I would like to learn more about Flask and how to display the data we produce on a separate webpage. I have had some experience in web development, so I believe it would be beneficial for me to learn another type of web framework that I can utilize in a potential career. Finally, I would like to learn more about Python classes and see how I can get classes to relate to one another and inherit attributes and functions from one another. "
   ]
  },
  {
   "cell_type": "markdown",
   "id": "f76442d6-d02e-4f26-b9d6-c3183e1d6929",
   "metadata": {},
   "source": [
    "## Pledge\n",
    "\n",
    "By submitting this work I hereby pledge that this is my own, personal work. I've acknowledged in the designated place at the top of this file all sources that I used to complete said work, including but not limited to: online resources, books, and electronic communications. I've noted all collaboration with fellow students and/or TA's. I did not copy or plagiarize another's work.\n",
    "\n",
    "> As a Boilermaker pursuing academic excellence, I pledge to be honest and true in all that I do. Accountable together – We are Purdue."
   ]
  }
 ],
 "metadata": {
  "kernelspec": {
   "display_name": "seminar",
   "language": "python",
   "name": "seminar"
  },
  "language_info": {
   "codemirror_mode": {
    "name": "ipython",
    "version": 3
   },
   "file_extension": ".py",
   "mimetype": "text/x-python",
   "name": "python",
   "nbconvert_exporter": "python",
   "pygments_lexer": "ipython3",
   "version": "3.11.5"
  }
 },
 "nbformat": 4,
 "nbformat_minor": 5
}
