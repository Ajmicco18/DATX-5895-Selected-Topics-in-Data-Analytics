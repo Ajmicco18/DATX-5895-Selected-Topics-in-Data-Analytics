{
 "cells": [
  {
   "cell_type": "markdown",
   "id": "be02a957-7133-4d02-818e-fedeb3cecb05",
   "metadata": {},
   "source": [
    "# Project 12 - Anthony Micco"
   ]
  },
  {
   "cell_type": "markdown",
   "id": "a1228853-dd19-4ab2-89e0-0394d7d72de3",
   "metadata": {},
   "source": [
    "**TA Help:** N/A\n",
    "    \n",
    "**Collaboration:** N/A"
   ]
  },
  {
   "cell_type": "markdown",
   "id": "6180e742-8e39-4698-98ff-5b00c8cf8ea0",
   "metadata": {},
   "source": [
    "## Question 1"
   ]
  },
  {
   "cell_type": "code",
   "execution_count": 1,
   "id": "49445606-d363-41b4-b479-e319a9a84c01",
   "metadata": {},
   "outputs": [
    {
     "name": "stdout",
     "output_type": "stream",
     "text": [
      "My program took 2.361281394958496 to run\n"
     ]
    }
   ],
   "source": [
    "#defining the polars code to see how fast it runs\n",
    "import polars as pl\n",
    "import time\n",
    "start_time = time.time()\n",
    "myDF = pl.read_csv(\"/anvil/projects/tdm/data/flights/subset/2002.csv\", null_values=\"NA\")\n",
    "print(\"My program took\", time.time() - start_time, \"to run\")"
   ]
  },
  {
   "cell_type": "code",
   "execution_count": 2,
   "id": "f6ce965f-8850-4a99-96b0-99dbf4f18408",
   "metadata": {},
   "outputs": [
    {
     "name": "stdout",
     "output_type": "stream",
     "text": [
      "My program took 5.779568672180176 to run\n"
     ]
    }
   ],
   "source": [
    "#defining the pandas code to see how fast it runs\n",
    "import pandas as pd\n",
    "import time\n",
    "start_time = time.time()\n",
    "myDF = pd.read_csv(\"/anvil/projects/tdm/data/flights/subset/2002.csv\")\n",
    "print(\"My program took\", time.time() - start_time, \"to run\")"
   ]
  },
  {
   "cell_type": "markdown",
   "id": "b456e57c-4a12-464b-999a-ef2df5af80c1",
   "metadata": {},
   "source": [
    "Polars runs about 5-6 times as fast as pandas does when loading this data set as Polars took aproximately 1.05 seconds to run, while Pandas took aproximately 6.1 seconds to run."
   ]
  },
  {
   "cell_type": "markdown",
   "id": "fc601975-35ed-4680-a4e1-0273ee3cc047",
   "metadata": {},
   "source": [
    "## Question 2"
   ]
  },
  {
   "cell_type": "code",
   "execution_count": 3,
   "id": "a16336a1-1ef0-41e8-bc7c-49387db27497",
   "metadata": {},
   "outputs": [
    {
     "name": "stdout",
     "output_type": "stream",
     "text": [
      "My program took 0.0636148452758789 to run\n",
      "The average delay for Indianapolis flights was 3.9418510691198407\n"
     ]
    }
   ],
   "source": [
    "# calculating the time it takes to read in the dataset in Polars\n",
    "import polars as pl\n",
    "# read in the 2002 flight data to a Polars data frame again\n",
    "myDF = pl.read_csv(\"/anvil/projects/tdm/data/flights/subset/2002.csv\", null_values=\"NA\")\n",
    "\n",
    "import time\n",
    "start_time = time.time()\n",
    "myresults = myDF.filter(pl.col(\"Origin\") == \"IND\")['DepDelay'].mean()\n",
    "print(\"My program took\", time.time() - start_time, \"to run\")\n",
    "print(\"The average delay for Indianapolis flights was \" + str(myresults))"
   ]
  },
  {
   "cell_type": "code",
   "execution_count": 4,
   "id": "b1a1153b-29d7-480c-88f9-1006f4f03fc6",
   "metadata": {},
   "outputs": [
    {
     "name": "stdout",
     "output_type": "stream",
     "text": [
      "My program took 0.29450297355651855 to run\n",
      "The average delay for Indianapolis flights was 3.9418510691198407\n"
     ]
    }
   ],
   "source": [
    "# calculating the time it takes to read in the dataset in Pandas\n",
    "import pandas as pd\n",
    "# read in the 2002 flight data to a Pandas data frame again\n",
    "myDF = pd.read_csv(\"/anvil/projects/tdm/data/flights/subset/2002.csv\")\n",
    "\n",
    "import time\n",
    "start_time = time.time()\n",
    "myresults = myDF[myDF['Origin'] == \"IND\"]['DepDelay'].mean()\n",
    "print(\"My program took\", time.time() - start_time, \"to run\")\n",
    "print(\"The average delay for Indianapolis flights was \" + str(myresults))"
   ]
  },
  {
   "cell_type": "markdown",
   "id": "14dc22d4-ddc3-41cc-a91a-cb0025bc0c80",
   "metadata": {},
   "source": [
    "Polars runs about 10 times faster than Pandas as the Polars code ran in aproximately 0.025 seconds while the Pandas code ran in aproximately 0.28 seconds."
   ]
  },
  {
   "cell_type": "markdown",
   "id": "8e586edd-ff26-4ce2-8f6b-2424b26f2929",
   "metadata": {},
   "source": [
    "## Question 3"
   ]
  },
  {
   "cell_type": "code",
   "execution_count": 5,
   "id": "bbe0f40d-9655-4653-9ca8-886bdb61cb91",
   "metadata": {},
   "outputs": [
    {
     "name": "stdout",
     "output_type": "stream",
     "text": [
      "My program took 0.4099109172821045 to run\n",
      "The average delay for all flights with Origin at any California airports was 5.245392521079324\n"
     ]
    }
   ],
   "source": [
    "# calculating the time it takes to get average flight delay for all California flights using Polars\n",
    "import polars as pl\n",
    "# read in the 2002 flight data to a Polars data frame again, but only 3 columns this time:\n",
    "myDF = pl.read_csv(\"/anvil/projects/tdm/data/flights/subset/2002.csv\", null_values=\"NA\").select([\"Origin\", \"Dest\", \"DepDelay\"])\n",
    "\n",
    "# also read in the airports data to a Polars data frame as follows:\n",
    "myairports = pl.read_csv(\"/anvil/projects/tdm/data/flights/subset/airports.csv\")\n",
    "\n",
    "import time\n",
    "start_time = time.time()\n",
    "newDF = myDF.join(myairports, left_on=\"Origin\", right_on=\"iata\")\n",
    "myresults = newDF.filter(pl.col(\"state\") == \"CA\")['DepDelay'].mean()\n",
    "print(\"My program took\", time.time() - start_time, \"to run\")\n",
    "print(\"The average delay for all flights with Origin at any California airports was \" + str(myresults))"
   ]
  },
  {
   "cell_type": "code",
   "execution_count": 6,
   "id": "2d6b7263-ad36-48c1-b107-8a945c012df0",
   "metadata": {},
   "outputs": [
    {
     "name": "stdout",
     "output_type": "stream",
     "text": [
      "My program took 1.283733606338501 to run\n",
      "The average delay for Indianapolis flights was 5.245392521079324\n"
     ]
    }
   ],
   "source": [
    "# calculating the time it takes to get average flight delay for all California flights using Pandas\n",
    "import pandas as pd\n",
    "# read in the 2002 flight data to a Pandas data frame again, but only 3 columns this time:\n",
    "myDF = pd.read_csv(\"/anvil/projects/tdm/data/flights/subset/2002.csv\", usecols=[\"Origin\", \"Dest\", \"DepDelay\"])\n",
    "\n",
    "# also read in the airports data to a Pandas data frame as follows:\n",
    "myairports = pd.read_csv(\"/anvil/projects/tdm/data/flights/subset/airports.csv\")\n",
    "\n",
    "import time\n",
    "start_time = time.time()\n",
    "newDF = myDF.merge(myairports, left_on='Origin', right_on='iata')\n",
    "myresults = newDF[newDF['state'] == \"CA\"]['DepDelay'].mean()\n",
    "print(\"My program took\", time.time() - start_time, \"to run\")\n",
    "print(\"The average delay for Indianapolis flights was \" + str(myresults))"
   ]
  },
  {
   "cell_type": "markdown",
   "id": "47c6229f-35f7-400c-8366-c442baa5cf47",
   "metadata": {},
   "source": [
    "Polars runs about 3-4 times faster than Pandas at running this program because Polars completed it in aproximately 0.35 seconds and Pandas completed it in aproximately 1.35 seconds."
   ]
  },
  {
   "cell_type": "markdown",
   "id": "da22f29c-d245-4d2b-9fc1-ca14cb6087d9",
   "metadata": {},
   "source": [
    "## Question 4"
   ]
  },
  {
   "cell_type": "code",
   "execution_count": 7,
   "id": "8cffc767-d1c8-4d64-b7dc-f0d2ee8a80d1",
   "metadata": {
    "scrolled": true
   },
   "outputs": [
    {
     "name": "stdout",
     "output_type": "stream",
     "text": [
      "My program took 0.1313610076904297 to run\n",
      "The number of unique origin airports is 218\n",
      "The unique origins are: \n",
      "LAN\n",
      "BHM\n",
      "ILM\n",
      "FAR\n",
      "DTW\n",
      "BRW\n",
      "PIT\n",
      "SJU\n",
      "GRR\n",
      "DUT\n",
      "IND\n",
      "PDX\n",
      "BET\n",
      "CAK\n",
      "SYR\n",
      "BPT\n",
      "CHA\n",
      "BDL\n",
      "TUL\n",
      "CLL\n",
      "DRO\n",
      "TXK\n",
      "MIA\n",
      "ERI\n",
      "MFE\n",
      "FLL\n",
      "STL\n",
      "DBQ\n",
      "TUS\n",
      "PHX\n",
      "OKC\n",
      "PSC\n",
      "PSP\n",
      "MLU\n",
      "RNO\n",
      "KTN\n",
      "XNA\n",
      "EUG\n",
      "SGF\n",
      "CDV\n",
      "WRG\n",
      "OAK\n",
      "LSE\n",
      "MYR\n",
      "MEM\n",
      "LAS\n",
      "SMF\n",
      "OGG\n",
      "KOA\n",
      "EWR\n",
      "LBB\n",
      "DAY\n",
      "BIS\n",
      "BGR\n",
      "GFK\n",
      "CMH\n",
      "LGB\n",
      "ANC\n",
      "LAW\n",
      "BOI\n",
      "CLE\n",
      "ISP\n",
      "AGS\n",
      "ELP\n",
      "EVV\n",
      "JNU\n",
      "MFR\n",
      "CLT\n",
      "GEG\n",
      "SCC\n",
      "SFO\n",
      "BIL\n",
      "MOB\n",
      "AMA\n",
      "SBA\n",
      "MLI\n",
      "EGE\n",
      "TPA\n",
      "STT\n",
      "SNA\n",
      "FWA\n",
      "BRO\n",
      "MTJ\n",
      "GUC\n",
      "SBP\n",
      "RSW\n",
      "TOL\n",
      "MSN\n",
      "MAZ\n",
      "BNA\n",
      "FCA\n",
      "ATL\n",
      "TLH\n",
      "MLB\n",
      "ADQ\n",
      "AZO\n",
      "AVL\n",
      "JAN\n",
      "TYR\n",
      "MBS\n",
      "ABE\n",
      "CAE\n",
      "GPT\n",
      "MAF\n",
      "ILE\n",
      "HDN\n",
      "DFW\n",
      "JFK\n",
      "SAT\n",
      "RST\n",
      "LEX\n",
      "MDT\n",
      "BMI\n",
      "ORD\n",
      "LIT\n",
      "AKN\n",
      "DEN\n",
      "HNL\n",
      "MRY\n",
      "SBN\n",
      "GSP\n",
      "COS\n",
      "RDU\n",
      "MQT\n",
      "SEA\n",
      "SAN\n",
      "DLG\n",
      "PSG\n",
      "MOT\n",
      "IAH\n",
      "LRD\n",
      "MSO\n",
      "ABI\n",
      "ALB\n",
      "BTV\n",
      "PNS\n",
      "AUS\n",
      "MCI\n",
      "MCO\n",
      "ORF\n",
      "DAL\n",
      "LAX\n",
      "OTZ\n",
      "MSP\n",
      "GRB\n",
      "LIH\n",
      "EYW\n",
      "SIT\n",
      "OME\n",
      "DAB\n",
      "CRP\n",
      "STX\n",
      "CID\n",
      "SUX\n",
      "CVG\n",
      "AVP\n",
      "YAK\n",
      "SWF\n",
      "FNT\n",
      "SLC\n",
      "PVD\n",
      "BQN\n",
      "HPN\n",
      "GST\n",
      "ACT\n",
      "HSV\n",
      "PWM\n",
      "LFT\n",
      "RAP\n",
      "DSM\n",
      "MHT\n",
      "SAV\n",
      "CHS\n",
      "GGG\n",
      "IAD\n",
      "MKE\n",
      "ICT\n",
      "ONT\n",
      "FAI\n",
      "BUF\n",
      "FSM\n",
      "JAX\n",
      "SJC\n",
      "PIA\n",
      "SRQ\n",
      "VPS\n",
      "SPS\n",
      "PBI\n",
      "FAT\n",
      "RIC\n",
      "MSY\n",
      "SDF\n",
      "TVC\n",
      "DLH\n",
      "TYS\n",
      "LGA\n",
      "OMA\n",
      "PHL\n",
      "MDW\n",
      "ROC\n",
      "GTF\n",
      "BWI\n",
      "BTR\n",
      "CMI\n",
      "HOU\n",
      "ORH\n",
      "SHV\n",
      "ABQ\n",
      "SJT\n",
      "DCA\n",
      "FSD\n",
      "BOS\n",
      "BUR\n",
      "GSO\n",
      "JAC\n",
      "HRL\n",
      "HLN\n",
      "BZN\n"
     ]
    }
   ],
   "source": [
    "# calculating the time it takes to find the number of unique Orgin airports using Polars\n",
    "# read in the 2002 flight data to a Polars data frame\n",
    "myDF = pl.read_csv(\"/anvil/projects/tdm/data/flights/subset/2002.csv\", null_values=\"NA\")\n",
    "\n",
    "import time\n",
    "start_time = time.time()\n",
    "#getting the number of unique origins\n",
    "numOrigins = len(myDF[\"Origin\"].unique())\n",
    "\n",
    "#creating a list of each of the unique origins\n",
    "uniqueOrigins = myDF[\"Origin\"].unique()\n",
    "\n",
    "print(\"My program took\", time.time() - start_time, \"to run\")\n",
    "\n",
    "#printing out the num and names of the unique origins \n",
    "print(\"The number of unique origin airports is \" + str(numOrigins))\n",
    "print(\"The unique origins are: \")\n",
    "for origin in uniqueOrigins:\n",
    "    print(origin)"
   ]
  },
  {
   "cell_type": "code",
   "execution_count": 8,
   "id": "274cc94b-bedd-43ed-b3cf-f92680eec84f",
   "metadata": {
    "scrolled": true
   },
   "outputs": [
    {
     "name": "stdout",
     "output_type": "stream",
     "text": [
      "My program took 0.3075685501098633 to run\n",
      "The number of unique origin airports is 218\n",
      "The unique origins are: \n",
      "PIT\n",
      "PHL\n",
      "STL\n",
      "CLT\n",
      "MHT\n",
      "BNA\n",
      "ROC\n",
      "SFO\n",
      "GSO\n",
      "RDU\n",
      "IAH\n",
      "SAV\n",
      "BWI\n",
      "DCA\n",
      "PBI\n",
      "DTW\n",
      "MCI\n",
      "BOS\n",
      "AVP\n",
      "ORD\n",
      "IND\n",
      "CLE\n",
      "ORF\n",
      "MCO\n",
      "TPA\n",
      "BUF\n",
      "SJU\n",
      "MSY\n",
      "ATL\n",
      "FLL\n",
      "EWR\n",
      "MYR\n",
      "MKE\n",
      "BDL\n",
      "MSP\n",
      "RIC\n",
      "MDT\n",
      "SDF\n",
      "BHM\n",
      "CMH\n",
      "PVD\n",
      "CHS\n",
      "ALB\n",
      "PNS\n",
      "IAD\n",
      "PWM\n",
      "LGA\n",
      "AVL\n",
      "MIA\n",
      "DFW\n",
      "MEM\n",
      "RSW\n",
      "DAY\n",
      "ILM\n",
      "SYR\n",
      "SAN\n",
      "BTV\n",
      "ERI\n",
      "JAX\n",
      "SEA\n",
      "HPN\n",
      "STT\n",
      "STX\n",
      "DAL\n",
      "HOU\n",
      "LBB\n",
      "LIT\n",
      "CRP\n",
      "TUL\n",
      "HRL\n",
      "MAF\n",
      "AMA\n",
      "OKC\n",
      "ABQ\n",
      "ELP\n",
      "SMF\n",
      "LAX\n",
      "PHX\n",
      "AUS\n",
      "MDW\n",
      "SLC\n",
      "LAS\n",
      "ONT\n",
      "SJC\n",
      "ISP\n",
      "PDX\n",
      "JAN\n",
      "RNO\n",
      "BUR\n",
      "OAK\n",
      "BOI\n",
      "TUS\n",
      "SAT\n",
      "GEG\n",
      "SNA\n",
      "OMA\n",
      "BGR\n",
      "JFK\n",
      "EYW\n",
      "GRR\n",
      "MSN\n",
      "FSD\n",
      "FAR\n",
      "BIS\n",
      "MBS\n",
      "COS\n",
      "TVC\n",
      "RAP\n",
      "VPS\n",
      "RST\n",
      "ABE\n",
      "GRB\n",
      "DEN\n",
      "DLH\n",
      "BZN\n",
      "FCA\n",
      "MOT\n",
      "GFK\n",
      "FNT\n",
      "LAN\n",
      "GTF\n",
      "ANC\n",
      "CVG\n",
      "HNL\n",
      "BIL\n",
      "SRQ\n",
      "GPT\n",
      "MSO\n",
      "DSM\n",
      "LSE\n",
      "BTR\n",
      "PSP\n",
      "AZO\n",
      "GSP\n",
      "HDN\n",
      "EGE\n",
      "LIH\n",
      "OGG\n",
      "KOA\n",
      "ICT\n",
      "CID\n",
      "EUG\n",
      "MFR\n",
      "JAC\n",
      "GUC\n",
      "MOB\n",
      "LEX\n",
      "AGS\n",
      "HSV\n",
      "MLU\n",
      "MLB\n",
      "SHV\n",
      "HLN\n",
      "DAB\n",
      "TLH\n",
      "TYS\n",
      "CAE\n",
      "PSC\n",
      "CAK\n",
      "LGB\n",
      "SBP\n",
      "SBA\n",
      "FAT\n",
      "MRY\n",
      "ABI\n",
      "ACT\n",
      "TXK\n",
      "FSM\n",
      "ILE\n",
      "LAW\n",
      "LRD\n",
      "BPT\n",
      "GGG\n",
      "LFT\n",
      "SGF\n",
      "SJT\n",
      "XNA\n",
      "SPS\n",
      "CLL\n",
      "FWA\n",
      "TYR\n",
      "DRO\n",
      "MAZ\n",
      "ORH\n",
      "CMI\n",
      "BMI\n",
      "PIA\n",
      "EVV\n",
      "DBQ\n",
      "TOL\n",
      "MQT\n",
      "CHA\n",
      "MFE\n",
      "SWF\n",
      "MTJ\n",
      "MLI\n",
      "DUT\n",
      "ADQ\n",
      "BET\n",
      "OME\n",
      "OTZ\n",
      "SCC\n",
      "JNU\n",
      "KTN\n",
      "CDV\n",
      "YAK\n",
      "SIT\n",
      "PSG\n",
      "WRG\n",
      "FAI\n",
      "AKN\n",
      "DLG\n",
      "BRW\n",
      "BQN\n",
      "BRO\n",
      "SBN\n",
      "GST\n",
      "SUX\n"
     ]
    }
   ],
   "source": [
    "# calculating the time it takes to find the number of unique Orgin airports using Pandas\n",
    "# read in the 2002 flight data to a Pandas data frame\n",
    "myDF = pd.read_csv(\"/anvil/projects/tdm/data/flights/subset/2002.csv\")\n",
    "\n",
    "import time\n",
    "start_time = time.time()\n",
    "#getting the number of unique origins\n",
    "numOrigins = len(myDF[\"Origin\"].unique())\n",
    "\n",
    "#creating a list of each of the unique origins\n",
    "uniqueOrigins = myDF[\"Origin\"].unique()\n",
    "\n",
    "print(\"My program took\", time.time() - start_time, \"to run\")\n",
    "\n",
    "#printing out the num and names of the unique origins \n",
    "print(\"The number of unique origin airports is \" + str(numOrigins))\n",
    "print(\"The unique origins are: \")\n",
    "for origin in uniqueOrigins:\n",
    "    print(origin)"
   ]
  },
  {
   "cell_type": "markdown",
   "id": "0d552245-b4d6-474a-9cc9-fa7b8e674d55",
   "metadata": {},
   "source": [
    "The Polars program ran about 2-3 times faster than the Pandas program since the Polars program ran in aproximately 0.23 seconds and the Pandas program ran in aproximately 0.32 seconds. "
   ]
  },
  {
   "cell_type": "markdown",
   "id": "88c9cdac-3e92-498f-83fa-e089bfc44ac8",
   "metadata": {},
   "source": [
    "## Question 5"
   ]
  },
  {
   "cell_type": "code",
   "execution_count": 9,
   "id": "d370d7c9-06db-42b9-b75f-240481a5c491",
   "metadata": {},
   "outputs": [
    {
     "data": {
      "text/html": [
       "<div><style>\n",
       ".dataframe > thead > tr > th,\n",
       ".dataframe > tbody > tr > td {\n",
       "  text-align: right;\n",
       "  white-space: pre-wrap;\n",
       "}\n",
       "</style>\n",
       "<small>shape: (5, 29)</small><table border=\"1\" class=\"dataframe\"><thead><tr><th>Year</th><th>Month</th><th>DayofMonth</th><th>DayOfWeek</th><th>DepTime</th><th>CRSDepTime</th><th>ArrTime</th><th>CRSArrTime</th><th>UniqueCarrier</th><th>FlightNum</th><th>TailNum</th><th>ActualElapsedTime</th><th>CRSElapsedTime</th><th>AirTime</th><th>ArrDelay</th><th>DepDelay</th><th>Origin</th><th>Dest</th><th>Distance</th><th>TaxiIn</th><th>TaxiOut</th><th>Cancelled</th><th>CancellationCode</th><th>Diverted</th><th>CarrierDelay</th><th>WeatherDelay</th><th>NASDelay</th><th>SecurityDelay</th><th>LateAircraftDelay</th></tr><tr><td>i64</td><td>i64</td><td>i64</td><td>i64</td><td>i64</td><td>i64</td><td>i64</td><td>i64</td><td>str</td><td>i64</td><td>str</td><td>i64</td><td>i64</td><td>i64</td><td>i64</td><td>i64</td><td>str</td><td>str</td><td>i64</td><td>i64</td><td>i64</td><td>i64</td><td>str</td><td>i64</td><td>str</td><td>str</td><td>str</td><td>str</td><td>str</td></tr></thead><tbody><tr><td>2002</td><td>1</td><td>13</td><td>7</td><td>2231</td><td>2235</td><td>2342</td><td>2353</td><td>&quot;US&quot;</td><td>723</td><td>&quot;N709&quot;</td><td>71</td><td>78</td><td>55</td><td>-11</td><td>-4</td><td>&quot;PIT&quot;</td><td>&quot;CLT&quot;</td><td>366</td><td>3</td><td>13</td><td>0</td><td>null</td><td>0</td><td>null</td><td>null</td><td>null</td><td>null</td><td>null</td></tr><tr><td>2002</td><td>1</td><td>14</td><td>1</td><td>2230</td><td>2235</td><td>2347</td><td>2353</td><td>&quot;US&quot;</td><td>723</td><td>&quot;N733&quot;</td><td>77</td><td>78</td><td>60</td><td>-6</td><td>-5</td><td>&quot;PIT&quot;</td><td>&quot;CLT&quot;</td><td>366</td><td>3</td><td>14</td><td>0</td><td>null</td><td>0</td><td>null</td><td>null</td><td>null</td><td>null</td><td>null</td></tr><tr><td>2002</td><td>1</td><td>15</td><td>2</td><td>2230</td><td>2235</td><td>2342</td><td>2353</td><td>&quot;US&quot;</td><td>723</td><td>&quot;N758&quot;</td><td>72</td><td>78</td><td>55</td><td>-11</td><td>-5</td><td>&quot;PIT&quot;</td><td>&quot;CLT&quot;</td><td>366</td><td>3</td><td>14</td><td>0</td><td>null</td><td>0</td><td>null</td><td>null</td><td>null</td><td>null</td><td>null</td></tr><tr><td>2002</td><td>1</td><td>16</td><td>3</td><td>2230</td><td>2235</td><td>2340</td><td>2353</td><td>&quot;US&quot;</td><td>723</td><td>&quot;N707&quot;</td><td>70</td><td>78</td><td>57</td><td>-13</td><td>-5</td><td>&quot;PIT&quot;</td><td>&quot;CLT&quot;</td><td>366</td><td>3</td><td>10</td><td>0</td><td>null</td><td>0</td><td>null</td><td>null</td><td>null</td><td>null</td><td>null</td></tr><tr><td>2002</td><td>1</td><td>17</td><td>4</td><td>2227</td><td>2235</td><td>2345</td><td>2353</td><td>&quot;US&quot;</td><td>723</td><td>&quot;N713&quot;</td><td>78</td><td>78</td><td>60</td><td>-8</td><td>-8</td><td>&quot;PIT&quot;</td><td>&quot;CLT&quot;</td><td>366</td><td>5</td><td>13</td><td>0</td><td>null</td><td>0</td><td>null</td><td>null</td><td>null</td><td>null</td><td>null</td></tr></tbody></table></div>"
      ],
      "text/plain": [
       "shape: (5, 29)\n",
       "┌──────┬───────┬────────────┬───────────┬───┬──────────────┬──────────┬──────────────┬─────────────┐\n",
       "│ Year ┆ Month ┆ DayofMonth ┆ DayOfWeek ┆ … ┆ WeatherDelay ┆ NASDelay ┆ SecurityDela ┆ LateAircraf │\n",
       "│ ---  ┆ ---   ┆ ---        ┆ ---       ┆   ┆ ---          ┆ ---      ┆ y            ┆ tDelay      │\n",
       "│ i64  ┆ i64   ┆ i64        ┆ i64       ┆   ┆ str          ┆ str      ┆ ---          ┆ ---         │\n",
       "│      ┆       ┆            ┆           ┆   ┆              ┆          ┆ str          ┆ str         │\n",
       "╞══════╪═══════╪════════════╪═══════════╪═══╪══════════════╪══════════╪══════════════╪═════════════╡\n",
       "│ 2002 ┆ 1     ┆ 13         ┆ 7         ┆ … ┆ null         ┆ null     ┆ null         ┆ null        │\n",
       "│ 2002 ┆ 1     ┆ 14         ┆ 1         ┆ … ┆ null         ┆ null     ┆ null         ┆ null        │\n",
       "│ 2002 ┆ 1     ┆ 15         ┆ 2         ┆ … ┆ null         ┆ null     ┆ null         ┆ null        │\n",
       "│ 2002 ┆ 1     ┆ 16         ┆ 3         ┆ … ┆ null         ┆ null     ┆ null         ┆ null        │\n",
       "│ 2002 ┆ 1     ┆ 17         ┆ 4         ┆ … ┆ null         ┆ null     ┆ null         ┆ null        │\n",
       "└──────┴───────┴────────────┴───────────┴───┴──────────────┴──────────┴──────────────┴─────────────┘"
      ]
     },
     "execution_count": 9,
     "metadata": {},
     "output_type": "execute_result"
    }
   ],
   "source": [
    "#reading in the data set to see what the columns are\n",
    "myDF = pl.read_csv(\"/anvil/projects/tdm/data/flights/subset/2002.csv\", null_values=\"NA\")\n",
    "myDF.head()"
   ]
  },
  {
   "cell_type": "code",
   "execution_count": 10,
   "id": "62c43e42-56ba-453a-b36e-d5df11be3ef9",
   "metadata": {},
   "outputs": [
    {
     "name": "stdout",
     "output_type": "stream",
     "text": [
      "My program took 0.02689051628112793 to run\n",
      "The average airtime for flights to Pittsburgh was 88.75755032506169\n"
     ]
    }
   ],
   "source": [
    "#using polars to determine the average airtime for flights with a destination of PIT\n",
    "myDF = pl.read_csv(\"/anvil/projects/tdm/data/flights/subset/2002.csv\", null_values=\"NA\")\n",
    "\n",
    "import time\n",
    "start_time = time.time()\n",
    "\n",
    "#finding the average air time for flights to Pittsburgh\n",
    "airtime = myDF.filter(pl.col(\"Dest\") == \"PIT\")['AirTime'].mean()\n",
    "print(\"My program took\", time.time() - start_time, \"to run\")\n",
    "print(\"The average airtime for flights to Pittsburgh was \" + str(airtime))"
   ]
  },
  {
   "cell_type": "code",
   "execution_count": 11,
   "id": "24a15ab3-56ab-46e1-bcf7-c2ab7575bb9d",
   "metadata": {},
   "outputs": [
    {
     "name": "stdout",
     "output_type": "stream",
     "text": [
      "My program took 0.3055088520050049 to run\n",
      "The average airtime for flights to Pittsburgh was 88.75755032506169\n"
     ]
    }
   ],
   "source": [
    "#using pandas to determine the average airtime for flights with a destination of PIT\n",
    "myDF = pd.read_csv(\"/anvil/projects/tdm/data/flights/subset/2002.csv\")\n",
    "\n",
    "import time\n",
    "start_time = time.time()\n",
    "\n",
    "#finding the average air time for flights to Pittsburgh\n",
    "airtime = myDF[myDF[\"Dest\"] == \"PIT\"][\"AirTime\"].mean()\n",
    "print(\"My program took\", time.time() - start_time, \"to run\")\n",
    "print(\"The average airtime for flights to Pittsburgh was \" + str(airtime))"
   ]
  },
  {
   "cell_type": "markdown",
   "id": "9fbf00fb-2418-460f-ae94-2a32b0c28952",
   "metadata": {},
   "source": [
    "The Polars program was about 10 times faster than the Pandas program because the Polars program ran in about 0.027 seconds while the Pandas program ran in about 0.31 seconds. "
   ]
  },
  {
   "cell_type": "markdown",
   "id": "f76442d6-d02e-4f26-b9d6-c3183e1d6929",
   "metadata": {},
   "source": [
    "## Pledge\n",
    "\n",
    "By submitting this work I hereby pledge that this is my own, personal work. I've acknowledged in the designated place at the top of this file all sources that I used to complete said work, including but not limited to: online resources, books, and electronic communications. I've noted all collaboration with fellow students and/or TA's. I did not copy or plagiarize another's work.\n",
    "\n",
    "> As a Boilermaker pursuing academic excellence, I pledge to be honest and true in all that I do. Accountable together – We are Purdue."
   ]
  }
 ],
 "metadata": {
  "kernelspec": {
   "display_name": "seminar",
   "language": "python",
   "name": "python3"
  },
  "language_info": {
   "codemirror_mode": {
    "name": "ipython",
    "version": 3
   },
   "file_extension": ".py",
   "mimetype": "text/x-python",
   "name": "python",
   "nbconvert_exporter": "python",
   "pygments_lexer": "ipython3",
   "version": "3.11.5"
  }
 },
 "nbformat": 4,
 "nbformat_minor": 5
}
