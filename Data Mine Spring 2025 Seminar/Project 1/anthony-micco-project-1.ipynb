{
 "cells": [
  {
   "cell_type": "markdown",
   "id": "be02a957-7133-4d02-818e-fedeb3cecb05",
   "metadata": {},
   "source": [
    "# Project 01 -- Anthony Micco "
   ]
  },
  {
   "cell_type": "markdown",
   "id": "a1228853-dd19-4ab2-89e0-0394d7d72de3",
   "metadata": {},
   "source": [
    "**TA Help:** N/A\n",
    "    \n",
    "**Collaboration:** N/A"
   ]
  },
  {
   "cell_type": "markdown",
   "id": "6180e742-8e39-4698-98ff-5b00c8cf8ea0",
   "metadata": {},
   "source": [
    "## Question 1"
   ]
  },
  {
   "cell_type": "code",
   "execution_count": 62,
   "id": "49445606-d363-41b4-b479-e319a9a84c01",
   "metadata": {},
   "outputs": [],
   "source": [
    "import requests\n",
    "from bs4 import BeautifulSoup"
   ]
  },
  {
   "cell_type": "code",
   "execution_count": 63,
   "id": "24a5a2e5-8163-41b7-982e-f5876bb0b781",
   "metadata": {},
   "outputs": [],
   "source": [
    "myresponse = requests.get(\"https://datamine.purdue.edu/about/about-welcome/\")"
   ]
  },
  {
   "cell_type": "code",
   "execution_count": 64,
   "id": "ea3c22f7-9097-4be1-b57d-349e63ee459b",
   "metadata": {},
   "outputs": [],
   "source": [
    "mysoup = BeautifulSoup(myresponse.content, 'html.parser')"
   ]
  },
  {
   "cell_type": "code",
   "execution_count": 65,
   "id": "39fb119d-4ff2-466c-90c3-52fa45c9c21b",
   "metadata": {},
   "outputs": [],
   "source": [
    "staff = [element.text for element in mysoup.select('p[class = \"purdue-home-cta-grid__card-name\"]')]"
   ]
  },
  {
   "cell_type": "code",
   "execution_count": 66,
   "id": "f76e1b0d-04af-46d0-b130-ad99e3da4f5a",
   "metadata": {},
   "outputs": [
    {
     "name": "stdout",
     "output_type": "stream",
     "text": [
      "['Mark Daniel Ward', 'Kevin Amstutz', 'Ashley Arroyo', 'Donald Barnes', 'Brandt Barnes', 'Maggie Betz', 'Bryce Castle', 'Cai Chen', 'Doug Crabill', 'Peter Dragnev', 'Stacey Dunderman', 'Jessica Gerlach', 'Dan Hirleman', 'Jessica Jud', 'Kali Lacy', 'Gloria Lenfestey', 'Nicholas Lenfestey', 'Naomi Mersinger', 'Kim Rechkemmer', 'Betsy Satchell', 'Shakir Syed', 'Fulya Gokalp Yavuz']\n"
     ]
    }
   ],
   "source": [
    "print(staff)"
   ]
  },
  {
   "cell_type": "code",
   "execution_count": 67,
   "id": "cd5e8eb7-8382-4593-965a-3bbaddbd7e65",
   "metadata": {},
   "outputs": [],
   "source": [
    "title = [element.text for element in mysoup.select('p[class=\"purdue-home-cta-grid__card-titleline\"]')]"
   ]
  },
  {
   "cell_type": "code",
   "execution_count": 68,
   "id": "f905b36a-0574-4e33-abbc-e2730e04672a",
   "metadata": {},
   "outputs": [
    {
     "name": "stdout",
     "output_type": "stream",
     "text": [
      "['Executive Director', 'Senior Data Scientist', 'Data Science Techincal Specialist', 'Guest Relations Administrator', 'Good Boy', 'Managing Director of The Data Mine at Indianapolis', 'Corporate Partners Technical Specialist', 'Corporate Partners Technical Specialist', 'Senior Data Scientist', 'Corporate Partners Technical Specialist  ', 'Lead Program Administration Specialist', 'Corporate Partners Technical Specialist', 'Regional Director of The Data Mine of the Rockies', 'Senior Manager of Expansion Operations', 'Associate Research Engineer', 'Senior Financial Analyst', 'Corporate Partners Technical Specialist', 'ASL Interpreter / Strategic Initiatives Coordinator', 'Senior Program Administration Specialist', 'Senior Administrative Assistant', 'Managing Director of Corporate Partnerships', 'Director of Data Science']\n"
     ]
    }
   ],
   "source": [
    "print(title)"
   ]
  },
  {
   "cell_type": "code",
   "execution_count": 69,
   "id": "1724dd43-35a9-488e-bc2e-c2ff30157aa0",
   "metadata": {},
   "outputs": [],
   "source": [
    "staff_data = {\"Name\" : staff, \"Job Title\": title}"
   ]
  },
  {
   "cell_type": "code",
   "execution_count": 70,
   "id": "a94c34dd-9698-4a06-8399-159197b650f8",
   "metadata": {},
   "outputs": [
    {
     "name": "stdout",
     "output_type": "stream",
     "text": [
      "{'Name': ['Mark Daniel Ward', 'Kevin Amstutz', 'Ashley Arroyo', 'Donald Barnes', 'Brandt Barnes', 'Maggie Betz', 'Bryce Castle', 'Cai Chen', 'Doug Crabill', 'Peter Dragnev', 'Stacey Dunderman', 'Jessica Gerlach', 'Dan Hirleman', 'Jessica Jud', 'Kali Lacy', 'Gloria Lenfestey', 'Nicholas Lenfestey', 'Naomi Mersinger', 'Kim Rechkemmer', 'Betsy Satchell', 'Shakir Syed', 'Fulya Gokalp Yavuz'], 'Job Title': ['Executive Director', 'Senior Data Scientist', 'Data Science Techincal Specialist', 'Guest Relations Administrator', 'Good Boy', 'Managing Director of The Data Mine at Indianapolis', 'Corporate Partners Technical Specialist', 'Corporate Partners Technical Specialist', 'Senior Data Scientist', 'Corporate Partners Technical Specialist  ', 'Lead Program Administration Specialist', 'Corporate Partners Technical Specialist', 'Regional Director of The Data Mine of the Rockies', 'Senior Manager of Expansion Operations', 'Associate Research Engineer', 'Senior Financial Analyst', 'Corporate Partners Technical Specialist', 'ASL Interpreter / Strategic Initiatives Coordinator', 'Senior Program Administration Specialist', 'Senior Administrative Assistant', 'Managing Director of Corporate Partnerships', 'Director of Data Science']}\n"
     ]
    }
   ],
   "source": [
    "print(staff_data)"
   ]
  },
  {
   "cell_type": "code",
   "execution_count": 71,
   "id": "4d683e40-3eaf-4bea-a907-d01e11c3047c",
   "metadata": {},
   "outputs": [],
   "source": [
    "import pandas as pd\n",
    "myDF = pd.DataFrame(staff_data)"
   ]
  },
  {
   "cell_type": "code",
   "execution_count": 72,
   "id": "a7de74c5-66c8-4994-9a2c-27b95d3cc333",
   "metadata": {},
   "outputs": [
    {
     "name": "stdout",
     "output_type": "stream",
     "text": [
      "                  Name                                          Job Title\n",
      "0     Mark Daniel Ward                                 Executive Director\n",
      "1        Kevin Amstutz                              Senior Data Scientist\n",
      "2        Ashley Arroyo                  Data Science Techincal Specialist\n",
      "3        Donald Barnes                      Guest Relations Administrator\n",
      "4        Brandt Barnes                                           Good Boy\n",
      "5          Maggie Betz  Managing Director of The Data Mine at Indianap...\n",
      "6         Bryce Castle            Corporate Partners Technical Specialist\n",
      "7             Cai Chen            Corporate Partners Technical Specialist\n",
      "8         Doug Crabill                              Senior Data Scientist\n",
      "9        Peter Dragnev          Corporate Partners Technical Specialist  \n",
      "10    Stacey Dunderman             Lead Program Administration Specialist\n",
      "11     Jessica Gerlach            Corporate Partners Technical Specialist\n",
      "12        Dan Hirleman  Regional Director of The Data Mine of the Rockies\n",
      "13         Jessica Jud             Senior Manager of Expansion Operations\n",
      "14           Kali Lacy                        Associate Research Engineer\n",
      "15    Gloria Lenfestey                           Senior Financial Analyst\n",
      "16  Nicholas Lenfestey            Corporate Partners Technical Specialist\n",
      "17     Naomi Mersinger  ASL Interpreter / Strategic Initiatives Coordi...\n",
      "18      Kim Rechkemmer           Senior Program Administration Specialist\n",
      "19      Betsy Satchell                    Senior Administrative Assistant\n",
      "20         Shakir Syed        Managing Director of Corporate Partnerships\n",
      "21  Fulya Gokalp Yavuz                           Director of Data Science\n"
     ]
    }
   ],
   "source": [
    "print(myDF)"
   ]
  },
  {
   "cell_type": "markdown",
   "id": "fc601975-35ed-4680-a4e1-0273ee3cc047",
   "metadata": {},
   "source": [
    "## Question 2"
   ]
  },
  {
   "cell_type": "code",
   "execution_count": 73,
   "id": "a16336a1-1ef0-41e8-bc7c-49387db27497",
   "metadata": {},
   "outputs": [],
   "source": [
    "myresponse = requests.get('https://www.nps.gov')"
   ]
  },
  {
   "cell_type": "code",
   "execution_count": 74,
   "id": "f7505ab8-05d8-427a-8c1d-40ec14aaa202",
   "metadata": {},
   "outputs": [],
   "source": [
    "mysoup = BeautifulSoup(myresponse.content, 'html.parser')"
   ]
  },
  {
   "cell_type": "code",
   "execution_count": 75,
   "id": "93aa5d95-93e6-4f71-a722-6671b0273a5c",
   "metadata": {},
   "outputs": [],
   "source": [
    "states = [element.text.strip() for element in mysoup.select('a[class = \"dropdown-item dropdown-state\"]')]"
   ]
  },
  {
   "cell_type": "code",
   "execution_count": 76,
   "id": "15167cff-18fc-4f01-b413-f085304f8282",
   "metadata": {},
   "outputs": [
    {
     "name": "stdout",
     "output_type": "stream",
     "text": [
      "['Alabama', 'Alaska', 'American Samoa', 'Arizona', 'Arkansas', 'California', 'Colorado', 'Connecticut', 'Delaware', 'District of Columbia', 'Florida', 'Georgia', 'Guam', 'Hawaii', 'Idaho', 'Illinois', 'Indiana', 'Iowa', 'Kansas', 'Kentucky', 'Louisiana', 'Maine', 'Maryland', 'Massachusetts', 'Michigan', 'Minnesota', 'Mississippi', 'Missouri', 'Montana', 'Nebraska', 'Nevada', 'New Hampshire', 'New Jersey', 'New Mexico', 'New York', 'North Carolina', 'North Dakota', 'Northern Mariana Islands', 'Ohio', 'Oklahoma', 'Oregon', 'Pennsylvania', 'Puerto Rico', 'Rhode Island', 'South Carolina', 'South Dakota', 'Tennessee', 'Texas', 'Utah', 'Vermont', 'Virgin Islands', 'Virginia', 'Washington', 'West Virginia', 'Wisconsin', 'Wyoming']\n"
     ]
    }
   ],
   "source": [
    "print(states)"
   ]
  },
  {
   "cell_type": "code",
   "execution_count": 77,
   "id": "02a1a2d0-b491-4ba3-b422-8e0956a357fd",
   "metadata": {},
   "outputs": [],
   "source": [
    "hrefs = ['https://www.nps.gov' + element['href'] for element in mysoup.select('a[class = \"dropdown-item dropdown-state\"]')]"
   ]
  },
  {
   "cell_type": "code",
   "execution_count": 78,
   "id": "f91ae7a5-e248-4ff1-9668-dba8fd088365",
   "metadata": {},
   "outputs": [
    {
     "name": "stdout",
     "output_type": "stream",
     "text": [
      "['https://www.nps.gov/state/al/index.htm', 'https://www.nps.gov/state/ak/index.htm', 'https://www.nps.gov/state/as/index.htm', 'https://www.nps.gov/state/az/index.htm', 'https://www.nps.gov/state/ar/index.htm', 'https://www.nps.gov/state/ca/index.htm', 'https://www.nps.gov/state/co/index.htm', 'https://www.nps.gov/state/ct/index.htm', 'https://www.nps.gov/state/de/index.htm', 'https://www.nps.gov/state/dc/index.htm', 'https://www.nps.gov/state/fl/index.htm', 'https://www.nps.gov/state/ga/index.htm', 'https://www.nps.gov/state/gu/index.htm', 'https://www.nps.gov/state/hi/index.htm', 'https://www.nps.gov/state/id/index.htm', 'https://www.nps.gov/state/il/index.htm', 'https://www.nps.gov/state/in/index.htm', 'https://www.nps.gov/state/ia/index.htm', 'https://www.nps.gov/state/ks/index.htm', 'https://www.nps.gov/state/ky/index.htm', 'https://www.nps.gov/state/la/index.htm', 'https://www.nps.gov/state/me/index.htm', 'https://www.nps.gov/state/md/index.htm', 'https://www.nps.gov/state/ma/index.htm', 'https://www.nps.gov/state/mi/index.htm', 'https://www.nps.gov/state/mn/index.htm', 'https://www.nps.gov/state/ms/index.htm', 'https://www.nps.gov/state/mo/index.htm', 'https://www.nps.gov/state/mt/index.htm', 'https://www.nps.gov/state/ne/index.htm', 'https://www.nps.gov/state/nv/index.htm', 'https://www.nps.gov/state/nh/index.htm', 'https://www.nps.gov/state/nj/index.htm', 'https://www.nps.gov/state/nm/index.htm', 'https://www.nps.gov/state/ny/index.htm', 'https://www.nps.gov/state/nc/index.htm', 'https://www.nps.gov/state/nd/index.htm', 'https://www.nps.gov/state/mp/index.htm', 'https://www.nps.gov/state/oh/index.htm', 'https://www.nps.gov/state/ok/index.htm', 'https://www.nps.gov/state/or/index.htm', 'https://www.nps.gov/state/pa/index.htm', 'https://www.nps.gov/state/pr/index.htm', 'https://www.nps.gov/state/ri/index.htm', 'https://www.nps.gov/state/sc/index.htm', 'https://www.nps.gov/state/sd/index.htm', 'https://www.nps.gov/state/tn/index.htm', 'https://www.nps.gov/state/tx/index.htm', 'https://www.nps.gov/state/ut/index.htm', 'https://www.nps.gov/state/vt/index.htm', 'https://www.nps.gov/state/vi/index.htm', 'https://www.nps.gov/state/va/index.htm', 'https://www.nps.gov/state/wa/index.htm', 'https://www.nps.gov/state/wv/index.htm', 'https://www.nps.gov/state/wi/index.htm', 'https://www.nps.gov/state/wy/index.htm']\n"
     ]
    }
   ],
   "source": [
    "print(hrefs)"
   ]
  },
  {
   "cell_type": "code",
   "execution_count": 79,
   "id": "4edd8e32-3b8e-426a-9e56-e91927387113",
   "metadata": {},
   "outputs": [
    {
     "name": "stdout",
     "output_type": "stream",
     "text": [
      "{'State': ['Alabama', 'Alaska', 'American Samoa', 'Arizona', 'Arkansas', 'California', 'Colorado', 'Connecticut', 'Delaware', 'District of Columbia', 'Florida', 'Georgia', 'Guam', 'Hawaii', 'Idaho', 'Illinois', 'Indiana', 'Iowa', 'Kansas', 'Kentucky', 'Louisiana', 'Maine', 'Maryland', 'Massachusetts', 'Michigan', 'Minnesota', 'Mississippi', 'Missouri', 'Montana', 'Nebraska', 'Nevada', 'New Hampshire', 'New Jersey', 'New Mexico', 'New York', 'North Carolina', 'North Dakota', 'Northern Mariana Islands', 'Ohio', 'Oklahoma', 'Oregon', 'Pennsylvania', 'Puerto Rico', 'Rhode Island', 'South Carolina', 'South Dakota', 'Tennessee', 'Texas', 'Utah', 'Vermont', 'Virgin Islands', 'Virginia', 'Washington', 'West Virginia', 'Wisconsin', 'Wyoming'], 'URL': ['https://www.nps.gov/state/al/index.htm', 'https://www.nps.gov/state/ak/index.htm', 'https://www.nps.gov/state/as/index.htm', 'https://www.nps.gov/state/az/index.htm', 'https://www.nps.gov/state/ar/index.htm', 'https://www.nps.gov/state/ca/index.htm', 'https://www.nps.gov/state/co/index.htm', 'https://www.nps.gov/state/ct/index.htm', 'https://www.nps.gov/state/de/index.htm', 'https://www.nps.gov/state/dc/index.htm', 'https://www.nps.gov/state/fl/index.htm', 'https://www.nps.gov/state/ga/index.htm', 'https://www.nps.gov/state/gu/index.htm', 'https://www.nps.gov/state/hi/index.htm', 'https://www.nps.gov/state/id/index.htm', 'https://www.nps.gov/state/il/index.htm', 'https://www.nps.gov/state/in/index.htm', 'https://www.nps.gov/state/ia/index.htm', 'https://www.nps.gov/state/ks/index.htm', 'https://www.nps.gov/state/ky/index.htm', 'https://www.nps.gov/state/la/index.htm', 'https://www.nps.gov/state/me/index.htm', 'https://www.nps.gov/state/md/index.htm', 'https://www.nps.gov/state/ma/index.htm', 'https://www.nps.gov/state/mi/index.htm', 'https://www.nps.gov/state/mn/index.htm', 'https://www.nps.gov/state/ms/index.htm', 'https://www.nps.gov/state/mo/index.htm', 'https://www.nps.gov/state/mt/index.htm', 'https://www.nps.gov/state/ne/index.htm', 'https://www.nps.gov/state/nv/index.htm', 'https://www.nps.gov/state/nh/index.htm', 'https://www.nps.gov/state/nj/index.htm', 'https://www.nps.gov/state/nm/index.htm', 'https://www.nps.gov/state/ny/index.htm', 'https://www.nps.gov/state/nc/index.htm', 'https://www.nps.gov/state/nd/index.htm', 'https://www.nps.gov/state/mp/index.htm', 'https://www.nps.gov/state/oh/index.htm', 'https://www.nps.gov/state/ok/index.htm', 'https://www.nps.gov/state/or/index.htm', 'https://www.nps.gov/state/pa/index.htm', 'https://www.nps.gov/state/pr/index.htm', 'https://www.nps.gov/state/ri/index.htm', 'https://www.nps.gov/state/sc/index.htm', 'https://www.nps.gov/state/sd/index.htm', 'https://www.nps.gov/state/tn/index.htm', 'https://www.nps.gov/state/tx/index.htm', 'https://www.nps.gov/state/ut/index.htm', 'https://www.nps.gov/state/vt/index.htm', 'https://www.nps.gov/state/vi/index.htm', 'https://www.nps.gov/state/va/index.htm', 'https://www.nps.gov/state/wa/index.htm', 'https://www.nps.gov/state/wv/index.htm', 'https://www.nps.gov/state/wi/index.htm', 'https://www.nps.gov/state/wy/index.htm']}\n"
     ]
    }
   ],
   "source": [
    "state_data = {\"State\" : states, \"URL\" :hrefs}\n",
    "print(state_data) "
   ]
  },
  {
   "cell_type": "code",
   "execution_count": 80,
   "id": "20bc0978-782c-4793-a126-bb31f05df625",
   "metadata": {},
   "outputs": [],
   "source": [
    "state_df = pd.DataFrame(state_data)"
   ]
  },
  {
   "cell_type": "code",
   "execution_count": 81,
   "id": "62f9a8e7-7cad-4cb7-a1ce-8c78ea2a1825",
   "metadata": {},
   "outputs": [
    {
     "name": "stdout",
     "output_type": "stream",
     "text": [
      "                       State                                     URL\n",
      "0                    Alabama  https://www.nps.gov/state/al/index.htm\n",
      "1                     Alaska  https://www.nps.gov/state/ak/index.htm\n",
      "2             American Samoa  https://www.nps.gov/state/as/index.htm\n",
      "3                    Arizona  https://www.nps.gov/state/az/index.htm\n",
      "4                   Arkansas  https://www.nps.gov/state/ar/index.htm\n",
      "5                 California  https://www.nps.gov/state/ca/index.htm\n",
      "6                   Colorado  https://www.nps.gov/state/co/index.htm\n",
      "7                Connecticut  https://www.nps.gov/state/ct/index.htm\n",
      "8                   Delaware  https://www.nps.gov/state/de/index.htm\n",
      "9       District of Columbia  https://www.nps.gov/state/dc/index.htm\n",
      "10                   Florida  https://www.nps.gov/state/fl/index.htm\n",
      "11                   Georgia  https://www.nps.gov/state/ga/index.htm\n",
      "12                      Guam  https://www.nps.gov/state/gu/index.htm\n",
      "13                    Hawaii  https://www.nps.gov/state/hi/index.htm\n",
      "14                     Idaho  https://www.nps.gov/state/id/index.htm\n",
      "15                  Illinois  https://www.nps.gov/state/il/index.htm\n",
      "16                   Indiana  https://www.nps.gov/state/in/index.htm\n",
      "17                      Iowa  https://www.nps.gov/state/ia/index.htm\n",
      "18                    Kansas  https://www.nps.gov/state/ks/index.htm\n",
      "19                  Kentucky  https://www.nps.gov/state/ky/index.htm\n",
      "20                 Louisiana  https://www.nps.gov/state/la/index.htm\n",
      "21                     Maine  https://www.nps.gov/state/me/index.htm\n",
      "22                  Maryland  https://www.nps.gov/state/md/index.htm\n",
      "23             Massachusetts  https://www.nps.gov/state/ma/index.htm\n",
      "24                  Michigan  https://www.nps.gov/state/mi/index.htm\n",
      "25                 Minnesota  https://www.nps.gov/state/mn/index.htm\n",
      "26               Mississippi  https://www.nps.gov/state/ms/index.htm\n",
      "27                  Missouri  https://www.nps.gov/state/mo/index.htm\n",
      "28                   Montana  https://www.nps.gov/state/mt/index.htm\n",
      "29                  Nebraska  https://www.nps.gov/state/ne/index.htm\n",
      "30                    Nevada  https://www.nps.gov/state/nv/index.htm\n",
      "31             New Hampshire  https://www.nps.gov/state/nh/index.htm\n",
      "32                New Jersey  https://www.nps.gov/state/nj/index.htm\n",
      "33                New Mexico  https://www.nps.gov/state/nm/index.htm\n",
      "34                  New York  https://www.nps.gov/state/ny/index.htm\n",
      "35            North Carolina  https://www.nps.gov/state/nc/index.htm\n",
      "36              North Dakota  https://www.nps.gov/state/nd/index.htm\n",
      "37  Northern Mariana Islands  https://www.nps.gov/state/mp/index.htm\n",
      "38                      Ohio  https://www.nps.gov/state/oh/index.htm\n",
      "39                  Oklahoma  https://www.nps.gov/state/ok/index.htm\n",
      "40                    Oregon  https://www.nps.gov/state/or/index.htm\n",
      "41              Pennsylvania  https://www.nps.gov/state/pa/index.htm\n",
      "42               Puerto Rico  https://www.nps.gov/state/pr/index.htm\n",
      "43              Rhode Island  https://www.nps.gov/state/ri/index.htm\n",
      "44            South Carolina  https://www.nps.gov/state/sc/index.htm\n",
      "45              South Dakota  https://www.nps.gov/state/sd/index.htm\n",
      "46                 Tennessee  https://www.nps.gov/state/tn/index.htm\n",
      "47                     Texas  https://www.nps.gov/state/tx/index.htm\n",
      "48                      Utah  https://www.nps.gov/state/ut/index.htm\n",
      "49                   Vermont  https://www.nps.gov/state/vt/index.htm\n",
      "50            Virgin Islands  https://www.nps.gov/state/vi/index.htm\n",
      "51                  Virginia  https://www.nps.gov/state/va/index.htm\n",
      "52                Washington  https://www.nps.gov/state/wa/index.htm\n",
      "53             West Virginia  https://www.nps.gov/state/wv/index.htm\n",
      "54                 Wisconsin  https://www.nps.gov/state/wi/index.htm\n",
      "55                   Wyoming  https://www.nps.gov/state/wy/index.htm\n"
     ]
    }
   ],
   "source": [
    "print(state_df)"
   ]
  },
  {
   "cell_type": "markdown",
   "id": "8e586edd-ff26-4ce2-8f6b-2424b26f2929",
   "metadata": {},
   "source": [
    "## Question 3"
   ]
  },
  {
   "cell_type": "code",
   "execution_count": 82,
   "id": "bbe0f40d-9655-4653-9ca8-886bdb61cb91",
   "metadata": {},
   "outputs": [],
   "source": [
    "myresponse = requests.get(\"https://books.toscrape.com/\")"
   ]
  },
  {
   "cell_type": "code",
   "execution_count": 83,
   "id": "b6ceaca8-f595-4d55-96ea-83433d61f8f8",
   "metadata": {},
   "outputs": [],
   "source": [
    "mysoup = BeautifulSoup(myresponse.content, 'html.parser')"
   ]
  },
  {
   "cell_type": "code",
   "execution_count": 84,
   "id": "9e5d1d49-a43d-4c74-8ca9-351d85000a88",
   "metadata": {},
   "outputs": [],
   "source": [
    "category = [element.text.strip() for element in mysoup.select('li ul li a')]"
   ]
  },
  {
   "cell_type": "code",
   "execution_count": 85,
   "id": "77aaa76f-44d9-401b-8e67-ceabaad30144",
   "metadata": {},
   "outputs": [
    {
     "name": "stdout",
     "output_type": "stream",
     "text": [
      "['Travel', 'Mystery', 'Historical Fiction', 'Sequential Art', 'Classics', 'Philosophy', 'Romance', 'Womens Fiction', 'Fiction', 'Childrens', 'Religion', 'Nonfiction', 'Music', 'Default', 'Science Fiction', 'Sports and Games', 'Add a comment', 'Fantasy', 'New Adult', 'Young Adult', 'Science', 'Poetry', 'Paranormal', 'Art', 'Psychology', 'Autobiography', 'Parenting', 'Adult Fiction', 'Humor', 'Horror', 'History', 'Food and Drink', 'Christian Fiction', 'Business', 'Biography', 'Thriller', 'Contemporary', 'Spirituality', 'Academic', 'Self Help', 'Historical', 'Christian', 'Suspense', 'Short Stories', 'Novels', 'Health', 'Politics', 'Cultural', 'Erotica', 'Crime']\n"
     ]
    }
   ],
   "source": [
    "print(category)"
   ]
  },
  {
   "cell_type": "code",
   "execution_count": 86,
   "id": "7755be42-9d3f-45c7-b884-f2abdfcb1cae",
   "metadata": {},
   "outputs": [],
   "source": [
    "url = [\"https://books.toscrape.com/\" +element['href']for element in mysoup.select('li ul li a')]"
   ]
  },
  {
   "cell_type": "code",
   "execution_count": 87,
   "id": "619ccdc4-ab00-43c5-adc1-99fa8e879cb6",
   "metadata": {},
   "outputs": [
    {
     "name": "stdout",
     "output_type": "stream",
     "text": [
      "['https://books.toscrape.com/catalogue/category/books/travel_2/index.html', 'https://books.toscrape.com/catalogue/category/books/mystery_3/index.html', 'https://books.toscrape.com/catalogue/category/books/historical-fiction_4/index.html', 'https://books.toscrape.com/catalogue/category/books/sequential-art_5/index.html', 'https://books.toscrape.com/catalogue/category/books/classics_6/index.html', 'https://books.toscrape.com/catalogue/category/books/philosophy_7/index.html', 'https://books.toscrape.com/catalogue/category/books/romance_8/index.html', 'https://books.toscrape.com/catalogue/category/books/womens-fiction_9/index.html', 'https://books.toscrape.com/catalogue/category/books/fiction_10/index.html', 'https://books.toscrape.com/catalogue/category/books/childrens_11/index.html', 'https://books.toscrape.com/catalogue/category/books/religion_12/index.html', 'https://books.toscrape.com/catalogue/category/books/nonfiction_13/index.html', 'https://books.toscrape.com/catalogue/category/books/music_14/index.html', 'https://books.toscrape.com/catalogue/category/books/default_15/index.html', 'https://books.toscrape.com/catalogue/category/books/science-fiction_16/index.html', 'https://books.toscrape.com/catalogue/category/books/sports-and-games_17/index.html', 'https://books.toscrape.com/catalogue/category/books/add-a-comment_18/index.html', 'https://books.toscrape.com/catalogue/category/books/fantasy_19/index.html', 'https://books.toscrape.com/catalogue/category/books/new-adult_20/index.html', 'https://books.toscrape.com/catalogue/category/books/young-adult_21/index.html', 'https://books.toscrape.com/catalogue/category/books/science_22/index.html', 'https://books.toscrape.com/catalogue/category/books/poetry_23/index.html', 'https://books.toscrape.com/catalogue/category/books/paranormal_24/index.html', 'https://books.toscrape.com/catalogue/category/books/art_25/index.html', 'https://books.toscrape.com/catalogue/category/books/psychology_26/index.html', 'https://books.toscrape.com/catalogue/category/books/autobiography_27/index.html', 'https://books.toscrape.com/catalogue/category/books/parenting_28/index.html', 'https://books.toscrape.com/catalogue/category/books/adult-fiction_29/index.html', 'https://books.toscrape.com/catalogue/category/books/humor_30/index.html', 'https://books.toscrape.com/catalogue/category/books/horror_31/index.html', 'https://books.toscrape.com/catalogue/category/books/history_32/index.html', 'https://books.toscrape.com/catalogue/category/books/food-and-drink_33/index.html', 'https://books.toscrape.com/catalogue/category/books/christian-fiction_34/index.html', 'https://books.toscrape.com/catalogue/category/books/business_35/index.html', 'https://books.toscrape.com/catalogue/category/books/biography_36/index.html', 'https://books.toscrape.com/catalogue/category/books/thriller_37/index.html', 'https://books.toscrape.com/catalogue/category/books/contemporary_38/index.html', 'https://books.toscrape.com/catalogue/category/books/spirituality_39/index.html', 'https://books.toscrape.com/catalogue/category/books/academic_40/index.html', 'https://books.toscrape.com/catalogue/category/books/self-help_41/index.html', 'https://books.toscrape.com/catalogue/category/books/historical_42/index.html', 'https://books.toscrape.com/catalogue/category/books/christian_43/index.html', 'https://books.toscrape.com/catalogue/category/books/suspense_44/index.html', 'https://books.toscrape.com/catalogue/category/books/short-stories_45/index.html', 'https://books.toscrape.com/catalogue/category/books/novels_46/index.html', 'https://books.toscrape.com/catalogue/category/books/health_47/index.html', 'https://books.toscrape.com/catalogue/category/books/politics_48/index.html', 'https://books.toscrape.com/catalogue/category/books/cultural_49/index.html', 'https://books.toscrape.com/catalogue/category/books/erotica_50/index.html', 'https://books.toscrape.com/catalogue/category/books/crime_51/index.html']\n"
     ]
    }
   ],
   "source": [
    "print(url)"
   ]
  },
  {
   "cell_type": "code",
   "execution_count": 88,
   "id": "c4ca6670-9a85-4515-8386-c9267c888a07",
   "metadata": {},
   "outputs": [],
   "source": [
    "category_data = {\"Category\" : category, \"URL\" : url}"
   ]
  },
  {
   "cell_type": "code",
   "execution_count": 89,
   "id": "0f15d0ab-b37b-4716-9d0b-17e6cefb7eb2",
   "metadata": {},
   "outputs": [
    {
     "name": "stdout",
     "output_type": "stream",
     "text": [
      "{'Category': ['Travel', 'Mystery', 'Historical Fiction', 'Sequential Art', 'Classics', 'Philosophy', 'Romance', 'Womens Fiction', 'Fiction', 'Childrens', 'Religion', 'Nonfiction', 'Music', 'Default', 'Science Fiction', 'Sports and Games', 'Add a comment', 'Fantasy', 'New Adult', 'Young Adult', 'Science', 'Poetry', 'Paranormal', 'Art', 'Psychology', 'Autobiography', 'Parenting', 'Adult Fiction', 'Humor', 'Horror', 'History', 'Food and Drink', 'Christian Fiction', 'Business', 'Biography', 'Thriller', 'Contemporary', 'Spirituality', 'Academic', 'Self Help', 'Historical', 'Christian', 'Suspense', 'Short Stories', 'Novels', 'Health', 'Politics', 'Cultural', 'Erotica', 'Crime'], 'URL': ['https://books.toscrape.com/catalogue/category/books/travel_2/index.html', 'https://books.toscrape.com/catalogue/category/books/mystery_3/index.html', 'https://books.toscrape.com/catalogue/category/books/historical-fiction_4/index.html', 'https://books.toscrape.com/catalogue/category/books/sequential-art_5/index.html', 'https://books.toscrape.com/catalogue/category/books/classics_6/index.html', 'https://books.toscrape.com/catalogue/category/books/philosophy_7/index.html', 'https://books.toscrape.com/catalogue/category/books/romance_8/index.html', 'https://books.toscrape.com/catalogue/category/books/womens-fiction_9/index.html', 'https://books.toscrape.com/catalogue/category/books/fiction_10/index.html', 'https://books.toscrape.com/catalogue/category/books/childrens_11/index.html', 'https://books.toscrape.com/catalogue/category/books/religion_12/index.html', 'https://books.toscrape.com/catalogue/category/books/nonfiction_13/index.html', 'https://books.toscrape.com/catalogue/category/books/music_14/index.html', 'https://books.toscrape.com/catalogue/category/books/default_15/index.html', 'https://books.toscrape.com/catalogue/category/books/science-fiction_16/index.html', 'https://books.toscrape.com/catalogue/category/books/sports-and-games_17/index.html', 'https://books.toscrape.com/catalogue/category/books/add-a-comment_18/index.html', 'https://books.toscrape.com/catalogue/category/books/fantasy_19/index.html', 'https://books.toscrape.com/catalogue/category/books/new-adult_20/index.html', 'https://books.toscrape.com/catalogue/category/books/young-adult_21/index.html', 'https://books.toscrape.com/catalogue/category/books/science_22/index.html', 'https://books.toscrape.com/catalogue/category/books/poetry_23/index.html', 'https://books.toscrape.com/catalogue/category/books/paranormal_24/index.html', 'https://books.toscrape.com/catalogue/category/books/art_25/index.html', 'https://books.toscrape.com/catalogue/category/books/psychology_26/index.html', 'https://books.toscrape.com/catalogue/category/books/autobiography_27/index.html', 'https://books.toscrape.com/catalogue/category/books/parenting_28/index.html', 'https://books.toscrape.com/catalogue/category/books/adult-fiction_29/index.html', 'https://books.toscrape.com/catalogue/category/books/humor_30/index.html', 'https://books.toscrape.com/catalogue/category/books/horror_31/index.html', 'https://books.toscrape.com/catalogue/category/books/history_32/index.html', 'https://books.toscrape.com/catalogue/category/books/food-and-drink_33/index.html', 'https://books.toscrape.com/catalogue/category/books/christian-fiction_34/index.html', 'https://books.toscrape.com/catalogue/category/books/business_35/index.html', 'https://books.toscrape.com/catalogue/category/books/biography_36/index.html', 'https://books.toscrape.com/catalogue/category/books/thriller_37/index.html', 'https://books.toscrape.com/catalogue/category/books/contemporary_38/index.html', 'https://books.toscrape.com/catalogue/category/books/spirituality_39/index.html', 'https://books.toscrape.com/catalogue/category/books/academic_40/index.html', 'https://books.toscrape.com/catalogue/category/books/self-help_41/index.html', 'https://books.toscrape.com/catalogue/category/books/historical_42/index.html', 'https://books.toscrape.com/catalogue/category/books/christian_43/index.html', 'https://books.toscrape.com/catalogue/category/books/suspense_44/index.html', 'https://books.toscrape.com/catalogue/category/books/short-stories_45/index.html', 'https://books.toscrape.com/catalogue/category/books/novels_46/index.html', 'https://books.toscrape.com/catalogue/category/books/health_47/index.html', 'https://books.toscrape.com/catalogue/category/books/politics_48/index.html', 'https://books.toscrape.com/catalogue/category/books/cultural_49/index.html', 'https://books.toscrape.com/catalogue/category/books/erotica_50/index.html', 'https://books.toscrape.com/catalogue/category/books/crime_51/index.html']}\n"
     ]
    }
   ],
   "source": [
    "print(category_data)"
   ]
  },
  {
   "cell_type": "code",
   "execution_count": 90,
   "id": "9801d657-0536-4637-b016-8ae983e3f481",
   "metadata": {},
   "outputs": [],
   "source": [
    "categoryDF = pd.DataFrame(category_data)"
   ]
  },
  {
   "cell_type": "code",
   "execution_count": 91,
   "id": "ac944212-c17a-4632-a4c4-452ea977c739",
   "metadata": {},
   "outputs": [
    {
     "name": "stdout",
     "output_type": "stream",
     "text": [
      "              Category                                                URL\n",
      "0               Travel  https://books.toscrape.com/catalogue/category/...\n",
      "1              Mystery  https://books.toscrape.com/catalogue/category/...\n",
      "2   Historical Fiction  https://books.toscrape.com/catalogue/category/...\n",
      "3       Sequential Art  https://books.toscrape.com/catalogue/category/...\n",
      "4             Classics  https://books.toscrape.com/catalogue/category/...\n",
      "5           Philosophy  https://books.toscrape.com/catalogue/category/...\n",
      "6              Romance  https://books.toscrape.com/catalogue/category/...\n",
      "7       Womens Fiction  https://books.toscrape.com/catalogue/category/...\n",
      "8              Fiction  https://books.toscrape.com/catalogue/category/...\n",
      "9            Childrens  https://books.toscrape.com/catalogue/category/...\n",
      "10            Religion  https://books.toscrape.com/catalogue/category/...\n",
      "11          Nonfiction  https://books.toscrape.com/catalogue/category/...\n",
      "12               Music  https://books.toscrape.com/catalogue/category/...\n",
      "13             Default  https://books.toscrape.com/catalogue/category/...\n",
      "14     Science Fiction  https://books.toscrape.com/catalogue/category/...\n",
      "15    Sports and Games  https://books.toscrape.com/catalogue/category/...\n",
      "16       Add a comment  https://books.toscrape.com/catalogue/category/...\n",
      "17             Fantasy  https://books.toscrape.com/catalogue/category/...\n",
      "18           New Adult  https://books.toscrape.com/catalogue/category/...\n",
      "19         Young Adult  https://books.toscrape.com/catalogue/category/...\n",
      "20             Science  https://books.toscrape.com/catalogue/category/...\n",
      "21              Poetry  https://books.toscrape.com/catalogue/category/...\n",
      "22          Paranormal  https://books.toscrape.com/catalogue/category/...\n",
      "23                 Art  https://books.toscrape.com/catalogue/category/...\n",
      "24          Psychology  https://books.toscrape.com/catalogue/category/...\n",
      "25       Autobiography  https://books.toscrape.com/catalogue/category/...\n",
      "26           Parenting  https://books.toscrape.com/catalogue/category/...\n",
      "27       Adult Fiction  https://books.toscrape.com/catalogue/category/...\n",
      "28               Humor  https://books.toscrape.com/catalogue/category/...\n",
      "29              Horror  https://books.toscrape.com/catalogue/category/...\n",
      "30             History  https://books.toscrape.com/catalogue/category/...\n",
      "31      Food and Drink  https://books.toscrape.com/catalogue/category/...\n",
      "32   Christian Fiction  https://books.toscrape.com/catalogue/category/...\n",
      "33            Business  https://books.toscrape.com/catalogue/category/...\n",
      "34           Biography  https://books.toscrape.com/catalogue/category/...\n",
      "35            Thriller  https://books.toscrape.com/catalogue/category/...\n",
      "36        Contemporary  https://books.toscrape.com/catalogue/category/...\n",
      "37        Spirituality  https://books.toscrape.com/catalogue/category/...\n",
      "38            Academic  https://books.toscrape.com/catalogue/category/...\n",
      "39           Self Help  https://books.toscrape.com/catalogue/category/...\n",
      "40          Historical  https://books.toscrape.com/catalogue/category/...\n",
      "41           Christian  https://books.toscrape.com/catalogue/category/...\n",
      "42            Suspense  https://books.toscrape.com/catalogue/category/...\n",
      "43       Short Stories  https://books.toscrape.com/catalogue/category/...\n",
      "44              Novels  https://books.toscrape.com/catalogue/category/...\n",
      "45              Health  https://books.toscrape.com/catalogue/category/...\n",
      "46            Politics  https://books.toscrape.com/catalogue/category/...\n",
      "47            Cultural  https://books.toscrape.com/catalogue/category/...\n",
      "48             Erotica  https://books.toscrape.com/catalogue/category/...\n",
      "49               Crime  https://books.toscrape.com/catalogue/category/...\n"
     ]
    }
   ],
   "source": [
    "print(categoryDF)"
   ]
  },
  {
   "cell_type": "markdown",
   "id": "da22f29c-d245-4d2b-9fc1-ca14cb6087d9",
   "metadata": {},
   "source": [
    "## Question 4"
   ]
  },
  {
   "cell_type": "code",
   "execution_count": 92,
   "id": "8cffc767-d1c8-4d64-b7dc-f0d2ee8a80d1",
   "metadata": {},
   "outputs": [],
   "source": [
    "myresponse = requests.get(\"https://www.gocomics.com/peanuts/1970/06/22\")"
   ]
  },
  {
   "cell_type": "code",
   "execution_count": 93,
   "id": "ce9e7d89-aa55-470f-83c3-7dfcaf63b8df",
   "metadata": {},
   "outputs": [],
   "source": [
    "mysoup = BeautifulSoup(myresponse.content, 'html.parser')"
   ]
  },
  {
   "cell_type": "code",
   "execution_count": 94,
   "id": "d71e778a-d3b6-4b2d-b2cf-0f93206f7396",
   "metadata": {},
   "outputs": [
    {
     "data": {
      "text/plain": [
       "['https://assets.amuniversal.com/2181aa70f895013014ff001dd8b71c47']"
      ]
     },
     "execution_count": 94,
     "metadata": {},
     "output_type": "execute_result"
    }
   ],
   "source": [
    "[element['src'] for element in mysoup.select('img[alt=\"Peanuts Comic Strip for June 22, 1970 \"]')]"
   ]
  },
  {
   "cell_type": "code",
   "execution_count": 95,
   "id": "684e5f0b-28fb-49c1-a23c-6c5f66e99d56",
   "metadata": {},
   "outputs": [],
   "source": [
    "#Comic for February 18, 2003\n",
    "myresponse = requests.get(\"https://www.gocomics.com/peanuts/2003/02/18\")\n",
    "mysoup = BeautifulSoup(myresponse.content, 'html.parser')"
   ]
  },
  {
   "cell_type": "code",
   "execution_count": 96,
   "id": "c845bb6b-f6cb-43ad-9b1d-694b764d4a54",
   "metadata": {},
   "outputs": [
    {
     "data": {
      "text/plain": [
       "['https://assets.amuniversal.com/6bee4a20f7d001301445001dd8b71c47']"
      ]
     },
     "execution_count": 96,
     "metadata": {},
     "output_type": "execute_result"
    }
   ],
   "source": [
    "[element['src'] for element in mysoup.select('img[alt=\"Peanuts Comic Strip for February 18, 2003 \"]')]"
   ]
  },
  {
   "cell_type": "code",
   "execution_count": 97,
   "id": "724a364a-4616-424b-8a5a-8f4c40eec5ec",
   "metadata": {},
   "outputs": [],
   "source": [
    "#Comic for August 11, 1968\n",
    "myresponse = requests.get(\"https://www.gocomics.com/peanuts/1968/08/11\")\n",
    "mysoup = BeautifulSoup(myresponse.content, 'html.parser')"
   ]
  },
  {
   "cell_type": "code",
   "execution_count": 98,
   "id": "3da8e0a9-e006-4c6c-8bdb-09ed17b651de",
   "metadata": {},
   "outputs": [
    {
     "data": {
      "text/plain": [
       "['https://assets.amuniversal.com/a3e72c30f893013014ff001dd8b71c47']"
      ]
     },
     "execution_count": 98,
     "metadata": {},
     "output_type": "execute_result"
    }
   ],
   "source": [
    "[element['src'] for element in mysoup.select('img[alt=\"Peanuts Comic Strip for August 11, 1968 \"]')]"
   ]
  },
  {
   "cell_type": "markdown",
   "id": "88c9cdac-3e92-498f-83fa-e089bfc44ac8",
   "metadata": {},
   "source": [
    "## Question 5"
   ]
  },
  {
   "cell_type": "code",
   "execution_count": 99,
   "id": "d370d7c9-06db-42b9-b75f-240481a5c491",
   "metadata": {},
   "outputs": [],
   "source": [
    "import pandas as pd\n",
    "from io import StringIO"
   ]
  },
  {
   "cell_type": "code",
   "execution_count": 100,
   "id": "c064b31c-2eed-4b97-8b4e-5df7e4fc3c1a",
   "metadata": {},
   "outputs": [],
   "source": [
    "myresponse = requests.get(\"https://www.scrapethissite.com/pages/forms/?per_page=600\")"
   ]
  },
  {
   "cell_type": "code",
   "execution_count": 101,
   "id": "c91985a2-4325-4827-b064-598ea3c979ed",
   "metadata": {},
   "outputs": [],
   "source": [
    "mysoup = BeautifulSoup(myresponse.content, 'html.parser')"
   ]
  },
  {
   "cell_type": "code",
   "execution_count": 102,
   "id": "debff381-b021-4e0e-8835-4cbe4d7d7258",
   "metadata": {},
   "outputs": [
    {
     "data": {
      "text/html": [
       "<div>\n",
       "<style scoped>\n",
       "    .dataframe tbody tr th:only-of-type {\n",
       "        vertical-align: middle;\n",
       "    }\n",
       "\n",
       "    .dataframe tbody tr th {\n",
       "        vertical-align: top;\n",
       "    }\n",
       "\n",
       "    .dataframe thead th {\n",
       "        text-align: right;\n",
       "    }\n",
       "</style>\n",
       "<table border=\"1\" class=\"dataframe\">\n",
       "  <thead>\n",
       "    <tr style=\"text-align: right;\">\n",
       "      <th></th>\n",
       "      <th>Team Name</th>\n",
       "      <th>Year</th>\n",
       "      <th>Wins</th>\n",
       "      <th>Losses</th>\n",
       "      <th>OT Losses</th>\n",
       "      <th>Win %</th>\n",
       "      <th>Goals For (GF)</th>\n",
       "      <th>Goals Against (GA)</th>\n",
       "      <th>+ / -</th>\n",
       "    </tr>\n",
       "  </thead>\n",
       "  <tbody>\n",
       "    <tr>\n",
       "      <th>0</th>\n",
       "      <td>Boston Bruins</td>\n",
       "      <td>1990</td>\n",
       "      <td>44</td>\n",
       "      <td>24</td>\n",
       "      <td>NaN</td>\n",
       "      <td>0.550</td>\n",
       "      <td>299</td>\n",
       "      <td>264</td>\n",
       "      <td>35</td>\n",
       "    </tr>\n",
       "    <tr>\n",
       "      <th>1</th>\n",
       "      <td>Buffalo Sabres</td>\n",
       "      <td>1990</td>\n",
       "      <td>31</td>\n",
       "      <td>30</td>\n",
       "      <td>NaN</td>\n",
       "      <td>0.388</td>\n",
       "      <td>292</td>\n",
       "      <td>278</td>\n",
       "      <td>14</td>\n",
       "    </tr>\n",
       "    <tr>\n",
       "      <th>2</th>\n",
       "      <td>Calgary Flames</td>\n",
       "      <td>1990</td>\n",
       "      <td>46</td>\n",
       "      <td>26</td>\n",
       "      <td>NaN</td>\n",
       "      <td>0.575</td>\n",
       "      <td>344</td>\n",
       "      <td>263</td>\n",
       "      <td>81</td>\n",
       "    </tr>\n",
       "    <tr>\n",
       "      <th>3</th>\n",
       "      <td>Chicago Blackhawks</td>\n",
       "      <td>1990</td>\n",
       "      <td>49</td>\n",
       "      <td>23</td>\n",
       "      <td>NaN</td>\n",
       "      <td>0.613</td>\n",
       "      <td>284</td>\n",
       "      <td>211</td>\n",
       "      <td>73</td>\n",
       "    </tr>\n",
       "    <tr>\n",
       "      <th>4</th>\n",
       "      <td>Detroit Red Wings</td>\n",
       "      <td>1990</td>\n",
       "      <td>34</td>\n",
       "      <td>38</td>\n",
       "      <td>NaN</td>\n",
       "      <td>0.425</td>\n",
       "      <td>273</td>\n",
       "      <td>298</td>\n",
       "      <td>-25</td>\n",
       "    </tr>\n",
       "    <tr>\n",
       "      <th>...</th>\n",
       "      <td>...</td>\n",
       "      <td>...</td>\n",
       "      <td>...</td>\n",
       "      <td>...</td>\n",
       "      <td>...</td>\n",
       "      <td>...</td>\n",
       "      <td>...</td>\n",
       "      <td>...</td>\n",
       "      <td>...</td>\n",
       "    </tr>\n",
       "    <tr>\n",
       "      <th>577</th>\n",
       "      <td>Tampa Bay Lightning</td>\n",
       "      <td>2011</td>\n",
       "      <td>38</td>\n",
       "      <td>36</td>\n",
       "      <td>8.0</td>\n",
       "      <td>0.463</td>\n",
       "      <td>235</td>\n",
       "      <td>281</td>\n",
       "      <td>-46</td>\n",
       "    </tr>\n",
       "    <tr>\n",
       "      <th>578</th>\n",
       "      <td>Toronto Maple Leafs</td>\n",
       "      <td>2011</td>\n",
       "      <td>35</td>\n",
       "      <td>37</td>\n",
       "      <td>10.0</td>\n",
       "      <td>0.427</td>\n",
       "      <td>231</td>\n",
       "      <td>264</td>\n",
       "      <td>-33</td>\n",
       "    </tr>\n",
       "    <tr>\n",
       "      <th>579</th>\n",
       "      <td>Vancouver Canucks</td>\n",
       "      <td>2011</td>\n",
       "      <td>51</td>\n",
       "      <td>22</td>\n",
       "      <td>9.0</td>\n",
       "      <td>0.622</td>\n",
       "      <td>249</td>\n",
       "      <td>198</td>\n",
       "      <td>51</td>\n",
       "    </tr>\n",
       "    <tr>\n",
       "      <th>580</th>\n",
       "      <td>Washington Capitals</td>\n",
       "      <td>2011</td>\n",
       "      <td>42</td>\n",
       "      <td>32</td>\n",
       "      <td>8.0</td>\n",
       "      <td>0.512</td>\n",
       "      <td>222</td>\n",
       "      <td>230</td>\n",
       "      <td>-8</td>\n",
       "    </tr>\n",
       "    <tr>\n",
       "      <th>581</th>\n",
       "      <td>Winnipeg Jets</td>\n",
       "      <td>2011</td>\n",
       "      <td>37</td>\n",
       "      <td>35</td>\n",
       "      <td>10.0</td>\n",
       "      <td>0.451</td>\n",
       "      <td>225</td>\n",
       "      <td>246</td>\n",
       "      <td>-21</td>\n",
       "    </tr>\n",
       "  </tbody>\n",
       "</table>\n",
       "<p>582 rows × 9 columns</p>\n",
       "</div>"
      ],
      "text/plain": [
       "               Team Name  Year  Wins  Losses  OT Losses  Win %  \\\n",
       "0          Boston Bruins  1990    44      24        NaN  0.550   \n",
       "1         Buffalo Sabres  1990    31      30        NaN  0.388   \n",
       "2         Calgary Flames  1990    46      26        NaN  0.575   \n",
       "3     Chicago Blackhawks  1990    49      23        NaN  0.613   \n",
       "4      Detroit Red Wings  1990    34      38        NaN  0.425   \n",
       "..                   ...   ...   ...     ...        ...    ...   \n",
       "577  Tampa Bay Lightning  2011    38      36        8.0  0.463   \n",
       "578  Toronto Maple Leafs  2011    35      37       10.0  0.427   \n",
       "579    Vancouver Canucks  2011    51      22        9.0  0.622   \n",
       "580  Washington Capitals  2011    42      32        8.0  0.512   \n",
       "581        Winnipeg Jets  2011    37      35       10.0  0.451   \n",
       "\n",
       "     Goals For (GF)  Goals Against (GA)  + / -  \n",
       "0               299                 264     35  \n",
       "1               292                 278     14  \n",
       "2               344                 263     81  \n",
       "3               284                 211     73  \n",
       "4               273                 298    -25  \n",
       "..              ...                 ...    ...  \n",
       "577             235                 281    -46  \n",
       "578             231                 264    -33  \n",
       "579             249                 198     51  \n",
       "580             222                 230     -8  \n",
       "581             225                 246    -21  \n",
       "\n",
       "[582 rows x 9 columns]"
      ]
     },
     "execution_count": 102,
     "metadata": {},
     "output_type": "execute_result"
    }
   ],
   "source": [
    "pd.read_html(StringIO(myresponse.text))[0]"
   ]
  },
  {
   "cell_type": "markdown",
   "id": "f76442d6-d02e-4f26-b9d6-c3183e1d6929",
   "metadata": {},
   "source": [
    "## Pledge\n",
    "\n",
    "By submitting this work I hereby pledge that this is my own, personal work. I've acknowledged in the designated place at the top of this file all sources that I used to complete said work, including but not limited to: online resources, books, and electronic communications. I've noted all collaboration with fellow students and/or TA's. I did not copy or plagiarize another's work.\n",
    "\n",
    "> As a Boilermaker pursuing academic excellence, I pledge to be honest and true in all that I do. Accountable together – We are Purdue."
   ]
  }
 ],
 "metadata": {
  "kernelspec": {
   "display_name": "seminar",
   "language": "python",
   "name": "python3"
  },
  "language_info": {
   "codemirror_mode": {
    "name": "ipython",
    "version": 3
   },
   "file_extension": ".py",
   "mimetype": "text/x-python",
   "name": "python",
   "nbconvert_exporter": "python",
   "pygments_lexer": "ipython3",
   "version": "3.11.5"
  }
 },
 "nbformat": 4,
 "nbformat_minor": 5
}
