{
 "cells": [
  {
   "cell_type": "markdown",
   "id": "be02a957-7133-4d02-818e-fedeb3cecb05",
   "metadata": {},
   "source": [
    "# Project 02 -- Anthony Micco"
   ]
  },
  {
   "cell_type": "markdown",
   "id": "a1228853-dd19-4ab2-89e0-0394d7d72de3",
   "metadata": {},
   "source": [
    "**TA Help:** N/A\n",
    "    \n",
    "**Collaboration:** N/A"
   ]
  },
  {
   "cell_type": "markdown",
   "id": "6180e742-8e39-4698-98ff-5b00c8cf8ea0",
   "metadata": {},
   "source": [
    "## Question 1"
   ]
  },
  {
   "cell_type": "code",
   "execution_count": 54,
   "id": "49445606-d363-41b4-b479-e319a9a84c01",
   "metadata": {},
   "outputs": [],
   "source": [
    "import requests\n",
    "from lxml import html"
   ]
  },
  {
   "cell_type": "code",
   "execution_count": 55,
   "id": "bda9725d-67e3-43b0-932f-72719e58a0e6",
   "metadata": {},
   "outputs": [],
   "source": [
    "myresponse = requests.get(\"https://datamine.purdue.edu/about/about-welcome/\")"
   ]
  },
  {
   "cell_type": "code",
   "execution_count": 56,
   "id": "6e95f4a8-03a0-41ac-a302-1f829be49dbc",
   "metadata": {},
   "outputs": [],
   "source": [
    "mytree = html.fromstring(myresponse.content)"
   ]
  },
  {
   "cell_type": "code",
   "execution_count": 57,
   "id": "779f6771-ce26-4cbe-8d92-ddea8da38fd3",
   "metadata": {},
   "outputs": [
    {
     "data": {
      "text/plain": [
       "[<Element p at 0x7fcd3d3873e0>,\n",
       " <Element p at 0x7fcd3d35f2a0>,\n",
       " <Element p at 0x7fcd3d346490>,\n",
       " <Element p at 0x7fcd3d346b70>,\n",
       " <Element p at 0x7fcd3d347430>,\n",
       " <Element p at 0x7fcd3d346800>,\n",
       " <Element p at 0x7fcd3d3462b0>,\n",
       " <Element p at 0x7fcd3d3473e0>,\n",
       " <Element p at 0x7fcd3d3477a0>,\n",
       " <Element p at 0x7fcd3d3467b0>,\n",
       " <Element p at 0x7fcd3d3445f0>,\n",
       " <Element p at 0x7fcd3d345e50>,\n",
       " <Element p at 0x7fcd3d345e00>,\n",
       " <Element p at 0x7fcd3d345d10>,\n",
       " <Element p at 0x7fcd3d345db0>,\n",
       " <Element p at 0x7fcd3d347660>,\n",
       " <Element p at 0x7fcd3d345ea0>,\n",
       " <Element p at 0x7fcd3d346710>,\n",
       " <Element p at 0x7fcd3d346a80>,\n",
       " <Element p at 0x7fcd3d347390>,\n",
       " <Element p at 0x7fcd3d345c70>,\n",
       " <Element p at 0x7fcd3d347de0>]"
      ]
     },
     "execution_count": 57,
     "metadata": {},
     "output_type": "execute_result"
    }
   ],
   "source": [
    "mytree.xpath('//p[@class = \"purdue-home-cta-grid__card-name\"]')"
   ]
  },
  {
   "cell_type": "code",
   "execution_count": 58,
   "id": "107b3159-cc4d-4ce2-9921-df273afa9c85",
   "metadata": {},
   "outputs": [],
   "source": [
    "import pandas as pd"
   ]
  },
  {
   "cell_type": "code",
   "execution_count": 59,
   "id": "79d88d26-fec6-43cc-a484-c5167656281a",
   "metadata": {},
   "outputs": [],
   "source": [
    "names = [element.text for element in mytree.xpath('//p[@class = \"purdue-home-cta-grid__card-name\"]')]"
   ]
  },
  {
   "cell_type": "code",
   "execution_count": 60,
   "id": "2d044776-1632-428e-a5f1-e9341443e225",
   "metadata": {},
   "outputs": [
    {
     "name": "stdout",
     "output_type": "stream",
     "text": [
      "['Mark Daniel Ward', 'Kevin Amstutz', 'Ashley Arroyo', 'Donald Barnes', 'Brandt Barnes', 'Maggie Betz', 'Bryce Castle', 'Cai Chen', 'Doug Crabill', 'Peter Dragnev', 'Stacey Dunderman', 'Jessica Gerlach', 'Dan Hirleman', 'Jessica Jud', 'Kali Lacy', 'Gloria Lenfestey', 'Nicholas Lenfestey', 'Naomi Mersinger', 'Kim Rechkemmer', 'Betsy Satchell', 'Shakir Syed', 'Fulya Gokalp Yavuz']\n"
     ]
    }
   ],
   "source": [
    "print(names)"
   ]
  },
  {
   "cell_type": "code",
   "execution_count": 61,
   "id": "414328fd-6e1e-4673-ac3b-42789f61edcd",
   "metadata": {},
   "outputs": [],
   "source": [
    "titles = [element.text for element in mytree.xpath('//p[@class = \"purdue-home-cta-grid__card-titleline\"]')]"
   ]
  },
  {
   "cell_type": "code",
   "execution_count": 62,
   "id": "1f929687-1f94-4c2a-b455-8bde63d9a85f",
   "metadata": {},
   "outputs": [
    {
     "name": "stdout",
     "output_type": "stream",
     "text": [
      "['Executive Director', 'Senior Data Scientist', 'Data Science Techincal Specialist', 'Guest Relations Administrator', 'Good Boy', 'Managing Director of The Data Mine at Indianapolis', 'Corporate Partners Technical Specialist', 'Corporate Partners Technical Specialist', 'Senior Data Scientist', 'Corporate Partners Technical Specialist  ', 'Lead Program Administration Specialist', 'Corporate Partners Technical Specialist', 'Regional Director of The Data Mine of the Rockies', 'Senior Manager of Expansion Operations', 'Associate Research Engineer', 'Senior Financial Analyst', 'Corporate Partners Technical Specialist', 'ASL Interpreter / Strategic Initiatives Coordinator', 'Senior Program Administration Specialist', 'Senior Administrative Assistant', 'Managing Director of Corporate Partnerships', 'Director of Data Science']\n"
     ]
    }
   ],
   "source": [
    "print(titles)"
   ]
  },
  {
   "cell_type": "code",
   "execution_count": 63,
   "id": "f7d94c4d-ba62-4941-93b1-0f8dab92b800",
   "metadata": {},
   "outputs": [],
   "source": [
    "staffTitlesDF = pd.DataFrame({\"Name\":names,\"Title\":titles})"
   ]
  },
  {
   "cell_type": "code",
   "execution_count": 64,
   "id": "c2898e35-a1a2-42b2-94a1-fe607fa0a1d0",
   "metadata": {},
   "outputs": [
    {
     "data": {
      "text/html": [
       "<div>\n",
       "<style scoped>\n",
       "    .dataframe tbody tr th:only-of-type {\n",
       "        vertical-align: middle;\n",
       "    }\n",
       "\n",
       "    .dataframe tbody tr th {\n",
       "        vertical-align: top;\n",
       "    }\n",
       "\n",
       "    .dataframe thead th {\n",
       "        text-align: right;\n",
       "    }\n",
       "</style>\n",
       "<table border=\"1\" class=\"dataframe\">\n",
       "  <thead>\n",
       "    <tr style=\"text-align: right;\">\n",
       "      <th></th>\n",
       "      <th>Name</th>\n",
       "      <th>Title</th>\n",
       "    </tr>\n",
       "  </thead>\n",
       "  <tbody>\n",
       "    <tr>\n",
       "      <th>0</th>\n",
       "      <td>Mark Daniel Ward</td>\n",
       "      <td>Executive Director</td>\n",
       "    </tr>\n",
       "    <tr>\n",
       "      <th>1</th>\n",
       "      <td>Kevin Amstutz</td>\n",
       "      <td>Senior Data Scientist</td>\n",
       "    </tr>\n",
       "    <tr>\n",
       "      <th>2</th>\n",
       "      <td>Ashley Arroyo</td>\n",
       "      <td>Data Science Techincal Specialist</td>\n",
       "    </tr>\n",
       "    <tr>\n",
       "      <th>3</th>\n",
       "      <td>Donald Barnes</td>\n",
       "      <td>Guest Relations Administrator</td>\n",
       "    </tr>\n",
       "    <tr>\n",
       "      <th>4</th>\n",
       "      <td>Brandt Barnes</td>\n",
       "      <td>Good Boy</td>\n",
       "    </tr>\n",
       "    <tr>\n",
       "      <th>5</th>\n",
       "      <td>Maggie Betz</td>\n",
       "      <td>Managing Director of The Data Mine at Indianap...</td>\n",
       "    </tr>\n",
       "    <tr>\n",
       "      <th>6</th>\n",
       "      <td>Bryce Castle</td>\n",
       "      <td>Corporate Partners Technical Specialist</td>\n",
       "    </tr>\n",
       "    <tr>\n",
       "      <th>7</th>\n",
       "      <td>Cai Chen</td>\n",
       "      <td>Corporate Partners Technical Specialist</td>\n",
       "    </tr>\n",
       "    <tr>\n",
       "      <th>8</th>\n",
       "      <td>Doug Crabill</td>\n",
       "      <td>Senior Data Scientist</td>\n",
       "    </tr>\n",
       "    <tr>\n",
       "      <th>9</th>\n",
       "      <td>Peter Dragnev</td>\n",
       "      <td>Corporate Partners Technical Specialist</td>\n",
       "    </tr>\n",
       "    <tr>\n",
       "      <th>10</th>\n",
       "      <td>Stacey Dunderman</td>\n",
       "      <td>Lead Program Administration Specialist</td>\n",
       "    </tr>\n",
       "    <tr>\n",
       "      <th>11</th>\n",
       "      <td>Jessica Gerlach</td>\n",
       "      <td>Corporate Partners Technical Specialist</td>\n",
       "    </tr>\n",
       "    <tr>\n",
       "      <th>12</th>\n",
       "      <td>Dan Hirleman</td>\n",
       "      <td>Regional Director of The Data Mine of the Rockies</td>\n",
       "    </tr>\n",
       "    <tr>\n",
       "      <th>13</th>\n",
       "      <td>Jessica Jud</td>\n",
       "      <td>Senior Manager of Expansion Operations</td>\n",
       "    </tr>\n",
       "    <tr>\n",
       "      <th>14</th>\n",
       "      <td>Kali Lacy</td>\n",
       "      <td>Associate Research Engineer</td>\n",
       "    </tr>\n",
       "    <tr>\n",
       "      <th>15</th>\n",
       "      <td>Gloria Lenfestey</td>\n",
       "      <td>Senior Financial Analyst</td>\n",
       "    </tr>\n",
       "    <tr>\n",
       "      <th>16</th>\n",
       "      <td>Nicholas Lenfestey</td>\n",
       "      <td>Corporate Partners Technical Specialist</td>\n",
       "    </tr>\n",
       "    <tr>\n",
       "      <th>17</th>\n",
       "      <td>Naomi Mersinger</td>\n",
       "      <td>ASL Interpreter / Strategic Initiatives Coordi...</td>\n",
       "    </tr>\n",
       "    <tr>\n",
       "      <th>18</th>\n",
       "      <td>Kim Rechkemmer</td>\n",
       "      <td>Senior Program Administration Specialist</td>\n",
       "    </tr>\n",
       "    <tr>\n",
       "      <th>19</th>\n",
       "      <td>Betsy Satchell</td>\n",
       "      <td>Senior Administrative Assistant</td>\n",
       "    </tr>\n",
       "    <tr>\n",
       "      <th>20</th>\n",
       "      <td>Shakir Syed</td>\n",
       "      <td>Managing Director of Corporate Partnerships</td>\n",
       "    </tr>\n",
       "    <tr>\n",
       "      <th>21</th>\n",
       "      <td>Fulya Gokalp Yavuz</td>\n",
       "      <td>Director of Data Science</td>\n",
       "    </tr>\n",
       "  </tbody>\n",
       "</table>\n",
       "</div>"
      ],
      "text/plain": [
       "                  Name                                              Title\n",
       "0     Mark Daniel Ward                                 Executive Director\n",
       "1        Kevin Amstutz                              Senior Data Scientist\n",
       "2        Ashley Arroyo                  Data Science Techincal Specialist\n",
       "3        Donald Barnes                      Guest Relations Administrator\n",
       "4        Brandt Barnes                                           Good Boy\n",
       "5          Maggie Betz  Managing Director of The Data Mine at Indianap...\n",
       "6         Bryce Castle            Corporate Partners Technical Specialist\n",
       "7             Cai Chen            Corporate Partners Technical Specialist\n",
       "8         Doug Crabill                              Senior Data Scientist\n",
       "9        Peter Dragnev          Corporate Partners Technical Specialist  \n",
       "10    Stacey Dunderman             Lead Program Administration Specialist\n",
       "11     Jessica Gerlach            Corporate Partners Technical Specialist\n",
       "12        Dan Hirleman  Regional Director of The Data Mine of the Rockies\n",
       "13         Jessica Jud             Senior Manager of Expansion Operations\n",
       "14           Kali Lacy                        Associate Research Engineer\n",
       "15    Gloria Lenfestey                           Senior Financial Analyst\n",
       "16  Nicholas Lenfestey            Corporate Partners Technical Specialist\n",
       "17     Naomi Mersinger  ASL Interpreter / Strategic Initiatives Coordi...\n",
       "18      Kim Rechkemmer           Senior Program Administration Specialist\n",
       "19      Betsy Satchell                    Senior Administrative Assistant\n",
       "20         Shakir Syed        Managing Director of Corporate Partnerships\n",
       "21  Fulya Gokalp Yavuz                           Director of Data Science"
      ]
     },
     "execution_count": 64,
     "metadata": {},
     "output_type": "execute_result"
    }
   ],
   "source": [
    "staffTitlesDF"
   ]
  },
  {
   "cell_type": "markdown",
   "id": "fc601975-35ed-4680-a4e1-0273ee3cc047",
   "metadata": {},
   "source": [
    "## Question 2"
   ]
  },
  {
   "cell_type": "code",
   "execution_count": 65,
   "id": "a16336a1-1ef0-41e8-bc7c-49387db27497",
   "metadata": {},
   "outputs": [],
   "source": [
    "myresponse = requests.get('https://www.nps.gov')"
   ]
  },
  {
   "cell_type": "code",
   "execution_count": 66,
   "id": "27092f15-5bf3-4b48-af19-5719477e3084",
   "metadata": {},
   "outputs": [],
   "source": [
    "mytree = html.fromstring(myresponse.content)"
   ]
  },
  {
   "cell_type": "code",
   "execution_count": 67,
   "id": "e03c3d15-7699-4479-aec0-312e4d9ff53f",
   "metadata": {},
   "outputs": [],
   "source": [
    "states = [element.text.strip() for element in mytree.xpath('//a[@class = \"dropdown-item dropdown-state\"]')]"
   ]
  },
  {
   "cell_type": "code",
   "execution_count": 68,
   "id": "951bfc1d-e1d9-46c5-8e48-ef2e55b522fb",
   "metadata": {},
   "outputs": [
    {
     "name": "stdout",
     "output_type": "stream",
     "text": [
      "['Alabama', 'Alaska', 'American Samoa', 'Arizona', 'Arkansas', 'California', 'Colorado', 'Connecticut', 'Delaware', 'District of Columbia', 'Florida', 'Georgia', 'Guam', 'Hawaii', 'Idaho', 'Illinois', 'Indiana', 'Iowa', 'Kansas', 'Kentucky', 'Louisiana', 'Maine', 'Maryland', 'Massachusetts', 'Michigan', 'Minnesota', 'Mississippi', 'Missouri', 'Montana', 'Nebraska', 'Nevada', 'New Hampshire', 'New Jersey', 'New Mexico', 'New York', 'North Carolina', 'North Dakota', 'Northern Mariana Islands', 'Ohio', 'Oklahoma', 'Oregon', 'Pennsylvania', 'Puerto Rico', 'Rhode Island', 'South Carolina', 'South Dakota', 'Tennessee', 'Texas', 'Utah', 'Vermont', 'Virgin Islands', 'Virginia', 'Washington', 'West Virginia', 'Wisconsin', 'Wyoming']\n"
     ]
    }
   ],
   "source": [
    "print(states)"
   ]
  },
  {
   "cell_type": "code",
   "execution_count": 69,
   "id": "6ee0c589-262b-4cd4-859e-05f8c49af78a",
   "metadata": {},
   "outputs": [],
   "source": [
    "hrefs = ['https://www.nps.gov' + element.attrib['href'] for element in mytree.xpath('//a[@class = \"dropdown-item dropdown-state\"]')]"
   ]
  },
  {
   "cell_type": "code",
   "execution_count": 70,
   "id": "97eb98ab-e933-4cc1-a47c-07d70d0f79ca",
   "metadata": {},
   "outputs": [
    {
     "name": "stdout",
     "output_type": "stream",
     "text": [
      "['https://www.nps.gov/state/al/index.htm', 'https://www.nps.gov/state/ak/index.htm', 'https://www.nps.gov/state/as/index.htm', 'https://www.nps.gov/state/az/index.htm', 'https://www.nps.gov/state/ar/index.htm', 'https://www.nps.gov/state/ca/index.htm', 'https://www.nps.gov/state/co/index.htm', 'https://www.nps.gov/state/ct/index.htm', 'https://www.nps.gov/state/de/index.htm', 'https://www.nps.gov/state/dc/index.htm', 'https://www.nps.gov/state/fl/index.htm', 'https://www.nps.gov/state/ga/index.htm', 'https://www.nps.gov/state/gu/index.htm', 'https://www.nps.gov/state/hi/index.htm', 'https://www.nps.gov/state/id/index.htm', 'https://www.nps.gov/state/il/index.htm', 'https://www.nps.gov/state/in/index.htm', 'https://www.nps.gov/state/ia/index.htm', 'https://www.nps.gov/state/ks/index.htm', 'https://www.nps.gov/state/ky/index.htm', 'https://www.nps.gov/state/la/index.htm', 'https://www.nps.gov/state/me/index.htm', 'https://www.nps.gov/state/md/index.htm', 'https://www.nps.gov/state/ma/index.htm', 'https://www.nps.gov/state/mi/index.htm', 'https://www.nps.gov/state/mn/index.htm', 'https://www.nps.gov/state/ms/index.htm', 'https://www.nps.gov/state/mo/index.htm', 'https://www.nps.gov/state/mt/index.htm', 'https://www.nps.gov/state/ne/index.htm', 'https://www.nps.gov/state/nv/index.htm', 'https://www.nps.gov/state/nh/index.htm', 'https://www.nps.gov/state/nj/index.htm', 'https://www.nps.gov/state/nm/index.htm', 'https://www.nps.gov/state/ny/index.htm', 'https://www.nps.gov/state/nc/index.htm', 'https://www.nps.gov/state/nd/index.htm', 'https://www.nps.gov/state/mp/index.htm', 'https://www.nps.gov/state/oh/index.htm', 'https://www.nps.gov/state/ok/index.htm', 'https://www.nps.gov/state/or/index.htm', 'https://www.nps.gov/state/pa/index.htm', 'https://www.nps.gov/state/pr/index.htm', 'https://www.nps.gov/state/ri/index.htm', 'https://www.nps.gov/state/sc/index.htm', 'https://www.nps.gov/state/sd/index.htm', 'https://www.nps.gov/state/tn/index.htm', 'https://www.nps.gov/state/tx/index.htm', 'https://www.nps.gov/state/ut/index.htm', 'https://www.nps.gov/state/vt/index.htm', 'https://www.nps.gov/state/vi/index.htm', 'https://www.nps.gov/state/va/index.htm', 'https://www.nps.gov/state/wa/index.htm', 'https://www.nps.gov/state/wv/index.htm', 'https://www.nps.gov/state/wi/index.htm', 'https://www.nps.gov/state/wy/index.htm']\n"
     ]
    }
   ],
   "source": [
    "print(hrefs)"
   ]
  },
  {
   "cell_type": "code",
   "execution_count": 71,
   "id": "f3532c26-7ad0-49fc-b840-62da5149cd20",
   "metadata": {},
   "outputs": [],
   "source": [
    "statesDF = pd.DataFrame({\"State\": states, \"URL\" :hrefs})"
   ]
  },
  {
   "cell_type": "code",
   "execution_count": 72,
   "id": "bf779c39-9e12-479f-b923-f09d8114ce7e",
   "metadata": {},
   "outputs": [
    {
     "data": {
      "text/html": [
       "<div>\n",
       "<style scoped>\n",
       "    .dataframe tbody tr th:only-of-type {\n",
       "        vertical-align: middle;\n",
       "    }\n",
       "\n",
       "    .dataframe tbody tr th {\n",
       "        vertical-align: top;\n",
       "    }\n",
       "\n",
       "    .dataframe thead th {\n",
       "        text-align: right;\n",
       "    }\n",
       "</style>\n",
       "<table border=\"1\" class=\"dataframe\">\n",
       "  <thead>\n",
       "    <tr style=\"text-align: right;\">\n",
       "      <th></th>\n",
       "      <th>State</th>\n",
       "      <th>URL</th>\n",
       "    </tr>\n",
       "  </thead>\n",
       "  <tbody>\n",
       "    <tr>\n",
       "      <th>0</th>\n",
       "      <td>Alabama</td>\n",
       "      <td>https://www.nps.gov/state/al/index.htm</td>\n",
       "    </tr>\n",
       "    <tr>\n",
       "      <th>1</th>\n",
       "      <td>Alaska</td>\n",
       "      <td>https://www.nps.gov/state/ak/index.htm</td>\n",
       "    </tr>\n",
       "    <tr>\n",
       "      <th>2</th>\n",
       "      <td>American Samoa</td>\n",
       "      <td>https://www.nps.gov/state/as/index.htm</td>\n",
       "    </tr>\n",
       "    <tr>\n",
       "      <th>3</th>\n",
       "      <td>Arizona</td>\n",
       "      <td>https://www.nps.gov/state/az/index.htm</td>\n",
       "    </tr>\n",
       "    <tr>\n",
       "      <th>4</th>\n",
       "      <td>Arkansas</td>\n",
       "      <td>https://www.nps.gov/state/ar/index.htm</td>\n",
       "    </tr>\n",
       "    <tr>\n",
       "      <th>5</th>\n",
       "      <td>California</td>\n",
       "      <td>https://www.nps.gov/state/ca/index.htm</td>\n",
       "    </tr>\n",
       "    <tr>\n",
       "      <th>6</th>\n",
       "      <td>Colorado</td>\n",
       "      <td>https://www.nps.gov/state/co/index.htm</td>\n",
       "    </tr>\n",
       "    <tr>\n",
       "      <th>7</th>\n",
       "      <td>Connecticut</td>\n",
       "      <td>https://www.nps.gov/state/ct/index.htm</td>\n",
       "    </tr>\n",
       "    <tr>\n",
       "      <th>8</th>\n",
       "      <td>Delaware</td>\n",
       "      <td>https://www.nps.gov/state/de/index.htm</td>\n",
       "    </tr>\n",
       "    <tr>\n",
       "      <th>9</th>\n",
       "      <td>District of Columbia</td>\n",
       "      <td>https://www.nps.gov/state/dc/index.htm</td>\n",
       "    </tr>\n",
       "    <tr>\n",
       "      <th>10</th>\n",
       "      <td>Florida</td>\n",
       "      <td>https://www.nps.gov/state/fl/index.htm</td>\n",
       "    </tr>\n",
       "    <tr>\n",
       "      <th>11</th>\n",
       "      <td>Georgia</td>\n",
       "      <td>https://www.nps.gov/state/ga/index.htm</td>\n",
       "    </tr>\n",
       "    <tr>\n",
       "      <th>12</th>\n",
       "      <td>Guam</td>\n",
       "      <td>https://www.nps.gov/state/gu/index.htm</td>\n",
       "    </tr>\n",
       "    <tr>\n",
       "      <th>13</th>\n",
       "      <td>Hawaii</td>\n",
       "      <td>https://www.nps.gov/state/hi/index.htm</td>\n",
       "    </tr>\n",
       "    <tr>\n",
       "      <th>14</th>\n",
       "      <td>Idaho</td>\n",
       "      <td>https://www.nps.gov/state/id/index.htm</td>\n",
       "    </tr>\n",
       "    <tr>\n",
       "      <th>15</th>\n",
       "      <td>Illinois</td>\n",
       "      <td>https://www.nps.gov/state/il/index.htm</td>\n",
       "    </tr>\n",
       "    <tr>\n",
       "      <th>16</th>\n",
       "      <td>Indiana</td>\n",
       "      <td>https://www.nps.gov/state/in/index.htm</td>\n",
       "    </tr>\n",
       "    <tr>\n",
       "      <th>17</th>\n",
       "      <td>Iowa</td>\n",
       "      <td>https://www.nps.gov/state/ia/index.htm</td>\n",
       "    </tr>\n",
       "    <tr>\n",
       "      <th>18</th>\n",
       "      <td>Kansas</td>\n",
       "      <td>https://www.nps.gov/state/ks/index.htm</td>\n",
       "    </tr>\n",
       "    <tr>\n",
       "      <th>19</th>\n",
       "      <td>Kentucky</td>\n",
       "      <td>https://www.nps.gov/state/ky/index.htm</td>\n",
       "    </tr>\n",
       "    <tr>\n",
       "      <th>20</th>\n",
       "      <td>Louisiana</td>\n",
       "      <td>https://www.nps.gov/state/la/index.htm</td>\n",
       "    </tr>\n",
       "    <tr>\n",
       "      <th>21</th>\n",
       "      <td>Maine</td>\n",
       "      <td>https://www.nps.gov/state/me/index.htm</td>\n",
       "    </tr>\n",
       "    <tr>\n",
       "      <th>22</th>\n",
       "      <td>Maryland</td>\n",
       "      <td>https://www.nps.gov/state/md/index.htm</td>\n",
       "    </tr>\n",
       "    <tr>\n",
       "      <th>23</th>\n",
       "      <td>Massachusetts</td>\n",
       "      <td>https://www.nps.gov/state/ma/index.htm</td>\n",
       "    </tr>\n",
       "    <tr>\n",
       "      <th>24</th>\n",
       "      <td>Michigan</td>\n",
       "      <td>https://www.nps.gov/state/mi/index.htm</td>\n",
       "    </tr>\n",
       "    <tr>\n",
       "      <th>25</th>\n",
       "      <td>Minnesota</td>\n",
       "      <td>https://www.nps.gov/state/mn/index.htm</td>\n",
       "    </tr>\n",
       "    <tr>\n",
       "      <th>26</th>\n",
       "      <td>Mississippi</td>\n",
       "      <td>https://www.nps.gov/state/ms/index.htm</td>\n",
       "    </tr>\n",
       "    <tr>\n",
       "      <th>27</th>\n",
       "      <td>Missouri</td>\n",
       "      <td>https://www.nps.gov/state/mo/index.htm</td>\n",
       "    </tr>\n",
       "    <tr>\n",
       "      <th>28</th>\n",
       "      <td>Montana</td>\n",
       "      <td>https://www.nps.gov/state/mt/index.htm</td>\n",
       "    </tr>\n",
       "    <tr>\n",
       "      <th>29</th>\n",
       "      <td>Nebraska</td>\n",
       "      <td>https://www.nps.gov/state/ne/index.htm</td>\n",
       "    </tr>\n",
       "    <tr>\n",
       "      <th>30</th>\n",
       "      <td>Nevada</td>\n",
       "      <td>https://www.nps.gov/state/nv/index.htm</td>\n",
       "    </tr>\n",
       "    <tr>\n",
       "      <th>31</th>\n",
       "      <td>New Hampshire</td>\n",
       "      <td>https://www.nps.gov/state/nh/index.htm</td>\n",
       "    </tr>\n",
       "    <tr>\n",
       "      <th>32</th>\n",
       "      <td>New Jersey</td>\n",
       "      <td>https://www.nps.gov/state/nj/index.htm</td>\n",
       "    </tr>\n",
       "    <tr>\n",
       "      <th>33</th>\n",
       "      <td>New Mexico</td>\n",
       "      <td>https://www.nps.gov/state/nm/index.htm</td>\n",
       "    </tr>\n",
       "    <tr>\n",
       "      <th>34</th>\n",
       "      <td>New York</td>\n",
       "      <td>https://www.nps.gov/state/ny/index.htm</td>\n",
       "    </tr>\n",
       "    <tr>\n",
       "      <th>35</th>\n",
       "      <td>North Carolina</td>\n",
       "      <td>https://www.nps.gov/state/nc/index.htm</td>\n",
       "    </tr>\n",
       "    <tr>\n",
       "      <th>36</th>\n",
       "      <td>North Dakota</td>\n",
       "      <td>https://www.nps.gov/state/nd/index.htm</td>\n",
       "    </tr>\n",
       "    <tr>\n",
       "      <th>37</th>\n",
       "      <td>Northern Mariana Islands</td>\n",
       "      <td>https://www.nps.gov/state/mp/index.htm</td>\n",
       "    </tr>\n",
       "    <tr>\n",
       "      <th>38</th>\n",
       "      <td>Ohio</td>\n",
       "      <td>https://www.nps.gov/state/oh/index.htm</td>\n",
       "    </tr>\n",
       "    <tr>\n",
       "      <th>39</th>\n",
       "      <td>Oklahoma</td>\n",
       "      <td>https://www.nps.gov/state/ok/index.htm</td>\n",
       "    </tr>\n",
       "    <tr>\n",
       "      <th>40</th>\n",
       "      <td>Oregon</td>\n",
       "      <td>https://www.nps.gov/state/or/index.htm</td>\n",
       "    </tr>\n",
       "    <tr>\n",
       "      <th>41</th>\n",
       "      <td>Pennsylvania</td>\n",
       "      <td>https://www.nps.gov/state/pa/index.htm</td>\n",
       "    </tr>\n",
       "    <tr>\n",
       "      <th>42</th>\n",
       "      <td>Puerto Rico</td>\n",
       "      <td>https://www.nps.gov/state/pr/index.htm</td>\n",
       "    </tr>\n",
       "    <tr>\n",
       "      <th>43</th>\n",
       "      <td>Rhode Island</td>\n",
       "      <td>https://www.nps.gov/state/ri/index.htm</td>\n",
       "    </tr>\n",
       "    <tr>\n",
       "      <th>44</th>\n",
       "      <td>South Carolina</td>\n",
       "      <td>https://www.nps.gov/state/sc/index.htm</td>\n",
       "    </tr>\n",
       "    <tr>\n",
       "      <th>45</th>\n",
       "      <td>South Dakota</td>\n",
       "      <td>https://www.nps.gov/state/sd/index.htm</td>\n",
       "    </tr>\n",
       "    <tr>\n",
       "      <th>46</th>\n",
       "      <td>Tennessee</td>\n",
       "      <td>https://www.nps.gov/state/tn/index.htm</td>\n",
       "    </tr>\n",
       "    <tr>\n",
       "      <th>47</th>\n",
       "      <td>Texas</td>\n",
       "      <td>https://www.nps.gov/state/tx/index.htm</td>\n",
       "    </tr>\n",
       "    <tr>\n",
       "      <th>48</th>\n",
       "      <td>Utah</td>\n",
       "      <td>https://www.nps.gov/state/ut/index.htm</td>\n",
       "    </tr>\n",
       "    <tr>\n",
       "      <th>49</th>\n",
       "      <td>Vermont</td>\n",
       "      <td>https://www.nps.gov/state/vt/index.htm</td>\n",
       "    </tr>\n",
       "    <tr>\n",
       "      <th>50</th>\n",
       "      <td>Virgin Islands</td>\n",
       "      <td>https://www.nps.gov/state/vi/index.htm</td>\n",
       "    </tr>\n",
       "    <tr>\n",
       "      <th>51</th>\n",
       "      <td>Virginia</td>\n",
       "      <td>https://www.nps.gov/state/va/index.htm</td>\n",
       "    </tr>\n",
       "    <tr>\n",
       "      <th>52</th>\n",
       "      <td>Washington</td>\n",
       "      <td>https://www.nps.gov/state/wa/index.htm</td>\n",
       "    </tr>\n",
       "    <tr>\n",
       "      <th>53</th>\n",
       "      <td>West Virginia</td>\n",
       "      <td>https://www.nps.gov/state/wv/index.htm</td>\n",
       "    </tr>\n",
       "    <tr>\n",
       "      <th>54</th>\n",
       "      <td>Wisconsin</td>\n",
       "      <td>https://www.nps.gov/state/wi/index.htm</td>\n",
       "    </tr>\n",
       "    <tr>\n",
       "      <th>55</th>\n",
       "      <td>Wyoming</td>\n",
       "      <td>https://www.nps.gov/state/wy/index.htm</td>\n",
       "    </tr>\n",
       "  </tbody>\n",
       "</table>\n",
       "</div>"
      ],
      "text/plain": [
       "                       State                                     URL\n",
       "0                    Alabama  https://www.nps.gov/state/al/index.htm\n",
       "1                     Alaska  https://www.nps.gov/state/ak/index.htm\n",
       "2             American Samoa  https://www.nps.gov/state/as/index.htm\n",
       "3                    Arizona  https://www.nps.gov/state/az/index.htm\n",
       "4                   Arkansas  https://www.nps.gov/state/ar/index.htm\n",
       "5                 California  https://www.nps.gov/state/ca/index.htm\n",
       "6                   Colorado  https://www.nps.gov/state/co/index.htm\n",
       "7                Connecticut  https://www.nps.gov/state/ct/index.htm\n",
       "8                   Delaware  https://www.nps.gov/state/de/index.htm\n",
       "9       District of Columbia  https://www.nps.gov/state/dc/index.htm\n",
       "10                   Florida  https://www.nps.gov/state/fl/index.htm\n",
       "11                   Georgia  https://www.nps.gov/state/ga/index.htm\n",
       "12                      Guam  https://www.nps.gov/state/gu/index.htm\n",
       "13                    Hawaii  https://www.nps.gov/state/hi/index.htm\n",
       "14                     Idaho  https://www.nps.gov/state/id/index.htm\n",
       "15                  Illinois  https://www.nps.gov/state/il/index.htm\n",
       "16                   Indiana  https://www.nps.gov/state/in/index.htm\n",
       "17                      Iowa  https://www.nps.gov/state/ia/index.htm\n",
       "18                    Kansas  https://www.nps.gov/state/ks/index.htm\n",
       "19                  Kentucky  https://www.nps.gov/state/ky/index.htm\n",
       "20                 Louisiana  https://www.nps.gov/state/la/index.htm\n",
       "21                     Maine  https://www.nps.gov/state/me/index.htm\n",
       "22                  Maryland  https://www.nps.gov/state/md/index.htm\n",
       "23             Massachusetts  https://www.nps.gov/state/ma/index.htm\n",
       "24                  Michigan  https://www.nps.gov/state/mi/index.htm\n",
       "25                 Minnesota  https://www.nps.gov/state/mn/index.htm\n",
       "26               Mississippi  https://www.nps.gov/state/ms/index.htm\n",
       "27                  Missouri  https://www.nps.gov/state/mo/index.htm\n",
       "28                   Montana  https://www.nps.gov/state/mt/index.htm\n",
       "29                  Nebraska  https://www.nps.gov/state/ne/index.htm\n",
       "30                    Nevada  https://www.nps.gov/state/nv/index.htm\n",
       "31             New Hampshire  https://www.nps.gov/state/nh/index.htm\n",
       "32                New Jersey  https://www.nps.gov/state/nj/index.htm\n",
       "33                New Mexico  https://www.nps.gov/state/nm/index.htm\n",
       "34                  New York  https://www.nps.gov/state/ny/index.htm\n",
       "35            North Carolina  https://www.nps.gov/state/nc/index.htm\n",
       "36              North Dakota  https://www.nps.gov/state/nd/index.htm\n",
       "37  Northern Mariana Islands  https://www.nps.gov/state/mp/index.htm\n",
       "38                      Ohio  https://www.nps.gov/state/oh/index.htm\n",
       "39                  Oklahoma  https://www.nps.gov/state/ok/index.htm\n",
       "40                    Oregon  https://www.nps.gov/state/or/index.htm\n",
       "41              Pennsylvania  https://www.nps.gov/state/pa/index.htm\n",
       "42               Puerto Rico  https://www.nps.gov/state/pr/index.htm\n",
       "43              Rhode Island  https://www.nps.gov/state/ri/index.htm\n",
       "44            South Carolina  https://www.nps.gov/state/sc/index.htm\n",
       "45              South Dakota  https://www.nps.gov/state/sd/index.htm\n",
       "46                 Tennessee  https://www.nps.gov/state/tn/index.htm\n",
       "47                     Texas  https://www.nps.gov/state/tx/index.htm\n",
       "48                      Utah  https://www.nps.gov/state/ut/index.htm\n",
       "49                   Vermont  https://www.nps.gov/state/vt/index.htm\n",
       "50            Virgin Islands  https://www.nps.gov/state/vi/index.htm\n",
       "51                  Virginia  https://www.nps.gov/state/va/index.htm\n",
       "52                Washington  https://www.nps.gov/state/wa/index.htm\n",
       "53             West Virginia  https://www.nps.gov/state/wv/index.htm\n",
       "54                 Wisconsin  https://www.nps.gov/state/wi/index.htm\n",
       "55                   Wyoming  https://www.nps.gov/state/wy/index.htm"
      ]
     },
     "execution_count": 72,
     "metadata": {},
     "output_type": "execute_result"
    }
   ],
   "source": [
    "statesDF"
   ]
  },
  {
   "cell_type": "markdown",
   "id": "8e586edd-ff26-4ce2-8f6b-2424b26f2929",
   "metadata": {},
   "source": [
    "## Question 3"
   ]
  },
  {
   "cell_type": "code",
   "execution_count": 73,
   "id": "bbe0f40d-9655-4653-9ca8-886bdb61cb91",
   "metadata": {},
   "outputs": [],
   "source": [
    "myresponse = requests.get(\"https://books.toscrape.com/\")"
   ]
  },
  {
   "cell_type": "code",
   "execution_count": 74,
   "id": "403ae825-59ed-4c24-aa55-a99815873524",
   "metadata": {},
   "outputs": [],
   "source": [
    "mytree = html.fromstring(myresponse.content)"
   ]
  },
  {
   "cell_type": "code",
   "execution_count": 75,
   "id": "9d98384d-aadc-424a-a995-3085b36a818e",
   "metadata": {},
   "outputs": [],
   "source": [
    "category = [element.text.strip() for element in mytree.xpath('//li/ul/li/a')]"
   ]
  },
  {
   "cell_type": "code",
   "execution_count": 76,
   "id": "2d074324-f7e5-4b02-a29a-29aa41f6c59a",
   "metadata": {},
   "outputs": [
    {
     "name": "stdout",
     "output_type": "stream",
     "text": [
      "['Travel', 'Mystery', 'Historical Fiction', 'Sequential Art', 'Classics', 'Philosophy', 'Romance', 'Womens Fiction', 'Fiction', 'Childrens', 'Religion', 'Nonfiction', 'Music', 'Default', 'Science Fiction', 'Sports and Games', 'Add a comment', 'Fantasy', 'New Adult', 'Young Adult', 'Science', 'Poetry', 'Paranormal', 'Art', 'Psychology', 'Autobiography', 'Parenting', 'Adult Fiction', 'Humor', 'Horror', 'History', 'Food and Drink', 'Christian Fiction', 'Business', 'Biography', 'Thriller', 'Contemporary', 'Spirituality', 'Academic', 'Self Help', 'Historical', 'Christian', 'Suspense', 'Short Stories', 'Novels', 'Health', 'Politics', 'Cultural', 'Erotica', 'Crime']\n"
     ]
    }
   ],
   "source": [
    "print(category)"
   ]
  },
  {
   "cell_type": "code",
   "execution_count": 77,
   "id": "d3311b98-4d24-4460-94c4-ff551c8c65a2",
   "metadata": {},
   "outputs": [],
   "source": [
    "url = [\"https://books.toscrape.com/\" +element.attrib['href']for element in mytree.xpath('//li/ul/li/a')]"
   ]
  },
  {
   "cell_type": "code",
   "execution_count": 78,
   "id": "fa00f083-f8cc-4c5b-b9c2-5eba3f76c3d1",
   "metadata": {},
   "outputs": [
    {
     "name": "stdout",
     "output_type": "stream",
     "text": [
      "['https://books.toscrape.com/catalogue/category/books/travel_2/index.html', 'https://books.toscrape.com/catalogue/category/books/mystery_3/index.html', 'https://books.toscrape.com/catalogue/category/books/historical-fiction_4/index.html', 'https://books.toscrape.com/catalogue/category/books/sequential-art_5/index.html', 'https://books.toscrape.com/catalogue/category/books/classics_6/index.html', 'https://books.toscrape.com/catalogue/category/books/philosophy_7/index.html', 'https://books.toscrape.com/catalogue/category/books/romance_8/index.html', 'https://books.toscrape.com/catalogue/category/books/womens-fiction_9/index.html', 'https://books.toscrape.com/catalogue/category/books/fiction_10/index.html', 'https://books.toscrape.com/catalogue/category/books/childrens_11/index.html', 'https://books.toscrape.com/catalogue/category/books/religion_12/index.html', 'https://books.toscrape.com/catalogue/category/books/nonfiction_13/index.html', 'https://books.toscrape.com/catalogue/category/books/music_14/index.html', 'https://books.toscrape.com/catalogue/category/books/default_15/index.html', 'https://books.toscrape.com/catalogue/category/books/science-fiction_16/index.html', 'https://books.toscrape.com/catalogue/category/books/sports-and-games_17/index.html', 'https://books.toscrape.com/catalogue/category/books/add-a-comment_18/index.html', 'https://books.toscrape.com/catalogue/category/books/fantasy_19/index.html', 'https://books.toscrape.com/catalogue/category/books/new-adult_20/index.html', 'https://books.toscrape.com/catalogue/category/books/young-adult_21/index.html', 'https://books.toscrape.com/catalogue/category/books/science_22/index.html', 'https://books.toscrape.com/catalogue/category/books/poetry_23/index.html', 'https://books.toscrape.com/catalogue/category/books/paranormal_24/index.html', 'https://books.toscrape.com/catalogue/category/books/art_25/index.html', 'https://books.toscrape.com/catalogue/category/books/psychology_26/index.html', 'https://books.toscrape.com/catalogue/category/books/autobiography_27/index.html', 'https://books.toscrape.com/catalogue/category/books/parenting_28/index.html', 'https://books.toscrape.com/catalogue/category/books/adult-fiction_29/index.html', 'https://books.toscrape.com/catalogue/category/books/humor_30/index.html', 'https://books.toscrape.com/catalogue/category/books/horror_31/index.html', 'https://books.toscrape.com/catalogue/category/books/history_32/index.html', 'https://books.toscrape.com/catalogue/category/books/food-and-drink_33/index.html', 'https://books.toscrape.com/catalogue/category/books/christian-fiction_34/index.html', 'https://books.toscrape.com/catalogue/category/books/business_35/index.html', 'https://books.toscrape.com/catalogue/category/books/biography_36/index.html', 'https://books.toscrape.com/catalogue/category/books/thriller_37/index.html', 'https://books.toscrape.com/catalogue/category/books/contemporary_38/index.html', 'https://books.toscrape.com/catalogue/category/books/spirituality_39/index.html', 'https://books.toscrape.com/catalogue/category/books/academic_40/index.html', 'https://books.toscrape.com/catalogue/category/books/self-help_41/index.html', 'https://books.toscrape.com/catalogue/category/books/historical_42/index.html', 'https://books.toscrape.com/catalogue/category/books/christian_43/index.html', 'https://books.toscrape.com/catalogue/category/books/suspense_44/index.html', 'https://books.toscrape.com/catalogue/category/books/short-stories_45/index.html', 'https://books.toscrape.com/catalogue/category/books/novels_46/index.html', 'https://books.toscrape.com/catalogue/category/books/health_47/index.html', 'https://books.toscrape.com/catalogue/category/books/politics_48/index.html', 'https://books.toscrape.com/catalogue/category/books/cultural_49/index.html', 'https://books.toscrape.com/catalogue/category/books/erotica_50/index.html', 'https://books.toscrape.com/catalogue/category/books/crime_51/index.html']\n"
     ]
    }
   ],
   "source": [
    "print(url)"
   ]
  },
  {
   "cell_type": "code",
   "execution_count": 79,
   "id": "dc927256-8ac3-4572-84a3-279c69b7b149",
   "metadata": {},
   "outputs": [],
   "source": [
    "genreDF = pd.DataFrame({\"Category\" : category, \"URL\" : url})"
   ]
  },
  {
   "cell_type": "code",
   "execution_count": 80,
   "id": "c882c586-98b5-475d-ab67-09153ad08bd9",
   "metadata": {},
   "outputs": [
    {
     "data": {
      "text/html": [
       "<div>\n",
       "<style scoped>\n",
       "    .dataframe tbody tr th:only-of-type {\n",
       "        vertical-align: middle;\n",
       "    }\n",
       "\n",
       "    .dataframe tbody tr th {\n",
       "        vertical-align: top;\n",
       "    }\n",
       "\n",
       "    .dataframe thead th {\n",
       "        text-align: right;\n",
       "    }\n",
       "</style>\n",
       "<table border=\"1\" class=\"dataframe\">\n",
       "  <thead>\n",
       "    <tr style=\"text-align: right;\">\n",
       "      <th></th>\n",
       "      <th>Category</th>\n",
       "      <th>URL</th>\n",
       "    </tr>\n",
       "  </thead>\n",
       "  <tbody>\n",
       "    <tr>\n",
       "      <th>0</th>\n",
       "      <td>Travel</td>\n",
       "      <td>https://books.toscrape.com/catalogue/category/...</td>\n",
       "    </tr>\n",
       "    <tr>\n",
       "      <th>1</th>\n",
       "      <td>Mystery</td>\n",
       "      <td>https://books.toscrape.com/catalogue/category/...</td>\n",
       "    </tr>\n",
       "    <tr>\n",
       "      <th>2</th>\n",
       "      <td>Historical Fiction</td>\n",
       "      <td>https://books.toscrape.com/catalogue/category/...</td>\n",
       "    </tr>\n",
       "    <tr>\n",
       "      <th>3</th>\n",
       "      <td>Sequential Art</td>\n",
       "      <td>https://books.toscrape.com/catalogue/category/...</td>\n",
       "    </tr>\n",
       "    <tr>\n",
       "      <th>4</th>\n",
       "      <td>Classics</td>\n",
       "      <td>https://books.toscrape.com/catalogue/category/...</td>\n",
       "    </tr>\n",
       "    <tr>\n",
       "      <th>5</th>\n",
       "      <td>Philosophy</td>\n",
       "      <td>https://books.toscrape.com/catalogue/category/...</td>\n",
       "    </tr>\n",
       "    <tr>\n",
       "      <th>6</th>\n",
       "      <td>Romance</td>\n",
       "      <td>https://books.toscrape.com/catalogue/category/...</td>\n",
       "    </tr>\n",
       "    <tr>\n",
       "      <th>7</th>\n",
       "      <td>Womens Fiction</td>\n",
       "      <td>https://books.toscrape.com/catalogue/category/...</td>\n",
       "    </tr>\n",
       "    <tr>\n",
       "      <th>8</th>\n",
       "      <td>Fiction</td>\n",
       "      <td>https://books.toscrape.com/catalogue/category/...</td>\n",
       "    </tr>\n",
       "    <tr>\n",
       "      <th>9</th>\n",
       "      <td>Childrens</td>\n",
       "      <td>https://books.toscrape.com/catalogue/category/...</td>\n",
       "    </tr>\n",
       "    <tr>\n",
       "      <th>10</th>\n",
       "      <td>Religion</td>\n",
       "      <td>https://books.toscrape.com/catalogue/category/...</td>\n",
       "    </tr>\n",
       "    <tr>\n",
       "      <th>11</th>\n",
       "      <td>Nonfiction</td>\n",
       "      <td>https://books.toscrape.com/catalogue/category/...</td>\n",
       "    </tr>\n",
       "    <tr>\n",
       "      <th>12</th>\n",
       "      <td>Music</td>\n",
       "      <td>https://books.toscrape.com/catalogue/category/...</td>\n",
       "    </tr>\n",
       "    <tr>\n",
       "      <th>13</th>\n",
       "      <td>Default</td>\n",
       "      <td>https://books.toscrape.com/catalogue/category/...</td>\n",
       "    </tr>\n",
       "    <tr>\n",
       "      <th>14</th>\n",
       "      <td>Science Fiction</td>\n",
       "      <td>https://books.toscrape.com/catalogue/category/...</td>\n",
       "    </tr>\n",
       "    <tr>\n",
       "      <th>15</th>\n",
       "      <td>Sports and Games</td>\n",
       "      <td>https://books.toscrape.com/catalogue/category/...</td>\n",
       "    </tr>\n",
       "    <tr>\n",
       "      <th>16</th>\n",
       "      <td>Add a comment</td>\n",
       "      <td>https://books.toscrape.com/catalogue/category/...</td>\n",
       "    </tr>\n",
       "    <tr>\n",
       "      <th>17</th>\n",
       "      <td>Fantasy</td>\n",
       "      <td>https://books.toscrape.com/catalogue/category/...</td>\n",
       "    </tr>\n",
       "    <tr>\n",
       "      <th>18</th>\n",
       "      <td>New Adult</td>\n",
       "      <td>https://books.toscrape.com/catalogue/category/...</td>\n",
       "    </tr>\n",
       "    <tr>\n",
       "      <th>19</th>\n",
       "      <td>Young Adult</td>\n",
       "      <td>https://books.toscrape.com/catalogue/category/...</td>\n",
       "    </tr>\n",
       "    <tr>\n",
       "      <th>20</th>\n",
       "      <td>Science</td>\n",
       "      <td>https://books.toscrape.com/catalogue/category/...</td>\n",
       "    </tr>\n",
       "    <tr>\n",
       "      <th>21</th>\n",
       "      <td>Poetry</td>\n",
       "      <td>https://books.toscrape.com/catalogue/category/...</td>\n",
       "    </tr>\n",
       "    <tr>\n",
       "      <th>22</th>\n",
       "      <td>Paranormal</td>\n",
       "      <td>https://books.toscrape.com/catalogue/category/...</td>\n",
       "    </tr>\n",
       "    <tr>\n",
       "      <th>23</th>\n",
       "      <td>Art</td>\n",
       "      <td>https://books.toscrape.com/catalogue/category/...</td>\n",
       "    </tr>\n",
       "    <tr>\n",
       "      <th>24</th>\n",
       "      <td>Psychology</td>\n",
       "      <td>https://books.toscrape.com/catalogue/category/...</td>\n",
       "    </tr>\n",
       "    <tr>\n",
       "      <th>25</th>\n",
       "      <td>Autobiography</td>\n",
       "      <td>https://books.toscrape.com/catalogue/category/...</td>\n",
       "    </tr>\n",
       "    <tr>\n",
       "      <th>26</th>\n",
       "      <td>Parenting</td>\n",
       "      <td>https://books.toscrape.com/catalogue/category/...</td>\n",
       "    </tr>\n",
       "    <tr>\n",
       "      <th>27</th>\n",
       "      <td>Adult Fiction</td>\n",
       "      <td>https://books.toscrape.com/catalogue/category/...</td>\n",
       "    </tr>\n",
       "    <tr>\n",
       "      <th>28</th>\n",
       "      <td>Humor</td>\n",
       "      <td>https://books.toscrape.com/catalogue/category/...</td>\n",
       "    </tr>\n",
       "    <tr>\n",
       "      <th>29</th>\n",
       "      <td>Horror</td>\n",
       "      <td>https://books.toscrape.com/catalogue/category/...</td>\n",
       "    </tr>\n",
       "    <tr>\n",
       "      <th>30</th>\n",
       "      <td>History</td>\n",
       "      <td>https://books.toscrape.com/catalogue/category/...</td>\n",
       "    </tr>\n",
       "    <tr>\n",
       "      <th>31</th>\n",
       "      <td>Food and Drink</td>\n",
       "      <td>https://books.toscrape.com/catalogue/category/...</td>\n",
       "    </tr>\n",
       "    <tr>\n",
       "      <th>32</th>\n",
       "      <td>Christian Fiction</td>\n",
       "      <td>https://books.toscrape.com/catalogue/category/...</td>\n",
       "    </tr>\n",
       "    <tr>\n",
       "      <th>33</th>\n",
       "      <td>Business</td>\n",
       "      <td>https://books.toscrape.com/catalogue/category/...</td>\n",
       "    </tr>\n",
       "    <tr>\n",
       "      <th>34</th>\n",
       "      <td>Biography</td>\n",
       "      <td>https://books.toscrape.com/catalogue/category/...</td>\n",
       "    </tr>\n",
       "    <tr>\n",
       "      <th>35</th>\n",
       "      <td>Thriller</td>\n",
       "      <td>https://books.toscrape.com/catalogue/category/...</td>\n",
       "    </tr>\n",
       "    <tr>\n",
       "      <th>36</th>\n",
       "      <td>Contemporary</td>\n",
       "      <td>https://books.toscrape.com/catalogue/category/...</td>\n",
       "    </tr>\n",
       "    <tr>\n",
       "      <th>37</th>\n",
       "      <td>Spirituality</td>\n",
       "      <td>https://books.toscrape.com/catalogue/category/...</td>\n",
       "    </tr>\n",
       "    <tr>\n",
       "      <th>38</th>\n",
       "      <td>Academic</td>\n",
       "      <td>https://books.toscrape.com/catalogue/category/...</td>\n",
       "    </tr>\n",
       "    <tr>\n",
       "      <th>39</th>\n",
       "      <td>Self Help</td>\n",
       "      <td>https://books.toscrape.com/catalogue/category/...</td>\n",
       "    </tr>\n",
       "    <tr>\n",
       "      <th>40</th>\n",
       "      <td>Historical</td>\n",
       "      <td>https://books.toscrape.com/catalogue/category/...</td>\n",
       "    </tr>\n",
       "    <tr>\n",
       "      <th>41</th>\n",
       "      <td>Christian</td>\n",
       "      <td>https://books.toscrape.com/catalogue/category/...</td>\n",
       "    </tr>\n",
       "    <tr>\n",
       "      <th>42</th>\n",
       "      <td>Suspense</td>\n",
       "      <td>https://books.toscrape.com/catalogue/category/...</td>\n",
       "    </tr>\n",
       "    <tr>\n",
       "      <th>43</th>\n",
       "      <td>Short Stories</td>\n",
       "      <td>https://books.toscrape.com/catalogue/category/...</td>\n",
       "    </tr>\n",
       "    <tr>\n",
       "      <th>44</th>\n",
       "      <td>Novels</td>\n",
       "      <td>https://books.toscrape.com/catalogue/category/...</td>\n",
       "    </tr>\n",
       "    <tr>\n",
       "      <th>45</th>\n",
       "      <td>Health</td>\n",
       "      <td>https://books.toscrape.com/catalogue/category/...</td>\n",
       "    </tr>\n",
       "    <tr>\n",
       "      <th>46</th>\n",
       "      <td>Politics</td>\n",
       "      <td>https://books.toscrape.com/catalogue/category/...</td>\n",
       "    </tr>\n",
       "    <tr>\n",
       "      <th>47</th>\n",
       "      <td>Cultural</td>\n",
       "      <td>https://books.toscrape.com/catalogue/category/...</td>\n",
       "    </tr>\n",
       "    <tr>\n",
       "      <th>48</th>\n",
       "      <td>Erotica</td>\n",
       "      <td>https://books.toscrape.com/catalogue/category/...</td>\n",
       "    </tr>\n",
       "    <tr>\n",
       "      <th>49</th>\n",
       "      <td>Crime</td>\n",
       "      <td>https://books.toscrape.com/catalogue/category/...</td>\n",
       "    </tr>\n",
       "  </tbody>\n",
       "</table>\n",
       "</div>"
      ],
      "text/plain": [
       "              Category                                                URL\n",
       "0               Travel  https://books.toscrape.com/catalogue/category/...\n",
       "1              Mystery  https://books.toscrape.com/catalogue/category/...\n",
       "2   Historical Fiction  https://books.toscrape.com/catalogue/category/...\n",
       "3       Sequential Art  https://books.toscrape.com/catalogue/category/...\n",
       "4             Classics  https://books.toscrape.com/catalogue/category/...\n",
       "5           Philosophy  https://books.toscrape.com/catalogue/category/...\n",
       "6              Romance  https://books.toscrape.com/catalogue/category/...\n",
       "7       Womens Fiction  https://books.toscrape.com/catalogue/category/...\n",
       "8              Fiction  https://books.toscrape.com/catalogue/category/...\n",
       "9            Childrens  https://books.toscrape.com/catalogue/category/...\n",
       "10            Religion  https://books.toscrape.com/catalogue/category/...\n",
       "11          Nonfiction  https://books.toscrape.com/catalogue/category/...\n",
       "12               Music  https://books.toscrape.com/catalogue/category/...\n",
       "13             Default  https://books.toscrape.com/catalogue/category/...\n",
       "14     Science Fiction  https://books.toscrape.com/catalogue/category/...\n",
       "15    Sports and Games  https://books.toscrape.com/catalogue/category/...\n",
       "16       Add a comment  https://books.toscrape.com/catalogue/category/...\n",
       "17             Fantasy  https://books.toscrape.com/catalogue/category/...\n",
       "18           New Adult  https://books.toscrape.com/catalogue/category/...\n",
       "19         Young Adult  https://books.toscrape.com/catalogue/category/...\n",
       "20             Science  https://books.toscrape.com/catalogue/category/...\n",
       "21              Poetry  https://books.toscrape.com/catalogue/category/...\n",
       "22          Paranormal  https://books.toscrape.com/catalogue/category/...\n",
       "23                 Art  https://books.toscrape.com/catalogue/category/...\n",
       "24          Psychology  https://books.toscrape.com/catalogue/category/...\n",
       "25       Autobiography  https://books.toscrape.com/catalogue/category/...\n",
       "26           Parenting  https://books.toscrape.com/catalogue/category/...\n",
       "27       Adult Fiction  https://books.toscrape.com/catalogue/category/...\n",
       "28               Humor  https://books.toscrape.com/catalogue/category/...\n",
       "29              Horror  https://books.toscrape.com/catalogue/category/...\n",
       "30             History  https://books.toscrape.com/catalogue/category/...\n",
       "31      Food and Drink  https://books.toscrape.com/catalogue/category/...\n",
       "32   Christian Fiction  https://books.toscrape.com/catalogue/category/...\n",
       "33            Business  https://books.toscrape.com/catalogue/category/...\n",
       "34           Biography  https://books.toscrape.com/catalogue/category/...\n",
       "35            Thriller  https://books.toscrape.com/catalogue/category/...\n",
       "36        Contemporary  https://books.toscrape.com/catalogue/category/...\n",
       "37        Spirituality  https://books.toscrape.com/catalogue/category/...\n",
       "38            Academic  https://books.toscrape.com/catalogue/category/...\n",
       "39           Self Help  https://books.toscrape.com/catalogue/category/...\n",
       "40          Historical  https://books.toscrape.com/catalogue/category/...\n",
       "41           Christian  https://books.toscrape.com/catalogue/category/...\n",
       "42            Suspense  https://books.toscrape.com/catalogue/category/...\n",
       "43       Short Stories  https://books.toscrape.com/catalogue/category/...\n",
       "44              Novels  https://books.toscrape.com/catalogue/category/...\n",
       "45              Health  https://books.toscrape.com/catalogue/category/...\n",
       "46            Politics  https://books.toscrape.com/catalogue/category/...\n",
       "47            Cultural  https://books.toscrape.com/catalogue/category/...\n",
       "48             Erotica  https://books.toscrape.com/catalogue/category/...\n",
       "49               Crime  https://books.toscrape.com/catalogue/category/..."
      ]
     },
     "execution_count": 80,
     "metadata": {},
     "output_type": "execute_result"
    }
   ],
   "source": [
    "genreDF"
   ]
  },
  {
   "cell_type": "markdown",
   "id": "da22f29c-d245-4d2b-9fc1-ca14cb6087d9",
   "metadata": {},
   "source": [
    "## Question 4"
   ]
  },
  {
   "cell_type": "code",
   "execution_count": 81,
   "id": "8cffc767-d1c8-4d64-b7dc-f0d2ee8a80d1",
   "metadata": {},
   "outputs": [],
   "source": [
    "myresponse = requests.get(\"https://www.gocomics.com/peanuts/1970/06/22\")"
   ]
  },
  {
   "cell_type": "code",
   "execution_count": 82,
   "id": "d75d9065-421a-4f4c-b169-621d6b0a70fc",
   "metadata": {},
   "outputs": [],
   "source": [
    "mytree = html.fromstring(myresponse.content)"
   ]
  },
  {
   "cell_type": "code",
   "execution_count": 83,
   "id": "b218bc72-4039-4de6-a090-4caf67f25cce",
   "metadata": {},
   "outputs": [
    {
     "data": {
      "text/plain": [
       "['https://assets.amuniversal.com/2181aa70f895013014ff001dd8b71c47']"
      ]
     },
     "execution_count": 83,
     "metadata": {},
     "output_type": "execute_result"
    }
   ],
   "source": [
    "[element.attrib['src'] for element in mytree.xpath('//img[@alt = \"Peanuts Comic Strip for June 22, 1970 \"]')]"
   ]
  },
  {
   "cell_type": "code",
   "execution_count": 84,
   "id": "31b135f8-7eab-4e18-9eae-f038a5dc288a",
   "metadata": {},
   "outputs": [],
   "source": [
    "#Comic for February 18, 2003\n",
    "myresponse = requests.get(\"https://www.gocomics.com/peanuts/2003/02/18\")\n",
    "mytree = html.fromstring(myresponse.content)"
   ]
  },
  {
   "cell_type": "code",
   "execution_count": 85,
   "id": "e81dd989-9227-4abf-8646-d4296cd3d9cb",
   "metadata": {},
   "outputs": [
    {
     "data": {
      "text/plain": [
       "['https://assets.amuniversal.com/6bee4a20f7d001301445001dd8b71c47']"
      ]
     },
     "execution_count": 85,
     "metadata": {},
     "output_type": "execute_result"
    }
   ],
   "source": [
    "[element.attrib['src'] for element in mytree.xpath('//img[@alt=\"Peanuts Comic Strip for February 18, 2003 \"]')]"
   ]
  },
  {
   "cell_type": "code",
   "execution_count": 86,
   "id": "9a2091a6-a627-4170-9ae3-bb8ae36bef5a",
   "metadata": {},
   "outputs": [],
   "source": [
    "#Comic for January 5, 1985\n",
    "myresponse = requests.get(\"https://www.gocomics.com/peanuts/1985/01/05\")\n",
    "mytree = html.fromstring(myresponse.content)"
   ]
  },
  {
   "cell_type": "code",
   "execution_count": 87,
   "id": "9e8d63b8-50c8-483f-b5c4-0b35e5203776",
   "metadata": {},
   "outputs": [
    {
     "data": {
      "text/plain": [
       "['https://assets.amuniversal.com/ef9dfa80fb8e0130174f001dd8b71c47']"
      ]
     },
     "execution_count": 87,
     "metadata": {},
     "output_type": "execute_result"
    }
   ],
   "source": [
    "[element.attrib['src'] for element in mytree.xpath('//img[@alt=\"Peanuts Comic Strip for January 05, 1985 \"]')]"
   ]
  },
  {
   "cell_type": "markdown",
   "id": "88c9cdac-3e92-498f-83fa-e089bfc44ac8",
   "metadata": {},
   "source": [
    "## Question 5"
   ]
  },
  {
   "cell_type": "code",
   "execution_count": 88,
   "id": "d370d7c9-06db-42b9-b75f-240481a5c491",
   "metadata": {},
   "outputs": [],
   "source": [
    "myresponse = requests.get(\"https://www.nps.gov/state/in/index.htm\")"
   ]
  },
  {
   "cell_type": "code",
   "execution_count": 89,
   "id": "c842ff9f-90b3-4978-8d9c-5f3851e1fe88",
   "metadata": {},
   "outputs": [],
   "source": [
    "mytree = html.fromstring(myresponse.content)"
   ]
  },
  {
   "cell_type": "code",
   "execution_count": 90,
   "id": "51b29ffa-c037-425c-8011-249854bdc0e7",
   "metadata": {},
   "outputs": [],
   "source": [
    "types = [element.text for element in mytree.xpath('//div[@class=\"list_left\"]/p[@class=\"list_left__kicker\"]')]"
   ]
  },
  {
   "cell_type": "code",
   "execution_count": 91,
   "id": "0630ded6-9087-423c-8b8f-4ce44f776653",
   "metadata": {},
   "outputs": [
    {
     "name": "stdout",
     "output_type": "stream",
     "text": [
      "['National Historical Park', 'National Park', 'National Historic Trail', 'National Memorial']\n"
     ]
    }
   ],
   "source": [
    "print(types)"
   ]
  },
  {
   "cell_type": "code",
   "execution_count": 92,
   "id": "b29ffcd6-ff6f-4f71-b2e5-852cd4be68ce",
   "metadata": {},
   "outputs": [],
   "source": [
    "names = [element.text for element in mytree.xpath('//div[@class=\"list_left\"]/h3/a')]"
   ]
  },
  {
   "cell_type": "code",
   "execution_count": 93,
   "id": "5ade58e7-9ae0-48c1-8f6e-c92a75c60694",
   "metadata": {},
   "outputs": [
    {
     "name": "stdout",
     "output_type": "stream",
     "text": [
      "['George Rogers Clark', 'Indiana Dunes', 'Lewis & Clark', 'Lincoln Boyhood']\n"
     ]
    }
   ],
   "source": [
    "print(names)"
   ]
  },
  {
   "cell_type": "code",
   "execution_count": 94,
   "id": "68f405fa-ac91-4d5c-bd17-800a53ee131a",
   "metadata": {},
   "outputs": [],
   "source": [
    "locations = [element.text for element in mytree.xpath('//div[@class=\"list_left\"]/p[@class=\"list_left__subtitle\"]')]"
   ]
  },
  {
   "cell_type": "code",
   "execution_count": 95,
   "id": "41e63333-cdf0-4f4e-8f73-041bec0ba6d7",
   "metadata": {},
   "outputs": [
    {
     "name": "stdout",
     "output_type": "stream",
     "text": [
      "['Vincennes, IN ', 'Porter, IN ', 'Sixteen States: IA,ID,IL,IN,KS,KY,MO,MT,NE,ND,OH,OR,PA,SD,WA,WV ', 'Lincoln City, IN ']\n"
     ]
    }
   ],
   "source": [
    "print(locations)"
   ]
  },
  {
   "cell_type": "code",
   "execution_count": 96,
   "id": "9a61a373-7909-47e9-9e15-a636c786776a",
   "metadata": {},
   "outputs": [],
   "source": [
    "nationalParkDF = pd.DataFrame({\"Type\": types, \"Name\": names, \"Location\": locations})"
   ]
  },
  {
   "cell_type": "code",
   "execution_count": 97,
   "id": "77e61054-4712-42b5-b60b-d9d3f40ab8f4",
   "metadata": {},
   "outputs": [
    {
     "data": {
      "text/html": [
       "<div>\n",
       "<style scoped>\n",
       "    .dataframe tbody tr th:only-of-type {\n",
       "        vertical-align: middle;\n",
       "    }\n",
       "\n",
       "    .dataframe tbody tr th {\n",
       "        vertical-align: top;\n",
       "    }\n",
       "\n",
       "    .dataframe thead th {\n",
       "        text-align: right;\n",
       "    }\n",
       "</style>\n",
       "<table border=\"1\" class=\"dataframe\">\n",
       "  <thead>\n",
       "    <tr style=\"text-align: right;\">\n",
       "      <th></th>\n",
       "      <th>Type</th>\n",
       "      <th>Name</th>\n",
       "      <th>Location</th>\n",
       "    </tr>\n",
       "  </thead>\n",
       "  <tbody>\n",
       "    <tr>\n",
       "      <th>0</th>\n",
       "      <td>National Historical Park</td>\n",
       "      <td>George Rogers Clark</td>\n",
       "      <td>Vincennes, IN</td>\n",
       "    </tr>\n",
       "    <tr>\n",
       "      <th>1</th>\n",
       "      <td>National Park</td>\n",
       "      <td>Indiana Dunes</td>\n",
       "      <td>Porter, IN</td>\n",
       "    </tr>\n",
       "    <tr>\n",
       "      <th>2</th>\n",
       "      <td>National Historic Trail</td>\n",
       "      <td>Lewis &amp; Clark</td>\n",
       "      <td>Sixteen States: IA,ID,IL,IN,KS,KY,MO,MT,NE,ND,...</td>\n",
       "    </tr>\n",
       "    <tr>\n",
       "      <th>3</th>\n",
       "      <td>National Memorial</td>\n",
       "      <td>Lincoln Boyhood</td>\n",
       "      <td>Lincoln City, IN</td>\n",
       "    </tr>\n",
       "  </tbody>\n",
       "</table>\n",
       "</div>"
      ],
      "text/plain": [
       "                       Type                 Name  \\\n",
       "0  National Historical Park  George Rogers Clark   \n",
       "1             National Park        Indiana Dunes   \n",
       "2   National Historic Trail        Lewis & Clark   \n",
       "3         National Memorial      Lincoln Boyhood   \n",
       "\n",
       "                                            Location  \n",
       "0                                     Vincennes, IN   \n",
       "1                                        Porter, IN   \n",
       "2  Sixteen States: IA,ID,IL,IN,KS,KY,MO,MT,NE,ND,...  \n",
       "3                                  Lincoln City, IN   "
      ]
     },
     "execution_count": 97,
     "metadata": {},
     "output_type": "execute_result"
    }
   ],
   "source": [
    "nationalParkDF"
   ]
  },
  {
   "cell_type": "markdown",
   "id": "f76442d6-d02e-4f26-b9d6-c3183e1d6929",
   "metadata": {},
   "source": [
    "## Pledge\n",
    "\n",
    "By submitting this work I hereby pledge that this is my own, personal work. I've acknowledged in the designated place at the top of this file all sources that I used to complete said work, including but not limited to: online resources, books, and electronic communications. I've noted all collaboration with fellow students and/or TA's. I did not copy or plagiarize another's work.\n",
    "\n",
    "> As a Boilermaker pursuing academic excellence, I pledge to be honest and true in all that I do. Accountable together – We are Purdue."
   ]
  }
 ],
 "metadata": {
  "kernelspec": {
   "display_name": "seminar",
   "language": "python",
   "name": "python3"
  },
  "language_info": {
   "codemirror_mode": {
    "name": "ipython",
    "version": 3
   },
   "file_extension": ".py",
   "mimetype": "text/x-python",
   "name": "python",
   "nbconvert_exporter": "python",
   "pygments_lexer": "ipython3",
   "version": "3.11.5"
  }
 },
 "nbformat": 4,
 "nbformat_minor": 5
}
