{
 "cells": [
  {
   "cell_type": "markdown",
   "id": "be02a957-7133-4d02-818e-fedeb3cecb05",
   "metadata": {},
   "source": [
    "# Project 06 - Anthony Micco"
   ]
  },
  {
   "cell_type": "markdown",
   "id": "a1228853-dd19-4ab2-89e0-0394d7d72de3",
   "metadata": {},
   "source": [
    "**TA Help:** N/A\n",
    "    \n",
    "**Collaboration:** Utilized stackoverflow link provided by Dr. Ward to understand how to accommodate for leading zeros and the pandas documentation to understand how to use pd.concat on Question 1. On Question 2, I used the provided GeeksForGeeks page to learn how to extract the month using dateTime. "
   ]
  },
  {
   "cell_type": "markdown",
   "id": "6180e742-8e39-4698-98ff-5b00c8cf8ea0",
   "metadata": {},
   "source": [
    "## Question 1"
   ]
  },
  {
   "cell_type": "code",
   "execution_count": 4,
   "id": "49445606-d363-41b4-b479-e319a9a84c01",
   "metadata": {},
   "outputs": [],
   "source": [
    "import pandas as pd\n",
    "\n",
    "# Base URL\n",
    "base_url = \"https://d37ci6vzurychx.cloudfront.net/trip-data/green_tripdata_\"\n",
    "\n",
    "# Creating DataFrames for each month from January to November 2024\n",
    "dfs = [pd.read_parquet(f\"{base_url}2024-{month:02d}.parquet\") for month in range(1, 12)]"
   ]
  },
  {
   "cell_type": "code",
   "execution_count": 7,
   "id": "4aed8a2a-0a08-416f-9402-0fa7927f108d",
   "metadata": {},
   "outputs": [],
   "source": [
    "taxiDF = pd.concat(dfs, ignore_index=True)"
   ]
  },
  {
   "cell_type": "code",
   "execution_count": 8,
   "id": "f0e45cb2-a319-4ba5-ae44-6148d61b1be5",
   "metadata": {},
   "outputs": [
    {
     "data": {
      "text/html": [
       "<div>\n",
       "<style scoped>\n",
       "    .dataframe tbody tr th:only-of-type {\n",
       "        vertical-align: middle;\n",
       "    }\n",
       "\n",
       "    .dataframe tbody tr th {\n",
       "        vertical-align: top;\n",
       "    }\n",
       "\n",
       "    .dataframe thead th {\n",
       "        text-align: right;\n",
       "    }\n",
       "</style>\n",
       "<table border=\"1\" class=\"dataframe\">\n",
       "  <thead>\n",
       "    <tr style=\"text-align: right;\">\n",
       "      <th></th>\n",
       "      <th>VendorID</th>\n",
       "      <th>lpep_pickup_datetime</th>\n",
       "      <th>lpep_dropoff_datetime</th>\n",
       "      <th>store_and_fwd_flag</th>\n",
       "      <th>RatecodeID</th>\n",
       "      <th>PULocationID</th>\n",
       "      <th>DOLocationID</th>\n",
       "      <th>passenger_count</th>\n",
       "      <th>trip_distance</th>\n",
       "      <th>fare_amount</th>\n",
       "      <th>extra</th>\n",
       "      <th>mta_tax</th>\n",
       "      <th>tip_amount</th>\n",
       "      <th>tolls_amount</th>\n",
       "      <th>ehail_fee</th>\n",
       "      <th>improvement_surcharge</th>\n",
       "      <th>total_amount</th>\n",
       "      <th>payment_type</th>\n",
       "      <th>trip_type</th>\n",
       "      <th>congestion_surcharge</th>\n",
       "    </tr>\n",
       "  </thead>\n",
       "  <tbody>\n",
       "    <tr>\n",
       "      <th>0</th>\n",
       "      <td>2</td>\n",
       "      <td>2024-01-01 00:46:55</td>\n",
       "      <td>2024-01-01 00:58:25</td>\n",
       "      <td>N</td>\n",
       "      <td>1.0</td>\n",
       "      <td>236</td>\n",
       "      <td>239</td>\n",
       "      <td>1.0</td>\n",
       "      <td>1.98</td>\n",
       "      <td>12.80</td>\n",
       "      <td>1.0</td>\n",
       "      <td>0.5</td>\n",
       "      <td>3.61</td>\n",
       "      <td>0.0</td>\n",
       "      <td>NaN</td>\n",
       "      <td>1.0</td>\n",
       "      <td>21.66</td>\n",
       "      <td>1.0</td>\n",
       "      <td>1.0</td>\n",
       "      <td>2.75</td>\n",
       "    </tr>\n",
       "    <tr>\n",
       "      <th>1</th>\n",
       "      <td>2</td>\n",
       "      <td>2024-01-01 00:31:42</td>\n",
       "      <td>2024-01-01 00:52:34</td>\n",
       "      <td>N</td>\n",
       "      <td>1.0</td>\n",
       "      <td>65</td>\n",
       "      <td>170</td>\n",
       "      <td>5.0</td>\n",
       "      <td>6.54</td>\n",
       "      <td>30.30</td>\n",
       "      <td>1.0</td>\n",
       "      <td>0.5</td>\n",
       "      <td>7.11</td>\n",
       "      <td>0.0</td>\n",
       "      <td>NaN</td>\n",
       "      <td>1.0</td>\n",
       "      <td>42.66</td>\n",
       "      <td>1.0</td>\n",
       "      <td>1.0</td>\n",
       "      <td>2.75</td>\n",
       "    </tr>\n",
       "    <tr>\n",
       "      <th>2</th>\n",
       "      <td>2</td>\n",
       "      <td>2024-01-01 00:30:21</td>\n",
       "      <td>2024-01-01 00:49:23</td>\n",
       "      <td>N</td>\n",
       "      <td>1.0</td>\n",
       "      <td>74</td>\n",
       "      <td>262</td>\n",
       "      <td>1.0</td>\n",
       "      <td>3.08</td>\n",
       "      <td>19.80</td>\n",
       "      <td>1.0</td>\n",
       "      <td>0.5</td>\n",
       "      <td>3.00</td>\n",
       "      <td>0.0</td>\n",
       "      <td>NaN</td>\n",
       "      <td>1.0</td>\n",
       "      <td>28.05</td>\n",
       "      <td>1.0</td>\n",
       "      <td>1.0</td>\n",
       "      <td>2.75</td>\n",
       "    </tr>\n",
       "    <tr>\n",
       "      <th>3</th>\n",
       "      <td>1</td>\n",
       "      <td>2024-01-01 00:30:20</td>\n",
       "      <td>2024-01-01 00:42:12</td>\n",
       "      <td>N</td>\n",
       "      <td>1.0</td>\n",
       "      <td>74</td>\n",
       "      <td>116</td>\n",
       "      <td>1.0</td>\n",
       "      <td>2.40</td>\n",
       "      <td>14.20</td>\n",
       "      <td>1.0</td>\n",
       "      <td>1.5</td>\n",
       "      <td>0.00</td>\n",
       "      <td>0.0</td>\n",
       "      <td>NaN</td>\n",
       "      <td>1.0</td>\n",
       "      <td>16.70</td>\n",
       "      <td>2.0</td>\n",
       "      <td>1.0</td>\n",
       "      <td>0.00</td>\n",
       "    </tr>\n",
       "    <tr>\n",
       "      <th>4</th>\n",
       "      <td>2</td>\n",
       "      <td>2024-01-01 00:32:38</td>\n",
       "      <td>2024-01-01 00:43:37</td>\n",
       "      <td>N</td>\n",
       "      <td>1.0</td>\n",
       "      <td>74</td>\n",
       "      <td>243</td>\n",
       "      <td>1.0</td>\n",
       "      <td>5.14</td>\n",
       "      <td>22.60</td>\n",
       "      <td>1.0</td>\n",
       "      <td>0.5</td>\n",
       "      <td>6.28</td>\n",
       "      <td>0.0</td>\n",
       "      <td>NaN</td>\n",
       "      <td>1.0</td>\n",
       "      <td>31.38</td>\n",
       "      <td>1.0</td>\n",
       "      <td>1.0</td>\n",
       "      <td>0.00</td>\n",
       "    </tr>\n",
       "    <tr>\n",
       "      <th>...</th>\n",
       "      <td>...</td>\n",
       "      <td>...</td>\n",
       "      <td>...</td>\n",
       "      <td>...</td>\n",
       "      <td>...</td>\n",
       "      <td>...</td>\n",
       "      <td>...</td>\n",
       "      <td>...</td>\n",
       "      <td>...</td>\n",
       "      <td>...</td>\n",
       "      <td>...</td>\n",
       "      <td>...</td>\n",
       "      <td>...</td>\n",
       "      <td>...</td>\n",
       "      <td>...</td>\n",
       "      <td>...</td>\n",
       "      <td>...</td>\n",
       "      <td>...</td>\n",
       "      <td>...</td>\n",
       "      <td>...</td>\n",
       "    </tr>\n",
       "    <tr>\n",
       "      <th>606219</th>\n",
       "      <td>2</td>\n",
       "      <td>2024-11-30 18:03:00</td>\n",
       "      <td>2024-11-30 18:24:00</td>\n",
       "      <td>None</td>\n",
       "      <td>NaN</td>\n",
       "      <td>41</td>\n",
       "      <td>143</td>\n",
       "      <td>NaN</td>\n",
       "      <td>4.10</td>\n",
       "      <td>30.46</td>\n",
       "      <td>0.0</td>\n",
       "      <td>0.0</td>\n",
       "      <td>1.69</td>\n",
       "      <td>0.0</td>\n",
       "      <td>NaN</td>\n",
       "      <td>1.0</td>\n",
       "      <td>35.90</td>\n",
       "      <td>NaN</td>\n",
       "      <td>NaN</td>\n",
       "      <td>NaN</td>\n",
       "    </tr>\n",
       "    <tr>\n",
       "      <th>606220</th>\n",
       "      <td>2</td>\n",
       "      <td>2024-11-30 19:05:00</td>\n",
       "      <td>2024-11-30 19:16:00</td>\n",
       "      <td>None</td>\n",
       "      <td>NaN</td>\n",
       "      <td>66</td>\n",
       "      <td>256</td>\n",
       "      <td>NaN</td>\n",
       "      <td>2.78</td>\n",
       "      <td>18.27</td>\n",
       "      <td>0.0</td>\n",
       "      <td>0.5</td>\n",
       "      <td>3.95</td>\n",
       "      <td>0.0</td>\n",
       "      <td>NaN</td>\n",
       "      <td>1.0</td>\n",
       "      <td>23.72</td>\n",
       "      <td>NaN</td>\n",
       "      <td>NaN</td>\n",
       "      <td>NaN</td>\n",
       "    </tr>\n",
       "    <tr>\n",
       "      <th>606221</th>\n",
       "      <td>2</td>\n",
       "      <td>2024-11-30 19:52:00</td>\n",
       "      <td>2024-11-30 20:03:00</td>\n",
       "      <td>None</td>\n",
       "      <td>NaN</td>\n",
       "      <td>260</td>\n",
       "      <td>223</td>\n",
       "      <td>NaN</td>\n",
       "      <td>2.38</td>\n",
       "      <td>17.01</td>\n",
       "      <td>0.0</td>\n",
       "      <td>0.5</td>\n",
       "      <td>1.85</td>\n",
       "      <td>0.0</td>\n",
       "      <td>NaN</td>\n",
       "      <td>1.0</td>\n",
       "      <td>20.36</td>\n",
       "      <td>NaN</td>\n",
       "      <td>NaN</td>\n",
       "      <td>NaN</td>\n",
       "    </tr>\n",
       "    <tr>\n",
       "      <th>606222</th>\n",
       "      <td>2</td>\n",
       "      <td>2024-11-30 20:21:00</td>\n",
       "      <td>2024-11-30 20:31:00</td>\n",
       "      <td>None</td>\n",
       "      <td>NaN</td>\n",
       "      <td>244</td>\n",
       "      <td>238</td>\n",
       "      <td>NaN</td>\n",
       "      <td>4.21</td>\n",
       "      <td>20.62</td>\n",
       "      <td>0.0</td>\n",
       "      <td>0.5</td>\n",
       "      <td>7.46</td>\n",
       "      <td>0.0</td>\n",
       "      <td>NaN</td>\n",
       "      <td>1.0</td>\n",
       "      <td>32.33</td>\n",
       "      <td>NaN</td>\n",
       "      <td>NaN</td>\n",
       "      <td>NaN</td>\n",
       "    </tr>\n",
       "    <tr>\n",
       "      <th>606223</th>\n",
       "      <td>2</td>\n",
       "      <td>2024-11-30 21:22:00</td>\n",
       "      <td>2024-11-30 21:26:00</td>\n",
       "      <td>None</td>\n",
       "      <td>NaN</td>\n",
       "      <td>166</td>\n",
       "      <td>41</td>\n",
       "      <td>NaN</td>\n",
       "      <td>0.22</td>\n",
       "      <td>13.58</td>\n",
       "      <td>0.0</td>\n",
       "      <td>0.5</td>\n",
       "      <td>3.02</td>\n",
       "      <td>0.0</td>\n",
       "      <td>NaN</td>\n",
       "      <td>1.0</td>\n",
       "      <td>18.10</td>\n",
       "      <td>NaN</td>\n",
       "      <td>NaN</td>\n",
       "      <td>NaN</td>\n",
       "    </tr>\n",
       "  </tbody>\n",
       "</table>\n",
       "<p>606224 rows × 20 columns</p>\n",
       "</div>"
      ],
      "text/plain": [
       "        VendorID lpep_pickup_datetime lpep_dropoff_datetime  \\\n",
       "0              2  2024-01-01 00:46:55   2024-01-01 00:58:25   \n",
       "1              2  2024-01-01 00:31:42   2024-01-01 00:52:34   \n",
       "2              2  2024-01-01 00:30:21   2024-01-01 00:49:23   \n",
       "3              1  2024-01-01 00:30:20   2024-01-01 00:42:12   \n",
       "4              2  2024-01-01 00:32:38   2024-01-01 00:43:37   \n",
       "...          ...                  ...                   ...   \n",
       "606219         2  2024-11-30 18:03:00   2024-11-30 18:24:00   \n",
       "606220         2  2024-11-30 19:05:00   2024-11-30 19:16:00   \n",
       "606221         2  2024-11-30 19:52:00   2024-11-30 20:03:00   \n",
       "606222         2  2024-11-30 20:21:00   2024-11-30 20:31:00   \n",
       "606223         2  2024-11-30 21:22:00   2024-11-30 21:26:00   \n",
       "\n",
       "       store_and_fwd_flag  RatecodeID  PULocationID  DOLocationID  \\\n",
       "0                       N         1.0           236           239   \n",
       "1                       N         1.0            65           170   \n",
       "2                       N         1.0            74           262   \n",
       "3                       N         1.0            74           116   \n",
       "4                       N         1.0            74           243   \n",
       "...                   ...         ...           ...           ...   \n",
       "606219               None         NaN            41           143   \n",
       "606220               None         NaN            66           256   \n",
       "606221               None         NaN           260           223   \n",
       "606222               None         NaN           244           238   \n",
       "606223               None         NaN           166            41   \n",
       "\n",
       "        passenger_count  trip_distance  fare_amount  extra  mta_tax  \\\n",
       "0                   1.0           1.98        12.80    1.0      0.5   \n",
       "1                   5.0           6.54        30.30    1.0      0.5   \n",
       "2                   1.0           3.08        19.80    1.0      0.5   \n",
       "3                   1.0           2.40        14.20    1.0      1.5   \n",
       "4                   1.0           5.14        22.60    1.0      0.5   \n",
       "...                 ...            ...          ...    ...      ...   \n",
       "606219              NaN           4.10        30.46    0.0      0.0   \n",
       "606220              NaN           2.78        18.27    0.0      0.5   \n",
       "606221              NaN           2.38        17.01    0.0      0.5   \n",
       "606222              NaN           4.21        20.62    0.0      0.5   \n",
       "606223              NaN           0.22        13.58    0.0      0.5   \n",
       "\n",
       "        tip_amount  tolls_amount  ehail_fee  improvement_surcharge  \\\n",
       "0             3.61           0.0        NaN                    1.0   \n",
       "1             7.11           0.0        NaN                    1.0   \n",
       "2             3.00           0.0        NaN                    1.0   \n",
       "3             0.00           0.0        NaN                    1.0   \n",
       "4             6.28           0.0        NaN                    1.0   \n",
       "...            ...           ...        ...                    ...   \n",
       "606219        1.69           0.0        NaN                    1.0   \n",
       "606220        3.95           0.0        NaN                    1.0   \n",
       "606221        1.85           0.0        NaN                    1.0   \n",
       "606222        7.46           0.0        NaN                    1.0   \n",
       "606223        3.02           0.0        NaN                    1.0   \n",
       "\n",
       "        total_amount  payment_type  trip_type  congestion_surcharge  \n",
       "0              21.66           1.0        1.0                  2.75  \n",
       "1              42.66           1.0        1.0                  2.75  \n",
       "2              28.05           1.0        1.0                  2.75  \n",
       "3              16.70           2.0        1.0                  0.00  \n",
       "4              31.38           1.0        1.0                  0.00  \n",
       "...              ...           ...        ...                   ...  \n",
       "606219         35.90           NaN        NaN                   NaN  \n",
       "606220         23.72           NaN        NaN                   NaN  \n",
       "606221         20.36           NaN        NaN                   NaN  \n",
       "606222         32.33           NaN        NaN                   NaN  \n",
       "606223         18.10           NaN        NaN                   NaN  \n",
       "\n",
       "[606224 rows x 20 columns]"
      ]
     },
     "execution_count": 8,
     "metadata": {},
     "output_type": "execute_result"
    }
   ],
   "source": [
    "taxiDF"
   ]
  },
  {
   "cell_type": "markdown",
   "id": "fc601975-35ed-4680-a4e1-0273ee3cc047",
   "metadata": {},
   "source": [
    "## Question 2"
   ]
  },
  {
   "cell_type": "code",
   "execution_count": 10,
   "id": "a16336a1-1ef0-41e8-bc7c-49387db27497",
   "metadata": {},
   "outputs": [
    {
     "data": {
      "text/plain": [
       "lpep_pickup_datetime\n",
       "1     22.403046\n",
       "2     22.635016\n",
       "3     22.904555\n",
       "4     23.364153\n",
       "5     24.574983\n",
       "6     24.859574\n",
       "7     24.762476\n",
       "8     25.970446\n",
       "9     26.677182\n",
       "10    25.032549\n",
       "11    24.191490\n",
       "12    17.516000\n",
       "Name: total_amount, dtype: float64"
      ]
     },
     "execution_count": 10,
     "metadata": {},
     "output_type": "execute_result"
    }
   ],
   "source": [
    "import pandas as pd\n",
    "import matplotlib.pyplot as plt\n",
    "\n",
    "#Make sure the datetime column is in the correct format\n",
    "taxiDF[\"lpep_pickup_datetime\"] = pd.to_datetime(taxiDF[\"lpep_pickup_datetime\"])\n",
    "\n",
    "# Extract the month and calculate the average total_amount per month\n",
    "monthly_avg = taxiDF.groupby(taxiDF[\"lpep_pickup_datetime\"].dt.month)[\"total_amount\"].mean()\n",
    "\n",
    "monthly_avg"
   ]
  },
  {
   "cell_type": "code",
   "execution_count": 11,
   "id": "c36cb02c-67ed-426f-ab8a-fb3c5cc0ad90",
   "metadata": {},
   "outputs": [
    {
     "data": {
      "image/png": "[encoded data removed]",
      "text/plain": [
       "<Figure size 1000x500 with 1 Axes>"
      ]
     },
     "metadata": {},
     "output_type": "display_data"
    }
   ],
   "source": [
    "# Plot the results\n",
    "plt.figure(figsize=(10, 5))\n",
    "plt.plot(monthly_avg.index, monthly_avg.values, marker='o', linestyle='-')\n",
    "plt.xlabel(\"Month (2024)\")\n",
    "plt.ylabel(\"Average Total Amount ($)\")\n",
    "plt.title(\"Average Taxi Ride Cost Per Month (NYC Green Taxi 2024)\")\n",
    "plt.xticks(range(1, 12))\n",
    "plt.grid(True)\n",
    "plt.show()"
   ]
  },
  {
   "cell_type": "markdown",
   "id": "8e586edd-ff26-4ce2-8f6b-2424b26f2929",
   "metadata": {},
   "source": [
    "## Question 3"
   ]
  },
  {
   "cell_type": "code",
   "execution_count": 13,
   "id": "bbe0f40d-9655-4653-9ca8-886bdb61cb91",
   "metadata": {},
   "outputs": [],
   "source": [
    "#imports\n",
    "import requests\n",
    "from lxml import html\n",
    "from IPython.display import Image, display"
   ]
  },
  {
   "cell_type": "code",
   "execution_count": 16,
   "id": "3fde094d-d915-4bd6-8e0e-0de37fdaed59",
   "metadata": {},
   "outputs": [],
   "source": [
    "#defining function\n",
    "def getPeanutsComic(month,monthNum,day,year):\n",
    "    myMonth = month\n",
    "    myMonthNum = str(monthNum)\n",
    "    myDay = str(day)\n",
    "    myYear = str(year)\n",
    "    url = \"https://www.gocomics.com/peanuts/\" + myYear + \"/\" + myMonthNum + \"/\" + myDay\n",
    "    myresponse = requests.get(url)\n",
    "    mytree = html.fromstring(myresponse.content)\n",
    "    image = [element.attrib['src'] for element in mytree.xpath('//img[@alt = \"Peanuts Comic Strip for ' + myMonth + ' ' + myDay + ', ' + myYear + ' \"]')]\n",
    "    display(Image(url=image[0]))\n",
    "    "
   ]
  },
  {
   "cell_type": "code",
   "execution_count": 17,
   "id": "45124dd3-9552-4a00-a6f9-88002439cdde",
   "metadata": {},
   "outputs": [
    {
     "data": {
      "text/html": [
       "<img src=\"https://assets.amuniversal.com/6bee4a20f7d001301445001dd8b71c47\"/>"
      ],
      "text/plain": [
       "<IPython.core.display.Image object>"
      ]
     },
     "metadata": {},
     "output_type": "display_data"
    }
   ],
   "source": [
    "getPeanutsComic(\"February\", \"02\", \"18\",\"2003\")"
   ]
  },
  {
   "cell_type": "markdown",
   "id": "da22f29c-d245-4d2b-9fc1-ca14cb6087d9",
   "metadata": {},
   "source": [
    "## Question 4"
   ]
  },
  {
   "cell_type": "code",
   "execution_count": 20,
   "id": "8cffc767-d1c8-4d64-b7dc-f0d2ee8a80d1",
   "metadata": {},
   "outputs": [],
   "source": [
    "import time"
   ]
  },
  {
   "cell_type": "code",
   "execution_count": 24,
   "id": "e31a35ea-e2b1-43e1-a1a1-c1e41a47eb1b",
   "metadata": {},
   "outputs": [],
   "source": [
    "#re-defining function\n",
    "def getPeanutsComic(month,monthNum,day,year):\n",
    "    myMonth = month\n",
    "    myMonthNum = str(monthNum).zfill(2)\n",
    "    myDay = str(day).zfill(2)\n",
    "    myYear = str(year)\n",
    "    url = \"https://www.gocomics.com/peanuts/\" + myYear + \"/\" + myMonthNum + \"/\" + myDay\n",
    "    myresponse = requests.get(url)\n",
    "    mytree = html.fromstring(myresponse.content)\n",
    "    image = [element.attrib['src'] for element in mytree.xpath('//img[@alt = \"Peanuts Comic Strip for ' + myMonth + ' ' + myDay + ', ' + myYear + ' \"]')]\n",
    "    display(Image(url=image[0]))\n",
    "    time.sleep(2)"
   ]
  },
  {
   "cell_type": "code",
   "execution_count": 25,
   "id": "cfc4dfe2-f6ae-4081-986c-395c95d754b7",
   "metadata": {},
   "outputs": [
    {
     "data": {
      "text/html": [
       "<img src=\"https://assets.amuniversal.com/6bee4a20f7d001301445001dd8b71c47\"/>"
      ],
      "text/plain": [
       "<IPython.core.display.Image object>"
      ]
     },
     "metadata": {},
     "output_type": "display_data"
    },
    {
     "data": {
      "text/html": [
       "<img src=\"https://assets.amuniversal.com/6c8f88b0f7d001301445001dd8b71c47\"/>"
      ],
      "text/plain": [
       "<IPython.core.display.Image object>"
      ]
     },
     "metadata": {},
     "output_type": "display_data"
    },
    {
     "data": {
      "text/html": [
       "<img src=\"https://assets.amuniversal.com/6d39ad10f7d001301445001dd8b71c47\"/>"
      ],
      "text/plain": [
       "<IPython.core.display.Image object>"
      ]
     },
     "metadata": {},
     "output_type": "display_data"
    }
   ],
   "source": [
    "for day in range(18, 21):\n",
    "    getPeanutsComic(\"February\", \"02\", day, \"2003\")"
   ]
  },
  {
   "cell_type": "markdown",
   "id": "88c9cdac-3e92-498f-83fa-e089bfc44ac8",
   "metadata": {},
   "source": [
    "## Question 5"
   ]
  },
  {
   "cell_type": "code",
   "execution_count": 23,
   "id": "d370d7c9-06db-42b9-b75f-240481a5c491",
   "metadata": {},
   "outputs": [
    {
     "data": {
      "text/html": [
       "<img src=\"https://assets.amuniversal.com/17091270f8a40130151a001dd8b71c47\"/>"
      ],
      "text/plain": [
       "<IPython.core.display.Image object>"
      ]
     },
     "metadata": {},
     "output_type": "display_data"
    },
    {
     "data": {
      "text/html": [
       "<img src=\"https://assets.amuniversal.com/17c23ed0f8a40130151a001dd8b71c47\"/>"
      ],
      "text/plain": [
       "<IPython.core.display.Image object>"
      ]
     },
     "metadata": {},
     "output_type": "display_data"
    },
    {
     "data": {
      "text/html": [
       "<img src=\"https://assets.amuniversal.com/07edc300fbb30130177f001dd8b71c47\"/>"
      ],
      "text/plain": [
       "<IPython.core.display.Image object>"
      ]
     },
     "metadata": {},
     "output_type": "display_data"
    },
    {
     "data": {
      "text/html": [
       "<img src=\"https://assets.amuniversal.com/18735c80f8a40130151a001dd8b71c47\"/>"
      ],
      "text/plain": [
       "<IPython.core.display.Image object>"
      ]
     },
     "metadata": {},
     "output_type": "display_data"
    },
    {
     "data": {
      "text/html": [
       "<img src=\"https://assets.amuniversal.com/1914cd40f8a40130151a001dd8b71c47\"/>"
      ],
      "text/plain": [
       "<IPython.core.display.Image object>"
      ]
     },
     "metadata": {},
     "output_type": "display_data"
    },
    {
     "data": {
      "text/html": [
       "<img src=\"https://assets.amuniversal.com/19bd8b60f8a40130151a001dd8b71c47\"/>"
      ],
      "text/plain": [
       "<IPython.core.display.Image object>"
      ]
     },
     "metadata": {},
     "output_type": "display_data"
    },
    {
     "data": {
      "text/html": [
       "<img src=\"https://assets.amuniversal.com/1a57a8a0f8a40130151a001dd8b71c47\"/>"
      ],
      "text/plain": [
       "<IPython.core.display.Image object>"
      ]
     },
     "metadata": {},
     "output_type": "display_data"
    },
    {
     "data": {
      "text/html": [
       "<img src=\"https://assets.amuniversal.com/1b03eb20f8a40130151a001dd8b71c47\"/>"
      ],
      "text/plain": [
       "<IPython.core.display.Image object>"
      ]
     },
     "metadata": {},
     "output_type": "display_data"
    },
    {
     "data": {
      "text/html": [
       "<img src=\"https://assets.amuniversal.com/1baf7af0f8a40130151a001dd8b71c47\"/>"
      ],
      "text/plain": [
       "<IPython.core.display.Image object>"
      ]
     },
     "metadata": {},
     "output_type": "display_data"
    },
    {
     "data": {
      "text/html": [
       "<img src=\"https://assets.amuniversal.com/0ae984d0fbb30130177f001dd8b71c47\"/>"
      ],
      "text/plain": [
       "<IPython.core.display.Image object>"
      ]
     },
     "metadata": {},
     "output_type": "display_data"
    },
    {
     "data": {
      "text/html": [
       "<img src=\"https://assets.amuniversal.com/1c54e000f8a40130151a001dd8b71c47\"/>"
      ],
      "text/plain": [
       "<IPython.core.display.Image object>"
      ]
     },
     "metadata": {},
     "output_type": "display_data"
    },
    {
     "data": {
      "text/html": [
       "<img src=\"https://assets.amuniversal.com/1cfb2490f8a40130151a001dd8b71c47\"/>"
      ],
      "text/plain": [
       "<IPython.core.display.Image object>"
      ]
     },
     "metadata": {},
     "output_type": "display_data"
    },
    {
     "data": {
      "text/html": [
       "<img src=\"https://assets.amuniversal.com/1d9b85f0f8a40130151a001dd8b71c47\"/>"
      ],
      "text/plain": [
       "<IPython.core.display.Image object>"
      ]
     },
     "metadata": {},
     "output_type": "display_data"
    },
    {
     "data": {
      "text/html": [
       "<img src=\"https://assets.amuniversal.com/1e48c250f8a40130151a001dd8b71c47\"/>"
      ],
      "text/plain": [
       "<IPython.core.display.Image object>"
      ]
     },
     "metadata": {},
     "output_type": "display_data"
    },
    {
     "data": {
      "text/html": [
       "<img src=\"https://assets.amuniversal.com/1efb3110f8a40130151a001dd8b71c47\"/>"
      ],
      "text/plain": [
       "<IPython.core.display.Image object>"
      ]
     },
     "metadata": {},
     "output_type": "display_data"
    },
    {
     "data": {
      "text/html": [
       "<img src=\"https://assets.amuniversal.com/1f935e10f8a40130151a001dd8b71c47\"/>"
      ],
      "text/plain": [
       "<IPython.core.display.Image object>"
      ]
     },
     "metadata": {},
     "output_type": "display_data"
    },
    {
     "data": {
      "text/html": [
       "<img src=\"https://assets.amuniversal.com/0db240d0fbb30130177f001dd8b71c47\"/>"
      ],
      "text/plain": [
       "<IPython.core.display.Image object>"
      ]
     },
     "metadata": {},
     "output_type": "display_data"
    },
    {
     "data": {
      "text/html": [
       "<img src=\"https://assets.amuniversal.com/20442500f8a40130151a001dd8b71c47\"/>"
      ],
      "text/plain": [
       "<IPython.core.display.Image object>"
      ]
     },
     "metadata": {},
     "output_type": "display_data"
    },
    {
     "data": {
      "text/html": [
       "<img src=\"https://assets.amuniversal.com/20fad150f8a40130151a001dd8b71c47\"/>"
      ],
      "text/plain": [
       "<IPython.core.display.Image object>"
      ]
     },
     "metadata": {},
     "output_type": "display_data"
    },
    {
     "data": {
      "text/html": [
       "<img src=\"https://assets.amuniversal.com/21a698f0f8a40130151a001dd8b71c47\"/>"
      ],
      "text/plain": [
       "<IPython.core.display.Image object>"
      ]
     },
     "metadata": {},
     "output_type": "display_data"
    },
    {
     "data": {
      "text/html": [
       "<img src=\"https://assets.amuniversal.com/22553e50f8a40130151a001dd8b71c47\"/>"
      ],
      "text/plain": [
       "<IPython.core.display.Image object>"
      ]
     },
     "metadata": {},
     "output_type": "display_data"
    },
    {
     "data": {
      "text/html": [
       "<img src=\"https://assets.amuniversal.com/22fdd7f0f8a40130151a001dd8b71c47\"/>"
      ],
      "text/plain": [
       "<IPython.core.display.Image object>"
      ]
     },
     "metadata": {},
     "output_type": "display_data"
    },
    {
     "data": {
      "text/html": [
       "<img src=\"https://assets.amuniversal.com/239ce7e0f8a40130151a001dd8b71c47\"/>"
      ],
      "text/plain": [
       "<IPython.core.display.Image object>"
      ]
     },
     "metadata": {},
     "output_type": "display_data"
    },
    {
     "data": {
      "text/html": [
       "<img src=\"https://assets.amuniversal.com/106cd440fbb30130177f001dd8b71c47\"/>"
      ],
      "text/plain": [
       "<IPython.core.display.Image object>"
      ]
     },
     "metadata": {},
     "output_type": "display_data"
    },
    {
     "data": {
      "text/html": [
       "<img src=\"https://assets.amuniversal.com/2447ab40f8a40130151a001dd8b71c47\"/>"
      ],
      "text/plain": [
       "<IPython.core.display.Image object>"
      ]
     },
     "metadata": {},
     "output_type": "display_data"
    },
    {
     "data": {
      "text/html": [
       "<img src=\"https://assets.amuniversal.com/24eb8540f8a40130151a001dd8b71c47\"/>"
      ],
      "text/plain": [
       "<IPython.core.display.Image object>"
      ]
     },
     "metadata": {},
     "output_type": "display_data"
    },
    {
     "data": {
      "text/html": [
       "<img src=\"https://assets.amuniversal.com/259a4750f8a40130151a001dd8b71c47\"/>"
      ],
      "text/plain": [
       "<IPython.core.display.Image object>"
      ]
     },
     "metadata": {},
     "output_type": "display_data"
    },
    {
     "data": {
      "text/html": [
       "<img src=\"https://assets.amuniversal.com/265d2060f8a40130151a001dd8b71c47\"/>"
      ],
      "text/plain": [
       "<IPython.core.display.Image object>"
      ]
     },
     "metadata": {},
     "output_type": "display_data"
    },
    {
     "data": {
      "text/html": [
       "<img src=\"https://assets.amuniversal.com/26f70a90f8a40130151a001dd8b71c47\"/>"
      ],
      "text/plain": [
       "<IPython.core.display.Image object>"
      ]
     },
     "metadata": {},
     "output_type": "display_data"
    },
    {
     "data": {
      "text/html": [
       "<img src=\"https://assets.amuniversal.com/2799dca0f8a40130151a001dd8b71c47\"/>"
      ],
      "text/plain": [
       "<IPython.core.display.Image object>"
      ]
     },
     "metadata": {},
     "output_type": "display_data"
    },
    {
     "data": {
      "text/html": [
       "<img src=\"https://assets.amuniversal.com/1339b510fbb30130177f001dd8b71c47\"/>"
      ],
      "text/plain": [
       "<IPython.core.display.Image object>"
      ]
     },
     "metadata": {},
     "output_type": "display_data"
    }
   ],
   "source": [
    "for day in range(1, 32):\n",
    "    getPeanutsComic(\"December\", \"12\", day, \"2000\")   "
   ]
  },
  {
   "cell_type": "markdown",
   "id": "f76442d6-d02e-4f26-b9d6-c3183e1d6929",
   "metadata": {},
   "source": [
    "## Pledge\n",
    "\n",
    "By submitting this work I hereby pledge that this is my own, personal work. I've acknowledged in the designated place at the top of this file all sources that I used to complete said work, including but not limited to: online resources, books, and electronic communications. I've noted all collaboration with fellow students and/or TA's. I did not copy or plagiarize another's work.\n",
    "\n",
    "> As a Boilermaker pursuing academic excellence, I pledge to be honest and true in all that I do. Accountable together – We are Purdue."
   ]
  }
 ],
 "metadata": {
  "kernelspec": {
   "display_name": "seminar",
   "language": "python",
   "name": "python3"
  },
  "language_info": {
   "codemirror_mode": {
    "name": "ipython",
    "version": 3
   },
   "file_extension": ".py",
   "mimetype": "text/x-python",
   "name": "python",
   "nbconvert_exporter": "python",
   "pygments_lexer": "ipython3",
   "version": "3.11.5"
  }
 },
 "nbformat": 4,
 "nbformat_minor": 5
}
