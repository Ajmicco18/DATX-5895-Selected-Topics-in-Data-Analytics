{
 "cells": [
  {
   "cell_type": "markdown",
   "id": "be02a957-7133-4d02-818e-fedeb3cecb05",
   "metadata": {},
   "source": [
    "# Project 05 -- Anthony Micco"
   ]
  },
  {
   "cell_type": "markdown",
   "id": "a1228853-dd19-4ab2-89e0-0394d7d72de3",
   "metadata": {},
   "source": [
    "**TA Help:** N/A\n",
    "    \n",
    "**Collaboration:** N/A"
   ]
  },
  {
   "cell_type": "markdown",
   "id": "6180e742-8e39-4698-98ff-5b00c8cf8ea0",
   "metadata": {},
   "source": [
    "## Question 1"
   ]
  },
  {
   "cell_type": "code",
   "execution_count": 1,
   "id": "49445606-d363-41b4-b479-e319a9a84c01",
   "metadata": {},
   "outputs": [],
   "source": [
    "#imports\n",
    "import requests\n",
    "from lxml import html    \n",
    "import time"
   ]
  },
  {
   "cell_type": "code",
   "execution_count": 28,
   "id": "5228ca2d-02b5-47f4-ae97-770acd5e8a5b",
   "metadata": {},
   "outputs": [],
   "source": [
    "#defining myScrapingFunction\n",
    "def myScrapingFunction(myurl):\n",
    "    mytemplist = []\n",
    "    mytree = html.fromstring(requests.get(myurl).content)\n",
    "    mystub = myurl.replace('index.html', '')\n",
    "    mytemplist.extend([mystub + element.attrib['href'] for element in mytree.xpath('//h3/a')])\n",
    "    mycounter = 1\n",
    "    while len([element for element in mytree.xpath('//li[@class=\"next\"]/a')]) > 0:\n",
    "        time.sleep(2)\n",
    "        mycounter += 1\n",
    "        mynewurl = f\"{mystub}page-{str(mycounter)}.html\"\n",
    "        mytree = html.fromstring(requests.get(mynewurl).content)\n",
    "        mytemplist.extend([mystub + element.attrib['href'] for element in mytree.xpath('//h3/a')])\n",
    "    return mytemplist"
   ]
  },
  {
   "cell_type": "code",
   "execution_count": 29,
   "id": "e5e7b266-72ed-4090-8240-4ccf97fa0a1e",
   "metadata": {},
   "outputs": [
    {
     "data": {
      "text/plain": [
       "['https://books.toscrape.com/catalogue/category/books/sports-and-games_17/../../../the-book-of-basketball-the-nba-according-to-the-sports-guy_232/index.html',\n",
       " 'https://books.toscrape.com/catalogue/category/books/sports-and-games_17/../../../friday-night-lights-a-town-a-team-and-a-dream_158/index.html',\n",
       " 'https://books.toscrape.com/catalogue/category/books/sports-and-games_17/../../../sugar-rush-offensive-line-2_108/index.html',\n",
       " 'https://books.toscrape.com/catalogue/category/books/sports-and-games_17/../../../settling-the-score-the-summer-games-1_50/index.html',\n",
       " 'https://books.toscrape.com/catalogue/category/books/sports-and-games_17/../../../icing-aces-hockey-2_25/index.html']"
      ]
     },
     "execution_count": 29,
     "metadata": {},
     "output_type": "execute_result"
    }
   ],
   "source": [
    "myScrapingFunction('https://books.toscrape.com/catalogue/category/books/sports-and-games_17/index.html')"
   ]
  },
  {
   "cell_type": "code",
   "execution_count": 30,
   "id": "77d61635-2bc6-4ee2-a133-64f1e69b742e",
   "metadata": {},
   "outputs": [
    {
     "data": {
      "text/plain": [
       "['https://books.toscrape.com/catalogue/category/books/humor_30/../../../the-long-haul-diary-of-a-wimpy-kid-9_757/index.html',\n",
       " 'https://books.toscrape.com/catalogue/category/books/humor_30/../../../old-school-diary-of-a-wimpy-kid-10_723/index.html',\n",
       " 'https://books.toscrape.com/catalogue/category/books/humor_30/../../../i-know-what-im-doing-and-other-lies-i-tell-myself-dispatches-from-a-life-under-construction_704/index.html',\n",
       " 'https://books.toscrape.com/catalogue/category/books/humor_30/../../../hyperbole-and-a-half-unfortunate-situations-flawed-coping-mechanisms-mayhem-and-other-things-that-happened_702/index.html',\n",
       " 'https://books.toscrape.com/catalogue/category/books/humor_30/../../../dress-your-family-in-corduroy-and-denim_562/index.html',\n",
       " 'https://books.toscrape.com/catalogue/category/books/humor_30/../../../toddlers-are-aholes-its-not-your-fault_503/index.html',\n",
       " 'https://books.toscrape.com/catalogue/category/books/humor_30/../../../when-you-are-engulfed-in-flames_303/index.html',\n",
       " 'https://books.toscrape.com/catalogue/category/books/humor_30/../../../naked_197/index.html',\n",
       " 'https://books.toscrape.com/catalogue/category/books/humor_30/../../../lamb-the-gospel-according-to-biff-christs-childhood-pal_182/index.html',\n",
       " 'https://books.toscrape.com/catalogue/category/books/humor_30/../../../holidays-on-ice_167/index.html']"
      ]
     },
     "execution_count": 30,
     "metadata": {},
     "output_type": "execute_result"
    }
   ],
   "source": [
    "myScrapingFunction('https://books.toscrape.com/catalogue/category/books/humor_30/index.html')"
   ]
  },
  {
   "cell_type": "code",
   "execution_count": 31,
   "id": "bce02a9d-b1ba-48d1-8737-31fa10b8874c",
   "metadata": {},
   "outputs": [
    {
     "data": {
      "text/plain": [
       "['https://books.toscrape.com/catalogue/category/books/novels_46/../../../suzie-snowflake-one-beautiful-flake-a-self-esteem-story_568/index.html']"
      ]
     },
     "execution_count": 31,
     "metadata": {},
     "output_type": "execute_result"
    }
   ],
   "source": [
    "myScrapingFunction('https://books.toscrape.com/catalogue/category/books/novels_46/index.html')"
   ]
  },
  {
   "cell_type": "code",
   "execution_count": 32,
   "id": "946d9110-db9f-4a40-8a5c-f4849e9daf22",
   "metadata": {},
   "outputs": [
    {
     "data": {
      "text/plain": [
       "['https://books.toscrape.com/catalogue/category/books/parenting_28/../../../catastrophic-happiness-finding-joy-in-childhoods-messy-years_138/index.html']"
      ]
     },
     "execution_count": 32,
     "metadata": {},
     "output_type": "execute_result"
    }
   ],
   "source": [
    "myScrapingFunction('https://books.toscrape.com/catalogue/category/books/parenting_28/index.html')"
   ]
  },
  {
   "cell_type": "code",
   "execution_count": 33,
   "id": "b339a9d2-07fd-4cae-b234-1046ff6e993b",
   "metadata": {},
   "outputs": [
    {
     "data": {
      "text/plain": [
       "['https://books.toscrape.com/catalogue/category/books/politics_48/../../../libertarianism-for-beginners_982/index.html',\n",
       " 'https://books.toscrape.com/catalogue/category/books/politics_48/../../../why-the-right-went-wrong-conservatism-from-goldwater-to-the-tea-party-and-beyond_781/index.html',\n",
       " 'https://books.toscrape.com/catalogue/category/books/politics_48/../../../equal-is-unfair-americas-misguided-fight-against-income-inequality_617/index.html']"
      ]
     },
     "execution_count": 33,
     "metadata": {},
     "output_type": "execute_result"
    }
   ],
   "source": [
    "myScrapingFunction('https://books.toscrape.com/catalogue/category/books/politics_48/index.html')"
   ]
  },
  {
   "cell_type": "code",
   "execution_count": 34,
   "id": "c32c81ef-4a98-43a4-a106-bfc2e4acd505",
   "metadata": {},
   "outputs": [
    {
     "data": {
      "text/plain": [
       "['https://books.toscrape.com/catalogue/category/books/food-and-drink_33/../../../foolproof-preserving-a-guide-to-small-batch-jams-jellies-pickles-condiments-and-more-a-foolproof-guide-to-making-small-batch-jams-jellies-pickles-condiments-and-more_978/index.html',\n",
       " 'https://books.toscrape.com/catalogue/category/books/food-and-drink_33/../../../the-pioneer-woman-cooks-dinnertime-comfort-classics-freezer-food-16-minute-meals-and-other-delicious-ways-to-solve-supper_943/index.html',\n",
       " 'https://books.toscrape.com/catalogue/category/books/food-and-drink_33/../../../my-paris-kitchen-recipes-and-stories_910/index.html',\n",
       " 'https://books.toscrape.com/catalogue/category/books/food-and-drink_33/../../../mama-tried-traditional-italian-cooking-for-the-screwed-crude-vegan-and-tattooed_908/index.html',\n",
       " 'https://books.toscrape.com/catalogue/category/books/food-and-drink_33/../../../layered-baking-building-and-styling-spectacular-cakes_904/index.html',\n",
       " 'https://books.toscrape.com/catalogue/category/books/food-and-drink_33/../../../the-nerdy-nummies-cookbook-sweet-treats-for-the-geek-in-all-of-us_853/index.html',\n",
       " 'https://books.toscrape.com/catalogue/category/books/food-and-drink_33/../../../the-love-and-lemons-cookbook-an-apple-to-zucchini-celebration-of-impromptu-cooking_849/index.html',\n",
       " 'https://books.toscrape.com/catalogue/category/books/food-and-drink_33/../../../the-cookies-cups-cookbook-125-sweet-savory-recipes-reminding-you-to-always-eat-dessert-first_841/index.html',\n",
       " 'https://books.toscrape.com/catalogue/category/books/food-and-drink_33/../../../deliciously-ella-every-day-quick-and-easy-recipes-for-gluten-free-snacks-packed-lunches-and-simple-meals_801/index.html',\n",
       " 'https://books.toscrape.com/catalogue/category/books/food-and-drink_33/../../../the-help-yourself-cookbook-for-kids-60-easy-plant-based-recipes-kids-can-make-to-stay-healthy-and-save-the-earth_751/index.html',\n",
       " 'https://books.toscrape.com/catalogue/category/books/food-and-drink_33/../../../its-all-easy-healthy-delicious-weeknight-meals-in-under-30-minutes_706/index.html',\n",
       " 'https://books.toscrape.com/catalogue/category/books/food-and-drink_33/../../../barefoot-contessa-back-to-basics_667/index.html',\n",
       " 'https://books.toscrape.com/catalogue/category/books/food-and-drink_33/../../../barefoot-contessa-at-home-everyday-recipes-youll-make-over-and-over-again_666/index.html',\n",
       " 'https://books.toscrape.com/catalogue/category/books/food-and-drink_33/../../../my-kitchen-year-136-recipes-that-saved-my-life_646/index.html',\n",
       " 'https://books.toscrape.com/catalogue/category/books/food-and-drink_33/../../../everyday-italian-125-simple-and-delicious-recipes_618/index.html',\n",
       " 'https://books.toscrape.com/catalogue/category/books/food-and-drink_33/../../../a-la-mode-120-recipes-in-60-pairings-pies-tarts-cakes-crisps-and-more-topped-with-ice-cream-gelato-frozen-custard-and-more_611/index.html',\n",
       " 'https://books.toscrape.com/catalogue/category/books/food-and-drink_33/../../../cravings-recipes-for-what-you-want-to-eat_589/index.html',\n",
       " 'https://books.toscrape.com/catalogue/category/books/food-and-drink_33/../../../the-moosewood-cookbook-recipes-from-moosewood-restaurant-ithaca-new-york_574/index.html',\n",
       " 'https://books.toscrape.com/catalogue/category/books/food-and-drink_33/../../../32-yolks_510/index.html',\n",
       " 'https://books.toscrape.com/catalogue/category/books/food-and-drink_33/../../../naturally-lean-125-nourishing-gluten-free-plant-based-recipes-all-under-300-calories_479/index.html',\n",
       " 'https://books.toscrape.com/catalogue/category/books/food-and-drink_33/../../../how-to-cook-everything-vegetarian-simple-meatless-recipes-for-great-food-how-to-cook-everything_471/index.html',\n",
       " 'https://books.toscrape.com/catalogue/category/books/food-and-drink_33/../../../how-to-be-a-domestic-goddess-baking-and-the-art-of-comfort-cooking_470/index.html',\n",
       " 'https://books.toscrape.com/catalogue/category/books/food-and-drink_33/../../../the-barefoot-contessa-cookbook_440/index.html',\n",
       " 'https://books.toscrape.com/catalogue/category/books/food-and-drink_33/../../../better-homes-and-gardens-new-cook-book_423/index.html',\n",
       " 'https://books.toscrape.com/catalogue/category/books/food-and-drink_33/../../../the-power-greens-cookbook-140-delicious-superfood-recipes_410/index.html',\n",
       " 'https://books.toscrape.com/catalogue/category/books/food-and-drink_33/../../../mexican-today-new-and-rediscovered-recipes-for-contemporary-kitchens_387/index.html',\n",
       " 'https://books.toscrape.com/catalogue/category/books/food-and-drink_33/../../../vegan-vegetarian-omnivore-dinner-for-everyone-at-the-table_297/index.html',\n",
       " 'https://books.toscrape.com/catalogue/category/books/food-and-drink_33/../../../the-smitten-kitchen-cookbook_281/index.html',\n",
       " 'https://books.toscrape.com/catalogue/category/books/food-and-drink_33/../../../the-art-of-simple-food-notes-lessons-and-recipes-from-a-delicious-revolution_229/index.html',\n",
       " 'https://books.toscrape.com/catalogue/category/books/food-and-drink_33/../../../hungry-girl-clean-hungry-easy-all-natural-recipes-for-healthy-eating-in-the-real-world_171/index.html']"
      ]
     },
     "execution_count": 34,
     "metadata": {},
     "output_type": "execute_result"
    }
   ],
   "source": [
    "myScrapingFunction('https://books.toscrape.com/catalogue/category/books/food-and-drink_33/index.html')"
   ]
  },
  {
   "cell_type": "code",
   "execution_count": 35,
   "id": "22e9b1e6-6262-43ee-beba-4ae3eb2999a8",
   "metadata": {},
   "outputs": [
    {
     "data": {
      "text/plain": [
       "['https://books.toscrape.com/catalogue/category/books/sequential-art_5/../../../scott-pilgrims-precious-little-life-scott-pilgrim-1_987/index.html',\n",
       " 'https://books.toscrape.com/catalogue/category/books/sequential-art_5/../../../tsubasa-world-chronicle-2-tsubasa-world-chronicle-2_949/index.html',\n",
       " 'https://books.toscrape.com/catalogue/category/books/sequential-art_5/../../../this-one-summer_947/index.html',\n",
       " 'https://books.toscrape.com/catalogue/category/books/sequential-art_5/../../../the-nameless-city-the-nameless-city-1_940/index.html',\n",
       " 'https://books.toscrape.com/catalogue/category/books/sequential-art_5/../../../saga-volume-5-saga-collected-editions-5_923/index.html',\n",
       " 'https://books.toscrape.com/catalogue/category/books/sequential-art_5/../../../rat-queens-vol-3-demons-rat-queens-collected-editions-11-15_921/index.html',\n",
       " 'https://books.toscrape.com/catalogue/category/books/sequential-art_5/../../../princess-jellyfish-2-in-1-omnibus-vol-01-princess-jellyfish-2-in-1-omnibus-1_920/index.html',\n",
       " 'https://books.toscrape.com/catalogue/category/books/sequential-art_5/../../../pop-gun-war-volume-1-gift_918/index.html',\n",
       " 'https://books.toscrape.com/catalogue/category/books/sequential-art_5/../../../patience_916/index.html',\n",
       " 'https://books.toscrape.com/catalogue/category/books/sequential-art_5/../../../outcast-vol-1-a-darkness-surrounds-him-outcast-1_915/index.html',\n",
       " 'https://books.toscrape.com/catalogue/category/books/sequential-art_5/../../../orange-the-complete-collection-1-orange-the-complete-collection-1_914/index.html',\n",
       " 'https://books.toscrape.com/catalogue/category/books/sequential-art_5/../../../lumberjanes-vol-2-friendship-to-the-max-lumberjanes-5-8_907/index.html',\n",
       " 'https://books.toscrape.com/catalogue/category/books/sequential-art_5/../../../lumberjanes-vol-1-beware-the-kitten-holy-lumberjanes-1-4_906/index.html',\n",
       " 'https://books.toscrape.com/catalogue/category/books/sequential-art_5/../../../lumberjanes-vol-3-a-terrible-plan-lumberjanes-9-12_905/index.html',\n",
       " 'https://books.toscrape.com/catalogue/category/books/sequential-art_5/../../../i-hate-fairyland-vol-1-madly-ever-after-i-hate-fairyland-compilations-1-5_899/index.html',\n",
       " 'https://books.toscrape.com/catalogue/category/books/sequential-art_5/../../../i-am-a-hero-omnibus-volume-1_898/index.html',\n",
       " 'https://books.toscrape.com/catalogue/category/books/sequential-art_5/../../../giant-days-vol-2-giant-days-5-8_895/index.html',\n",
       " 'https://books.toscrape.com/catalogue/category/books/sequential-art_5/../../../danganronpa-volume-1_889/index.html',\n",
       " 'https://books.toscrape.com/catalogue/category/books/sequential-art_5/../../../codename-baboushka-volume-1-the-conclave-of-death_887/index.html',\n",
       " 'https://books.toscrape.com/catalogue/category/books/sequential-art_5/../../../camp-midnight_886/index.html',\n",
       " 'https://books.toscrape.com/catalogue/category/books/sequential-art_5/../../../bitch-planet-vol-1-extraordinary-machine-bitch-planet-collected-editions_882/index.html',\n",
       " 'https://books.toscrape.com/catalogue/category/books/sequential-art_5/../../../the-shadow-hero-the-shadow-hero_860/index.html',\n",
       " 'https://books.toscrape.com/catalogue/category/books/sequential-art_5/../../../fables-vol-1-legends-in-exile-fables-1_806/index.html',\n",
       " 'https://books.toscrape.com/catalogue/category/books/sequential-art_5/../../../batman-the-long-halloween-batman_793/index.html',\n",
       " 'https://books.toscrape.com/catalogue/category/books/sequential-art_5/../../../batman-the-dark-knight-returns-batman_792/index.html',\n",
       " 'https://books.toscrape.com/catalogue/category/books/sequential-art_5/../../../wonder-woman-earth-one-volume-one-wonder-woman-earth-one-1_783/index.html',\n",
       " 'https://books.toscrape.com/catalogue/category/books/sequential-art_5/../../../we-are-robin-vol-1-the-vigilante-business-we-are-robin-1_778/index.html',\n",
       " 'https://books.toscrape.com/catalogue/category/books/sequential-art_5/../../../through-the-woods_772/index.html',\n",
       " 'https://books.toscrape.com/catalogue/category/books/sequential-art_5/../../../superman-vol-1-before-truth-superman-by-gene-luen-yang-1_739/index.html',\n",
       " 'https://books.toscrape.com/catalogue/category/books/sequential-art_5/../../../so-cute-it-hurts-vol-6-so-cute-it-hurts-6_734/index.html',\n",
       " 'https://books.toscrape.com/catalogue/category/books/sequential-art_5/../../../robin-war_730/index.html',\n",
       " 'https://books.toscrape.com/catalogue/category/books/sequential-art_5/../../../red-hoodarsenal-vol-1-open-for-business-red-hoodarsenal-1_729/index.html',\n",
       " 'https://books.toscrape.com/catalogue/category/books/sequential-art_5/../../../naruto-3-in-1-edition-vol-14-includes-vols-40-41-42-naruto-omnibus-14_721/index.html',\n",
       " 'https://books.toscrape.com/catalogue/category/books/sequential-art_5/../../../lowriders-to-the-center-of-the-earth-lowriders-in-space-2_712/index.html',\n",
       " 'https://books.toscrape.com/catalogue/category/books/sequential-art_5/../../../el-deafo_691/index.html',\n",
       " 'https://books.toscrape.com/catalogue/category/books/sequential-art_5/../../../batman-europa_668/index.html',\n",
       " 'https://books.toscrape.com/catalogue/category/books/sequential-art_5/../../../art-ops-vol-1_664/index.html',\n",
       " 'https://books.toscrape.com/catalogue/category/books/sequential-art_5/../../../adulthood-is-a-myth-a-sarahs-scribbles-collection_659/index.html',\n",
       " 'https://books.toscrape.com/catalogue/category/books/sequential-art_5/../../../fruits-basket-vol-9-fruits-basket-9_563/index.html',\n",
       " 'https://books.toscrape.com/catalogue/category/books/sequential-art_5/../../../roller-girl_540/index.html',\n",
       " 'https://books.toscrape.com/catalogue/category/books/sequential-art_5/../../../fruits-basket-vol-7-fruits-basket-7_468/index.html',\n",
       " 'https://books.toscrape.com/catalogue/category/books/sequential-art_5/../../../fruits-basket-vol-6-fruits-basket-6_427/index.html',\n",
       " 'https://books.toscrape.com/catalogue/category/books/sequential-art_5/../../../death-note-vol-6-give-and-take-death-note-6_425/index.html',\n",
       " 'https://books.toscrape.com/catalogue/category/books/sequential-art_5/../../../fruits-basket-vol-5-fruits-basket-5_376/index.html',\n",
       " 'https://books.toscrape.com/catalogue/category/books/sequential-art_5/../../../death-note-vol-5-whiteout-death-note-5_368/index.html',\n",
       " 'https://books.toscrape.com/catalogue/category/books/sequential-art_5/../../../the-demon-prince-of-momochi-house-vol-4-the-demon-prince-of-momochi-house-4_344/index.html',\n",
       " 'https://books.toscrape.com/catalogue/category/books/sequential-art_5/../../../fruits-basket-vol-4-fruits-basket-4_321/index.html',\n",
       " 'https://books.toscrape.com/catalogue/category/books/sequential-art_5/../../../the-wicked-the-divine-vol-3-commercial-suicide-the-wicked-the-divine_287/index.html',\n",
       " 'https://books.toscrape.com/catalogue/category/books/sequential-art_5/../../../the-sandman-vol-3-dream-country-the-sandman-volumes-3_279/index.html',\n",
       " 'https://books.toscrape.com/catalogue/category/books/sequential-art_5/../../../saga-volume-3-saga-collected-editions-3_216/index.html',\n",
       " 'https://books.toscrape.com/catalogue/category/books/sequential-art_5/../../../prodigy-the-graphic-novel-legend-the-graphic-novel-2_207/index.html',\n",
       " 'https://books.toscrape.com/catalogue/category/books/sequential-art_5/../../../persepolis-the-story-of-a-childhood-persepolis-1-2_206/index.html',\n",
       " 'https://books.toscrape.com/catalogue/category/books/sequential-art_5/../../../original-fake_203/index.html',\n",
       " 'https://books.toscrape.com/catalogue/category/books/sequential-art_5/../../../grayson-vol-3-nemesis-grayson-3_164/index.html',\n",
       " 'https://books.toscrape.com/catalogue/category/books/sequential-art_5/../../../fruits-basket-vol-3-fruits-basket-3_159/index.html',\n",
       " 'https://books.toscrape.com/catalogue/category/books/sequential-art_5/../../../black-butler-vol-1-black-butler-1_130/index.html',\n",
       " 'https://books.toscrape.com/catalogue/category/books/sequential-art_5/../../../awkward_124/index.html',\n",
       " 'https://books.toscrape.com/catalogue/category/books/sequential-art_5/../../../the-sandman-vol-2-the-dolls-house-the-sandman-volumes-2_110/index.html',\n",
       " 'https://books.toscrape.com/catalogue/category/books/sequential-art_5/../../../saga-volume-2-saga-collected-editions-2_107/index.html',\n",
       " 'https://books.toscrape.com/catalogue/category/books/sequential-art_5/../../../fruits-basket-vol-2-fruits-basket-2_100/index.html',\n",
       " 'https://books.toscrape.com/catalogue/category/books/sequential-art_5/../../../y-the-last-man-vol-1-unmanned-y-the-last-man-1_98/index.html',\n",
       " 'https://books.toscrape.com/catalogue/category/books/sequential-art_5/../../../the-wicked-the-divine-vol-1-the-faust-act-the-wicked-the-divine_86/index.html',\n",
       " 'https://books.toscrape.com/catalogue/category/books/sequential-art_5/../../../the-sandman-vol-1-preludes-and-nocturnes-the-sandman-volumes-1_79/index.html',\n",
       " 'https://books.toscrape.com/catalogue/category/books/sequential-art_5/../../../the-complete-maus-maus-1-2_62/index.html',\n",
       " 'https://books.toscrape.com/catalogue/category/books/sequential-art_5/../../../skip-beat-vol-01-skip-beat-1_55/index.html',\n",
       " 'https://books.toscrape.com/catalogue/category/books/sequential-art_5/../../../saga-volume-1-saga-collected-editions-1_48/index.html',\n",
       " 'https://books.toscrape.com/catalogue/category/books/sequential-art_5/../../../rat-queens-vol-1-sass-sorcery-rat-queens-collected-editions-1-5_46/index.html',\n",
       " 'https://books.toscrape.com/catalogue/category/books/sequential-art_5/../../../paper-girls-vol-1-paper-girls-1-5_44/index.html',\n",
       " 'https://books.toscrape.com/catalogue/category/books/sequential-art_5/../../../ouran-high-school-host-club-vol-1-ouran-high-school-host-club-1_43/index.html',\n",
       " 'https://books.toscrape.com/catalogue/category/books/sequential-art_5/../../../ms-marvel-vol-1-no-normal-ms-marvel-2014-2015-1_34/index.html',\n",
       " 'https://books.toscrape.com/catalogue/category/books/sequential-art_5/../../../hawkeye-vol-1-my-life-as-a-weapon-hawkeye-1_24/index.html',\n",
       " 'https://books.toscrape.com/catalogue/category/books/sequential-art_5/../../../giant-days-vol-1-giant-days-1-4_22/index.html',\n",
       " 'https://books.toscrape.com/catalogue/category/books/sequential-art_5/../../../fruits-basket-vol-1-fruits-basket-1_21/index.html',\n",
       " 'https://books.toscrape.com/catalogue/category/books/sequential-art_5/../../../bleach-vol-1-strawberry-and-the-soul-reapers-bleach-1_7/index.html',\n",
       " 'https://books.toscrape.com/catalogue/category/books/sequential-art_5/../../../ajin-demi-human-volume-1-ajin-demi-human-1_4/index.html']"
      ]
     },
     "execution_count": 35,
     "metadata": {},
     "output_type": "execute_result"
    }
   ],
   "source": [
    "myScrapingFunction('https://books.toscrape.com/catalogue/category/books/sequential-art_5/index.html')"
   ]
  },
  {
   "cell_type": "code",
   "execution_count": 36,
   "id": "6184eab9-468e-48a0-8ab5-d79a98234e22",
   "metadata": {},
   "outputs": [
    {
     "data": {
      "text/plain": [
       "['https://books.toscrape.com/catalogue/category/books/mystery_3/../../../sharp-objects_997/index.html',\n",
       " 'https://books.toscrape.com/catalogue/category/books/mystery_3/../../../in-a-dark-dark-wood_963/index.html',\n",
       " 'https://books.toscrape.com/catalogue/category/books/mystery_3/../../../the-past-never-ends_942/index.html',\n",
       " 'https://books.toscrape.com/catalogue/category/books/mystery_3/../../../a-murder-in-time_877/index.html',\n",
       " 'https://books.toscrape.com/catalogue/category/books/mystery_3/../../../the-murder-of-roger-ackroyd-hercule-poirot-4_852/index.html',\n",
       " 'https://books.toscrape.com/catalogue/category/books/mystery_3/../../../the-last-mile-amos-decker-2_754/index.html',\n",
       " 'https://books.toscrape.com/catalogue/category/books/mystery_3/../../../that-darkness-gardiner-and-renner-1_743/index.html',\n",
       " 'https://books.toscrape.com/catalogue/category/books/mystery_3/../../../tastes-like-fear-di-marnie-rome-3_742/index.html',\n",
       " 'https://books.toscrape.com/catalogue/category/books/mystery_3/../../../a-time-of-torment-charlie-parker-14_657/index.html',\n",
       " 'https://books.toscrape.com/catalogue/category/books/mystery_3/../../../a-study-in-scarlet-sherlock-holmes-1_656/index.html',\n",
       " 'https://books.toscrape.com/catalogue/category/books/mystery_3/../../../poisonous-max-revere-novels-3_627/index.html',\n",
       " 'https://books.toscrape.com/catalogue/category/books/mystery_3/../../../murder-at-the-42nd-street-library-raymond-ambler-1_624/index.html',\n",
       " 'https://books.toscrape.com/catalogue/category/books/mystery_3/../../../most-wanted_623/index.html',\n",
       " 'https://books.toscrape.com/catalogue/category/books/mystery_3/../../../hide-away-eve-duncan-20_620/index.html',\n",
       " 'https://books.toscrape.com/catalogue/category/books/mystery_3/../../../boar-island-anna-pigeon-19_613/index.html',\n",
       " 'https://books.toscrape.com/catalogue/category/books/mystery_3/../../../the-widow_609/index.html',\n",
       " 'https://books.toscrape.com/catalogue/category/books/mystery_3/../../../playing-with-fire_602/index.html',\n",
       " 'https://books.toscrape.com/catalogue/category/books/mystery_3/../../../what-happened-on-beale-street-secrets-of-the-south-mysteries-2_506/index.html',\n",
       " 'https://books.toscrape.com/catalogue/category/books/mystery_3/../../../the-bachelor-girls-guide-to-murder-herringford-and-watts-mysteries-1_491/index.html',\n",
       " 'https://books.toscrape.com/catalogue/category/books/mystery_3/../../../delivering-the-truth-quaker-midwife-mystery-1_464/index.html',\n",
       " 'https://books.toscrape.com/catalogue/category/books/mystery_3/../../../the-mysterious-affair-at-styles-hercule-poirot-1_452/index.html',\n",
       " 'https://books.toscrape.com/catalogue/category/books/mystery_3/../../../in-the-woods-dublin-murder-squad-1_433/index.html',\n",
       " 'https://books.toscrape.com/catalogue/category/books/mystery_3/../../../the-silkworm-cormoran-strike-2_280/index.html',\n",
       " 'https://books.toscrape.com/catalogue/category/books/mystery_3/../../../the-exiled_247/index.html',\n",
       " 'https://books.toscrape.com/catalogue/category/books/mystery_3/../../../the-cuckoos-calling-cormoran-strike-1_239/index.html',\n",
       " 'https://books.toscrape.com/catalogue/category/books/mystery_3/../../../extreme-prey-lucas-davenport-26_154/index.html',\n",
       " 'https://books.toscrape.com/catalogue/category/books/mystery_3/../../../career-of-evil-cormoran-strike-3_137/index.html',\n",
       " 'https://books.toscrape.com/catalogue/category/books/mystery_3/../../../the-no-1-ladies-detective-agency-no-1-ladies-detective-agency-1_76/index.html',\n",
       " 'https://books.toscrape.com/catalogue/category/books/mystery_3/../../../the-girl-you-lost_66/index.html',\n",
       " 'https://books.toscrape.com/catalogue/category/books/mystery_3/../../../the-girl-in-the-ice-dci-erika-foster-1_65/index.html',\n",
       " 'https://books.toscrape.com/catalogue/category/books/mystery_3/../../../blood-defense-samantha-brinkman-1_8/index.html',\n",
       " 'https://books.toscrape.com/catalogue/category/books/mystery_3/../../../1st-to-die-womens-murder-club-1_2/index.html']"
      ]
     },
     "execution_count": 36,
     "metadata": {},
     "output_type": "execute_result"
    }
   ],
   "source": [
    "myScrapingFunction('https://books.toscrape.com/catalogue/category/books/mystery_3/index.html')"
   ]
  },
  {
   "cell_type": "code",
   "execution_count": 37,
   "id": "0c6b92b0-9875-4675-baf6-fa80ec5e4fda",
   "metadata": {},
   "outputs": [
    {
     "data": {
      "text/plain": [
       "['https://books.toscrape.com/catalogue/category/books/young-adult_21/../../../the-requiem-red_995/index.html',\n",
       " 'https://books.toscrape.com/catalogue/category/books/young-adult_21/../../../set-me-free_988/index.html',\n",
       " 'https://books.toscrape.com/catalogue/category/books/young-adult_21/../../../the-natural-history-of-us-the-fine-art-of-pretending-2_941/index.html',\n",
       " 'https://books.toscrape.com/catalogue/category/books/young-adult_21/../../../obsidian-lux-1_911/index.html',\n",
       " 'https://books.toscrape.com/catalogue/category/books/young-adult_21/../../../burning_884/index.html',\n",
       " 'https://books.toscrape.com/catalogue/category/books/young-adult_21/../../../a-fierce-and-subtle-poison_875/index.html',\n",
       " 'https://books.toscrape.com/catalogue/category/books/young-adult_21/../../../scarlett-epstein-hates-it-here_828/index.html',\n",
       " 'https://books.toscrape.com/catalogue/category/books/young-adult_21/../../../nightingale-sing_823/index.html',\n",
       " 'https://books.toscrape.com/catalogue/category/books/young-adult_21/../../../library-of-souls-miss-peregrines-peculiar-children-3_816/index.html',\n",
       " 'https://books.toscrape.com/catalogue/category/books/young-adult_21/../../../frostbite-vampire-academy-2_810/index.html',\n",
       " 'https://books.toscrape.com/catalogue/category/books/young-adult_21/../../../wild-swans_782/index.html',\n",
       " 'https://books.toscrape.com/catalogue/category/books/young-adult_21/../../../until-friday-night-the-field-party-1_775/index.html',\n",
       " 'https://books.toscrape.com/catalogue/category/books/young-adult_21/../../../this-is-where-it-ends_771/index.html',\n",
       " 'https://books.toscrape.com/catalogue/category/books/young-adult_21/../../../the-darkest-lie_747/index.html',\n",
       " 'https://books.toscrape.com/catalogue/category/books/young-adult_21/../../../my-kind-of-crazy_718/index.html',\n",
       " 'https://books.toscrape.com/catalogue/category/books/young-adult_21/../../../dont-get-caught_687/index.html',\n",
       " 'https://books.toscrape.com/catalogue/category/books/young-adult_21/../../../catching-jordan-hundred-oaks_673/index.html',\n",
       " 'https://books.toscrape.com/catalogue/category/books/young-adult_21/../../../aristotle-and-dante-discover-the-secrets-of-the-universe-aristotle-and-dante-discover-the-secrets-of-the-universe-1_663/index.html',\n",
       " 'https://books.toscrape.com/catalogue/category/books/young-adult_21/../../../the-epidemic-the-program-06_636/index.html',\n",
       " 'https://books.toscrape.com/catalogue/category/books/young-adult_21/../../../stars-above-the-lunar-chronicles-45_632/index.html',\n",
       " 'https://books.toscrape.com/catalogue/category/books/young-adult_21/../../../no-love-allowed-dodge-cove-1_625/index.html',\n",
       " 'https://books.toscrape.com/catalogue/category/books/young-adult_21/../../../exit-pursued-by-a-bear_591/index.html',\n",
       " 'https://books.toscrape.com/catalogue/category/books/young-adult_21/../../../the-alien-club_569/index.html',\n",
       " 'https://books.toscrape.com/catalogue/category/books/young-adult_21/../../../dont-forget-steven_561/index.html',\n",
       " 'https://books.toscrape.com/catalogue/category/books/young-adult_21/../../../south-of-sunshine_544/index.html',\n",
       " 'https://books.toscrape.com/catalogue/category/books/young-adult_21/../../../my-life-next-door-my-life-next-door_535/index.html',\n",
       " 'https://books.toscrape.com/catalogue/category/books/young-adult_21/../../../future-shock-future-shock-1_519/index.html',\n",
       " 'https://books.toscrape.com/catalogue/category/books/young-adult_21/../../../nightstruck-a-novel_480/index.html',\n",
       " 'https://books.toscrape.com/catalogue/category/books/young-adult_21/../../../tell-the-wolves-im-home_439/index.html',\n",
       " 'https://books.toscrape.com/catalogue/category/books/young-adult_21/../../../will-grayson-will-grayson-will-grayson-will-grayson_419/index.html',\n",
       " 'https://books.toscrape.com/catalogue/category/books/young-adult_21/../../../where-she-went-if-i-stay-2_417/index.html',\n",
       " 'https://books.toscrape.com/catalogue/category/books/young-adult_21/../../../two-summers_415/index.html',\n",
       " 'https://books.toscrape.com/catalogue/category/books/young-adult_21/../../../the-darkest-corners_399/index.html',\n",
       " 'https://books.toscrape.com/catalogue/category/books/young-adult_21/../../../tell-me-three-things_395/index.html',\n",
       " 'https://books.toscrape.com/catalogue/category/books/young-adult_21/../../../lola-and-the-boy-next-door-anna-and-the-french-kiss-2_385/index.html',\n",
       " 'https://books.toscrape.com/catalogue/category/books/young-adult_21/../../../kill-the-boy-band_381/index.html',\n",
       " 'https://books.toscrape.com/catalogue/category/books/young-adult_21/../../../isla-and-the-happily-ever-after-anna-and-the-french-kiss-3_380/index.html',\n",
       " 'https://books.toscrape.com/catalogue/category/books/young-adult_21/../../../an-abundance-of-katherines_362/index.html',\n",
       " 'https://books.toscrape.com/catalogue/category/books/young-adult_21/../../../harry-potter-and-the-prisoner-of-azkaban-harry-potter-3_328/index.html',\n",
       " 'https://books.toscrape.com/catalogue/category/books/young-adult_21/../../../walk-the-edge-thunder-road-2_300/index.html',\n",
       " 'https://books.toscrape.com/catalogue/category/books/young-adult_21/../../../two-boys-kissing_294/index.html',\n",
       " 'https://books.toscrape.com/catalogue/category/books/young-adult_21/../../../the-new-guy-and-other-senior-year-distractions_266/index.html',\n",
       " 'https://books.toscrape.com/catalogue/category/books/young-adult_21/../../../the-land-of-10000-madonnas_258/index.html',\n",
       " 'https://books.toscrape.com/catalogue/category/books/young-adult_21/../../../scarlet-the-lunar-chronicles-2_218/index.html',\n",
       " 'https://books.toscrape.com/catalogue/category/books/young-adult_21/../../../legend-legend-1_184/index.html',\n",
       " 'https://books.toscrape.com/catalogue/category/books/young-adult_21/../../../lady-renegades-rebel-belle-3_181/index.html',\n",
       " 'https://books.toscrape.com/catalogue/category/books/young-adult_21/../../../golden-heart-of-dread-3_161/index.html',\n",
       " 'https://books.toscrape.com/catalogue/category/books/young-adult_21/../../../cinder-the-lunar-chronicles-1_139/index.html',\n",
       " 'https://books.toscrape.com/catalogue/category/books/young-adult_21/../../../boy-meets-boy_134/index.html',\n",
       " 'https://books.toscrape.com/catalogue/category/books/young-adult_21/../../../annie-on-my-mind_120/index.html',\n",
       " 'https://books.toscrape.com/catalogue/category/books/young-adult_21/../../../new-moon-twilight-2_105/index.html',\n",
       " 'https://books.toscrape.com/catalogue/category/books/young-adult_21/../../../girl-online-on-tour-girl-online-2_101/index.html',\n",
       " 'https://books.toscrape.com/catalogue/category/books/young-adult_21/../../../the-haters_67/index.html',\n",
       " 'https://books.toscrape.com/catalogue/category/books/young-adult_21/../../../the-art-of-not-breathing_58/index.html']"
      ]
     },
     "execution_count": 37,
     "metadata": {},
     "output_type": "execute_result"
    }
   ],
   "source": [
    "myScrapingFunction('https://books.toscrape.com/catalogue/category/books/young-adult_21/index.html')"
   ]
  },
  {
   "cell_type": "code",
   "execution_count": 38,
   "id": "f55929f8-8deb-492d-acf4-228926fdcf7c",
   "metadata": {},
   "outputs": [
    {
     "data": {
      "text/plain": [
       "['https://books.toscrape.com/catalogue/category/books/fiction_10/../../../soumission_998/index.html',\n",
       " 'https://books.toscrape.com/catalogue/category/books/fiction_10/../../../private-paris-private-10_958/index.html',\n",
       " 'https://books.toscrape.com/catalogue/category/books/fiction_10/../../../we-love-you-charlie-freeman_954/index.html',\n",
       " 'https://books.toscrape.com/catalogue/category/books/fiction_10/../../../thirst_946/index.html',\n",
       " 'https://books.toscrape.com/catalogue/category/books/fiction_10/../../../the-murder-that-never-was-forensic-instincts-5_939/index.html',\n",
       " 'https://books.toscrape.com/catalogue/category/books/fiction_10/../../../tuesday-nights-in-1980_870/index.html',\n",
       " 'https://books.toscrape.com/catalogue/category/books/fiction_10/../../../the-vacationers_863/index.html',\n",
       " 'https://books.toscrape.com/catalogue/category/books/fiction_10/../../../the-regional-office-is-under-attack_858/index.html',\n",
       " 'https://books.toscrape.com/catalogue/category/books/fiction_10/../../../finders-keepers-bill-hodges-trilogy-2_807/index.html',\n",
       " 'https://books.toscrape.com/catalogue/category/books/fiction_10/../../../the-time-keeper_766/index.html',\n",
       " 'https://books.toscrape.com/catalogue/category/books/fiction_10/../../../the-testament-of-mary_765/index.html',\n",
       " 'https://books.toscrape.com/catalogue/category/books/fiction_10/../../../the-first-hostage-jb-collins-2_749/index.html',\n",
       " 'https://books.toscrape.com/catalogue/category/books/fiction_10/../../../take-me-with-you_741/index.html',\n",
       " 'https://books.toscrape.com/catalogue/category/books/fiction_10/../../../still-life-with-bread-crumbs_738/index.html',\n",
       " 'https://books.toscrape.com/catalogue/category/books/fiction_10/../../../shtum_733/index.html',\n",
       " 'https://books.toscrape.com/catalogue/category/books/fiction_10/../../../my-name-is-lucy-barton_720/index.html',\n",
       " 'https://books.toscrape.com/catalogue/category/books/fiction_10/../../../my-mrs-brown_719/index.html',\n",
       " 'https://books.toscrape.com/catalogue/category/books/fiction_10/../../../mr-mercedes-bill-hodges-trilogy-1_717/index.html',\n",
       " 'https://books.toscrape.com/catalogue/category/books/fiction_10/../../../i-am-pilgrim-pilgrim-1_703/index.html',\n",
       " 'https://books.toscrape.com/catalogue/category/books/fiction_10/../../../eligible-the-austen-project-4_692/index.html',\n",
       " 'https://books.toscrape.com/catalogue/category/books/fiction_10/../../../eight-hundred-grapes_690/index.html',\n",
       " 'https://books.toscrape.com/catalogue/category/books/fiction_10/../../../dear-mr-knightley_684/index.html',\n",
       " 'https://books.toscrape.com/catalogue/category/books/fiction_10/../../../cometh-the-hour-the-clifton-chronicles-6_681/index.html',\n",
       " 'https://books.toscrape.com/catalogue/category/books/fiction_10/../../../balloon-animals_665/index.html',\n",
       " 'https://books.toscrape.com/catalogue/category/books/fiction_10/../../../a-man-called-ove_653/index.html',\n",
       " 'https://books.toscrape.com/catalogue/category/books/fiction_10/../../../the-silent-sister-riley-macpherson-1_641/index.html',\n",
       " 'https://books.toscrape.com/catalogue/category/books/fiction_10/../../../the-dinner-party_635/index.html',\n",
       " 'https://books.toscrape.com/catalogue/category/books/fiction_10/../../../the-improbability-of-love_607/index.html',\n",
       " 'https://books.toscrape.com/catalogue/category/books/fiction_10/../../../mothering-sunday_600/index.html',\n",
       " 'https://books.toscrape.com/catalogue/category/books/fiction_10/../../../lies-and-other-acts-of-love_596/index.html',\n",
       " 'https://books.toscrape.com/catalogue/category/books/fiction_10/../../../daredevils_590/index.html',\n",
       " 'https://books.toscrape.com/catalogue/category/books/fiction_10/../../../112263_583/index.html',\n",
       " 'https://books.toscrape.com/catalogue/category/books/fiction_10/../../../the-shack_576/index.html',\n",
       " 'https://books.toscrape.com/catalogue/category/books/fiction_10/../../../the-high-mountains-of-portugal_547/index.html',\n",
       " 'https://books.toscrape.com/catalogue/category/books/fiction_10/../../../millers-valley_534/index.html',\n",
       " 'https://books.toscrape.com/catalogue/category/books/fiction_10/../../../hystopia-a-novel_523/index.html',\n",
       " 'https://books.toscrape.com/catalogue/category/books/fiction_10/../../../the-bourne-identity-jason-bourne-1_492/index.html',\n",
       " 'https://books.toscrape.com/catalogue/category/books/fiction_10/../../../sister-dear_485/index.html',\n",
       " 'https://books.toscrape.com/catalogue/category/books/fiction_10/../../../memoirs-of-a-geisha_477/index.html',\n",
       " 'https://books.toscrape.com/catalogue/category/books/fiction_10/../../../me-before-you-me-before-you-1_434/index.html',\n",
       " 'https://books.toscrape.com/catalogue/category/books/fiction_10/../../../deception-point_426/index.html',\n",
       " 'https://books.toscrape.com/catalogue/category/books/fiction_10/../../../the-little-paris-bookshop_407/index.html',\n",
       " 'https://books.toscrape.com/catalogue/category/books/fiction_10/../../../the-firm_404/index.html',\n",
       " 'https://books.toscrape.com/catalogue/category/books/fiction_10/../../../the-expatriates_401/index.html',\n",
       " 'https://books.toscrape.com/catalogue/category/books/fiction_10/../../../siddhartha_393/index.html',\n",
       " 'https://books.toscrape.com/catalogue/category/books/fiction_10/../../../last-one-home-new-beginnings-1_383/index.html',\n",
       " 'https://books.toscrape.com/catalogue/category/books/fiction_10/../../../digital-fortress_369/index.html',\n",
       " 'https://books.toscrape.com/catalogue/category/books/fiction_10/../../../atlas-shrugged_314/index.html',\n",
       " 'https://books.toscrape.com/catalogue/category/books/fiction_10/../../../three-martini-lunch_290/index.html',\n",
       " 'https://books.toscrape.com/catalogue/category/books/fiction_10/../../../the-nightingale_267/index.html',\n",
       " 'https://books.toscrape.com/catalogue/category/books/fiction_10/../../../the-infinities_257/index.html',\n",
       " 'https://books.toscrape.com/catalogue/category/books/fiction_10/../../../the-husbands-secret_256/index.html',\n",
       " 'https://books.toscrape.com/catalogue/category/books/fiction_10/../../../the-da-vinci-code-robert-langdon-2_240/index.html',\n",
       " 'https://books.toscrape.com/catalogue/category/books/fiction_10/../../../the-art-of-fielding_228/index.html',\n",
       " 'https://books.toscrape.com/catalogue/category/books/fiction_10/../../../lila-gilead-3_190/index.html',\n",
       " 'https://books.toscrape.com/catalogue/category/books/fiction_10/../../../jurassic-park-jurassic-park-1_180/index.html',\n",
       " 'https://books.toscrape.com/catalogue/category/books/fiction_10/../../../inferno-robert-langdon-4_176/index.html',\n",
       " 'https://books.toscrape.com/catalogue/category/books/fiction_10/../../../crazy-rich-asians-crazy-rich-asians-1_143/index.html',\n",
       " 'https://books.toscrape.com/catalogue/category/books/fiction_10/../../../big-little-lies_129/index.html',\n",
       " 'https://books.toscrape.com/catalogue/category/books/fiction_10/../../../the-course-of-love_109/index.html',\n",
       " 'https://books.toscrape.com/catalogue/category/books/fiction_10/../../../when-im-gone_95/index.html',\n",
       " 'https://books.toscrape.com/catalogue/category/books/fiction_10/../../../the-silent-wife_83/index.html',\n",
       " 'https://books.toscrape.com/catalogue/category/books/fiction_10/../../../the-bette-davis-club_59/index.html',\n",
       " 'https://books.toscrape.com/catalogue/category/books/fiction_10/../../../kitchens-of-the-great-midwest_28/index.html',\n",
       " 'https://books.toscrape.com/catalogue/category/books/fiction_10/../../../bright-lines_11/index.html']"
      ]
     },
     "execution_count": 38,
     "metadata": {},
     "output_type": "execute_result"
    }
   ],
   "source": [
    "myScrapingFunction('https://books.toscrape.com/catalogue/category/books/fiction_10/index.html')"
   ]
  },
  {
   "cell_type": "markdown",
   "id": "fc601975-35ed-4680-a4e1-0273ee3cc047",
   "metadata": {},
   "source": [
    "## Question 2"
   ]
  },
  {
   "cell_type": "code",
   "execution_count": 39,
   "id": "a16336a1-1ef0-41e8-bc7c-49387db27497",
   "metadata": {},
   "outputs": [],
   "source": [
    "# defining mylistofurls\n",
    "import requests\n",
    "\n",
    "from lxml import html\n",
    "\n",
    "mytree = html.fromstring(requests.get(\"https://books.toscrape.com\").content)\n",
    "\n",
    "myurls = ['https://books.toscrape.com/' + element.attrib['href'] for element in mytree.xpath('//li/ul/li/a')]\n",
    "\n",
    "mylistofurls = [element for element in myurls]"
   ]
  },
  {
   "cell_type": "code",
   "execution_count": 40,
   "id": "c78d4248-226f-4308-8f85-579b921d5b64",
   "metadata": {},
   "outputs": [],
   "source": [
    "fullList = []\n",
    "for url in mylistofurls:\n",
    "    fullList.append(myScrapingFunction(url))"
   ]
  },
  {
   "cell_type": "code",
   "execution_count": 41,
   "id": "007645fd-d9ca-4338-98a0-94159858f20c",
   "metadata": {},
   "outputs": [
    {
     "data": {
      "text/plain": [
       "50"
      ]
     },
     "execution_count": 41,
     "metadata": {},
     "output_type": "execute_result"
    }
   ],
   "source": [
    "len(fullList)"
   ]
  },
  {
   "cell_type": "code",
   "execution_count": 42,
   "id": "b26bf521-d925-4b71-91e8-987e65da5a9c",
   "metadata": {},
   "outputs": [
    {
     "name": "stdout",
     "output_type": "stream",
     "text": [
      "[['https://books.toscrape.com/catalogue/category/books/travel_2/../../../its-only-the-himalayas_981/index.html', 'https://books.toscrape.com/catalogue/category/books/travel_2/../../../full-moon-over-noahs-ark-an-odyssey-to-mount-ararat-and-beyond_811/index.html', 'https://books.toscrape.com/catalogue/category/books/travel_2/../../../see-america-a-celebration-of-our-national-parks-treasured-sites_732/index.html', 'https://books.toscrape.com/catalogue/category/books/travel_2/../../../vagabonding-an-uncommon-guide-to-the-art-of-long-term-world-travel_552/index.html', 'https://books.toscrape.com/catalogue/category/books/travel_2/../../../under-the-tuscan-sun_504/index.html', 'https://books.toscrape.com/catalogue/category/books/travel_2/../../../a-summer-in-europe_458/index.html', 'https://books.toscrape.com/catalogue/category/books/travel_2/../../../the-great-railway-bazaar_446/index.html', 'https://books.toscrape.com/catalogue/category/books/travel_2/../../../a-year-in-provence-provence-1_421/index.html', 'https://books.toscrape.com/catalogue/category/books/travel_2/../../../the-road-to-little-dribbling-adventures-of-an-american-in-britain-notes-from-a-small-island-2_277/index.html', 'https://books.toscrape.com/catalogue/category/books/travel_2/../../../neither-here-nor-there-travels-in-europe_198/index.html', 'https://books.toscrape.com/catalogue/category/books/travel_2/../../../1000-places-to-see-before-you-die_1/index.html'], ['https://books.toscrape.com/catalogue/category/books/mystery_3/../../../sharp-objects_997/index.html', 'https://books.toscrape.com/catalogue/category/books/mystery_3/../../../in-a-dark-dark-wood_963/index.html', 'https://books.toscrape.com/catalogue/category/books/mystery_3/../../../the-past-never-ends_942/index.html', 'https://books.toscrape.com/catalogue/category/books/mystery_3/../../../a-murder-in-time_877/index.html', 'https://books.toscrape.com/catalogue/category/books/mystery_3/../../../the-murder-of-roger-ackroyd-hercule-poirot-4_852/index.html', 'https://books.toscrape.com/catalogue/category/books/mystery_3/../../../the-last-mile-amos-decker-2_754/index.html', 'https://books.toscrape.com/catalogue/category/books/mystery_3/../../../that-darkness-gardiner-and-renner-1_743/index.html', 'https://books.toscrape.com/catalogue/category/books/mystery_3/../../../tastes-like-fear-di-marnie-rome-3_742/index.html', 'https://books.toscrape.com/catalogue/category/books/mystery_3/../../../a-time-of-torment-charlie-parker-14_657/index.html', 'https://books.toscrape.com/catalogue/category/books/mystery_3/../../../a-study-in-scarlet-sherlock-holmes-1_656/index.html', 'https://books.toscrape.com/catalogue/category/books/mystery_3/../../../poisonous-max-revere-novels-3_627/index.html', 'https://books.toscrape.com/catalogue/category/books/mystery_3/../../../murder-at-the-42nd-street-library-raymond-ambler-1_624/index.html', 'https://books.toscrape.com/catalogue/category/books/mystery_3/../../../most-wanted_623/index.html', 'https://books.toscrape.com/catalogue/category/books/mystery_3/../../../hide-away-eve-duncan-20_620/index.html', 'https://books.toscrape.com/catalogue/category/books/mystery_3/../../../boar-island-anna-pigeon-19_613/index.html', 'https://books.toscrape.com/catalogue/category/books/mystery_3/../../../the-widow_609/index.html', 'https://books.toscrape.com/catalogue/category/books/mystery_3/../../../playing-with-fire_602/index.html', 'https://books.toscrape.com/catalogue/category/books/mystery_3/../../../what-happened-on-beale-street-secrets-of-the-south-mysteries-2_506/index.html', 'https://books.toscrape.com/catalogue/category/books/mystery_3/../../../the-bachelor-girls-guide-to-murder-herringford-and-watts-mysteries-1_491/index.html', 'https://books.toscrape.com/catalogue/category/books/mystery_3/../../../delivering-the-truth-quaker-midwife-mystery-1_464/index.html', 'https://books.toscrape.com/catalogue/category/books/mystery_3/../../../the-mysterious-affair-at-styles-hercule-poirot-1_452/index.html', 'https://books.toscrape.com/catalogue/category/books/mystery_3/../../../in-the-woods-dublin-murder-squad-1_433/index.html', 'https://books.toscrape.com/catalogue/category/books/mystery_3/../../../the-silkworm-cormoran-strike-2_280/index.html', 'https://books.toscrape.com/catalogue/category/books/mystery_3/../../../the-exiled_247/index.html', 'https://books.toscrape.com/catalogue/category/books/mystery_3/../../../the-cuckoos-calling-cormoran-strike-1_239/index.html', 'https://books.toscrape.com/catalogue/category/books/mystery_3/../../../extreme-prey-lucas-davenport-26_154/index.html', 'https://books.toscrape.com/catalogue/category/books/mystery_3/../../../career-of-evil-cormoran-strike-3_137/index.html', 'https://books.toscrape.com/catalogue/category/books/mystery_3/../../../the-no-1-ladies-detective-agency-no-1-ladies-detective-agency-1_76/index.html', 'https://books.toscrape.com/catalogue/category/books/mystery_3/../../../the-girl-you-lost_66/index.html', 'https://books.toscrape.com/catalogue/category/books/mystery_3/../../../the-girl-in-the-ice-dci-erika-foster-1_65/index.html', 'https://books.toscrape.com/catalogue/category/books/mystery_3/../../../blood-defense-samantha-brinkman-1_8/index.html', 'https://books.toscrape.com/catalogue/category/books/mystery_3/../../../1st-to-die-womens-murder-club-1_2/index.html']]\n"
     ]
    }
   ],
   "source": [
    "print(fullList[:2])"
   ]
  },
  {
   "cell_type": "markdown",
   "id": "8e586edd-ff26-4ce2-8f6b-2424b26f2929",
   "metadata": {},
   "source": [
    "## Question 3"
   ]
  },
  {
   "cell_type": "code",
   "execution_count": 43,
   "id": "bbe0f40d-9655-4653-9ca8-886bdb61cb91",
   "metadata": {},
   "outputs": [],
   "source": [
    "#defining mybiglist\n",
    "\n",
    "myBigList = []\n",
    "myBigList.extend([element for subList in fullList for element in subList]) "
   ]
  },
  {
   "cell_type": "code",
   "execution_count": 44,
   "id": "d9fea022-3c1c-45bb-80be-81482b4bb314",
   "metadata": {},
   "outputs": [
    {
     "data": {
      "text/plain": [
       "1000"
      ]
     },
     "execution_count": 44,
     "metadata": {},
     "output_type": "execute_result"
    }
   ],
   "source": [
    "len(myBigList)"
   ]
  },
  {
   "cell_type": "code",
   "execution_count": 45,
   "id": "fd7d2586-9264-4720-a345-543c97dbf783",
   "metadata": {},
   "outputs": [
    {
     "data": {
      "text/plain": [
       "['https://books.toscrape.com/catalogue/category/books/travel_2/../../../its-only-the-himalayas_981/index.html',\n",
       " 'https://books.toscrape.com/catalogue/category/books/travel_2/../../../full-moon-over-noahs-ark-an-odyssey-to-mount-ararat-and-beyond_811/index.html',\n",
       " 'https://books.toscrape.com/catalogue/category/books/travel_2/../../../see-america-a-celebration-of-our-national-parks-treasured-sites_732/index.html',\n",
       " 'https://books.toscrape.com/catalogue/category/books/travel_2/../../../vagabonding-an-uncommon-guide-to-the-art-of-long-term-world-travel_552/index.html',\n",
       " 'https://books.toscrape.com/catalogue/category/books/travel_2/../../../under-the-tuscan-sun_504/index.html',\n",
       " 'https://books.toscrape.com/catalogue/category/books/travel_2/../../../a-summer-in-europe_458/index.html',\n",
       " 'https://books.toscrape.com/catalogue/category/books/travel_2/../../../the-great-railway-bazaar_446/index.html',\n",
       " 'https://books.toscrape.com/catalogue/category/books/travel_2/../../../a-year-in-provence-provence-1_421/index.html',\n",
       " 'https://books.toscrape.com/catalogue/category/books/travel_2/../../../the-road-to-little-dribbling-adventures-of-an-american-in-britain-notes-from-a-small-island-2_277/index.html',\n",
       " 'https://books.toscrape.com/catalogue/category/books/travel_2/../../../neither-here-nor-there-travels-in-europe_198/index.html']"
      ]
     },
     "execution_count": 45,
     "metadata": {},
     "output_type": "execute_result"
    }
   ],
   "source": [
    "myBigList[:10]"
   ]
  },
  {
   "cell_type": "code",
   "execution_count": 46,
   "id": "0021fc7f-fe9b-4469-9fbd-bdda622fa2f1",
   "metadata": {},
   "outputs": [
    {
     "data": {
      "text/plain": [
       "['https://books.toscrape.com/catalogue/category/books/health_47/../../../the-bulletproof-diet-lose-up-to-a-pound-a-day-reclaim-energy-and-focus-upgrade-your-life_931/index.html',\n",
       " 'https://books.toscrape.com/catalogue/category/books/health_47/../../../eat-fat-get-thin_688/index.html',\n",
       " 'https://books.toscrape.com/catalogue/category/books/health_47/../../../10-day-green-smoothie-cleanse-lose-up-to-15-pounds-in-10-days_581/index.html',\n",
       " 'https://books.toscrape.com/catalogue/category/books/health_47/../../../the-art-and-science-of-low-carbohydrate-living_570/index.html',\n",
       " 'https://books.toscrape.com/catalogue/category/books/politics_48/../../../libertarianism-for-beginners_982/index.html',\n",
       " 'https://books.toscrape.com/catalogue/category/books/politics_48/../../../why-the-right-went-wrong-conservatism-from-goldwater-to-the-tea-party-and-beyond_781/index.html',\n",
       " 'https://books.toscrape.com/catalogue/category/books/politics_48/../../../equal-is-unfair-americas-misguided-fight-against-income-inequality_617/index.html',\n",
       " 'https://books.toscrape.com/catalogue/category/books/cultural_49/../../../amid-the-chaos_788/index.html',\n",
       " 'https://books.toscrape.com/catalogue/category/books/erotica_50/../../../dark-notes_800/index.html',\n",
       " 'https://books.toscrape.com/catalogue/category/books/crime_51/../../../the-long-shadow-of-small-ghosts-murder-and-memory-in-an-american-city_848/index.html']"
      ]
     },
     "execution_count": 46,
     "metadata": {},
     "output_type": "execute_result"
    }
   ],
   "source": [
    "myBigList[990:1000]"
   ]
  },
  {
   "cell_type": "markdown",
   "id": "da22f29c-d245-4d2b-9fc1-ca14cb6087d9",
   "metadata": {},
   "source": [
    "## Question 4"
   ]
  },
  {
   "cell_type": "code",
   "execution_count": 55,
   "id": "8cffc767-d1c8-4d64-b7dc-f0d2ee8a80d1",
   "metadata": {},
   "outputs": [],
   "source": [
    "#defining category function \n",
    "def myCategoryPrice(myurl):\n",
    "    mytemplist = []\n",
    "    mytree = html.fromstring(requests.get(myurl).content)\n",
    "    mystub = myurl.replace('index.html', '')\n",
    "    mytemplist.extend([element.text for element in mytree.xpath('//p[@class=\"price_color\"]')])\n",
    "    mycounter = 1\n",
    "    while len([element for element in mytree.xpath('//li[@class=\"next\"]/a')]) > 0:\n",
    "        time.sleep(2)\n",
    "        mycounter += 1\n",
    "        mynewurl = f\"{mystub}page-{str(mycounter)}.html\"\n",
    "        mytree = html.fromstring(requests.get(mynewurl).content)\n",
    "        mytemplist.extend([element.text for element in mytree.xpath('//p[@class=\"price_color\"]')])\n",
    "    return mytemplist"
   ]
  },
  {
   "cell_type": "code",
   "execution_count": 57,
   "id": "f48b6a0c-4e01-4876-9b29-3b14924b9caf",
   "metadata": {},
   "outputs": [
    {
     "data": {
      "text/plain": [
       "['£54.64',\n",
       " '£36.89',\n",
       " '£56.13',\n",
       " '£58.08',\n",
       " '£13.47',\n",
       " '£12.96',\n",
       " '£22.08',\n",
       " '£23.57',\n",
       " '£18.28',\n",
       " '£53.95',\n",
       " '£25.08',\n",
       " '£35.96',\n",
       " '£52.87',\n",
       " '£34.41',\n",
       " '£32.38',\n",
       " '£22.54',\n",
       " '£56.07',\n",
       " '£48.77',\n",
       " '£43.59',\n",
       " '£26.33',\n",
       " '£16.26',\n",
       " '£28.54',\n",
       " '£37.52',\n",
       " '£10.79',\n",
       " '£10.62',\n",
       " '£10.66',\n",
       " '£52.88',\n",
       " '£28.34',\n",
       " '£22.85']"
      ]
     },
     "execution_count": 57,
     "metadata": {},
     "output_type": "execute_result"
    }
   ],
   "source": [
    "myCategoryPrice(\"https://books.toscrape.com/catalogue/category/books/childrens_11/index.html\")"
   ]
  },
  {
   "cell_type": "code",
   "execution_count": 58,
   "id": "7e582a26-bb39-4198-9852-2f509e7aeb2e",
   "metadata": {},
   "outputs": [
    {
     "data": {
      "text/plain": [
       "['£42.96',\n",
       " '£57.36',\n",
       " '£44.74',\n",
       " '£37.55',\n",
       " '£55.91',\n",
       " '£28.41',\n",
       " '£10.01',\n",
       " '£13.76',\n",
       " '£16.28',\n",
       " '£13.03',\n",
       " '£57.35',\n",
       " '£25.83',\n",
       " '£30.60',\n",
       " '£29.45']"
      ]
     },
     "execution_count": 58,
     "metadata": {},
     "output_type": "execute_result"
    }
   ],
   "source": [
    "myCategoryPrice(\"https://books.toscrape.com/catalogue/category/books/science_22/index.html\")"
   ]
  },
  {
   "cell_type": "markdown",
   "id": "88c9cdac-3e92-498f-83fa-e089bfc44ac8",
   "metadata": {},
   "source": [
    "## Question 5"
   ]
  },
  {
   "cell_type": "code",
   "execution_count": 61,
   "id": "d370d7c9-06db-42b9-b75f-240481a5c491",
   "metadata": {},
   "outputs": [
    {
     "name": "stdout",
     "output_type": "stream",
     "text": [
      "£35070.35\n"
     ]
    }
   ],
   "source": [
    "#looping thru my urls to get all prices\n",
    "totalCost = 0\n",
    "for element in myurls:\n",
    "    result = myCategoryPrice(element)\n",
    "    for price in result:\n",
    "        totalCost+= float(price.replace('£',''))\n",
    "\n",
    "print(f\"£{totalCost}\")"
   ]
  },
  {
   "cell_type": "markdown",
   "id": "f76442d6-d02e-4f26-b9d6-c3183e1d6929",
   "metadata": {},
   "source": [
    "## Pledge\n",
    "\n",
    "By submitting this work I hereby pledge that this is my own, personal work. I've acknowledged in the designated place at the top of this file all sources that I used to complete said work, including but not limited to: online resources, books, and electronic communications. I've noted all collaboration with fellow students and/or TA's. I did not copy or plagiarize another's work.\n",
    "\n",
    "> As a Boilermaker pursuing academic excellence, I pledge to be honest and true in all that I do. Accountable together – We are Purdue."
   ]
  }
 ],
 "metadata": {
  "kernelspec": {
   "display_name": "seminar",
   "language": "python",
   "name": "python3"
  },
  "language_info": {
   "codemirror_mode": {
    "name": "ipython",
    "version": 3
   },
   "file_extension": ".py",
   "mimetype": "text/x-python",
   "name": "python",
   "nbconvert_exporter": "python",
   "pygments_lexer": "ipython3",
   "version": "3.11.5"
  }
 },
 "nbformat": 4,
 "nbformat_minor": 5
}
