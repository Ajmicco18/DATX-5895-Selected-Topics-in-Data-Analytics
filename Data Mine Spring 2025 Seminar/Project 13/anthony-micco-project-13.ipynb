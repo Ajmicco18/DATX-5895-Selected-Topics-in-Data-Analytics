{
 "cells": [
  {
   "cell_type": "markdown",
   "id": "be02a957-7133-4d02-818e-fedeb3cecb05",
   "metadata": {},
   "source": [
    "# Project 13 - Anthony Micco"
   ]
  },
  {
   "cell_type": "markdown",
   "id": "a1228853-dd19-4ab2-89e0-0394d7d72de3",
   "metadata": {},
   "source": [
    "**TA Help:** N/A\n",
    "    \n",
    "**Collaboration:** N/A"
   ]
  },
  {
   "cell_type": "markdown",
   "id": "6180e742-8e39-4698-98ff-5b00c8cf8ea0",
   "metadata": {},
   "source": [
    "## Question 1"
   ]
  },
  {
   "cell_type": "code",
   "execution_count": 1,
   "id": "ca786761-881f-486b-9360-6f9545ba2b93",
   "metadata": {},
   "outputs": [],
   "source": [
    "#importing polars\n",
    "import polars as pl"
   ]
  },
  {
   "cell_type": "code",
   "execution_count": 2,
   "id": "e522e019-f029-4481-ab34-f29f323b4981",
   "metadata": {},
   "outputs": [
    {
     "data": {
      "text/html": [
       "<div><style>\n",
       ".dataframe > thead > tr > th,\n",
       ".dataframe > tbody > tr > td {\n",
       "  text-align: right;\n",
       "  white-space: pre-wrap;\n",
       "}\n",
       "</style>\n",
       "<small>shape: (5, 3)</small><table border=\"1\" class=\"dataframe\"><thead><tr><th>Trip_Pickup_DateTime</th><th>Start_Lon</th><th>Start_Lat</th></tr><tr><td>str</td><td>f64</td><td>f64</td></tr></thead><tbody><tr><td>&quot;2009-05-27 07:…</td><td>-73.974105</td><td>40.742892</td></tr><tr><td>&quot;2009-05-27 07:…</td><td>-74.008148</td><td>40.738854</td></tr><tr><td>&quot;2009-05-15 15:…</td><td>-73.973343</td><td>40.764047</td></tr><tr><td>&quot;2009-05-26 22:…</td><td>-74.005256</td><td>40.71973</td></tr><tr><td>&quot;2009-05-27 12:…</td><td>-73.997714</td><td>40.741363</td></tr></tbody></table></div>"
      ],
      "text/plain": [
       "shape: (5, 3)\n",
       "┌──────────────────────┬────────────┬───────────┐\n",
       "│ Trip_Pickup_DateTime ┆ Start_Lon  ┆ Start_Lat │\n",
       "│ ---                  ┆ ---        ┆ ---       │\n",
       "│ str                  ┆ f64        ┆ f64       │\n",
       "╞══════════════════════╪════════════╪═══════════╡\n",
       "│ 2009-05-27 07:41:05  ┆ -73.974105 ┆ 40.742892 │\n",
       "│ 2009-05-27 07:51:06  ┆ -74.008148 ┆ 40.738854 │\n",
       "│ 2009-05-15 15:22:02  ┆ -73.973343 ┆ 40.764047 │\n",
       "│ 2009-05-26 22:06:37  ┆ -74.005256 ┆ 40.71973  │\n",
       "│ 2009-05-27 12:51:39  ┆ -73.997714 ┆ 40.741363 │\n",
       "└──────────────────────┴────────────┴───────────┘"
      ]
     },
     "execution_count": 2,
     "metadata": {},
     "output_type": "execute_result"
    }
   ],
   "source": [
    "# reading in file to see column values\n",
    "myDF = pl.read_csv(\"/anvil/projects/tdm/data/taxi/yellow/yellow_tripdata_2009-05.csv\", columns=['Trip_Pickup_DateTime', 'Start_Lon', 'Start_Lat'])\n",
    "myDF.head()"
   ]
  },
  {
   "cell_type": "code",
   "execution_count": 3,
   "id": "49445606-d363-41b4-b479-e319a9a84c01",
   "metadata": {},
   "outputs": [],
   "source": [
    "#recreating project 11 question 1 using Polars\n",
    "\n",
    "#defining redone function\n",
    "def extractdate(year:str, month:str, day:str):\n",
    "    #reading in the correct csv based on user input\n",
    "    myDF = pl.read_csv(f\"/anvil/projects/tdm/data/taxi/yellow/yellow_tripdata_{year}-{month}.csv\", columns=['Trip_Pickup_DateTime', 'Start_Lon', 'Start_Lat'])\n",
    "\n",
    "    #returning the dataframe\n",
    "    return myDF"
   ]
  },
  {
   "cell_type": "code",
   "execution_count": 4,
   "id": "d3026588-baa8-43bb-8609-eab6f8c093c8",
   "metadata": {},
   "outputs": [
    {
     "data": {
      "text/html": [
       "<div><style>\n",
       ".dataframe > thead > tr > th,\n",
       ".dataframe > tbody > tr > td {\n",
       "  text-align: right;\n",
       "  white-space: pre-wrap;\n",
       "}\n",
       "</style>\n",
       "<small>shape: (13_686_520, 3)</small><table border=\"1\" class=\"dataframe\"><thead><tr><th>Trip_Pickup_DateTime</th><th>Start_Lon</th><th>Start_Lat</th></tr><tr><td>str</td><td>f64</td><td>f64</td></tr></thead><tbody><tr><td>&quot;2009-08-12 07:…</td><td>0.0</td><td>0.0</td></tr><tr><td>&quot;2009-08-12 12:…</td><td>-73.964567</td><td>40.772907</td></tr><tr><td>&quot;2009-08-12 17:…</td><td>-73.949728</td><td>40.78452</td></tr><tr><td>&quot;2009-08-11 09:…</td><td>-73.955885</td><td>40.782272</td></tr><tr><td>&quot;2009-08-12 13:…</td><td>-74.005328</td><td>40.728048</td></tr><tr><td>&quot;2009-08-12 08:…</td><td>-73.989573</td><td>40.720453</td></tr><tr><td>&quot;2009-08-12 13:…</td><td>-73.978093</td><td>40.761692</td></tr><tr><td>&quot;2009-08-12 08:…</td><td>-73.988335</td><td>40.759555</td></tr><tr><td>&quot;2009-08-12 16:…</td><td>-73.984142</td><td>40.74281</td></tr><tr><td>&quot;2009-08-14 13:…</td><td>-73.862815</td><td>40.768837</td></tr><tr><td>&quot;2009-08-12 14:…</td><td>-73.961977</td><td>40.776213</td></tr><tr><td>&quot;2009-08-14 10:…</td><td>-73.986153</td><td>40.75984</td></tr><tr><td>&hellip;</td><td>&hellip;</td><td>&hellip;</td></tr><tr><td>&quot;2009-08-11 01:…</td><td>-74.00004</td><td>40.730505</td></tr><tr><td>&quot;2009-08-10 23:…</td><td>-73.95732</td><td>40.766305</td></tr><tr><td>&quot;2009-08-11 06:…</td><td>-73.980613</td><td>40.730592</td></tr><tr><td>&quot;2009-08-12 07:…</td><td>-73.978907</td><td>40.751995</td></tr><tr><td>&quot;2009-08-11 12:…</td><td>-73.969712</td><td>40.763458</td></tr><tr><td>&quot;2009-08-11 10:…</td><td>-73.885317</td><td>40.773108</td></tr><tr><td>&quot;2009-08-11 14:…</td><td>-73.980165</td><td>40.765277</td></tr><tr><td>&quot;2009-08-11 07:…</td><td>-73.990705</td><td>40.750893</td></tr><tr><td>&quot;2009-08-11 17:…</td><td>-73.988997</td><td>40.757995</td></tr><tr><td>&quot;2009-08-11 06:…</td><td>-73.997953</td><td>40.735693</td></tr><tr><td>&quot;2009-08-11 15:…</td><td>-73.972078</td><td>40.760098</td></tr><tr><td>&quot;2009-08-03 20:…</td><td>-73.96381</td><td>40.761503</td></tr></tbody></table></div>"
      ],
      "text/plain": [
       "shape: (13_686_520, 3)\n",
       "┌──────────────────────┬────────────┬───────────┐\n",
       "│ Trip_Pickup_DateTime ┆ Start_Lon  ┆ Start_Lat │\n",
       "│ ---                  ┆ ---        ┆ ---       │\n",
       "│ str                  ┆ f64        ┆ f64       │\n",
       "╞══════════════════════╪════════════╪═══════════╡\n",
       "│ 2009-08-12 07:28:00  ┆ 0.0        ┆ 0.0       │\n",
       "│ 2009-08-12 12:03:00  ┆ -73.964567 ┆ 40.772907 │\n",
       "│ 2009-08-12 17:42:00  ┆ -73.949728 ┆ 40.78452  │\n",
       "│ 2009-08-11 09:34:00  ┆ -73.955885 ┆ 40.782272 │\n",
       "│ …                    ┆ …          ┆ …         │\n",
       "│ 2009-08-11 17:53:00  ┆ -73.988997 ┆ 40.757995 │\n",
       "│ 2009-08-11 06:44:00  ┆ -73.997953 ┆ 40.735693 │\n",
       "│ 2009-08-11 15:24:00  ┆ -73.972078 ┆ 40.760098 │\n",
       "│ 2009-08-03 20:40:00  ┆ -73.96381  ┆ 40.761503 │\n",
       "└──────────────────────┴────────────┴───────────┘"
      ]
     },
     "execution_count": 4,
     "metadata": {},
     "output_type": "execute_result"
    }
   ],
   "source": [
    "#calling the function with the date 08-14-2009 \n",
    "extractdate(\"2009\", \"08\", \"14\")"
   ]
  },
  {
   "cell_type": "markdown",
   "id": "fc601975-35ed-4680-a4e1-0273ee3cc047",
   "metadata": {},
   "source": [
    "## Question 2"
   ]
  },
  {
   "cell_type": "code",
   "execution_count": 5,
   "id": "a16336a1-1ef0-41e8-bc7c-49387db27497",
   "metadata": {},
   "outputs": [],
   "source": [
    "#recreating project 11 question 2 using Polars\n",
    "\n",
    "#revising the function in Polars\n",
    "def extractdateV2(year:str, month:str, day:str):\n",
    "    \n",
    "    #reading in data from correct dataframe\n",
    "    myDF = pl.read_csv(f\"/anvil/projects/tdm/data/taxi/yellow/yellow_tripdata_{year}-{month}.csv\", columns=['Trip_Pickup_DateTime', 'Start_Lon', 'Start_Lat'])\n",
    "    \n",
    "    #checking to make sure the date input is correct\n",
    "    newDF = myDF.filter(myDF['Trip_Pickup_DateTime'].str.to_datetime(\"%Y-%m-%d %H:%M:%S\").dt.year().eq(year)\n",
    "           & myDF['Trip_Pickup_DateTime'].str.to_datetime(\"%Y-%m-%d %H:%M:%S\").dt.month().eq(month)\n",
    "           & myDF['Trip_Pickup_DateTime'].str.to_datetime(\"%Y-%m-%d %H:%M:%S\").dt.day().eq(day))\n",
    "    x = f\"newDF shape is: {newDF.shape}\"\n",
    "    y = f\"myDF shape is: {myDF.shape}\"\n",
    "    # Return the filtered DataFrame if there are matching records\n",
    "    return x, y, newDF"
   ]
  },
  {
   "cell_type": "code",
   "execution_count": 6,
   "id": "3e2d5265-0eea-415b-9875-5c7b61744bc3",
   "metadata": {},
   "outputs": [
    {
     "data": {
      "text/plain": [
       "('newDF shape is: (523947, 3)',\n",
       " 'myDF shape is: (14796313, 3)',\n",
       " shape: (523_947, 3)\n",
       " ┌──────────────────────┬────────────┬───────────┐\n",
       " │ Trip_Pickup_DateTime ┆ Start_Lon  ┆ Start_Lat │\n",
       " │ ---                  ┆ ---        ┆ ---       │\n",
       " │ str                  ┆ f64        ┆ f64       │\n",
       " ╞══════════════════════╪════════════╪═══════════╡\n",
       " │ 2009-05-29 11:36:28  ┆ -73.991699 ┆ 40.738751 │\n",
       " │ 2009-05-29 22:03:20  ┆ -73.968066 ┆ 40.759642 │\n",
       " │ 2009-05-29 02:25:00  ┆ -74.007013 ┆ 40.711895 │\n",
       " │ 2009-05-29 00:49:00  ┆ -73.976188 ┆ 40.765588 │\n",
       " │ …                    ┆ …          ┆ …         │\n",
       " │ 2009-05-29 15:15:52  ┆ -73.959823 ┆ 40.762451 │\n",
       " │ 2009-05-29 06:53:22  ┆ -73.962236 ┆ 40.779161 │\n",
       " │ 2009-05-29 05:58:24  ┆ -74.001003 ┆ 40.741484 │\n",
       " │ 2009-05-29 23:51:28  ┆ -73.965153 ┆ 40.791205 │\n",
       " └──────────────────────┴────────────┴───────────┘)"
      ]
     },
     "execution_count": 6,
     "metadata": {},
     "output_type": "execute_result"
    }
   ],
   "source": [
    "#returning the data from May 29, 2009\n",
    "extractdateV2(\"2009\", \"05\", \"29\")"
   ]
  },
  {
   "cell_type": "markdown",
   "id": "8e586edd-ff26-4ce2-8f6b-2424b26f2929",
   "metadata": {},
   "source": [
    "## Question 3"
   ]
  },
  {
   "cell_type": "code",
   "execution_count": 7,
   "id": "bbe0f40d-9655-4653-9ca8-886bdb61cb91",
   "metadata": {},
   "outputs": [],
   "source": [
    "#recreating project 10 question 4\n",
    "\n",
    "#defining function to get data from a specific year\n",
    "def getDonations (year: int) -> int:\n",
    "    #function takes in a year as an integer and returns an integer as well\n",
    "\n",
    "    #reading in the data from the elections data set\n",
    "    myDF = pl.read_csv(\"/anvil/projects/tdm/data/election/itcont\"+ str(year) + \".txt\", has_header=False, separator='|', columns=[9,14], ignore_errors=True)\n",
    "    \n",
    "    #renaming the columns\n",
    "    myDF = myDF.rename({\"column_10\": \"STATE\", \"column_15\": \"TRANSACTION_AMT\"})\n",
    "\n",
    "    #grouping the values by state and finding the total amount of transactions for each state\n",
    "    myvalue = myDF.group_by('STATE').agg(pl.sum('TRANSACTION_AMT')).sort('TRANSACTION_AMT').tail(10)\n",
    "\n",
    "    #returning the list of transaction amounts by state\n",
    "    return myvalue"
   ]
  },
  {
   "cell_type": "code",
   "execution_count": 8,
   "id": "e7424fcb-b09d-429f-8388-43e0e8933674",
   "metadata": {},
   "outputs": [
    {
     "data": {
      "text/html": [
       "<div><style>\n",
       ".dataframe > thead > tr > th,\n",
       ".dataframe > tbody > tr > td {\n",
       "  text-align: right;\n",
       "  white-space: pre-wrap;\n",
       "}\n",
       "</style>\n",
       "<small>shape: (10, 2)</small><table border=\"1\" class=\"dataframe\"><thead><tr><th>STATE</th><th>TRANSACTION_AMT</th></tr><tr><td>str</td><td>i64</td></tr></thead><tbody><tr><td>&quot;CT&quot;</td><td>5328197</td></tr><tr><td>&quot;DC&quot;</td><td>5689543</td></tr><tr><td>&quot;PA&quot;</td><td>5705339</td></tr><tr><td>&quot;OH&quot;</td><td>7237330</td></tr><tr><td>&quot;IL&quot;</td><td>9105545</td></tr><tr><td>&quot;FL&quot;</td><td>10514203</td></tr><tr><td>null</td><td>17916669</td></tr><tr><td>&quot;NY&quot;</td><td>18673301</td></tr><tr><td>&quot;CA&quot;</td><td>24085171</td></tr><tr><td>&quot;TX&quot;</td><td>24472610</td></tr></tbody></table></div>"
      ],
      "text/plain": [
       "shape: (10, 2)\n",
       "┌───────┬─────────────────┐\n",
       "│ STATE ┆ TRANSACTION_AMT │\n",
       "│ ---   ┆ ---             │\n",
       "│ str   ┆ i64             │\n",
       "╞═══════╪═════════════════╡\n",
       "│ CT    ┆ 5328197         │\n",
       "│ DC    ┆ 5689543         │\n",
       "│ PA    ┆ 5705339         │\n",
       "│ OH    ┆ 7237330         │\n",
       "│ …     ┆ …               │\n",
       "│ null  ┆ 17916669        │\n",
       "│ NY    ┆ 18673301        │\n",
       "│ CA    ┆ 24085171        │\n",
       "│ TX    ┆ 24472610        │\n",
       "└───────┴─────────────────┘"
      ]
     },
     "execution_count": 8,
     "metadata": {},
     "output_type": "execute_result"
    }
   ],
   "source": [
    "#checking to see if the function works\n",
    "getDonations(1980)"
   ]
  },
  {
   "cell_type": "code",
   "execution_count": 9,
   "id": "7c66d941-bbd6-4276-b924-1c7e943cbd9f",
   "metadata": {},
   "outputs": [],
   "source": [
    "#getting a list of the transactions from 1980 to 2019\n",
    "dfs = [ getDonations(year) for year in range(1980, 2019, 2) ]"
   ]
  },
  {
   "cell_type": "code",
   "execution_count": 10,
   "id": "fc8f05d4-3f9e-4643-90d2-c3a61a5212f0",
   "metadata": {},
   "outputs": [],
   "source": [
    "#combining all the dataframes from each year\n",
    "total = pl.concat(dfs)"
   ]
  },
  {
   "cell_type": "code",
   "execution_count": 11,
   "id": "c0b5e6e2-7038-4723-90f1-608f3d4c9d58",
   "metadata": {},
   "outputs": [],
   "source": [
    "#grouping the dataframes by state and calculating the total transaction amount and sorting to find the top 10\n",
    "totalsByState = (\n",
    "    total.group_by('STATE').agg(pl.sum('TRANSACTION_AMT')).sort('TRANSACTION_AMT').tail(10)\n",
    ")"
   ]
  },
  {
   "cell_type": "code",
   "execution_count": 12,
   "id": "6ba9b381-054c-4225-80c5-482c2a44a386",
   "metadata": {},
   "outputs": [
    {
     "name": "stdout",
     "output_type": "stream",
     "text": [
      "shape: (10, 2)\n",
      "┌───────┬─────────────────┐\n",
      "│ STATE ┆ TRANSACTION_AMT │\n",
      "│ ---   ┆ ---             │\n",
      "│ str   ┆ i64             │\n",
      "╞═══════╪═════════════════╡\n",
      "│ null  ┆ 502225389       │\n",
      "│ MA    ┆ 719473707       │\n",
      "│ PA    ┆ 1136956738      │\n",
      "│ VA    ┆ 1193204662      │\n",
      "│ …     ┆ …               │\n",
      "│ DC    ┆ 2366870148      │\n",
      "│ TX    ┆ 2619004280      │\n",
      "│ NY    ┆ 3790392098      │\n",
      "│ CA    ┆ 4822789131      │\n",
      "└───────┴─────────────────┘\n"
     ]
    }
   ],
   "source": [
    "print(totalsByState)"
   ]
  },
  {
   "cell_type": "markdown",
   "id": "da22f29c-d245-4d2b-9fc1-ca14cb6087d9",
   "metadata": {},
   "source": [
    "## Question 4"
   ]
  },
  {
   "cell_type": "code",
   "execution_count": 13,
   "id": "8cffc767-d1c8-4d64-b7dc-f0d2ee8a80d1",
   "metadata": {},
   "outputs": [
    {
     "name": "stdout",
     "output_type": "stream",
     "text": [
      "shape: (5_270_893, 1)\n",
      "┌────────┐\n",
      "│ Origin │\n",
      "│ ---    │\n",
      "│ str    │\n",
      "╞════════╡\n",
      "│ CMH    │\n",
      "│ CMH    │\n",
      "│ CMH    │\n",
      "│ CMH    │\n",
      "│ …      │\n",
      "│ SLC    │\n",
      "│ SLC    │\n",
      "│ SLC    │\n",
      "│ SLC    │\n",
      "└────────┘\n"
     ]
    }
   ],
   "source": [
    "# recreating project 10 question 1 in Polars\n",
    "\n",
    "#reading in an example of one year of data (1990)\n",
    "myDF = pl.read_csv(\"/anvil/projects/tdm/data/flights/subset/1990.csv\", columns=[16])\n",
    "print(myDF)"
   ]
  },
  {
   "cell_type": "code",
   "execution_count": 14,
   "id": "1d1e4abc-dd4f-427e-b9c3-30d69bcf7dd8",
   "metadata": {},
   "outputs": [],
   "source": [
    "#recreating function using polars to get data from any year\n",
    "def getDataFromYear(year: int) -> int:\n",
    "    #function takes in a year as an integer and returns an integer as well\n",
    "\n",
    "    #read in the data set using the year inputted by converting the int to a string\n",
    "    myDF = pl.read_csv(\"/anvil/projects/tdm/data/flights/subset/\"+str(year)+\".csv\", columns=[16])\n",
    "\n",
    "    #determine the number of values at each origin airport in the data set\n",
    "    myvalue = myDF['Origin'].value_counts()\n",
    "\n",
    "    #return the list of values\n",
    "    return myvalue"
   ]
  },
  {
   "cell_type": "code",
   "execution_count": 15,
   "id": "2b8f0ce2-509d-4b4d-a650-46d89175955f",
   "metadata": {},
   "outputs": [
    {
     "name": "stdout",
     "output_type": "stream",
     "text": [
      "shape: (206, 2)\n",
      "┌────────┬────────┐\n",
      "│ Origin ┆ counts │\n",
      "│ ---    ┆ ---    │\n",
      "│ str    ┆ u32    │\n",
      "╞════════╪════════╡\n",
      "│ KTN    ┆ 2507   │\n",
      "│ ITH    ┆ 1407   │\n",
      "│ LEX    ┆ 3519   │\n",
      "│ LAN    ┆ 2460   │\n",
      "│ …      ┆ …      │\n",
      "│ CAE    ┆ 4885   │\n",
      "│ BRO    ┆ 55     │\n",
      "│ GST    ┆ 91     │\n",
      "│ FAY    ┆ 1414   │\n",
      "└────────┴────────┘\n"
     ]
    }
   ],
   "source": [
    "#checking to see if the function works\n",
    "print(getDataFromYear(2000))"
   ]
  },
  {
   "cell_type": "code",
   "execution_count": 16,
   "id": "d7a9b43a-fdfe-4b06-a234-c0c89a779a9c",
   "metadata": {},
   "outputs": [],
   "source": [
    "#creating a list of the results from 1987 to 2008 \n",
    "dfs = [ getDataFromYear(year) for year in range(1987,2009) ]"
   ]
  },
  {
   "cell_type": "code",
   "execution_count": 17,
   "id": "b7f5e421-eedb-457f-9419-3c6784917a1a",
   "metadata": {},
   "outputs": [],
   "source": [
    "#combining all of the results into one large dataset and adding each years data together. \n",
    "total = pl.concat(dfs)"
   ]
  },
  {
   "cell_type": "code",
   "execution_count": 20,
   "id": "5e0a2625-f25a-4147-881f-409fd2ee508c",
   "metadata": {},
   "outputs": [],
   "source": [
    "#grouping the dataframes by origin and calculating the total count of flights and sorting to find the top 10\n",
    "totalsByOrigin = (\n",
    "    total.group_by('Origin').agg(pl.sum('counts')).sort('counts').tail(10)\n",
    ")"
   ]
  },
  {
   "cell_type": "code",
   "execution_count": 21,
   "id": "8b6a4eef-ceb3-4139-a03a-0564924730dc",
   "metadata": {},
   "outputs": [
    {
     "name": "stdout",
     "output_type": "stream",
     "text": [
      "shape: (10, 2)\n",
      "┌────────┬─────────┐\n",
      "│ Origin ┆ counts  │\n",
      "│ ---    ┆ ---     │\n",
      "│ str    ┆ u32     │\n",
      "╞════════╪═════════╡\n",
      "│ STL    ┆ 2667148 │\n",
      "│ MSP    ┆ 2670366 │\n",
      "│ IAH    ┆ 2761895 │\n",
      "│ DTW    ┆ 2873349 │\n",
      "│ …      ┆ …       │\n",
      "│ LAX    ┆ 3946884 │\n",
      "│ DFW    ┆ 5522740 │\n",
      "│ ATL    ┆ 5823454 │\n",
      "│ ORD    ┆ 6365070 │\n",
      "└────────┴─────────┘\n"
     ]
    }
   ],
   "source": [
    "print(totalsByOrigin)"
   ]
  },
  {
   "cell_type": "markdown",
   "id": "88c9cdac-3e92-498f-83fa-e089bfc44ac8",
   "metadata": {},
   "source": [
    "## Question 5"
   ]
  },
  {
   "cell_type": "code",
   "execution_count": 23,
   "id": "d370d7c9-06db-42b9-b75f-240481a5c491",
   "metadata": {},
   "outputs": [],
   "source": [
    "#imports\n",
    "import requests\n",
    "from lxml import html"
   ]
  },
  {
   "cell_type": "code",
   "execution_count": 25,
   "id": "a91a8a3e-ddd8-4c52-9836-0d765a122d8f",
   "metadata": {},
   "outputs": [],
   "source": [
    "#Recreating Project 3 Question 3 Using Polars\n",
    "\n",
    "#redefining function that takes in a string of a state abbreviation and returns the state parks in that state\n",
    "def mystateparkinformation(str):\n",
    "    #scraping data from the url\n",
    "    myresponse = requests.get(f\"https://www.nps.gov/state/{str}/index.htm\")\n",
    "    \n",
    "    #retrieving the html scraped data\n",
    "    mytree = html.fromstring(myresponse.content)\n",
    "    \n",
    "    #retrieving the type data from the html \n",
    "    types = [element.text for element in mytree.xpath('//div[@class=\"list_left\"]/p[@class=\"list_left__kicker\"]')]\n",
    "\n",
    "    #retrieving the name data from the html\n",
    "    names = [element.text for element in mytree.xpath('//div[@class=\"list_left\"]/h3/a')]\n",
    "\n",
    "     #retrieving the location data from the html\n",
    "    locations = [element.text for element in mytree.xpath('//div[@class=\"list_left\"]/p[@class=\"list_left__subtitle\"]')]\n",
    "\n",
    "     #retrieving the description data from the html\n",
    "    paragraphs = [element.text for element in mytree.xpath('//div[@class=\"list_left\"]/p[not(@class=\"list_left__kicker\") and not(@class=\"list_left__subtitle\")]')]\n",
    "\n",
    "     #creating a data frame using Polars from the scraped data\n",
    "    myDF = pl.DataFrame({\"Type\": types, \"Name\": names, \"Location\": locations, \"Descriptions\":paragraphs})\n",
    "\n",
    "    #returning the df\n",
    "    return myDF"
   ]
  },
  {
   "cell_type": "code",
   "execution_count": 26,
   "id": "b93055f8-a8a6-4b90-9caa-39c1392d6d44",
   "metadata": {},
   "outputs": [
    {
     "data": {
      "text/html": [
       "<div><style>\n",
       ".dataframe > thead > tr > th,\n",
       ".dataframe > tbody > tr > td {\n",
       "  text-align: right;\n",
       "  white-space: pre-wrap;\n",
       "}\n",
       "</style>\n",
       "<small>shape: (4, 4)</small><table border=\"1\" class=\"dataframe\"><thead><tr><th>Type</th><th>Name</th><th>Location</th><th>Descriptions</th></tr><tr><td>str</td><td>str</td><td>str</td><td>str</td></tr></thead><tbody><tr><td>&quot;National Histo…</td><td>&quot;George Rogers …</td><td>&quot;Vincennes, IN …</td><td>&quot;The British fl…</td></tr><tr><td>&quot;National Park&quot;</td><td>&quot;Indiana Dunes&quot;</td><td>&quot;Porter, IN &quot;</td><td>&quot;Lake Michigan&#x27;…</td></tr><tr><td>&quot;National Histo…</td><td>&quot;Lewis &amp; Clark&quot;</td><td>&quot;Sixteen States…</td><td>&quot;The Lewis and …</td></tr><tr><td>&quot;National Memor…</td><td>&quot;Lincoln Boyhoo…</td><td>&quot;Lincoln City, …</td><td>&quot;Abraham Lincol…</td></tr></tbody></table></div>"
      ],
      "text/plain": [
       "shape: (4, 4)\n",
       "┌─────────────────────┬─────────────────────┬───────────────────┬──────────────────────────────────┐\n",
       "│ Type                ┆ Name                ┆ Location          ┆ Descriptions                     │\n",
       "│ ---                 ┆ ---                 ┆ ---               ┆ ---                              │\n",
       "│ str                 ┆ str                 ┆ str               ┆ str                              │\n",
       "╞═════════════════════╪═════════════════════╪═══════════════════╪══════════════════════════════════╡\n",
       "│ National Historical ┆ George Rogers Clark ┆ Vincennes, IN     ┆ The British flag would not be    │\n",
       "│ Park                ┆                     ┆                   ┆ ra…                              │\n",
       "│ National Park       ┆ Indiana Dunes       ┆ Porter, IN        ┆ Lake Michigan's might has        │\n",
       "│                     ┆                     ┆                   ┆ influe…                          │\n",
       "│ National Historic   ┆ Lewis & Clark       ┆ Sixteen States:   ┆ The Lewis and Clark National     │\n",
       "│ Trail               ┆                     ┆ IA,ID,IL,IN,KS,K… ┆ His…                             │\n",
       "│ National Memorial   ┆ Lincoln Boyhood     ┆ Lincoln City, IN  ┆ Abraham Lincoln grew from youth  │\n",
       "│                     ┆                     ┆                   ┆ …                                │\n",
       "└─────────────────────┴─────────────────────┴───────────────────┴──────────────────────────────────┘"
      ]
     },
     "execution_count": 26,
     "metadata": {},
     "output_type": "execute_result"
    }
   ],
   "source": [
    "#finding the state parks in Indiana\n",
    "mystateparkinformation('in')"
   ]
  },
  {
   "cell_type": "code",
   "execution_count": 28,
   "id": "4c56a572-aefd-48ad-ae64-3054056f05e2",
   "metadata": {},
   "outputs": [
    {
     "data": {
      "text/html": [
       "<div><style>\n",
       ".dataframe > thead > tr > th,\n",
       ".dataframe > tbody > tr > td {\n",
       "  text-align: right;\n",
       "  white-space: pre-wrap;\n",
       "}\n",
       "</style>\n",
       "<small>shape: (34, 4)</small><table border=\"1\" class=\"dataframe\"><thead><tr><th>Type</th><th>Name</th><th>Location</th><th>Descriptions</th></tr><tr><td>str</td><td>str</td><td>str</td><td>str</td></tr></thead><tbody><tr><td>null</td><td>&quot;Alcatraz Islan…</td><td>&quot;San Francisco,…</td><td>&quot;Alcatraz revea…</td></tr><tr><td>&quot;National Histo…</td><td>&quot;Butterfield Ov…</td><td>&quot;MO, AR, OK, TX…</td><td>&quot;In 1857, busin…</td></tr><tr><td>&quot;National Monum…</td><td>&quot;Cabrillo&quot;</td><td>&quot;San Diego, CA …</td><td>&quot;In 1542, Juan …</td></tr><tr><td>&quot;National Histo…</td><td>&quot;California&quot;</td><td>&quot;Various States…</td><td>&quot;Follow in the …</td></tr><tr><td>&quot;National Monum…</td><td>&quot;Castle Mountai…</td><td>&quot;Barstow, CA &quot;</td><td>&quot;Castle Mountai…</td></tr><tr><td>&quot;National Monum…</td><td>&quot;César E. Cháve…</td><td>&quot;CA &quot;</td><td>&quot;Yes, we can!\n",
       "W…</td></tr><tr><td>&quot;National Park&quot;</td><td>&quot;Channel Island…</td><td>&quot;Ventura, CA &quot;</td><td>&quot;Channel Island…</td></tr><tr><td>&quot;National Park&quot;</td><td>&quot;Death Valley&quot;</td><td>&quot;Death Valley, …</td><td>&quot;In this below-…</td></tr><tr><td>&quot;National Monum…</td><td>&quot;Devils Postpil…</td><td>&quot;the Sierra Nev…</td><td>&quot;Established in…</td></tr><tr><td>&quot;National Histo…</td><td>&quot;Eugene O&#x27;Neill…</td><td>&quot;Danville, CA &quot;</td><td>&quot;America&#x27;s only…</td></tr><tr><td>&quot;National Histo…</td><td>&quot;Fort Point&quot;</td><td>&quot;Presidio of Sa…</td><td>&quot;From its vanta…</td></tr><tr><td>&quot;National Recre…</td><td>&quot;Golden Gate&quot;</td><td>&quot;San Francisco,…</td><td>&quot;Experience a p…</td></tr><tr><td>&hellip;</td><td>&hellip;</td><td>&hellip;</td><td>&hellip;</td></tr><tr><td>&quot;National Seash…</td><td>&quot;Point Reyes&quot;</td><td>&quot;Point Reyes, C…</td><td>&quot;From its thund…</td></tr><tr><td>&quot;National Histo…</td><td>&quot;Pony Express&quot;</td><td>&quot;Various States…</td><td>&quot;It is hard to …</td></tr><tr><td>&quot;National Memor…</td><td>&quot;Port Chicago N…</td><td>&quot;Concord Naval …</td><td>&quot;On July 17, 19…</td></tr><tr><td>null</td><td>&quot;Presidio of Sa…</td><td>&quot;San Francisco,…</td><td>&quot;For 218 years,…</td></tr><tr><td>&quot;National and S…</td><td>&quot;Redwood&quot;</td><td>&quot;Del Norte &amp; Hu…</td><td>&quot;Renowned for t…</td></tr><tr><td>&quot;National Histo…</td><td>&quot;Rosie the Rive…</td><td>&quot;Richmond, CA &quot;</td><td>&quot;Celebrate and …</td></tr><tr><td>&quot;National Histo…</td><td>&quot;San Francisco …</td><td>&quot;San Francisco,…</td><td>&quot;Established in…</td></tr><tr><td>&quot;National Recre…</td><td>&quot;Santa Monica M…</td><td>&quot;Thousand Oaks,…</td><td>&quot;The Santa Moni…</td></tr><tr><td>&quot;National Parks…</td><td>&quot;Sequoia &amp; King…</td><td>&quot;In the souther…</td><td>&quot;Huge mountains…</td></tr><tr><td>&quot;National Monum…</td><td>&quot;Tule Lake&quot;</td><td>&quot;Tulelake, CA &quot;</td><td>&quot;Tule Lake Nati…</td></tr><tr><td>&quot;National Recre…</td><td>&quot;Whiskeytown&quot;</td><td>&quot;Whiskeytown, C…</td><td>&quot;Whiskeytown La…</td></tr><tr><td>&quot;National Park&quot;</td><td>&quot;Yosemite&quot;</td><td>&quot;the Sierra Nev…</td><td>&quot;Not just a gre…</td></tr></tbody></table></div>"
      ],
      "text/plain": [
       "shape: (34, 4)\n",
       "┌────────────────────────┬────────────────────────┬────────────────────────┬───────────────────────┐\n",
       "│ Type                   ┆ Name                   ┆ Location               ┆ Descriptions          │\n",
       "│ ---                    ┆ ---                    ┆ ---                    ┆ ---                   │\n",
       "│ str                    ┆ str                    ┆ str                    ┆ str                   │\n",
       "╞════════════════════════╪════════════════════════╪════════════════════════╪═══════════════════════╡\n",
       "│ null                   ┆ Alcatraz Island        ┆ San Francisco, CA      ┆ Alcatraz reveals      │\n",
       "│                        ┆                        ┆                        ┆ stories of Amer…      │\n",
       "│ National Historic      ┆ Butterfield Overland   ┆ MO, AR, OK, TX, NM,    ┆ In 1857, businessman  │\n",
       "│ Trail                  ┆                        ┆ AZ, CA                 ┆ and transpo…          │\n",
       "│ National Monument      ┆ Cabrillo               ┆ San Diego, CA          ┆ In 1542, Juan         │\n",
       "│                        ┆                        ┆                        ┆ Rodriguez Cabrillo…   │\n",
       "│ National Historic      ┆ California             ┆ Various States         ┆ Follow in the         │\n",
       "│ Trail                  ┆                        ┆ CA,CO,ID,KS,MO,NE…     ┆ footsteps of over …   │\n",
       "│ …                      ┆ …                      ┆ …                      ┆ …                     │\n",
       "│ National Parks         ┆ Sequoia & Kings Canyon ┆ In the southern Sierra ┆ Huge mountains,       │\n",
       "│                        ┆                        ┆ Nevada in…             ┆ rugged foothills…     │\n",
       "│ National Monument      ┆ Tule Lake              ┆ Tulelake, CA           ┆ Tule Lake National    │\n",
       "│                        ┆                        ┆                        ┆ Monument incl…        │\n",
       "│ National Recreation    ┆ Whiskeytown            ┆ Whiskeytown, CA        ┆ Whiskeytown Lake’s    │\n",
       "│ Area                   ┆                        ┆                        ┆ crystal-clear…        │\n",
       "│ National Park          ┆ Yosemite               ┆ the Sierra Nevada, CA  ┆ Not just a great      │\n",
       "│                        ┆                        ┆                        ┆ valley, but a s…      │\n",
       "└────────────────────────┴────────────────────────┴────────────────────────┴───────────────────────┘"
      ]
     },
     "execution_count": 28,
     "metadata": {},
     "output_type": "execute_result"
    }
   ],
   "source": [
    "#finding the state parks in California\n",
    "mystateparkinformation('ca')"
   ]
  },
  {
   "cell_type": "code",
   "execution_count": 30,
   "id": "a920c796-08a8-4146-9b09-e6282e15bc36",
   "metadata": {},
   "outputs": [
    {
     "data": {
      "text/html": [
       "<div><style>\n",
       ".dataframe > thead > tr > th,\n",
       ".dataframe > tbody > tr > td {\n",
       "  text-align: right;\n",
       "  white-space: pre-wrap;\n",
       "}\n",
       "</style>\n",
       "<small>shape: (18, 4)</small><table border=\"1\" class=\"dataframe\"><thead><tr><th>Type</th><th>Name</th><th>Location</th><th>Descriptions</th></tr><tr><td>str</td><td>str</td><td>str</td><td>str</td></tr></thead><tbody><tr><td>&quot;National Monum…</td><td>&quot;Alibates Flint…</td><td>&quot;Fritch, TX &quot;</td><td>&quot;13,000 years a…</td></tr><tr><td>&quot;National Recre…</td><td>&quot;Amistad&quot;</td><td>&quot;Del Rio, TX &quot;</td><td>&quot;An oasis in th…</td></tr><tr><td>&quot;National Park&quot;</td><td>&quot;Big Bend&quot;</td><td>&quot;The big bend o…</td><td>&quot;There is a pla…</td></tr><tr><td>&quot;National Prese…</td><td>&quot;Big Thicket&quot;</td><td>&quot;Beaumont, TX &quot;</td><td>&quot;Life of all ty…</td></tr><tr><td>&quot;National Histo…</td><td>&quot;Blackwell Scho…</td><td>&quot;TX &quot;</td><td>&quot;Written by pre…</td></tr><tr><td>&quot;National Histo…</td><td>&quot;Butterfield Ov…</td><td>&quot;MO, AR, OK, TX…</td><td>&quot;In 1857, busin…</td></tr><tr><td>&quot;National Memor…</td><td>&quot;Chamizal&quot;</td><td>&quot;El Paso, TX &quot;</td><td>&quot;Chamizal is mo…</td></tr><tr><td>&quot;National Histo…</td><td>&quot;El Camino Real…</td><td>&quot;Various States…</td><td>&quot;Explore a dive…</td></tr><tr><td>&quot;National Histo…</td><td>&quot;El Camino Real…</td><td>&quot;NM,TX &quot;</td><td>&quot;Travel along E…</td></tr><tr><td>&quot;National Histo…</td><td>&quot;Fort Davis&quot;</td><td>&quot;Fort Davis, TX…</td><td>&quot;Fort Davis is …</td></tr><tr><td>&quot;National Park&quot;</td><td>&quot;Guadalupe Moun…</td><td>&quot;Salt Flat, TX …</td><td>&quot;Come experienc…</td></tr><tr><td>&quot;National Recre…</td><td>&quot;Lake Meredith&quot;</td><td>&quot;Fritch, TX &quot;</td><td>&quot;Tucked away in…</td></tr><tr><td>&quot;National Histo…</td><td>&quot;Lyndon B Johns…</td><td>&quot;Johnson City, …</td><td>&quot;Lyndon B. John…</td></tr><tr><td>&quot;National Seash…</td><td>&quot;Padre Island&quot;</td><td>&quot;Corpus Christi…</td><td>&quot;Protecting six…</td></tr><tr><td>&quot;National Histo…</td><td>&quot;Palo Alto Batt…</td><td>&quot;Brownsville, T…</td><td>&quot;On May 8, 1846…</td></tr><tr><td>&quot;Wild &amp; Scenic …</td><td>&quot;Rio Grande&quot;</td><td>&quot;Southwest Texa…</td><td>&quot;For 196 miles,…</td></tr><tr><td>&quot;National Histo…</td><td>&quot;San Antonio Mi…</td><td>&quot;San Antonio, T…</td><td>&quot;Welcome to San…</td></tr><tr><td>&quot;National Monum…</td><td>&quot;Waco Mammoth&quot;</td><td>&quot;Waco, TX &quot;</td><td>&quot;Standing as ta…</td></tr></tbody></table></div>"
      ],
      "text/plain": [
       "shape: (18, 4)\n",
       "┌────────────────────────┬────────────────────────┬────────────────────────┬───────────────────────┐\n",
       "│ Type                   ┆ Name                   ┆ Location               ┆ Descriptions          │\n",
       "│ ---                    ┆ ---                    ┆ ---                    ┆ ---                   │\n",
       "│ str                    ┆ str                    ┆ str                    ┆ str                   │\n",
       "╞════════════════════════╪════════════════════════╪════════════════════════╪═══════════════════════╡\n",
       "│ National Monument      ┆ Alibates Flint         ┆ Fritch, TX             ┆ 13,000 years ago,     │\n",
       "│                        ┆ Quarries               ┆                        ┆ Alibates was u…       │\n",
       "│ National Recreation    ┆ Amistad                ┆ Del Rio, TX            ┆ An oasis in the       │\n",
       "│ Area                   ┆                        ┆                        ┆ desert, Amistad …     │\n",
       "│ National Park          ┆ Big Bend               ┆ The big bend of the    ┆ There is a place in   │\n",
       "│                        ┆                        ┆ Rio Grande, …          ┆ Far West Tex…         │\n",
       "│ National Preserve      ┆ Big Thicket            ┆ Beaumont, TX           ┆ Life of all types     │\n",
       "│                        ┆                        ┆                        ┆ abounds in the…       │\n",
       "│ …                      ┆ …                      ┆ …                      ┆ …                     │\n",
       "│ National Historical    ┆ Palo Alto Battlefield  ┆ Brownsville, TX        ┆ On May 8, 1846, U.S.  │\n",
       "│ Park                   ┆                        ┆                        ┆ and Mexican…          │\n",
       "│ Wild & Scenic River    ┆ Rio Grande             ┆ Southwest Texas, TX    ┆ For 196 miles, this   │\n",
       "│                        ┆                        ┆                        ┆ free-flowing…         │\n",
       "│ National Historical    ┆ San Antonio Missions   ┆ San Antonio, TX        ┆ Welcome to San        │\n",
       "│ Park                   ┆                        ┆                        ┆ Antonio Missions,…    │\n",
       "│ National Monument      ┆ Waco Mammoth           ┆ Waco, TX               ┆ Standing as tall as   │\n",
       "│                        ┆                        ┆                        ┆ 14 feet and …         │\n",
       "└────────────────────────┴────────────────────────┴────────────────────────┴───────────────────────┘"
      ]
     },
     "execution_count": 30,
     "metadata": {},
     "output_type": "execute_result"
    }
   ],
   "source": [
    "#finding the state parks in Texas\n",
    "mystateparkinformation('tx')"
   ]
  },
  {
   "cell_type": "code",
   "execution_count": 31,
   "id": "ab78f483-a75f-43a7-a8a2-50f83b6a45b9",
   "metadata": {},
   "outputs": [
    {
     "data": {
      "text/html": [
       "<div><style>\n",
       ".dataframe > thead > tr > th,\n",
       ".dataframe > tbody > tr > td {\n",
       "  text-align: right;\n",
       "  white-space: pre-wrap;\n",
       "}\n",
       "</style>\n",
       "<small>shape: (10, 4)</small><table border=\"1\" class=\"dataframe\"><thead><tr><th>Type</th><th>Name</th><th>Location</th><th>Descriptions</th></tr><tr><td>str</td><td>str</td><td>str</td><td>str</td></tr></thead><tbody><tr><td>&quot;National Monum…</td><td>&quot;Charles Young …</td><td>&quot;Xenia, OH &quot;</td><td>&quot;Throughout his…</td></tr><tr><td>&quot;National Park&quot;</td><td>&quot;Cuyahoga Valle…</td><td>&quot;Cleveland and …</td><td>&quot;Though a short…</td></tr><tr><td>&quot;National Histo…</td><td>&quot;Dayton Aviatio…</td><td>&quot;Dayton, OH &quot;</td><td>&quot;Dayton Aviatio…</td></tr><tr><td>&quot;National Histo…</td><td>&quot;First Ladies&quot;</td><td>&quot;Canton, OH &quot;</td><td>&quot;First Ladies N…</td></tr><tr><td>&quot;National Histo…</td><td>&quot;Hopewell Cultu…</td><td>&quot;Chillicothe, O…</td><td>&quot;Nearly 2000 ye…</td></tr><tr><td>&quot;National Histo…</td><td>&quot;James A Garfie…</td><td>&quot;Mentor, OH &quot;</td><td>&quot;A front porch …</td></tr><tr><td>&quot;National Histo…</td><td>&quot;Lewis &amp; Clark&quot;</td><td>&quot;Sixteen States…</td><td>&quot;The Lewis and …</td></tr><tr><td>&quot;National Sceni…</td><td>&quot;North Country&quot;</td><td>&quot;Eight States -…</td><td>&quot;Come to the No…</td></tr><tr><td>&quot;Memorial&quot;</td><td>&quot;Perry&#x27;s Victor…</td><td>&quot;Put-in-Bay, OH…</td><td>&quot;Perry&#x27;s Victor…</td></tr><tr><td>&quot;National Histo…</td><td>&quot;William Howard…</td><td>&quot;Cincinnati, OH…</td><td>&quot;High atop one …</td></tr></tbody></table></div>"
      ],
      "text/plain": [
       "shape: (10, 4)\n",
       "┌────────────────────────┬────────────────────────┬────────────────────────┬───────────────────────┐\n",
       "│ Type                   ┆ Name                   ┆ Location               ┆ Descriptions          │\n",
       "│ ---                    ┆ ---                    ┆ ---                    ┆ ---                   │\n",
       "│ str                    ┆ str                    ┆ str                    ┆ str                   │\n",
       "╞════════════════════════╪════════════════════════╪════════════════════════╪═══════════════════════╡\n",
       "│ National Monument      ┆ Charles Young Buffalo  ┆ Xenia, OH              ┆ Throughout his life,  │\n",
       "│                        ┆ Soldiers               ┆                        ┆ Charles You…          │\n",
       "│ National Park          ┆ Cuyahoga Valley        ┆ Cleveland and Akron,   ┆ Though a short        │\n",
       "│                        ┆                        ┆ OH                     ┆ distance from the…    │\n",
       "│ National Historical    ┆ Dayton Aviation        ┆ Dayton, OH             ┆ Dayton Aviation       │\n",
       "│ Park                   ┆ Heritage               ┆                        ┆ Heritage Nationa…     │\n",
       "│ National Historic Site ┆ First Ladies           ┆ Canton, OH             ┆ First Ladies National │\n",
       "│                        ┆                        ┆                        ┆ Historic S…           │\n",
       "│ …                      ┆ …                      ┆ …                      ┆ …                     │\n",
       "│ National Historic      ┆ Lewis & Clark          ┆ Sixteen States:        ┆ The Lewis and Clark   │\n",
       "│ Trail                  ┆                        ┆ IA,ID,IL,IN,KS,K…      ┆ National His…         │\n",
       "│ National Scenic Trail  ┆ North Country          ┆ Eight States - Vermont ┆ Come to the North     │\n",
       "│                        ┆                        ┆ to North …             ┆ Country. Trek …       │\n",
       "│ Memorial               ┆ Perry's Victory &      ┆ Put-in-Bay, OH         ┆ Perry's Victory and   │\n",
       "│                        ┆ International …        ┆                        ┆ Internationa…         │\n",
       "│ National Historic Site ┆ William Howard Taft    ┆ Cincinnati, OH         ┆ High atop one of      │\n",
       "│                        ┆                        ┆                        ┆ Cincinnati's mo…      │\n",
       "└────────────────────────┴────────────────────────┴────────────────────────┴───────────────────────┘"
      ]
     },
     "execution_count": 31,
     "metadata": {},
     "output_type": "execute_result"
    }
   ],
   "source": [
    "#finding the state parks in Ohio\n",
    "mystateparkinformation('oh')"
   ]
  },
  {
   "cell_type": "code",
   "execution_count": 32,
   "id": "d9eb48c5-4f6f-452b-adfd-b7f01cea55b2",
   "metadata": {},
   "outputs": [
    {
     "data": {
      "text/html": [
       "<div><style>\n",
       ".dataframe > thead > tr > th,\n",
       ".dataframe > tbody > tr > td {\n",
       "  text-align: right;\n",
       "  white-space: pre-wrap;\n",
       "}\n",
       "</style>\n",
       "<small>shape: (26, 4)</small><table border=\"1\" class=\"dataframe\"><thead><tr><th>Type</th><th>Name</th><th>Location</th><th>Descriptions</th></tr><tr><td>str</td><td>str</td><td>str</td><td>str</td></tr></thead><tbody><tr><td>&quot;National Histo…</td><td>&quot;Allegheny Port…</td><td>&quot;Gallitzin, PA …</td><td>&quot;The first rail…</td></tr><tr><td>&quot;National Sceni…</td><td>&quot;Appalachian&quot;</td><td>&quot;Maine to Georg…</td><td>&quot;The Appalachia…</td></tr><tr><td>&quot;National Histo…</td><td>&quot;Captain John S…</td><td>&quot;Various States…</td><td>&quot;People first a…</td></tr><tr><td>&quot;National Monum…</td><td>&quot;Carlisle Feder…</td><td>&quot;PA &quot;</td><td>&quot;More than 7,80…</td></tr><tr><td>null</td><td>&quot;Chesapeake Bay…</td><td>&quot;Chesapeake Bay…</td><td>&quot;Over 41 millio…</td></tr><tr><td>&quot;National Recre…</td><td>&quot;Delaware Water…</td><td>&quot;HQ in Bushkill…</td><td>&quot;Situated withi…</td></tr><tr><td>&quot;National Histo…</td><td>&quot;Edgar Allan Po…</td><td>&quot;Philadelphia, …</td><td>&quot;Described as h…</td></tr><tr><td>&quot;National Histo…</td><td>&quot;Eisenhower&quot;</td><td>&quot;Gettysburg, PA…</td><td>&quot;Eisenhower Nat…</td></tr><tr><td>&quot;National Histo…</td><td>&quot;First State&quot;</td><td>&quot;DE,PA &quot;</td><td>&quot;Famous as the …</td></tr><tr><td>&quot;National Memor…</td><td>&quot;Flight 93&quot;</td><td>&quot;Shanksville, P…</td><td>&quot;On Tuesday mor…</td></tr><tr><td>&quot;National Battl…</td><td>&quot;Fort Necessity…</td><td>&quot;Farmington, PA…</td><td>&quot;The battle at …</td></tr><tr><td>&quot;National Histo…</td><td>&quot;Friendship Hil…</td><td>&quot;Point Marion, …</td><td>&quot;Albert Gallati…</td></tr><tr><td>&hellip;</td><td>&hellip;</td><td>&hellip;</td><td>&hellip;</td></tr><tr><td>&quot;National Histo…</td><td>&quot;Hopewell Furna…</td><td>&quot;Elverson, PA &quot;</td><td>&quot;Hopewell Furna…</td></tr><tr><td>&quot;National Histo…</td><td>&quot;Independence&quot;</td><td>&quot;Philadelphia, …</td><td>&quot;The park repre…</td></tr><tr><td>&quot;National Memor…</td><td>&quot;Johnstown Floo…</td><td>&quot;South Fork, PA…</td><td>&quot;The South Fork…</td></tr><tr><td>&quot;National Histo…</td><td>&quot;Lewis &amp; Clark&quot;</td><td>&quot;Sixteen States…</td><td>&quot;The Lewis and …</td></tr><tr><td>&quot;National Wild …</td><td>&quot;Lower Delaware…</td><td>&quot;PA,NJ &quot;</td><td>&quot;The Delaware R…</td></tr><tr><td>&quot;National Sceni…</td><td>&quot;North Country&quot;</td><td>&quot;Eight States -…</td><td>&quot;Come to the No…</td></tr><tr><td>&quot;National Sceni…</td><td>&quot;Potomac Herita…</td><td>&quot;the corridor b…</td><td>&quot;The Potomac Ri…</td></tr><tr><td>&quot;National Histo…</td><td>&quot;Steamtown&quot;</td><td>&quot;Scranton, PA &quot;</td><td>&quot;You&#x27;d feel hea…</td></tr><tr><td>&quot;National Memor…</td><td>&quot;Thaddeus Kosci…</td><td>&quot;Philadelphia, …</td><td>&quot;Visit the hous…</td></tr><tr><td>&quot;Scenic &amp; Recre…</td><td>&quot;Upper Delaware…</td><td>&quot;Pike and Wayne…</td><td>&quot;Canoe through …</td></tr><tr><td>&quot;National Histo…</td><td>&quot;Valley Forge&quot;</td><td>&quot;Valley Forge, …</td><td>&quot;Valley Forge i…</td></tr><tr><td>&quot;National Histo…</td><td>&quot;Washington-Roc…</td><td>&quot;MA,RI,CT,NY,NJ…</td><td>&quot;In 1781, Gener…</td></tr></tbody></table></div>"
      ],
      "text/plain": [
       "shape: (26, 4)\n",
       "┌────────────────────────┬────────────────────────┬────────────────────────┬───────────────────────┐\n",
       "│ Type                   ┆ Name                   ┆ Location               ┆ Descriptions          │\n",
       "│ ---                    ┆ ---                    ┆ ---                    ┆ ---                   │\n",
       "│ str                    ┆ str                    ┆ str                    ┆ str                   │\n",
       "╞════════════════════════╪════════════════════════╪════════════════════════╪═══════════════════════╡\n",
       "│ National Historic Site ┆ Allegheny Portage      ┆ Gallitzin, PA          ┆ The first railroad to │\n",
       "│                        ┆ Railroad               ┆                        ┆ cross the …           │\n",
       "│ National Scenic Trail  ┆ Appalachian            ┆ Maine to Georgia,      ┆ The Appalachian Trail │\n",
       "│                        ┆                        ┆ CT,GA,MA,MD,ME…        ┆ is a 2,190…           │\n",
       "│ National Historic      ┆ Captain John Smith     ┆ Various States         ┆ People first arrived  │\n",
       "│ Trail                  ┆ Chesapeake             ┆ VA,MD,DE,DC,PA,NY…     ┆ in the Ches…          │\n",
       "│ National Monument      ┆ Carlisle Federal       ┆ PA                     ┆ More than 7,800       │\n",
       "│                        ┆ Indian Boarding…       ┆                        ┆ children from 14…     │\n",
       "│ …                      ┆ …                      ┆ …                      ┆ …                     │\n",
       "│ National Memorial      ┆ Thaddeus Kosciuszko    ┆ Philadelphia, PA       ┆ Visit the house where │\n",
       "│                        ┆                        ┆                        ┆ wounded Po…           │\n",
       "│ Scenic & Recreational  ┆ Upper Delaware         ┆ Pike and Wayne (PA)    ┆ Canoe through rapids  │\n",
       "│ River                  ┆                        ┆ and Delaware…          ┆ and quiet p…          │\n",
       "│ National Historical    ┆ Valley Forge           ┆ Valley Forge, PA       ┆ Valley Forge is the   │\n",
       "│ Park                   ┆                        ┆                        ┆ place where …         │\n",
       "│ National Historic      ┆ Washington-Rochambeau  ┆ MA,RI,CT,NY,NJ,PA,DE,M ┆ In 1781, General      │\n",
       "│ Trail                  ┆ Revolution…            ┆ D,VA,DC                ┆ Rochambeau’s Fr…      │\n",
       "└────────────────────────┴────────────────────────┴────────────────────────┴───────────────────────┘"
      ]
     },
     "execution_count": 32,
     "metadata": {},
     "output_type": "execute_result"
    }
   ],
   "source": [
    "#finding the state parks in Pennsylvania\n",
    "mystateparkinformation('pa')"
   ]
  },
  {
   "cell_type": "markdown",
   "id": "f76442d6-d02e-4f26-b9d6-c3183e1d6929",
   "metadata": {},
   "source": [
    "## Pledge\n",
    "\n",
    "By submitting this work I hereby pledge that this is my own, personal work. I've acknowledged in the designated place at the top of this file all sources that I used to complete said work, including but not limited to: online resources, books, and electronic communications. I've noted all collaboration with fellow students and/or TA's. I did not copy or plagiarize another's work.\n",
    "\n",
    "> As a Boilermaker pursuing academic excellence, I pledge to be honest and true in all that I do. Accountable together – We are Purdue."
   ]
  }
 ],
 "metadata": {
  "kernelspec": {
   "display_name": "seminar",
   "language": "python",
   "name": "python3"
  },
  "language_info": {
   "codemirror_mode": {
    "name": "ipython",
    "version": 3
   },
   "file_extension": ".py",
   "mimetype": "text/x-python",
   "name": "python",
   "nbconvert_exporter": "python",
   "pygments_lexer": "ipython3",
   "version": "3.11.5"
  }
 },
 "nbformat": 4,
 "nbformat_minor": 5
}
