{
 "cells": [
  {
   "cell_type": "markdown",
   "id": "be02a957-7133-4d02-818e-fedeb3cecb05",
   "metadata": {},
   "source": [
    "# Project 07-- Anthony Micco"
   ]
  },
  {
   "cell_type": "markdown",
   "id": "a1228853-dd19-4ab2-89e0-0394d7d72de3",
   "metadata": {},
   "source": [
    "**TA Help:** N/A\n",
    "    \n",
    "**Collaboration:** N/A"
   ]
  },
  {
   "cell_type": "markdown",
   "id": "6180e742-8e39-4698-98ff-5b00c8cf8ea0",
   "metadata": {},
   "source": [
    "## Question 1"
   ]
  },
  {
   "cell_type": "code",
   "execution_count": 1,
   "id": "49445606-d363-41b4-b479-e319a9a84c01",
   "metadata": {},
   "outputs": [],
   "source": [
    "import pandas as pd \n",
    "from pathlib import Path"
   ]
  },
  {
   "cell_type": "code",
   "execution_count": 12,
   "id": "2d327abd-7f36-4d85-bb4f-003bfcd8ab55",
   "metadata": {},
   "outputs": [],
   "source": [
    "df1880 = pd.read_csv(\"/anvil/projects/tdm/data/noaa/1880.csv\", \n",
    "                 header=None,\n",
    "                 names=[\"id\",\"date\",\"element_code\",\"value\",\"mflag\",\"qflag\",\"sflag\",\"obstime\"])"
   ]
  },
  {
   "cell_type": "code",
   "execution_count": 13,
   "id": "641d2e92-14f0-4610-91ee-243330e15689",
   "metadata": {},
   "outputs": [
    {
     "data": {
      "text/plain": [
       "Index(['id', 'date', 'element_code', 'value', 'mflag', 'qflag', 'sflag',\n",
       "       'obstime'],\n",
       "      dtype='object')"
      ]
     },
     "execution_count": 13,
     "metadata": {},
     "output_type": "execute_result"
    }
   ],
   "source": [
    "df1880.columns"
   ]
  },
  {
   "cell_type": "code",
   "execution_count": 14,
   "id": "0f187d69-557f-4a62-9d34-f205b2709ca6",
   "metadata": {},
   "outputs": [
    {
     "data": {
      "text/html": [
       "<div>\n",
       "<style scoped>\n",
       "    .dataframe tbody tr th:only-of-type {\n",
       "        vertical-align: middle;\n",
       "    }\n",
       "\n",
       "    .dataframe tbody tr th {\n",
       "        vertical-align: top;\n",
       "    }\n",
       "\n",
       "    .dataframe thead th {\n",
       "        text-align: right;\n",
       "    }\n",
       "</style>\n",
       "<table border=\"1\" class=\"dataframe\">\n",
       "  <thead>\n",
       "    <tr style=\"text-align: right;\">\n",
       "      <th></th>\n",
       "      <th>id</th>\n",
       "      <th>date</th>\n",
       "      <th>element_code</th>\n",
       "      <th>value</th>\n",
       "      <th>mflag</th>\n",
       "      <th>qflag</th>\n",
       "      <th>sflag</th>\n",
       "      <th>obstime</th>\n",
       "    </tr>\n",
       "  </thead>\n",
       "  <tbody>\n",
       "    <tr>\n",
       "      <th>0</th>\n",
       "      <td>AGE00147705</td>\n",
       "      <td>18800101</td>\n",
       "      <td>PRCP</td>\n",
       "      <td>0</td>\n",
       "      <td>NaN</td>\n",
       "      <td>NaN</td>\n",
       "      <td>E</td>\n",
       "      <td>NaN</td>\n",
       "    </tr>\n",
       "    <tr>\n",
       "      <th>1</th>\n",
       "      <td>AGE00147708</td>\n",
       "      <td>18800101</td>\n",
       "      <td>PRCP</td>\n",
       "      <td>36</td>\n",
       "      <td>NaN</td>\n",
       "      <td>NaN</td>\n",
       "      <td>E</td>\n",
       "      <td>NaN</td>\n",
       "    </tr>\n",
       "    <tr>\n",
       "      <th>2</th>\n",
       "      <td>AGE00147709</td>\n",
       "      <td>18800101</td>\n",
       "      <td>PRCP</td>\n",
       "      <td>36</td>\n",
       "      <td>NaN</td>\n",
       "      <td>NaN</td>\n",
       "      <td>E</td>\n",
       "      <td>NaN</td>\n",
       "    </tr>\n",
       "    <tr>\n",
       "      <th>3</th>\n",
       "      <td>AGE00147712</td>\n",
       "      <td>18800101</td>\n",
       "      <td>PRCP</td>\n",
       "      <td>0</td>\n",
       "      <td>NaN</td>\n",
       "      <td>NaN</td>\n",
       "      <td>E</td>\n",
       "      <td>NaN</td>\n",
       "    </tr>\n",
       "    <tr>\n",
       "      <th>4</th>\n",
       "      <td>AGE00147713</td>\n",
       "      <td>18800101</td>\n",
       "      <td>TMAX</td>\n",
       "      <td>52</td>\n",
       "      <td>NaN</td>\n",
       "      <td>NaN</td>\n",
       "      <td>E</td>\n",
       "      <td>NaN</td>\n",
       "    </tr>\n",
       "    <tr>\n",
       "      <th>...</th>\n",
       "      <td>...</td>\n",
       "      <td>...</td>\n",
       "      <td>...</td>\n",
       "      <td>...</td>\n",
       "      <td>...</td>\n",
       "      <td>...</td>\n",
       "      <td>...</td>\n",
       "      <td>...</td>\n",
       "    </tr>\n",
       "    <tr>\n",
       "      <th>370774</th>\n",
       "      <td>USW00093852</td>\n",
       "      <td>18801231</td>\n",
       "      <td>TMAX</td>\n",
       "      <td>39</td>\n",
       "      <td>NaN</td>\n",
       "      <td>NaN</td>\n",
       "      <td>X</td>\n",
       "      <td>NaN</td>\n",
       "    </tr>\n",
       "    <tr>\n",
       "      <th>370775</th>\n",
       "      <td>USW00093852</td>\n",
       "      <td>18801231</td>\n",
       "      <td>TMIN</td>\n",
       "      <td>-17</td>\n",
       "      <td>NaN</td>\n",
       "      <td>NaN</td>\n",
       "      <td>X</td>\n",
       "      <td>NaN</td>\n",
       "    </tr>\n",
       "    <tr>\n",
       "      <th>370776</th>\n",
       "      <td>USW00094728</td>\n",
       "      <td>18801231</td>\n",
       "      <td>TMAX</td>\n",
       "      <td>-122</td>\n",
       "      <td>NaN</td>\n",
       "      <td>NaN</td>\n",
       "      <td>0</td>\n",
       "      <td>NaN</td>\n",
       "    </tr>\n",
       "    <tr>\n",
       "      <th>370777</th>\n",
       "      <td>USW00094728</td>\n",
       "      <td>18801231</td>\n",
       "      <td>TMIN</td>\n",
       "      <td>-194</td>\n",
       "      <td>NaN</td>\n",
       "      <td>NaN</td>\n",
       "      <td>0</td>\n",
       "      <td>NaN</td>\n",
       "    </tr>\n",
       "    <tr>\n",
       "      <th>370778</th>\n",
       "      <td>USW00094728</td>\n",
       "      <td>18801231</td>\n",
       "      <td>PRCP</td>\n",
       "      <td>0</td>\n",
       "      <td>NaN</td>\n",
       "      <td>NaN</td>\n",
       "      <td>0</td>\n",
       "      <td>NaN</td>\n",
       "    </tr>\n",
       "  </tbody>\n",
       "</table>\n",
       "<p>370779 rows × 8 columns</p>\n",
       "</div>"
      ],
      "text/plain": [
       "                 id      date element_code  value mflag qflag sflag  obstime\n",
       "0       AGE00147705  18800101         PRCP      0   NaN   NaN     E      NaN\n",
       "1       AGE00147708  18800101         PRCP     36   NaN   NaN     E      NaN\n",
       "2       AGE00147709  18800101         PRCP     36   NaN   NaN     E      NaN\n",
       "3       AGE00147712  18800101         PRCP      0   NaN   NaN     E      NaN\n",
       "4       AGE00147713  18800101         TMAX     52   NaN   NaN     E      NaN\n",
       "...             ...       ...          ...    ...   ...   ...   ...      ...\n",
       "370774  USW00093852  18801231         TMAX     39   NaN   NaN     X      NaN\n",
       "370775  USW00093852  18801231         TMIN    -17   NaN   NaN     X      NaN\n",
       "370776  USW00094728  18801231         TMAX   -122   NaN   NaN     0      NaN\n",
       "370777  USW00094728  18801231         TMIN   -194   NaN   NaN     0      NaN\n",
       "370778  USW00094728  18801231         PRCP      0   NaN   NaN     0      NaN\n",
       "\n",
       "[370779 rows x 8 columns]"
      ]
     },
     "execution_count": 14,
     "metadata": {},
     "output_type": "execute_result"
    }
   ],
   "source": [
    "df1880"
   ]
  },
  {
   "cell_type": "code",
   "execution_count": 16,
   "id": "79b8334c-07cc-4109-ad1e-9d95b45cae54",
   "metadata": {},
   "outputs": [
    {
     "data": {
      "text/plain": [
       "48428"
      ]
     },
     "execution_count": 16,
     "metadata": {},
     "output_type": "execute_result"
    }
   ],
   "source": [
    "len(df1880[df1880['id'].str.startswith('US')])"
   ]
  },
  {
   "cell_type": "code",
   "execution_count": 17,
   "id": "ba1d9c5b-3269-4c8e-8380-ba6e26ff3427",
   "metadata": {},
   "outputs": [],
   "source": [
    "df1881 = pd.read_csv(\"/anvil/projects/tdm/data/noaa/1881.csv\", \n",
    "                 header=None,\n",
    "                 names=[\"id\",\"date\",\"element_code\",\"value\",\"mflag\",\"qflag\",\"sflag\",\"obstime\"])"
   ]
  },
  {
   "cell_type": "code",
   "execution_count": 19,
   "id": "d5343ec5-53e0-4349-8ddd-82cfec25bd2a",
   "metadata": {},
   "outputs": [
    {
     "data": {
      "text/plain": [
       "48196"
      ]
     },
     "execution_count": 19,
     "metadata": {},
     "output_type": "execute_result"
    }
   ],
   "source": [
    "len(df1881[df1881['id'].str.startswith('US')])"
   ]
  },
  {
   "cell_type": "code",
   "execution_count": 22,
   "id": "8e3bdcc0-22f1-465c-9475-8498eddd89cb",
   "metadata": {},
   "outputs": [],
   "source": [
    "df1882 = pd.read_csv(\"/anvil/projects/tdm/data/noaa/1882.csv\", \n",
    "                 header=None,\n",
    "                 names=[\"id\",\"date\",\"element_code\",\"value\",\"mflag\",\"qflag\",\"sflag\",\"obstime\"])"
   ]
  },
  {
   "cell_type": "code",
   "execution_count": 24,
   "id": "a115787b-7da5-486d-9c1e-12afd62fb648",
   "metadata": {},
   "outputs": [
    {
     "data": {
      "text/plain": [
       "50664"
      ]
     },
     "execution_count": 24,
     "metadata": {},
     "output_type": "execute_result"
    }
   ],
   "source": [
    "len(df1882[df1882['id'].str.startswith('US')])"
   ]
  },
  {
   "cell_type": "code",
   "execution_count": 25,
   "id": "1d8e1548-900d-4ad6-bfcc-8073f764444c",
   "metadata": {},
   "outputs": [],
   "source": [
    "df1883 = pd.read_csv(\"/anvil/projects/tdm/data/noaa/1883.csv\", \n",
    "                 header=None,\n",
    "                 names=[\"id\",\"date\",\"element_code\",\"value\",\"mflag\",\"qflag\",\"sflag\",\"obstime\"])"
   ]
  },
  {
   "cell_type": "code",
   "execution_count": 27,
   "id": "7fd016ab-e1f2-4168-8034-873ec7196693",
   "metadata": {},
   "outputs": [
    {
     "data": {
      "text/plain": [
       "52363"
      ]
     },
     "execution_count": 27,
     "metadata": {},
     "output_type": "execute_result"
    }
   ],
   "source": [
    "len(df1883[df1883['id'].str.startswith('US')])"
   ]
  },
  {
   "cell_type": "code",
   "execution_count": 29,
   "id": "69aa1213-d559-4361-a0cf-9b07f245d0d4",
   "metadata": {},
   "outputs": [],
   "source": [
    "usDict = {'1880':48428, '1881':48196,'1882':50664,'1883':52363}"
   ]
  },
  {
   "cell_type": "code",
   "execution_count": 32,
   "id": "7f3b8fa5-739d-43e3-8886-97e28a77ee92",
   "metadata": {},
   "outputs": [],
   "source": [
    "yearsList = [1880, 1881,1882,1883]\n",
    "\n",
    "def find_us_id(myyears):\n",
    "    year_dict = {}\n",
    "    column_title_list=[\"id\",\"date\",\"element_code\",\"value\",\"mflag\",\"qflag\",\"sflag\",\"obstime\"]\n",
    "    for year in myyears:\n",
    "        file = Path(f'/anvil/projects/tdm/data/noaa/{year}.csv')\n",
    "        myDF = pd.read_csv(file, header=None, names=column_title_list)\n",
    "        x = len(myDF[myDF['id'].str.startswith('US')])\n",
    "        year_dict[year]=x\n",
    "\n",
    "    return year_dict"
   ]
  },
  {
   "cell_type": "code",
   "execution_count": 33,
   "id": "e8bf2bca-1b07-4bc3-9ce8-de7ce3a4411e",
   "metadata": {},
   "outputs": [
    {
     "data": {
      "text/plain": [
       "{1880: 48428, 1881: 48196, 1882: 50664, 1883: 52363}"
      ]
     },
     "execution_count": 33,
     "metadata": {},
     "output_type": "execute_result"
    }
   ],
   "source": [
    "find_us_id(yearsList)"
   ]
  },
  {
   "cell_type": "markdown",
   "id": "fc601975-35ed-4680-a4e1-0273ee3cc047",
   "metadata": {},
   "source": [
    "## Question 2"
   ]
  },
  {
   "cell_type": "code",
   "execution_count": 36,
   "id": "a16336a1-1ef0-41e8-bc7c-49387db27497",
   "metadata": {},
   "outputs": [],
   "source": [
    "mydescendingdict = dict([key, usDict[key]] for key in sorted(usDict, key=usDict.get, reverse=True))"
   ]
  },
  {
   "cell_type": "code",
   "execution_count": 38,
   "id": "3654a092-aec3-450f-953b-e8d79d0a20c2",
   "metadata": {},
   "outputs": [
    {
     "data": {
      "text/plain": [
       "{'1883': 52363, '1882': 50664, '1880': 48428, '1881': 48196}"
      ]
     },
     "execution_count": 38,
     "metadata": {},
     "output_type": "execute_result"
    }
   ],
   "source": [
    "mydescendingdict"
   ]
  },
  {
   "cell_type": "code",
   "execution_count": 44,
   "id": "cde4cc64-d3c0-49ca-a3ac-33ce397d399a",
   "metadata": {},
   "outputs": [],
   "source": [
    "def find_us_id_desc(myyears):\n",
    "    year_dict = {}\n",
    "    column_title_list=[\"id\",\"date\",\"element_code\",\"value\",\"mflag\",\"qflag\",\"sflag\",\"obstime\"]\n",
    "    for year in myyears:\n",
    "        file = Path(f'/anvil/projects/tdm/data/noaa/{year}.csv')\n",
    "        myDF = pd.read_csv(file, header=None, names=column_title_list)\n",
    "        x = len(myDF[myDF['id'].str.startswith('US')])\n",
    "        year_dict[year]=x\n",
    "        \n",
    "    descendingusdict=dict([key, year_dict[key]] for key in sorted(year_dict, key=year_dict.get, reverse=True))\n",
    "        \n",
    "    return descendingusdict"
   ]
  },
  {
   "cell_type": "code",
   "execution_count": 45,
   "id": "b05cbb57-6d01-4ee4-985a-611d436d27be",
   "metadata": {},
   "outputs": [
    {
     "data": {
      "text/plain": [
       "{1883: 52363, 1882: 50664, 1880: 48428, 1881: 48196}"
      ]
     },
     "execution_count": 45,
     "metadata": {},
     "output_type": "execute_result"
    }
   ],
   "source": [
    "find_us_id_desc(yearsList)"
   ]
  },
  {
   "cell_type": "markdown",
   "id": "8e586edd-ff26-4ce2-8f6b-2424b26f2929",
   "metadata": {},
   "source": [
    "## Question 3"
   ]
  },
  {
   "cell_type": "code",
   "execution_count": 49,
   "id": "bbe0f40d-9655-4653-9ca8-886bdb61cb91",
   "metadata": {},
   "outputs": [
    {
     "data": {
      "text/plain": [
       "203"
      ]
     },
     "execution_count": 49,
     "metadata": {},
     "output_type": "execute_result"
    }
   ],
   "source": [
    "#1880\n",
    "df = pd.read_csv(\"/anvil/projects/tdm/data/noaa/1880.csv\", \n",
    "                 header=None,\n",
    "                 names=[\"id\",\"date\",\"element_code\",\"value\",\"mflag\",\"qflag\",\"sflag\",\"obstime\"])\n",
    "len(df[(df['id'].str.startswith('US'))&(df['element_code']==\"SNOW\")&(df['value']>0)])"
   ]
  },
  {
   "cell_type": "code",
   "execution_count": 50,
   "id": "b4d13d17-b2ad-412e-8fa2-f56b38db8cd0",
   "metadata": {},
   "outputs": [
    {
     "data": {
      "text/plain": [
       "266"
      ]
     },
     "execution_count": 50,
     "metadata": {},
     "output_type": "execute_result"
    }
   ],
   "source": [
    "#1881\n",
    "df = pd.read_csv(\"/anvil/projects/tdm/data/noaa/1881.csv\", \n",
    "                 header=None,\n",
    "                 names=[\"id\",\"date\",\"element_code\",\"value\",\"mflag\",\"qflag\",\"sflag\",\"obstime\"])\n",
    "len(df[(df['id'].str.startswith('US'))&(df['element_code']==\"SNOW\")&(df['value']>0)])"
   ]
  },
  {
   "cell_type": "code",
   "execution_count": 51,
   "id": "cb00739a-ae17-4022-86a4-66e6ed74e5aa",
   "metadata": {},
   "outputs": [
    {
     "data": {
      "text/plain": [
       "253"
      ]
     },
     "execution_count": 51,
     "metadata": {},
     "output_type": "execute_result"
    }
   ],
   "source": [
    "#1882\n",
    "df = pd.read_csv(\"/anvil/projects/tdm/data/noaa/1882.csv\", \n",
    "                 header=None,\n",
    "                 names=[\"id\",\"date\",\"element_code\",\"value\",\"mflag\",\"qflag\",\"sflag\",\"obstime\"])\n",
    "len(df[(df['id'].str.startswith('US'))&(df['element_code']==\"SNOW\")&(df['value']>0)])"
   ]
  },
  {
   "cell_type": "code",
   "execution_count": 53,
   "id": "c295279a-ad8b-440d-af69-4fabf30f564e",
   "metadata": {},
   "outputs": [
    {
     "data": {
      "text/plain": [
       "187"
      ]
     },
     "execution_count": 53,
     "metadata": {},
     "output_type": "execute_result"
    }
   ],
   "source": [
    "#1883\n",
    "df = pd.read_csv(\"/anvil/projects/tdm/data/noaa/1883.csv\", \n",
    "                 header=None,\n",
    "                 names=[\"id\",\"date\",\"element_code\",\"value\",\"mflag\",\"qflag\",\"sflag\",\"obstime\"])\n",
    "len(df[(df['id'].str.startswith('US'))&(df['element_code']==\"SNOW\")&(df['value']>0)])"
   ]
  },
  {
   "cell_type": "code",
   "execution_count": 55,
   "id": "35a7ca39-74ff-45c2-85e5-269819c98f08",
   "metadata": {},
   "outputs": [],
   "source": [
    "us_snow_dict = {'1880':203, '1881':266,'1882':253,'1883':187}"
   ]
  },
  {
   "cell_type": "code",
   "execution_count": 56,
   "id": "9a8d44e7-6328-4658-aa43-73a37f33e980",
   "metadata": {},
   "outputs": [],
   "source": [
    "def find_us_id_snow(myyears):\n",
    "    year_dict = {}\n",
    "    column_title_list=[\"id\",\"date\",\"element_code\",\"value\",\"mflag\",\"qflag\",\"sflag\",\"obstime\"]\n",
    "    for year in myyears:\n",
    "        file = Path(f'/anvil/projects/tdm/data/noaa/{year}.csv')\n",
    "        myDF = pd.read_csv(file, header=None, names=column_title_list)\n",
    "        x = len(myDF[(myDF['id'].str.startswith('US'))&(myDF['element_code']==\"SNOW\")&(myDF['value']>0)])\n",
    "        year_dict[year]=x\n",
    "        \n",
    "    return year_dict"
   ]
  },
  {
   "cell_type": "code",
   "execution_count": 57,
   "id": "8ea3d751-480e-4d26-b734-45099dfb6205",
   "metadata": {},
   "outputs": [
    {
     "data": {
      "text/plain": [
       "{1880: 203, 1881: 266, 1882: 253, 1883: 187}"
      ]
     },
     "execution_count": 57,
     "metadata": {},
     "output_type": "execute_result"
    }
   ],
   "source": [
    "find_us_id_snow(yearsList)"
   ]
  },
  {
   "cell_type": "markdown",
   "id": "da22f29c-d245-4d2b-9fc1-ca14cb6087d9",
   "metadata": {},
   "source": [
    "## Question 4"
   ]
  },
  {
   "cell_type": "code",
   "execution_count": 73,
   "id": "8cffc767-d1c8-4d64-b7dc-f0d2ee8a80d1",
   "metadata": {},
   "outputs": [
    {
     "data": {
      "text/plain": [
       "'USC00319462'"
      ]
     },
     "execution_count": 73,
     "metadata": {},
     "output_type": "execute_result"
    }
   ],
   "source": [
    "#1880\n",
    "df = pd.read_csv(\"/anvil/projects/tdm/data/noaa/1880.csv\", \n",
    "                 header=None,\n",
    "                 names=[\"id\",\"date\",\"element_code\",\"value\",\"mflag\",\"qflag\",\"sflag\",\"obstime\"])\n",
    "max_id = df[(df['id'].str.startswith('US'))&(df['element_code']==\"SNOW\")&(df['value']>0)].groupby(\"id\")['value'].idxmax().sort_values(ascending=False)\n",
    "max_snow_id = max_id.idxmax()\n",
    "max_snow_id"
   ]
  },
  {
   "cell_type": "code",
   "execution_count": 74,
   "id": "76ca63f3-44e9-4167-9d3a-0dc7455d4a0e",
   "metadata": {},
   "outputs": [
    {
     "data": {
      "text/plain": [
       "'USC00464045'"
      ]
     },
     "execution_count": 74,
     "metadata": {},
     "output_type": "execute_result"
    }
   ],
   "source": [
    "#1881\n",
    "df = pd.read_csv(\"/anvil/projects/tdm/data/noaa/1881.csv\", \n",
    "                 header=None,\n",
    "                 names=[\"id\",\"date\",\"element_code\",\"value\",\"mflag\",\"qflag\",\"sflag\",\"obstime\"])\n",
    "max_id = df[(df['id'].str.startswith('US'))&(df['element_code']==\"SNOW\")&(df['value']>0)].groupby(\"id\")['value'].idxmax().sort_values(ascending=False)\n",
    "max_snow_id = max_id.idxmax()\n",
    "max_snow_id"
   ]
  },
  {
   "cell_type": "code",
   "execution_count": 75,
   "id": "df3e0bb6-1759-41e8-9c3f-14e3a06fe137",
   "metadata": {},
   "outputs": [
    {
     "data": {
      "text/plain": [
       "'USP00CA0002'"
      ]
     },
     "execution_count": 75,
     "metadata": {},
     "output_type": "execute_result"
    }
   ],
   "source": [
    "#1882\n",
    "df = pd.read_csv(\"/anvil/projects/tdm/data/noaa/1882.csv\", \n",
    "                 header=None,\n",
    "                 names=[\"id\",\"date\",\"element_code\",\"value\",\"mflag\",\"qflag\",\"sflag\",\"obstime\"])\n",
    "max_id = df[(df['id'].str.startswith('US'))&(df['element_code']==\"SNOW\")&(df['value']>0)].groupby(\"id\")['value'].idxmax().sort_values(ascending=False)\n",
    "max_snow_id = max_id.idxmax()\n",
    "max_snow_id"
   ]
  },
  {
   "cell_type": "code",
   "execution_count": 77,
   "id": "edcd2dc6-7a01-48b9-a4a6-03ef00b08752",
   "metadata": {},
   "outputs": [
    {
     "data": {
      "text/plain": [
       "'USC00134049'"
      ]
     },
     "execution_count": 77,
     "metadata": {},
     "output_type": "execute_result"
    }
   ],
   "source": [
    "#1883\n",
    "df = pd.read_csv(\"/anvil/projects/tdm/data/noaa/1883.csv\", \n",
    "                 header=None,\n",
    "                 names=[\"id\",\"date\",\"element_code\",\"value\",\"mflag\",\"qflag\",\"sflag\",\"obstime\"])\n",
    "max_id = df[(df['id'].str.startswith('US'))&(df['element_code']==\"SNOW\")&(df['value']>0)].groupby(\"id\")['value'].idxmax().sort_values(ascending=False)\n",
    "max_snow_id = max_id.idxmax()\n",
    "max_snow_id"
   ]
  },
  {
   "cell_type": "code",
   "execution_count": 78,
   "id": "b9120ad6-238a-4443-9151-4dd6b31a0cb9",
   "metadata": {},
   "outputs": [],
   "source": [
    "id_dict = {'1880':'USC00319462','1881':'USC00464045','1882':'USP00CA0002','1882':'USC00134049'}"
   ]
  },
  {
   "cell_type": "code",
   "execution_count": 81,
   "id": "d13c29f7-5320-4c2f-b6b4-9c4c85f8696a",
   "metadata": {},
   "outputs": [],
   "source": [
    "def find_max_snow_id(myyears):\n",
    "    year_dict = {}\n",
    "    column_title_list=[\"id\",\"date\",\"element_code\",\"value\",\"mflag\",\"qflag\",\"sflag\",\"obstime\"]\n",
    "    for year in myyears:\n",
    "        file = Path(f'/anvil/projects/tdm/data/noaa/{year}.csv')\n",
    "        myDF = pd.read_csv(file, header=None, names=column_title_list)\n",
    "        max_id = myDF[(myDF['id'].str.startswith('US'))&(myDF['element_code']==\"SNOW\")&(myDF['value']>0)].groupby(\"id\")['value'].idxmax().sort_values(ascending=False)\n",
    "        max_snow_id = max_id.idxmax()\n",
    "        year_dict[year]=max_snow_id\n",
    "        \n",
    "    return year_dict"
   ]
  },
  {
   "cell_type": "code",
   "execution_count": 82,
   "id": "b2217415-0acf-400f-b762-cc4bcc5e3a11",
   "metadata": {},
   "outputs": [
    {
     "data": {
      "text/plain": [
       "{1880: 'USC00319462',\n",
       " 1881: 'USC00464045',\n",
       " 1882: 'USP00CA0002',\n",
       " 1883: 'USC00134049'}"
      ]
     },
     "execution_count": 82,
     "metadata": {},
     "output_type": "execute_result"
    }
   ],
   "source": [
    "find_max_snow_id(yearsList)"
   ]
  },
  {
   "cell_type": "markdown",
   "id": "88c9cdac-3e92-498f-83fa-e089bfc44ac8",
   "metadata": {},
   "source": [
    "## Question 5"
   ]
  },
  {
   "cell_type": "code",
   "execution_count": 93,
   "id": "d370d7c9-06db-42b9-b75f-240481a5c491",
   "metadata": {},
   "outputs": [
    {
     "data": {
      "text/plain": [
       "'USC00464045'"
      ]
     },
     "execution_count": 93,
     "metadata": {},
     "output_type": "execute_result"
    }
   ],
   "source": [
    "#1880\n",
    "df = pd.read_csv(\"/anvil/projects/tdm/data/noaa/1880.csv\", \n",
    "                 header=None,\n",
    "                 names=[\"id\",\"date\",\"element_code\",\"value\",\"mflag\",\"qflag\",\"sflag\",\"obstime\"])\n",
    "max_id = df[(df['id'].str.startswith('US'))&(df['element_code']==\"SNOW\")&(df['value']>0)].groupby(\"id\")['value'].sum().sort_values(ascending=False)\n",
    "total_snow_id = max_id.idxmax()\n",
    "total_snow_id"
   ]
  },
  {
   "cell_type": "code",
   "execution_count": 91,
   "id": "7eb51bc1-84fa-4afc-bc71-c3d885e1448c",
   "metadata": {},
   "outputs": [
    {
     "data": {
      "text/plain": [
       "'USW00014971'"
      ]
     },
     "execution_count": 91,
     "metadata": {},
     "output_type": "execute_result"
    }
   ],
   "source": [
    "#1881\n",
    "df = pd.read_csv(\"/anvil/projects/tdm/data/noaa/1881.csv\", \n",
    "                 header=None,\n",
    "                 names=[\"id\",\"date\",\"element_code\",\"value\",\"mflag\",\"qflag\",\"sflag\",\"obstime\"])\n",
    "max_id = df[(df['id'].str.startswith('US'))&(df['element_code']==\"SNOW\")&(df['value']>0)].groupby(\"id\")['value'].sum().sort_values(ascending=False)\n",
    "total_snow_id = max_id.idxmax()\n",
    "total_snow_id"
   ]
  },
  {
   "cell_type": "code",
   "execution_count": 94,
   "id": "a04fa66e-1b62-4afd-9236-1c5e80d6c5f6",
   "metadata": {},
   "outputs": [
    {
     "data": {
      "text/plain": [
       "'USC00176902'"
      ]
     },
     "execution_count": 94,
     "metadata": {},
     "output_type": "execute_result"
    }
   ],
   "source": [
    "#1882\n",
    "df = pd.read_csv(\"/anvil/projects/tdm/data/noaa/1882.csv\", \n",
    "                 header=None,\n",
    "                 names=[\"id\",\"date\",\"element_code\",\"value\",\"mflag\",\"qflag\",\"sflag\",\"obstime\"])\n",
    "max_id = df[(df['id'].str.startswith('US'))&(df['element_code']==\"SNOW\")&(df['value']>0)].groupby(\"id\")['value'].sum().sort_values(ascending=False)\n",
    "total_snow_id = max_id.idxmax()\n",
    "total_snow_id"
   ]
  },
  {
   "cell_type": "code",
   "execution_count": 95,
   "id": "0cb13ca7-739a-40af-b2e3-bd9a5797c414",
   "metadata": {},
   "outputs": [
    {
     "data": {
      "text/plain": [
       "'USC00464045'"
      ]
     },
     "execution_count": 95,
     "metadata": {},
     "output_type": "execute_result"
    }
   ],
   "source": [
    "#1883\n",
    "df = pd.read_csv(\"/anvil/projects/tdm/data/noaa/1883.csv\", \n",
    "                 header=None,\n",
    "                 names=[\"id\",\"date\",\"element_code\",\"value\",\"mflag\",\"qflag\",\"sflag\",\"obstime\"])\n",
    "max_id = df[(df['id'].str.startswith('US'))&(df['element_code']==\"SNOW\")&(df['value']>0)].groupby(\"id\")['value'].sum().sort_values(ascending=False)\n",
    "total_snow_id = max_id.idxmax()\n",
    "total_snow_id"
   ]
  },
  {
   "cell_type": "code",
   "execution_count": 96,
   "id": "b3e29009-8ce4-4f2b-a61c-9cd4d8fd4b31",
   "metadata": {},
   "outputs": [],
   "source": [
    "total_snow_dict = {'1880':'USC00464045', '1881':'USW00014971', '1882':'USC00176902', '1883':'USC00464045'}"
   ]
  },
  {
   "cell_type": "code",
   "execution_count": 99,
   "id": "f3ffb71e-9be8-4298-b719-8ccd4171c7b1",
   "metadata": {},
   "outputs": [],
   "source": [
    "def find_total_snow_id(myyears):\n",
    "    year_dict = {}\n",
    "    column_title_list=[\"id\",\"date\",\"element_code\",\"value\",\"mflag\",\"qflag\",\"sflag\",\"obstime\"]\n",
    "    for year in myyears:\n",
    "        file = Path(f'/anvil/projects/tdm/data/noaa/{year}.csv')\n",
    "        myDF = pd.read_csv(file, header=None, names=column_title_list)\n",
    "        max_id = myDF[(myDF['id'].str.startswith('US'))&(myDF['element_code']==\"SNOW\")&(myDF['value']>0)].groupby(\"id\")['value'].sum().sort_values(ascending=False)\n",
    "        total_snow_id = max_id.idxmax()\n",
    "        year_dict[year]=total_snow_id\n",
    "        \n",
    "    return year_dict"
   ]
  },
  {
   "cell_type": "code",
   "execution_count": 100,
   "id": "712b154c-b68d-4f7a-b5f5-4673e282362a",
   "metadata": {},
   "outputs": [
    {
     "data": {
      "text/plain": [
       "{1880: 'USC00464045',\n",
       " 1881: 'USW00014971',\n",
       " 1882: 'USC00176902',\n",
       " 1883: 'USC00464045'}"
      ]
     },
     "execution_count": 100,
     "metadata": {},
     "output_type": "execute_result"
    }
   ],
   "source": [
    "find_total_snow_id(yearsList)"
   ]
  },
  {
   "cell_type": "markdown",
   "id": "f76442d6-d02e-4f26-b9d6-c3183e1d6929",
   "metadata": {},
   "source": [
    "## Pledge\n",
    "\n",
    "By submitting this work I hereby pledge that this is my own, personal work. I've acknowledged in the designated place at the top of this file all sources that I used to complete said work, including but not limited to: online resources, books, and electronic communications. I've noted all collaboration with fellow students and/or TA's. I did not copy or plagiarize another's work.\n",
    "\n",
    "> As a Boilermaker pursuing academic excellence, I pledge to be honest and true in all that I do. Accountable together – We are Purdue."
   ]
  }
 ],
 "metadata": {
  "kernelspec": {
   "display_name": "seminar",
   "language": "python",
   "name": "seminar"
  },
  "language_info": {
   "codemirror_mode": {
    "name": "ipython",
    "version": 3
   },
   "file_extension": ".py",
   "mimetype": "text/x-python",
   "name": "python",
   "nbconvert_exporter": "python",
   "pygments_lexer": "ipython3",
   "version": "3.11.5"
  }
 },
 "nbformat": 4,
 "nbformat_minor": 5
}
