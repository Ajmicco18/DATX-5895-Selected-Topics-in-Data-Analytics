{
 "cells": [
  {
   "cell_type": "markdown",
   "id": "be02a957-7133-4d02-818e-fedeb3cecb05",
   "metadata": {},
   "source": [
    "# Project 01-- Anthony Micco"
   ]
  },
  {
   "cell_type": "markdown",
   "id": "a1228853-dd19-4ab2-89e0-0394d7d72de3",
   "metadata": {},
   "source": [
    "**TA Help:** N/A\n",
    "    \n",
    "**Collaboration:** N/A"
   ]
  },
  {
   "cell_type": "markdown",
   "id": "6180e742-8e39-4698-98ff-5b00c8cf8ea0",
   "metadata": {},
   "source": [
    "## Question 1"
   ]
  },
  {
   "cell_type": "markdown",
   "id": "b456e57c-4a12-464b-999a-ef2df5af80c1",
   "metadata": {},
   "source": [
    "Finished "
   ]
  },
  {
   "cell_type": "markdown",
   "id": "fc601975-35ed-4680-a4e1-0273ee3cc047",
   "metadata": {},
   "source": [
    "## Question 2"
   ]
  },
  {
   "cell_type": "code",
   "execution_count": 2,
   "id": "a16336a1-1ef0-41e8-bc7c-49387db27497",
   "metadata": {},
   "outputs": [
    {
     "name": "stdout",
     "output_type": "stream",
     "text": [
      "Hello World\n"
     ]
    }
   ],
   "source": [
    "print(\"Hello World\")"
   ]
  },
  {
   "cell_type": "markdown",
   "id": "8e586edd-ff26-4ce2-8f6b-2424b26f2929",
   "metadata": {},
   "source": [
    "## Question 3"
   ]
  },
  {
   "cell_type": "code",
   "execution_count": 9,
   "id": "bbe0f40d-9655-4653-9ca8-886bdb61cb91",
   "metadata": {},
   "outputs": [
    {
     "name": "stdout",
     "output_type": "stream",
     "text": [
      "Enter an integer:  100\n"
     ]
    }
   ],
   "source": [
    "num1 = int(input(\"Enter an integer: \"))"
   ]
  },
  {
   "cell_type": "code",
   "execution_count": 10,
   "id": "20b2f288-a924-4e6f-953e-68017f8816c7",
   "metadata": {},
   "outputs": [
    {
     "name": "stdout",
     "output_type": "stream",
     "text": [
      "Enter another integer:  25\n"
     ]
    }
   ],
   "source": [
    "num2 = int(input(\"Enter another integer: \"))"
   ]
  },
  {
   "cell_type": "code",
   "execution_count": 11,
   "id": "deb380bb-87fa-4601-9395-0d8a2aa53ea7",
   "metadata": {},
   "outputs": [
    {
     "name": "stdout",
     "output_type": "stream",
     "text": [
      "The sum of the two numbers is 125\n"
     ]
    }
   ],
   "source": [
    "sum = num1 + num2\n",
    "print(\"The sum of the two numbers is \" + str(sum))"
   ]
  },
  {
   "cell_type": "markdown",
   "id": "da22f29c-d245-4d2b-9fc1-ca14cb6087d9",
   "metadata": {},
   "source": [
    "## Question 4"
   ]
  },
  {
   "cell_type": "code",
   "execution_count": 14,
   "id": "8cffc767-d1c8-4d64-b7dc-f0d2ee8a80d1",
   "metadata": {},
   "outputs": [
    {
     "name": "stdout",
     "output_type": "stream",
     "text": [
      "Name of fruit 1:  Banana\n",
      "Name of fruit 2:  Apple\n",
      "Name of fruit 3:  Pear\n",
      "Name of fruit 4:  Strawberry\n",
      "Name of fruit 5:  Grape\n"
     ]
    },
    {
     "name": "stdout",
     "output_type": "stream",
     "text": [
      "['Banana', 'Apple', 'Pear', 'Strawberry', 'Grape']\n"
     ]
    }
   ],
   "source": [
    "myfruits = []\n",
    "\n",
    "for x in range(1,6):\n",
    "    myfruits.append(input(f\"Name of fruit {x}: \"))\n",
    "\n",
    "print(myfruits)"
   ]
  },
  {
   "cell_type": "markdown",
   "id": "0d552245-b4d6-474a-9cc9-fa7b8e674d55",
   "metadata": {},
   "source": [
    "Markdown notes and sentences and analysis written here."
   ]
  },
  {
   "cell_type": "markdown",
   "id": "88c9cdac-3e92-498f-83fa-e089bfc44ac8",
   "metadata": {},
   "source": [
    "## Question 5"
   ]
  },
  {
   "cell_type": "code",
   "execution_count": 16,
   "id": "d370d7c9-06db-42b9-b75f-240481a5c491",
   "metadata": {},
   "outputs": [],
   "source": [
    "import pandas as pd\n",
    "forest = pd.read_csv(\"/anvil/projects/tdm/data/forest/ENTIRE_COUNTY.csv\")"
   ]
  },
  {
   "cell_type": "code",
   "execution_count": 20,
   "id": "0cf141be-f89e-40ac-870d-a2693cd78bd1",
   "metadata": {},
   "outputs": [
    {
     "name": "stdout",
     "output_type": "stream",
     "text": [
      "35750\n"
     ]
    }
   ],
   "source": [
    "print(forest.size)"
   ]
  },
  {
   "cell_type": "code",
   "execution_count": 22,
   "id": "544451b1-d941-4858-b609-4cfa9950139f",
   "metadata": {},
   "outputs": [
    {
     "name": "stdout",
     "output_type": "stream",
     "text": [
      "<bound method DataFrame.info of       STATECD  UNITCD  COUNTYCD      COUNTYNM              CN     CREATED_BY  \\\n",
      "0          17       1         3     Alexander         1010661       NIMS_DEV   \n",
      "1          17       1        55      Franklin         2010661       NIMS_DEV   \n",
      "2          17       1        59      Gallatin         3010661       NIMS_DEV   \n",
      "3          17       1        65      Hamilton         4010661       NIMS_DEV   \n",
      "4          17       1        69        Hardin         5010661       NIMS_DEV   \n",
      "...       ...     ...       ...           ...             ...            ...   \n",
      "3245       60       1        50  Tutuila West  14424024000440  FS_NIMS_PNWRS   \n",
      "3246       64       1         2         Chuuk  14424025000440  FS_NIMS_PNWRS   \n",
      "3247       64       1         5        Kosrae  14424026000440  FS_NIMS_PNWRS   \n",
      "3248       64       1        40       Pohnpei  14424027000440  FS_NIMS_PNWRS   \n",
      "3249       64       1        60           Yap  14424028000440  FS_NIMS_PNWRS   \n",
      "\n",
      "             CREATED_DATE  CREATED_IN_INSTANCE MODIFIED_BY MODIFIED_DATE  \\\n",
      "0     2002-04-30 10:32:00                10661         NaN           NaN   \n",
      "1     2002-04-30 10:32:00                10661         NaN           NaN   \n",
      "2     2002-04-30 10:32:00                10661         NaN           NaN   \n",
      "3     2002-04-30 10:32:00                10661         NaN           NaN   \n",
      "4     2002-04-30 10:32:00                10661         NaN           NaN   \n",
      "...                   ...                  ...         ...           ...   \n",
      "3245  2013-01-11 18:08:55                  440         NaN           NaN   \n",
      "3246  2013-01-11 18:08:55                  440         NaN           NaN   \n",
      "3247  2013-01-11 18:08:55                  440         NaN           NaN   \n",
      "3248  2013-01-11 18:08:55                  440         NaN           NaN   \n",
      "3249  2013-01-11 18:08:55                  440         NaN           NaN   \n",
      "\n",
      "      MODIFIED_IN_INSTANCE  \n",
      "0                      NaN  \n",
      "1                      NaN  \n",
      "2                      NaN  \n",
      "3                      NaN  \n",
      "4                      NaN  \n",
      "...                    ...  \n",
      "3245                   NaN  \n",
      "3246                   NaN  \n",
      "3247                   NaN  \n",
      "3248                   NaN  \n",
      "3249                   NaN  \n",
      "\n",
      "[3250 rows x 11 columns]>\n"
     ]
    }
   ],
   "source": [
    "print(forest.info)"
   ]
  },
  {
   "cell_type": "code",
   "execution_count": 24,
   "id": "78d5825e-6594-4c05-b0f1-84a68636efee",
   "metadata": {},
   "outputs": [
    {
     "name": "stdout",
     "output_type": "stream",
     "text": [
      "<class 'pandas.core.frame.DataFrame'>\n",
      "RangeIndex: 3250 entries, 0 to 3249\n",
      "Data columns (total 11 columns):\n",
      " #   Column                Non-Null Count  Dtype  \n",
      "---  ------                --------------  -----  \n",
      " 0   STATECD               3250 non-null   int64  \n",
      " 1   UNITCD                3250 non-null   int64  \n",
      " 2   COUNTYCD              3250 non-null   int64  \n",
      " 3   COUNTYNM              3250 non-null   object \n",
      " 4   CN                    3250 non-null   int64  \n",
      " 5   CREATED_BY            3250 non-null   object \n",
      " 6   CREATED_DATE          3250 non-null   object \n",
      " 7   CREATED_IN_INSTANCE   3250 non-null   int64  \n",
      " 8   MODIFIED_BY           1355 non-null   object \n",
      " 9   MODIFIED_DATE         1355 non-null   object \n",
      " 10  MODIFIED_IN_INSTANCE  1355 non-null   float64\n",
      "dtypes: float64(1), int64(5), object(5)\n",
      "memory usage: 279.4+ KB\n",
      "None\n"
     ]
    }
   ],
   "source": [
    "print(forest.info())"
   ]
  },
  {
   "cell_type": "code",
   "execution_count": 26,
   "id": "10dc8a66-cc52-42a1-bbdd-7866033bc745",
   "metadata": {},
   "outputs": [
    {
     "name": "stdout",
     "output_type": "stream",
     "text": [
      "(3250, 11)\n"
     ]
    }
   ],
   "source": [
    "print(forest.shape)"
   ]
  },
  {
   "cell_type": "code",
   "execution_count": 32,
   "id": "17d49c88-7ee3-4eb0-9100-97395e378b18",
   "metadata": {},
   "outputs": [
    {
     "data": {
      "text/plain": [
       "3250"
      ]
     },
     "execution_count": 32,
     "metadata": {},
     "output_type": "execute_result"
    }
   ],
   "source": [
    "len(forest)"
   ]
  },
  {
   "cell_type": "code",
   "execution_count": 34,
   "id": "e057b28f-cc97-4abf-9ebc-e550c72b7084",
   "metadata": {},
   "outputs": [
    {
     "name": "stdout",
     "output_type": "stream",
     "text": [
      "Index(['STATECD', 'UNITCD', 'COUNTYCD', 'COUNTYNM', 'CN', 'CREATED_BY',\n",
      "       'CREATED_DATE', 'CREATED_IN_INSTANCE', 'MODIFIED_BY', 'MODIFIED_DATE',\n",
      "       'MODIFIED_IN_INSTANCE'],\n",
      "      dtype='object')\n"
     ]
    }
   ],
   "source": [
    "print(forest.columns)"
   ]
  },
  {
   "cell_type": "markdown",
   "id": "f76442d6-d02e-4f26-b9d6-c3183e1d6929",
   "metadata": {},
   "source": [
    "## Pledge\n",
    "\n",
    "By submitting this work I hereby pledge that this is my own, personal work. I've acknowledged in the designated place at the top of this file all sources that I used to complete said work, including but not limited to: online resources, books, and electronic communications. I've noted all collaboration with fellow students and/or TA's. I did not copy or plagiarize another's work.\n",
    "\n",
    "> As a Boilermaker pursuing academic excellence, I pledge to be honest and true in all that I do. Accountable together – We are Purdue."
   ]
  }
 ],
 "metadata": {
  "kernelspec": {
   "display_name": "Python 3",
   "language": "python",
   "name": "python3"
  },
  "language_info": {
   "codemirror_mode": {
    "name": "ipython",
    "version": 3
   },
   "file_extension": ".py",
   "mimetype": "text/x-python",
   "name": "python",
   "nbconvert_exporter": "python",
   "pygments_lexer": "ipython3",
   "version": "3.13.1"
  }
 },
 "nbformat": 4,
 "nbformat_minor": 5
}
