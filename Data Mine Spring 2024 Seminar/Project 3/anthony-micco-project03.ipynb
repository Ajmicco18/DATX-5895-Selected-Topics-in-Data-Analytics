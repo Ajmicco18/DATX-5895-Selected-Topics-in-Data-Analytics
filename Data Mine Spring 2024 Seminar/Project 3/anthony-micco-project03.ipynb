{
 "cells": [
  {
   "cell_type": "markdown",
   "id": "be02a957-7133-4d02-818e-fedeb3cecb05",
   "metadata": {},
   "source": [
    "# Project 03 -- Anthony Micco"
   ]
  },
  {
   "cell_type": "markdown",
   "id": "a1228853-dd19-4ab2-89e0-0394d7d72de3",
   "metadata": {},
   "source": [
    "**TA Help:** N/A\n",
    "    \n",
    "**Collaboration:** N/A"
   ]
  },
  {
   "cell_type": "markdown",
   "id": "6180e742-8e39-4698-98ff-5b00c8cf8ea0",
   "metadata": {},
   "source": [
    "## Question 1"
   ]
  },
  {
   "cell_type": "code",
   "execution_count": 1,
   "id": "49445606-d363-41b4-b479-e319a9a84c01",
   "metadata": {
    "tags": []
   },
   "outputs": [
    {
     "name": "stdout",
     "output_type": "stream",
     "text": [
      "266\n",
      "[PosixPath('/anvil/projects/tdm/data/noaa/1957.csv'), PosixPath('/anvil/projects/tdm/data/noaa/1972.csv'), PosixPath('/anvil/projects/tdm/data/noaa/1854.csv'), PosixPath('/anvil/projects/tdm/data/noaa/1902.csv'), PosixPath('/anvil/projects/tdm/data/noaa/1878.csv'), PosixPath('/anvil/projects/tdm/data/noaa/1775.csv'), PosixPath('/anvil/projects/tdm/data/noaa/1808.csv'), PosixPath('/anvil/projects/tdm/data/noaa/1966.csv'), PosixPath('/anvil/projects/tdm/data/noaa/1981.csv'), PosixPath('/anvil/projects/tdm/data/noaa/1863.csv'), PosixPath('/anvil/projects/tdm/data/noaa/1911.csv'), PosixPath('/anvil/projects/tdm/data/noaa/1887.csv'), PosixPath('/anvil/projects/tdm/data/noaa/1769.csv'), PosixPath('/anvil/projects/tdm/data/noaa/1935.csv'), PosixPath('/anvil/projects/tdm/data/noaa/1784.csv'), PosixPath('/anvil/projects/tdm/data/noaa/1817.csv'), PosixPath('/anvil/projects/tdm/data/noaa/1832.csv'), PosixPath('/anvil/projects/tdm/data/noaa/2007.csv'), PosixPath('/anvil/projects/tdm/data/noaa/1990.csv'), PosixPath('/anvil/projects/tdm/data/noaa/1999.csv'), PosixPath('/anvil/projects/tdm/data/noaa/1896.csv'), PosixPath('/anvil/projects/tdm/data/noaa/1929.csv'), PosixPath('/anvil/projects/tdm/data/noaa/1944.csv'), PosixPath('/anvil/projects/tdm/data/noaa/1793.csv'), PosixPath('/anvil/projects/tdm/data/noaa/1826.csv'), PosixPath('/anvil/projects/tdm/data/noaa/1841.csv'), PosixPath('/anvil/projects/tdm/data/noaa/2016.csv'), PosixPath('/anvil/projects/tdm/data/noaa/1953.csv'), PosixPath('/anvil/projects/tdm/data/noaa/1850.csv'), PosixPath('/anvil/projects/tdm/data/noaa/1977.csv'), PosixPath('/anvil/projects/tdm/data/noaa/1859.csv'), PosixPath('/anvil/projects/tdm/data/noaa/1874.csv'), PosixPath('/anvil/projects/tdm/data/noaa/1907.csv'), PosixPath('/anvil/projects/tdm/data/noaa/1922.csv'), PosixPath('/anvil/projects/tdm/data/noaa/1771.csv'), PosixPath('/anvil/projects/tdm/data/noaa/1804.csv'), PosixPath('/anvil/projects/tdm/data/noaa/1962.csv'), PosixPath('/anvil/projects/tdm/data/noaa/1986.csv'), PosixPath('/anvil/projects/tdm/data/noaa/1868.csv'), PosixPath('/anvil/projects/tdm/data/noaa/1883.csv'), PosixPath('/anvil/projects/tdm/data/noaa/1916.csv'), PosixPath('/anvil/projects/tdm/data/noaa/1765.csv'), PosixPath('/anvil/projects/tdm/data/noaa/1931.csv'), PosixPath('/anvil/projects/tdm/data/noaa/1780.csv'), PosixPath('/anvil/projects/tdm/data/noaa/1813.csv'), PosixPath('/anvil/projects/tdm/data/noaa/2003.csv'), PosixPath('/anvil/projects/tdm/data/noaa/1789.csv'), PosixPath('/anvil/projects/tdm/data/noaa/1837.csv'), PosixPath('/anvil/projects/tdm/data/noaa/1995.csv'), PosixPath('/anvil/projects/tdm/data/noaa/1892.csv'), PosixPath('/anvil/projects/tdm/data/noaa/1925.csv'), PosixPath('/anvil/projects/tdm/data/noaa/1940.csv'), PosixPath('/anvil/projects/tdm/data/noaa/1822.csv'), PosixPath('/anvil/projects/tdm/data/noaa/2012.csv'), PosixPath('/anvil/projects/tdm/data/noaa/1949.csv'), PosixPath('/anvil/projects/tdm/data/noaa/1798.csv'), PosixPath('/anvil/projects/tdm/data/noaa/1846.csv'), PosixPath('/anvil/projects/tdm/data/noaa/2021.csv'), PosixPath('/anvil/projects/tdm/data/noaa/1958.csv'), PosixPath('/anvil/projects/tdm/data/noaa/1973.csv'), PosixPath('/anvil/projects/tdm/data/noaa/1855.csv'), PosixPath('/anvil/projects/tdm/data/noaa/1870.csv'), PosixPath('/anvil/projects/tdm/data/noaa/1903.csv'), PosixPath('/anvil/projects/tdm/data/noaa/1800.csv'), PosixPath('/anvil/projects/tdm/data/noaa/1879.csv'), PosixPath('/anvil/projects/tdm/data/noaa/1776.csv'), PosixPath('/anvil/projects/tdm/data/noaa/1809.csv'), PosixPath('/anvil/projects/tdm/data/noaa/1967.csv'), PosixPath('/anvil/projects/tdm/data/noaa/1982.csv'), PosixPath('/anvil/projects/tdm/data/noaa/1864.csv'), PosixPath('/anvil/projects/tdm/data/noaa/1912.csv'), PosixPath('/anvil/projects/tdm/data/noaa/1888.csv'), PosixPath('/anvil/projects/tdm/data/noaa/1936.csv'), PosixPath('/anvil/projects/tdm/data/noaa/1785.csv'), PosixPath('/anvil/projects/tdm/data/noaa/1818.csv'), PosixPath('/anvil/projects/tdm/data/noaa/1833.csv'), PosixPath('/anvil/projects/tdm/data/noaa/2008.csv'), PosixPath('/anvil/projects/tdm/data/noaa/1991.csv'), PosixPath('/anvil/projects/tdm/data/noaa/1897.csv'), PosixPath('/anvil/projects/tdm/data/noaa/1945.csv'), PosixPath('/anvil/projects/tdm/data/noaa/1794.csv'), PosixPath('/anvil/projects/tdm/data/noaa/1960.csv'), PosixPath('/anvil/projects/tdm/data/noaa/1827.csv'), PosixPath('/anvil/projects/tdm/data/noaa/1842.csv'), PosixPath('/anvil/projects/tdm/data/noaa/2017.csv'), PosixPath('/anvil/projects/tdm/data/noaa/1954.csv'), PosixPath('/anvil/projects/tdm/data/noaa/1851.csv'), PosixPath('/anvil/projects/tdm/data/noaa/1978.csv'), PosixPath('/anvil/projects/tdm/data/noaa/1875.csv'), PosixPath('/anvil/projects/tdm/data/noaa/1908.csv'), PosixPath('/anvil/projects/tdm/data/noaa/1772.csv'), PosixPath('/anvil/projects/tdm/data/noaa/1805.csv'), PosixPath('/anvil/projects/tdm/data/noaa/1820.csv'), PosixPath('/anvil/projects/tdm/data/noaa/1963.csv'), PosixPath('/anvil/projects/tdm/data/noaa/1860.csv'), PosixPath('/anvil/projects/tdm/data/noaa/1987.csv'), PosixPath('/anvil/projects/tdm/data/noaa/1869.csv'), PosixPath('/anvil/projects/tdm/data/noaa/1884.csv'), PosixPath('/anvil/projects/tdm/data/noaa/1917.csv'), PosixPath('/anvil/projects/tdm/data/noaa/1766.csv'), PosixPath('/anvil/projects/tdm/data/noaa/1932.csv'), PosixPath('/anvil/projects/tdm/data/noaa/1781.csv'), PosixPath('/anvil/projects/tdm/data/noaa/1814.csv'), PosixPath('/anvil/projects/tdm/data/noaa/2004.csv'), PosixPath('/anvil/projects/tdm/data/noaa/1838.csv'), PosixPath('/anvil/projects/tdm/data/noaa/1996.csv'), PosixPath('/anvil/projects/tdm/data/noaa/1893.csv'), PosixPath('/anvil/projects/tdm/data/noaa/1926.csv'), PosixPath('/anvil/projects/tdm/data/noaa/1941.csv'), PosixPath('/anvil/projects/tdm/data/noaa/1790.csv'), PosixPath('/anvil/projects/tdm/data/noaa/1823.csv'), PosixPath('/anvil/projects/tdm/data/noaa/2013.csv'), PosixPath('/anvil/projects/tdm/data/noaa/1799.csv'), PosixPath('/anvil/projects/tdm/data/noaa/1847.csv'), PosixPath('/anvil/projects/tdm/data/noaa/1950.csv'), PosixPath('/anvil/projects/tdm/data/noaa/2022.csv'), PosixPath('/anvil/projects/tdm/data/noaa/1959.csv'), PosixPath('/anvil/projects/tdm/data/noaa/1974.csv'), PosixPath('/anvil/projects/tdm/data/noaa/1856.csv'), PosixPath('/anvil/projects/tdm/data/noaa/1871.csv'), PosixPath('/anvil/projects/tdm/data/noaa/1904.csv'), PosixPath('/anvil/projects/tdm/data/noaa/1801.csv'), PosixPath('/anvil/projects/tdm/data/noaa/1777.csv'), PosixPath('/anvil/projects/tdm/data/noaa/1968.csv'), PosixPath('/anvil/projects/tdm/data/noaa/1983.csv'), PosixPath('/anvil/projects/tdm/data/noaa/1865.csv'), PosixPath('/anvil/projects/tdm/data/noaa/1880.csv'), PosixPath('/anvil/projects/tdm/data/noaa/1913.csv'), PosixPath('/anvil/projects/tdm/data/noaa/1810.csv'), PosixPath('/anvil/projects/tdm/data/noaa/2000.csv'), PosixPath('/anvil/projects/tdm/data/noaa/1889.csv'), PosixPath('/anvil/projects/tdm/data/noaa/1937.csv'), PosixPath('/anvil/projects/tdm/data/noaa/1786.csv'), PosixPath('/anvil/projects/tdm/data/noaa/1819.csv'), PosixPath('/anvil/projects/tdm/data/noaa/1834.csv'), PosixPath('/anvil/projects/tdm/data/noaa/2009.csv'), PosixPath('/anvil/projects/tdm/data/noaa/1992.csv'), PosixPath('/anvil/projects/tdm/data/noaa/1898.csv'), PosixPath('/anvil/projects/tdm/data/noaa/1946.csv'), PosixPath('/anvil/projects/tdm/data/noaa/1795.csv'), PosixPath('/anvil/projects/tdm/data/noaa/1961.csv'), PosixPath('/anvil/projects/tdm/data/noaa/1828.csv'), PosixPath('/anvil/projects/tdm/data/noaa/1843.csv'), PosixPath('/anvil/projects/tdm/data/noaa/2018.csv'), PosixPath('/anvil/projects/tdm/data/noaa/1955.csv'), PosixPath('/anvil/projects/tdm/data/noaa/1970.csv'), PosixPath('/anvil/projects/tdm/data/noaa/1852.csv'), PosixPath('/anvil/projects/tdm/data/noaa/1900.csv'), PosixPath('/anvil/projects/tdm/data/noaa/1979.csv'), PosixPath('/anvil/projects/tdm/data/noaa/1876.csv'), PosixPath('/anvil/projects/tdm/data/noaa/1909.csv'), PosixPath('/anvil/projects/tdm/data/noaa/1773.csv'), PosixPath('/anvil/projects/tdm/data/noaa/1806.csv'), PosixPath('/anvil/projects/tdm/data/noaa/1964.csv'), PosixPath('/anvil/projects/tdm/data/noaa/1861.csv'), PosixPath('/anvil/projects/tdm/data/noaa/1988.csv'), PosixPath('/anvil/projects/tdm/data/noaa/1885.csv'), PosixPath('/anvil/projects/tdm/data/noaa/1918.csv'), PosixPath('/anvil/projects/tdm/data/noaa/1767.csv'), PosixPath('/anvil/projects/tdm/data/noaa/1933.csv'), PosixPath('/anvil/projects/tdm/data/noaa/1782.csv'), PosixPath('/anvil/projects/tdm/data/noaa/1815.csv'), PosixPath('/anvil/projects/tdm/data/noaa/1830.csv'), PosixPath('/anvil/projects/tdm/data/noaa/2005.csv'), PosixPath('/anvil/projects/tdm/data/noaa/1839.csv'), PosixPath('/anvil/projects/tdm/data/noaa/1997.csv'), PosixPath('/anvil/projects/tdm/data/noaa/1894.csv'), PosixPath('/anvil/projects/tdm/data/noaa/1927.csv'), PosixPath('/anvil/projects/tdm/data/noaa/1942.csv'), PosixPath('/anvil/projects/tdm/data/noaa/1791.csv'), PosixPath('/anvil/projects/tdm/data/noaa/1824.csv'), PosixPath('/anvil/projects/tdm/data/noaa/2014.csv'), PosixPath('/anvil/projects/tdm/data/noaa/1848.csv'), PosixPath('/anvil/projects/tdm/data/noaa/1951.csv'), PosixPath('/anvil/projects/tdm/data/noaa/2023.csv'), PosixPath('/anvil/projects/tdm/data/noaa/1975.csv'), PosixPath('/anvil/projects/tdm/data/noaa/1857.csv'), PosixPath('/anvil/projects/tdm/data/noaa/1872.csv'), PosixPath('/anvil/projects/tdm/data/noaa/1905.csv'), PosixPath('/anvil/projects/tdm/data/noaa/1920.csv'), PosixPath('/anvil/projects/tdm/data/noaa/1802.csv'), PosixPath('/anvil/projects/tdm/data/noaa/1778.csv'), PosixPath('/anvil/projects/tdm/data/noaa/1969.csv'), PosixPath('/anvil/projects/tdm/data/noaa/1984.csv'), PosixPath('/anvil/projects/tdm/data/noaa/1866.csv'), PosixPath('/anvil/projects/tdm/data/noaa/1881.csv'), PosixPath('/anvil/projects/tdm/data/noaa/1914.csv'), PosixPath('/anvil/projects/tdm/data/noaa/1763.csv'), PosixPath('/anvil/projects/tdm/data/noaa/1811.csv'), PosixPath('/anvil/projects/tdm/data/noaa/2001.csv'), PosixPath('/anvil/projects/tdm/data/noaa/1938.csv'), PosixPath('/anvil/projects/tdm/data/noaa/1787.csv'), PosixPath('/anvil/projects/tdm/data/noaa/1835.csv'), PosixPath('/anvil/projects/tdm/data/noaa/1993.csv'), PosixPath('/anvil/projects/tdm/data/noaa/1890.csv'), PosixPath('/anvil/projects/tdm/data/noaa/1923.csv'), PosixPath('/anvil/projects/tdm/data/noaa/2010.csv'), PosixPath('/anvil/projects/tdm/data/noaa/1899.csv'), PosixPath('/anvil/projects/tdm/data/noaa/1947.csv'), PosixPath('/anvil/projects/tdm/data/noaa/1796.csv'), PosixPath('/anvil/projects/tdm/data/noaa/1829.csv'), PosixPath('/anvil/projects/tdm/data/noaa/1844.csv'), PosixPath('/anvil/projects/tdm/data/noaa/2019.csv'), PosixPath('/anvil/projects/tdm/data/noaa/1956.csv'), PosixPath('/anvil/projects/tdm/data/noaa/1971.csv'), PosixPath('/anvil/projects/tdm/data/noaa/1853.csv'), PosixPath('/anvil/projects/tdm/data/noaa/1901.csv'), PosixPath('/anvil/projects/tdm/data/noaa/1750.csv'), PosixPath('/anvil/projects/tdm/data/noaa/1877.csv'), PosixPath('/anvil/projects/tdm/data/noaa/status-by_year.txt'), PosixPath('/anvil/projects/tdm/data/noaa/1774.csv'), PosixPath('/anvil/projects/tdm/data/noaa/1807.csv'), PosixPath('/anvil/projects/tdm/data/noaa/1965.csv'), PosixPath('/anvil/projects/tdm/data/noaa/1980.csv'), PosixPath('/anvil/projects/tdm/data/noaa/1862.csv'), PosixPath('/anvil/projects/tdm/data/noaa/1910.csv'), PosixPath('/anvil/projects/tdm/data/noaa/1989.csv'), PosixPath('/anvil/projects/tdm/data/noaa/1886.csv'), PosixPath('/anvil/projects/tdm/data/noaa/1919.csv'), PosixPath('/anvil/projects/tdm/data/noaa/1768.csv'), PosixPath('/anvil/projects/tdm/data/noaa/1934.csv'), PosixPath('/anvil/projects/tdm/data/noaa/1783.csv'), PosixPath('/anvil/projects/tdm/data/noaa/1816.csv'), PosixPath('/anvil/projects/tdm/data/noaa/1831.csv'), PosixPath('/anvil/projects/tdm/data/noaa/2006.csv'), PosixPath('/anvil/projects/tdm/data/noaa/2020_sample.csv'), PosixPath('/anvil/projects/tdm/data/noaa/1998.csv'), PosixPath('/anvil/projects/tdm/data/noaa/1895.csv'), PosixPath('/anvil/projects/tdm/data/noaa/1928.csv'), PosixPath('/anvil/projects/tdm/data/noaa/1943.csv'), PosixPath('/anvil/projects/tdm/data/noaa/1792.csv'), PosixPath('/anvil/projects/tdm/data/noaa/1825.csv'), PosixPath('/anvil/projects/tdm/data/noaa/readme-by_year.txt'), PosixPath('/anvil/projects/tdm/data/noaa/1840.csv'), PosixPath('/anvil/projects/tdm/data/noaa/2015.csv'), PosixPath('/anvil/projects/tdm/data/noaa/1849.csv'), PosixPath('/anvil/projects/tdm/data/noaa/1952.csv'), PosixPath('/anvil/projects/tdm/data/noaa/1976.csv'), PosixPath('/anvil/projects/tdm/data/noaa/1858.csv'), PosixPath('/anvil/projects/tdm/data/noaa/1873.csv'), PosixPath('/anvil/projects/tdm/data/noaa/1906.csv'), PosixPath('/anvil/projects/tdm/data/noaa/1921.csv'), PosixPath('/anvil/projects/tdm/data/noaa/1770.csv'), PosixPath('/anvil/projects/tdm/data/noaa/1803.csv'), PosixPath('/anvil/projects/tdm/data/noaa/1779.csv'), PosixPath('/anvil/projects/tdm/data/noaa/2020_sampleB.csv'), PosixPath('/anvil/projects/tdm/data/noaa/1985.csv'), PosixPath('/anvil/projects/tdm/data/noaa/1867.csv'), PosixPath('/anvil/projects/tdm/data/noaa/1882.csv'), PosixPath('/anvil/projects/tdm/data/noaa/1915.csv'), PosixPath('/anvil/projects/tdm/data/noaa/1764.csv'), PosixPath('/anvil/projects/tdm/data/noaa/1930.csv'), PosixPath('/anvil/projects/tdm/data/noaa/1812.csv'), PosixPath('/anvil/projects/tdm/data/noaa/2002.csv'), PosixPath('/anvil/projects/tdm/data/noaa/1939.csv'), PosixPath('/anvil/projects/tdm/data/noaa/1788.csv'), PosixPath('/anvil/projects/tdm/data/noaa/1836.csv'), PosixPath('/anvil/projects/tdm/data/noaa/1994.csv'), PosixPath('/anvil/projects/tdm/data/noaa/1891.csv'), PosixPath('/anvil/projects/tdm/data/noaa/1924.csv'), PosixPath('/anvil/projects/tdm/data/noaa/1821.csv'), PosixPath('/anvil/projects/tdm/data/noaa/2011.csv'), PosixPath('/anvil/projects/tdm/data/noaa/1948.csv'), PosixPath('/anvil/projects/tdm/data/noaa/1797.csv'), PosixPath('/anvil/projects/tdm/data/noaa/1845.csv'), PosixPath('/anvil/projects/tdm/data/noaa/2020.csv')]\n"
     ]
    }
   ],
   "source": [
    "import pandas as pd\n",
    "from pathlib import Path\n",
    "# finding out how many years are in dataset\n",
    "year_files = []\n",
    "\n",
    "for file in Path(f'/anvil/projects/tdm/data/noaa').iterdir():\n",
    "    if file.is_file():\n",
    "        year_files.append(file)\n",
    "\n",
    "print(len(year_files))\n",
    "print(year_files)"
   ]
  },
  {
   "cell_type": "code",
   "execution_count": 2,
   "id": "fe5b708a-9d15-49cb-bd09-fb015f8a4892",
   "metadata": {},
   "outputs": [
    {
     "name": "stdout",
     "output_type": "stream",
     "text": [
      "<bound method NDFrame.head of          AGE00135039  19000101  TMAX  240 Unnamed: 4 Unnamed: 5  E  Unnamed: 7\n",
      "0        AGE00135039  19000101  TMIN  140        NaN        NaN  E         NaN\n",
      "1        AGE00135039  19000101  PRCP    0        NaN        NaN  E         NaN\n",
      "2        AGE00147705  19000101  TMAX  254        NaN        NaN  E         NaN\n",
      "3        AGE00147705  19000101  TMIN  153        NaN        NaN  E         NaN\n",
      "4        AGE00147705  19000101  PRCP    2        NaN        NaN  E         NaN\n",
      "...              ...       ...   ...  ...        ...        ... ..         ...\n",
      "4608130  UZM00038457  19001231  TMIN   20        NaN        NaN  r         NaN\n",
      "4608131  UZM00038457  19001231  PRCP    0        NaN        NaN  r         NaN\n",
      "4608132  UZM00038457  19001231  TAVG   57        NaN        NaN  r         NaN\n",
      "4608133  UZM00038618  19001231  PRCP    0        NaN        NaN  r         NaN\n",
      "4608134  UZM00038618  19001231  TAVG    0        NaN        NaN  r         NaN\n",
      "\n",
      "[4608135 rows x 8 columns]>\n"
     ]
    }
   ],
   "source": [
    "#Finding what the content of the data is\n",
    "random_year = pd.read_csv(f\"/anvil/projects/tdm/data/noaa/1900.csv\")\n",
    "print(random_year.head)"
   ]
  },
  {
   "cell_type": "code",
   "execution_count": 3,
   "id": "5364979f-d840-47af-8702-484ec6ce9c38",
   "metadata": {},
   "outputs": [
    {
     "name": "stdout",
     "output_type": "stream",
     "text": [
      "[PosixPath('/anvil/projects/tdm/data/noaa/1883.csv'), PosixPath('/anvil/projects/tdm/data/noaa/1880.csv'), PosixPath('/anvil/projects/tdm/data/noaa/1881.csv'), PosixPath('/anvil/projects/tdm/data/noaa/1882.csv')]\n"
     ]
    }
   ],
   "source": [
    "#Using list comprehension to put the years 1880-1883 into a list \n",
    "myfiles = [file for file in Path(f\"/anvil/projects/tdm/data/noaa\").iterdir() for year in range(1880,1884) if file==Path(f\"/anvil/projects/tdm/data/noaa/{year}.csv\")]\n",
    "print(myfiles)"
   ]
  },
  {
   "cell_type": "markdown",
   "id": "b456e57c-4a12-464b-999a-ef2df5af80c1",
   "metadata": {},
   "source": [
    "A) There are 262 years in the data set (Two 2020 files and two read me files). The content of the weather describes weather data such as precipitation, max and min temperature as well as average temperature. "
   ]
  },
  {
   "cell_type": "markdown",
   "id": "fc601975-35ed-4680-a4e1-0273ee3cc047",
   "metadata": {},
   "source": [
    "## Question 2"
   ]
  },
  {
   "cell_type": "code",
   "execution_count": 4,
   "id": "a16336a1-1ef0-41e8-bc7c-49387db27497",
   "metadata": {},
   "outputs": [
    {
     "name": "stdout",
     "output_type": "stream",
     "text": [
      "There are 370779 records in the file called /anvil/projects/tdm/data/noaa/1880.csv\n"
     ]
    }
   ],
   "source": [
    "# calculating how many records are in the 1880 .csv file\n",
    "file = Path('/anvil/projects/tdm/data/noaa/1880.csv')\n",
    "with open(file,\"r\") as f:\n",
    "    mycount = 0\n",
    "    for line in f:\n",
    "        mycount += 1\n",
    "print(f'There are {mycount} records in the file called {file}')"
   ]
  },
  {
   "cell_type": "code",
   "execution_count": 5,
   "id": "ce4b264f-178a-4c31-9026-63d2caf8e445",
   "metadata": {},
   "outputs": [
    {
     "name": "stdout",
     "output_type": "stream",
     "text": [
      "There are 1906862 records in the 4 files altogether\n"
     ]
    }
   ],
   "source": [
    "#Calculating how many records are in the 1880-1883 .csv files altogether\n",
    "mycount = 0\n",
    "for year in range(1880,1884):\n",
    "    file = Path(f'/anvil/projects/tdm/data/noaa/{year}.csv')\n",
    "    with open(file,\"r\") as f:\n",
    "        for line in f:\n",
    "            mycount += 1\n",
    "   \n",
    "print(f'There are {mycount} records in the 4 files altogether') "
   ]
  },
  {
   "cell_type": "markdown",
   "id": "8e586edd-ff26-4ce2-8f6b-2424b26f2929",
   "metadata": {},
   "source": [
    "## Question 3"
   ]
  },
  {
   "cell_type": "code",
   "execution_count": 6,
   "id": "bbe0f40d-9655-4653-9ca8-886bdb61cb91",
   "metadata": {},
   "outputs": [],
   "source": [
    "# Examining the head and tail of mylist[0]\n",
    "myDF = pd.read_csv(myfiles[0])"
   ]
  },
  {
   "cell_type": "code",
   "execution_count": 7,
   "id": "0c4d3273-4f44-4255-9406-581ea03f9024",
   "metadata": {
    "tags": []
   },
   "outputs": [
    {
     "data": {
      "text/plain": [
       "Index(['AGE00135039', '18830101', 'PRCP', '0', 'Unnamed: 4', 'Unnamed: 5', 'E',\n",
       "       'Unnamed: 7'],\n",
       "      dtype='object')"
      ]
     },
     "execution_count": 7,
     "metadata": {},
     "output_type": "execute_result"
    }
   ],
   "source": [
    "myDF.columns"
   ]
  },
  {
   "cell_type": "code",
   "execution_count": 8,
   "id": "2be4633e-380b-4cc6-a106-080e9c967d62",
   "metadata": {},
   "outputs": [
    {
     "data": {
      "text/plain": [
       "<bound method NDFrame.head of         AGE00135039  18830101  PRCP   0 Unnamed: 4 Unnamed: 5  E  Unnamed: 7\n",
       "0       AGE00147705  18830101  PRCP   0        NaN        NaN  E         NaN\n",
       "1       AGE00147708  18830101  PRCP   0        NaN        NaN  E         NaN\n",
       "2       AGE00147709  18830101  PRCP   0        NaN        NaN  E         NaN\n",
       "3       AGE00147711  18830101  PRCP   0        NaN        NaN  E         NaN\n",
       "4       AGE00147712  18830101  PRCP   0        NaN        NaN  E         NaN\n",
       "...             ...       ...   ...  ..        ...        ... ..         ...\n",
       "578724  UZM00038457  18831231  PRCP   0        NaN        NaN  r         NaN\n",
       "578725  UZM00038457  18831231  TAVG -69        NaN        NaN  r         NaN\n",
       "578726  UZM00038618  18831231  TMIN -22        NaN        NaN  r         NaN\n",
       "578727  UZM00038618  18831231  PRCP   0        NaN        NaN  r         NaN\n",
       "578728  UZM00038618  18831231  TAVG   1        NaN        NaN  r         NaN\n",
       "\n",
       "[578729 rows x 8 columns]>"
      ]
     },
     "execution_count": 8,
     "metadata": {},
     "output_type": "execute_result"
    }
   ],
   "source": [
    "myDF.head"
   ]
  },
  {
   "cell_type": "code",
   "execution_count": 9,
   "id": "b26ebf0d-782b-4c20-964f-e2cf217fdace",
   "metadata": {},
   "outputs": [
    {
     "data": {
      "text/plain": [
       "<bound method NDFrame.tail of         AGE00135039  18830101  PRCP   0 Unnamed: 4 Unnamed: 5  E  Unnamed: 7\n",
       "0       AGE00147705  18830101  PRCP   0        NaN        NaN  E         NaN\n",
       "1       AGE00147708  18830101  PRCP   0        NaN        NaN  E         NaN\n",
       "2       AGE00147709  18830101  PRCP   0        NaN        NaN  E         NaN\n",
       "3       AGE00147711  18830101  PRCP   0        NaN        NaN  E         NaN\n",
       "4       AGE00147712  18830101  PRCP   0        NaN        NaN  E         NaN\n",
       "...             ...       ...   ...  ..        ...        ... ..         ...\n",
       "578724  UZM00038457  18831231  PRCP   0        NaN        NaN  r         NaN\n",
       "578725  UZM00038457  18831231  TAVG -69        NaN        NaN  r         NaN\n",
       "578726  UZM00038618  18831231  TMIN -22        NaN        NaN  r         NaN\n",
       "578727  UZM00038618  18831231  PRCP   0        NaN        NaN  r         NaN\n",
       "578728  UZM00038618  18831231  TAVG   1        NaN        NaN  r         NaN\n",
       "\n",
       "[578729 rows x 8 columns]>"
      ]
     },
     "execution_count": 9,
     "metadata": {},
     "output_type": "execute_result"
    }
   ],
   "source": [
    "myDF.tail"
   ]
  },
  {
   "cell_type": "code",
   "execution_count": 10,
   "id": "2bfa2bce-6b68-4c0a-b838-3abd622b3ba4",
   "metadata": {},
   "outputs": [],
   "source": [
    "#Correcting the mistake in  question 3A\n",
    "myDF = pd.read_csv(myfiles[0],header=None)"
   ]
  },
  {
   "cell_type": "code",
   "execution_count": 11,
   "id": "150e9e78-46e2-4784-811e-b42059809bd6",
   "metadata": {},
   "outputs": [
    {
     "data": {
      "text/plain": [
       "Index([0, 1, 2, 3, 4, 5, 6, 7], dtype='int64')"
      ]
     },
     "execution_count": 11,
     "metadata": {},
     "output_type": "execute_result"
    }
   ],
   "source": [
    "myDF.columns"
   ]
  },
  {
   "cell_type": "code",
   "execution_count": 12,
   "id": "fe94cca1-2518-4e35-80d8-b12afca82915",
   "metadata": {},
   "outputs": [
    {
     "data": {
      "text/html": [
       "<div>\n",
       "<style scoped>\n",
       "    .dataframe tbody tr th:only-of-type {\n",
       "        vertical-align: middle;\n",
       "    }\n",
       "\n",
       "    .dataframe tbody tr th {\n",
       "        vertical-align: top;\n",
       "    }\n",
       "\n",
       "    .dataframe thead th {\n",
       "        text-align: right;\n",
       "    }\n",
       "</style>\n",
       "<table border=\"1\" class=\"dataframe\">\n",
       "  <thead>\n",
       "    <tr style=\"text-align: right;\">\n",
       "      <th></th>\n",
       "      <th>id</th>\n",
       "      <th>date</th>\n",
       "      <th>element_code</th>\n",
       "      <th>value</th>\n",
       "      <th>mflag</th>\n",
       "      <th>qflag</th>\n",
       "      <th>sflag</th>\n",
       "      <th>obstime</th>\n",
       "    </tr>\n",
       "  </thead>\n",
       "  <tbody>\n",
       "    <tr>\n",
       "      <th>0</th>\n",
       "      <td>AGE00135039</td>\n",
       "      <td>18830101</td>\n",
       "      <td>PRCP</td>\n",
       "      <td>0</td>\n",
       "      <td>NaN</td>\n",
       "      <td>NaN</td>\n",
       "      <td>E</td>\n",
       "      <td>NaN</td>\n",
       "    </tr>\n",
       "    <tr>\n",
       "      <th>1</th>\n",
       "      <td>AGE00147705</td>\n",
       "      <td>18830101</td>\n",
       "      <td>PRCP</td>\n",
       "      <td>0</td>\n",
       "      <td>NaN</td>\n",
       "      <td>NaN</td>\n",
       "      <td>E</td>\n",
       "      <td>NaN</td>\n",
       "    </tr>\n",
       "    <tr>\n",
       "      <th>2</th>\n",
       "      <td>AGE00147708</td>\n",
       "      <td>18830101</td>\n",
       "      <td>PRCP</td>\n",
       "      <td>0</td>\n",
       "      <td>NaN</td>\n",
       "      <td>NaN</td>\n",
       "      <td>E</td>\n",
       "      <td>NaN</td>\n",
       "    </tr>\n",
       "    <tr>\n",
       "      <th>3</th>\n",
       "      <td>AGE00147709</td>\n",
       "      <td>18830101</td>\n",
       "      <td>PRCP</td>\n",
       "      <td>0</td>\n",
       "      <td>NaN</td>\n",
       "      <td>NaN</td>\n",
       "      <td>E</td>\n",
       "      <td>NaN</td>\n",
       "    </tr>\n",
       "    <tr>\n",
       "      <th>4</th>\n",
       "      <td>AGE00147711</td>\n",
       "      <td>18830101</td>\n",
       "      <td>PRCP</td>\n",
       "      <td>0</td>\n",
       "      <td>NaN</td>\n",
       "      <td>NaN</td>\n",
       "      <td>E</td>\n",
       "      <td>NaN</td>\n",
       "    </tr>\n",
       "    <tr>\n",
       "      <th>...</th>\n",
       "      <td>...</td>\n",
       "      <td>...</td>\n",
       "      <td>...</td>\n",
       "      <td>...</td>\n",
       "      <td>...</td>\n",
       "      <td>...</td>\n",
       "      <td>...</td>\n",
       "      <td>...</td>\n",
       "    </tr>\n",
       "    <tr>\n",
       "      <th>578725</th>\n",
       "      <td>UZM00038457</td>\n",
       "      <td>18831231</td>\n",
       "      <td>PRCP</td>\n",
       "      <td>0</td>\n",
       "      <td>NaN</td>\n",
       "      <td>NaN</td>\n",
       "      <td>r</td>\n",
       "      <td>NaN</td>\n",
       "    </tr>\n",
       "    <tr>\n",
       "      <th>578726</th>\n",
       "      <td>UZM00038457</td>\n",
       "      <td>18831231</td>\n",
       "      <td>TAVG</td>\n",
       "      <td>-69</td>\n",
       "      <td>NaN</td>\n",
       "      <td>NaN</td>\n",
       "      <td>r</td>\n",
       "      <td>NaN</td>\n",
       "    </tr>\n",
       "    <tr>\n",
       "      <th>578727</th>\n",
       "      <td>UZM00038618</td>\n",
       "      <td>18831231</td>\n",
       "      <td>TMIN</td>\n",
       "      <td>-22</td>\n",
       "      <td>NaN</td>\n",
       "      <td>NaN</td>\n",
       "      <td>r</td>\n",
       "      <td>NaN</td>\n",
       "    </tr>\n",
       "    <tr>\n",
       "      <th>578728</th>\n",
       "      <td>UZM00038618</td>\n",
       "      <td>18831231</td>\n",
       "      <td>PRCP</td>\n",
       "      <td>0</td>\n",
       "      <td>NaN</td>\n",
       "      <td>NaN</td>\n",
       "      <td>r</td>\n",
       "      <td>NaN</td>\n",
       "    </tr>\n",
       "    <tr>\n",
       "      <th>578729</th>\n",
       "      <td>UZM00038618</td>\n",
       "      <td>18831231</td>\n",
       "      <td>TAVG</td>\n",
       "      <td>1</td>\n",
       "      <td>NaN</td>\n",
       "      <td>NaN</td>\n",
       "      <td>r</td>\n",
       "      <td>NaN</td>\n",
       "    </tr>\n",
       "  </tbody>\n",
       "</table>\n",
       "<p>578730 rows × 8 columns</p>\n",
       "</div>"
      ],
      "text/plain": [
       "                 id      date element_code  value mflag qflag sflag  obstime\n",
       "0       AGE00135039  18830101         PRCP      0   NaN   NaN     E      NaN\n",
       "1       AGE00147705  18830101         PRCP      0   NaN   NaN     E      NaN\n",
       "2       AGE00147708  18830101         PRCP      0   NaN   NaN     E      NaN\n",
       "3       AGE00147709  18830101         PRCP      0   NaN   NaN     E      NaN\n",
       "4       AGE00147711  18830101         PRCP      0   NaN   NaN     E      NaN\n",
       "...             ...       ...          ...    ...   ...   ...   ...      ...\n",
       "578725  UZM00038457  18831231         PRCP      0   NaN   NaN     r      NaN\n",
       "578726  UZM00038457  18831231         TAVG    -69   NaN   NaN     r      NaN\n",
       "578727  UZM00038618  18831231         TMIN    -22   NaN   NaN     r      NaN\n",
       "578728  UZM00038618  18831231         PRCP      0   NaN   NaN     r      NaN\n",
       "578729  UZM00038618  18831231         TAVG      1   NaN   NaN     r      NaN\n",
       "\n",
       "[578730 rows x 8 columns]"
      ]
     },
     "execution_count": 12,
     "metadata": {},
     "output_type": "execute_result"
    }
   ],
   "source": [
    "pd.read_csv(myfiles[0],names = [\"id\",\"date\",\"element_code\",\"value\",\"mflag\",\"qflag\",\"sflag\",\"obstime\"])"
   ]
  },
  {
   "cell_type": "code",
   "execution_count": 15,
   "id": "7d126142-1c60-4b21-8f11-a308995f16b4",
   "metadata": {},
   "outputs": [],
   "source": [
    "#creating the mydataframes list\n",
    "mydataframes = []\n",
    "for i in range(0,4):\n",
    "    mydataframes.append(pd.read_csv(myfiles[i],names = [\"id\",\"date\",\"element_code\",\"value\",\"mflag\",\"qflag\",\"sflag\",\"obstime\"]))"
   ]
  },
  {
   "cell_type": "code",
   "execution_count": 27,
   "id": "47ff0cb1-7a46-4484-b1ba-5ee672e5e968",
   "metadata": {},
   "outputs": [
    {
     "data": {
      "text/plain": [
       "(578730, 8)"
      ]
     },
     "execution_count": 27,
     "metadata": {},
     "output_type": "execute_result"
    }
   ],
   "source": [
    "#Checking to make sure the list appended correctly\n",
    "mydataframes[0].shape"
   ]
  },
  {
   "cell_type": "code",
   "execution_count": 23,
   "id": "8ab8171e-77ff-42ff-a3bf-440b1aaac02f",
   "metadata": {},
   "outputs": [
    {
     "data": {
      "text/plain": [
       "(370779, 8)"
      ]
     },
     "execution_count": 23,
     "metadata": {},
     "output_type": "execute_result"
    }
   ],
   "source": [
    "mydataframes[1].shape"
   ]
  },
  {
   "cell_type": "code",
   "execution_count": 22,
   "id": "1734a95e-b020-48e9-8484-8776c0250444",
   "metadata": {},
   "outputs": [
    {
     "data": {
      "text/plain": [
       "(443270, 8)"
      ]
     },
     "execution_count": 22,
     "metadata": {},
     "output_type": "execute_result"
    }
   ],
   "source": [
    "mydataframes[2].shape"
   ]
  },
  {
   "cell_type": "code",
   "execution_count": 24,
   "id": "24de44dd-4e7f-4794-ad79-645e27a8dcea",
   "metadata": {},
   "outputs": [
    {
     "data": {
      "text/plain": [
       "(514083, 8)"
      ]
     },
     "execution_count": 24,
     "metadata": {},
     "output_type": "execute_result"
    }
   ],
   "source": [
    "mydataframes[3].shape"
   ]
  },
  {
   "cell_type": "code",
   "execution_count": 26,
   "id": "8bdbfb28-cffe-401a-86e4-b3bda88178b2",
   "metadata": {},
   "outputs": [
    {
     "name": "stdout",
     "output_type": "stream",
     "text": [
      "Index(['id', 'date', 'element_code', 'value', 'mflag', 'qflag', 'sflag',\n",
      "       'obstime'],\n",
      "      dtype='object')\n",
      "Index(['id', 'date', 'element_code', 'value', 'mflag', 'qflag', 'sflag',\n",
      "       'obstime'],\n",
      "      dtype='object')\n",
      "Index(['id', 'date', 'element_code', 'value', 'mflag', 'qflag', 'sflag',\n",
      "       'obstime'],\n",
      "      dtype='object')\n",
      "Index(['id', 'date', 'element_code', 'value', 'mflag', 'qflag', 'sflag',\n",
      "       'obstime'],\n",
      "      dtype='object')\n"
     ]
    }
   ],
   "source": [
    "#Checking to see the column names of each dataframe in list\n",
    "for i in range(0,4):\n",
    "    print(mydataframes[i].columns)"
   ]
  },
  {
   "cell_type": "markdown",
   "id": "47c6229f-35f7-400c-8366-c442baa5cf47",
   "metadata": {},
   "source": [
    "A) When looking at the column names, there are multiple columns that are unamed and many of the columns do not have data in them. \n",
    "\n",
    "B)The column names are now just the numbers 0-7. "
   ]
  },
  {
   "cell_type": "markdown",
   "id": "da22f29c-d245-4d2b-9fc1-ca14cb6087d9",
   "metadata": {},
   "source": [
    "## Question 4"
   ]
  },
  {
   "cell_type": "code",
   "execution_count": 29,
   "id": "8cffc767-d1c8-4d64-b7dc-f0d2ee8a80d1",
   "metadata": {},
   "outputs": [
    {
     "name": "stdout",
     "output_type": "stream",
     "text": [
      "['PRCP' 'TMAX' 'TMIN' 'TAVG' 'SNOW' 'SNWD' 'DAPR' 'DWPR' 'MDPR' 'MDSF'\n",
      " 'WT11' 'DATN' 'DATX' 'MDTN' 'MDTX' 'WT03' 'DASF' 'WT18' 'WT04' 'WT16'\n",
      " 'WT08']\n",
      "['PRCP' 'TMAX' 'TMIN' 'SNOW' 'SNWD' 'TAVG' 'MDPR' 'DATN' 'DATX' 'MDTN'\n",
      " 'MDTX' 'DAPR' 'DWPR' 'MDSF' 'WT01' 'TOBS' 'WT04' 'WT05']\n",
      "['PRCP' 'TMAX' 'TMIN' 'TAVG' 'SNOW' 'SNWD' 'MDPR' 'MDSF' 'DATN' 'DATX'\n",
      " 'MDTN' 'MDTX' 'WT04' 'DAPR' 'DWPR' 'TOBS']\n",
      "['PRCP' 'TMAX' 'TMIN' 'TAVG' 'SNOW' 'SNWD' 'DATN' 'DATX' 'MDTN' 'MDTX'\n",
      " 'DAPR' 'DWPR' 'MDPR' 'MDSF' 'WT04' 'TOBS' 'WT05' 'WT03' 'WT16' 'WT18'\n",
      " 'DASF']\n"
     ]
    }
   ],
   "source": [
    "# Finding the unique elements of element_code\n",
    "for i in range(0,4):\n",
    "    print(mydataframes[i][\"element_code\"].unique())"
   ]
  },
  {
   "cell_type": "code",
   "execution_count": 30,
   "id": "0084dcee-c152-4cab-b1e6-7f37e19b3c92",
   "metadata": {},
   "outputs": [
    {
     "name": "stdout",
     "output_type": "stream",
     "text": [
      "53417\n",
      "33700\n",
      "36451\n",
      "40648\n"
     ]
    }
   ],
   "source": [
    "#Finding the number of times SNOW occurs in element_code\n",
    "for myDF in mydataframes:\n",
    "    print(myDF[\"element_code\"].value_counts()[\"SNOW\"])"
   ]
  },
  {
   "cell_type": "markdown",
   "id": "88c9cdac-3e92-498f-83fa-e089bfc44ac8",
   "metadata": {},
   "source": [
    "## Question 5"
   ]
  },
  {
   "cell_type": "code",
   "execution_count": 32,
   "id": "d370d7c9-06db-42b9-b75f-240481a5c491",
   "metadata": {},
   "outputs": [],
   "source": [
    "# Prework for question\n",
    "myfiles=[]\n",
    "for year in range (1880, 1884):\n",
    "    file= Path(f'/anvil/projects/tdm/data/noaa/{year}.csv')\n",
    "    myfiles.append(file)"
   ]
  },
  {
   "cell_type": "code",
   "execution_count": 33,
   "id": "c70730f8-f816-4e5e-a617-f9ca3188d182",
   "metadata": {},
   "outputs": [
    {
     "name": "stdout",
     "output_type": "stream",
     "text": [
      "164216\n"
     ]
    }
   ],
   "source": [
    "#Version 1 of Program \n",
    "count = 0\n",
    "for file in myfiles:\n",
    "    for myDF in pd.read_csv(file,names=[\"id\",\"date\",\"element_code\",\"value\",\"mflag\",\"qflag\",\"sflag\",\"obstime\"],chunksize =10000):\n",
    "        count += len(myDF[myDF['element_code'] == 'SNOW'])\n",
    "\n",
    "print(count)"
   ]
  },
  {
   "cell_type": "code",
   "execution_count": 34,
   "id": "ff436168-304e-40a7-a360-4de7e8b95aa2",
   "metadata": {},
   "outputs": [
    {
     "name": "stdout",
     "output_type": "stream",
     "text": [
      "164216\n"
     ]
    }
   ],
   "source": [
    "#Version 2 of Program\n",
    "count = 0\n",
    "for file in myfiles:\n",
    "    for myDF in pd.read_csv(file,names=[\"id\",\"date\",\"element_code\",\"value\",\"mflag\",\"qflag\",\"sflag\",\"obstime\"],chunksize =10000):\n",
    "        for index, row in myDF.iterrows():\n",
    "            if row['element_code'] == 'SNOW':\n",
    "                count += 1\n",
    "\n",
    "print(count)"
   ]
  },
  {
   "cell_type": "markdown",
   "id": "9fbf00fb-2418-460f-ae94-2a32b0c28952",
   "metadata": {},
   "source": [
    "A) By using chunksize, we can separate the number of rows read from a dataframe into \"chunks\" instead of reading them all at once. By doing this, we can separate huge sets of data into smaller sets and make reading data more efficient. "
   ]
  },
  {
   "cell_type": "markdown",
   "id": "f76442d6-d02e-4f26-b9d6-c3183e1d6929",
   "metadata": {},
   "source": [
    "## Pledge\n",
    "\n",
    "By submitting this work I hereby pledge that this is my own, personal work. I've acknowledged in the designated place at the top of this file all sources that I used to complete said work, including but not limited to: online resources, books, and electronic communications. I've noted all collaboration with fellow students and/or TA's. I did not copy or plagiarize another's work.\n",
    "\n",
    "> As a Boilermaker pursuing academic excellence, I pledge to be honest and true in all that I do. Accountable together – We are Purdue."
   ]
  }
 ],
 "metadata": {
  "kernelspec": {
   "display_name": "seminar",
   "language": "python",
   "name": "seminar"
  },
  "language_info": {
   "codemirror_mode": {
    "name": "ipython",
    "version": 3
   },
   "file_extension": ".py",
   "mimetype": "text/x-python",
   "name": "python",
   "nbconvert_exporter": "python",
   "pygments_lexer": "ipython3",
   "version": "3.11.5"
  }
 },
 "nbformat": 4,
 "nbformat_minor": 5
}
