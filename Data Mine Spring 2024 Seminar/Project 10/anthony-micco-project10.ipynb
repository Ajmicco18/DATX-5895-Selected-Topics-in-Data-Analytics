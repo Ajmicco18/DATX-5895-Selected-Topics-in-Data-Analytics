{
 "cells": [
  {
   "cell_type": "markdown",
   "id": "be02a957-7133-4d02-818e-fedeb3cecb05",
   "metadata": {},
   "source": [
    "# Project 10 -- Anthony Micco"
   ]
  },
  {
   "cell_type": "markdown",
   "id": "a1228853-dd19-4ab2-89e0-0394d7d72de3",
   "metadata": {},
   "source": [
    "**TA Help:** N/A\n",
    "    \n",
    "**Collaboration:** N/A"
   ]
  },
  {
   "cell_type": "markdown",
   "id": "6180e742-8e39-4698-98ff-5b00c8cf8ea0",
   "metadata": {},
   "source": [
    "## Question 1"
   ]
  },
  {
   "cell_type": "code",
   "execution_count": 1,
   "id": "49445606-d363-41b4-b479-e319a9a84c01",
   "metadata": {},
   "outputs": [],
   "source": [
    "import pandas as pd\n",
    "import numpy as np"
   ]
  },
  {
   "cell_type": "code",
   "execution_count": 2,
   "id": "d2527f99-9679-4de9-b8b7-a783204802e4",
   "metadata": {},
   "outputs": [],
   "source": [
    "pd.set_option('display.max_columns',None)"
   ]
  },
  {
   "cell_type": "code",
   "execution_count": 3,
   "id": "28056a17-869e-46f3-8210-7ed07d623c96",
   "metadata": {},
   "outputs": [],
   "source": [
    "cols = [\n",
    "    'DepDelay', 'ArrDelay', 'Distance',\n",
    "    'CarrierDelay', 'WeatherDelay',\n",
    "    'DepTime', 'ArrTime', 'Diverted', 'AirTime'\n",
    "]\n",
    "\n",
    "col_types = {\n",
    "    'DepDelay': 'float64',\n",
    "    'ArrDelay': 'float64',\n",
    "    'Distance': 'float64',\n",
    "    'CarrierDelay': 'float64',\n",
    "    'WeatherDelay': 'float64',\n",
    "    'DepTime': 'float64',\n",
    "    'ArrTime': 'float64',\n",
    "    'Diverted': 'int64',\n",
    "    'AirTime': 'float64'\n",
    "}"
   ]
  },
  {
   "cell_type": "code",
   "execution_count": 4,
   "id": "97812a83-42cb-4cd1-8980-1307a3de9391",
   "metadata": {},
   "outputs": [],
   "source": [
    "df = pd.read_csv(\"/anvil/projects/tdm/data/flights/2014.csv\", usecols=cols, dtype=col_types)"
   ]
  },
  {
   "cell_type": "code",
   "execution_count": 5,
   "id": "982e54d8-4e4d-4f89-b593-ea4309186f6b",
   "metadata": {},
   "outputs": [
    {
     "data": {
      "text/html": [
       "<div>\n",
       "<style scoped>\n",
       "    .dataframe tbody tr th:only-of-type {\n",
       "        vertical-align: middle;\n",
       "    }\n",
       "\n",
       "    .dataframe tbody tr th {\n",
       "        vertical-align: top;\n",
       "    }\n",
       "\n",
       "    .dataframe thead th {\n",
       "        text-align: right;\n",
       "    }\n",
       "</style>\n",
       "<table border=\"1\" class=\"dataframe\">\n",
       "  <thead>\n",
       "    <tr style=\"text-align: right;\">\n",
       "      <th></th>\n",
       "      <th>DepTime</th>\n",
       "      <th>DepDelay</th>\n",
       "      <th>ArrTime</th>\n",
       "      <th>ArrDelay</th>\n",
       "      <th>Diverted</th>\n",
       "      <th>AirTime</th>\n",
       "      <th>Distance</th>\n",
       "      <th>CarrierDelay</th>\n",
       "      <th>WeatherDelay</th>\n",
       "    </tr>\n",
       "  </thead>\n",
       "  <tbody>\n",
       "    <tr>\n",
       "      <th>0</th>\n",
       "      <td>935.0</td>\n",
       "      <td>-5.0</td>\n",
       "      <td>1051.0</td>\n",
       "      <td>-4.0</td>\n",
       "      <td>0</td>\n",
       "      <td>56.0</td>\n",
       "      <td>328.0</td>\n",
       "      <td>NaN</td>\n",
       "      <td>NaN</td>\n",
       "    </tr>\n",
       "    <tr>\n",
       "      <th>1</th>\n",
       "      <td>951.0</td>\n",
       "      <td>11.0</td>\n",
       "      <td>1115.0</td>\n",
       "      <td>20.0</td>\n",
       "      <td>0</td>\n",
       "      <td>54.0</td>\n",
       "      <td>328.0</td>\n",
       "      <td>11.0</td>\n",
       "      <td>0.0</td>\n",
       "    </tr>\n",
       "    <tr>\n",
       "      <th>2</th>\n",
       "      <td>1144.0</td>\n",
       "      <td>9.0</td>\n",
       "      <td>1302.0</td>\n",
       "      <td>2.0</td>\n",
       "      <td>0</td>\n",
       "      <td>57.0</td>\n",
       "      <td>328.0</td>\n",
       "      <td>NaN</td>\n",
       "      <td>NaN</td>\n",
       "    </tr>\n",
       "    <tr>\n",
       "      <th>3</th>\n",
       "      <td>1134.0</td>\n",
       "      <td>-1.0</td>\n",
       "      <td>1253.0</td>\n",
       "      <td>-7.0</td>\n",
       "      <td>0</td>\n",
       "      <td>53.0</td>\n",
       "      <td>328.0</td>\n",
       "      <td>NaN</td>\n",
       "      <td>NaN</td>\n",
       "    </tr>\n",
       "    <tr>\n",
       "      <th>4</th>\n",
       "      <td>1129.0</td>\n",
       "      <td>-6.0</td>\n",
       "      <td>1244.0</td>\n",
       "      <td>-16.0</td>\n",
       "      <td>0</td>\n",
       "      <td>52.0</td>\n",
       "      <td>328.0</td>\n",
       "      <td>NaN</td>\n",
       "      <td>NaN</td>\n",
       "    </tr>\n",
       "  </tbody>\n",
       "</table>\n",
       "</div>"
      ],
      "text/plain": [
       "   DepTime  DepDelay  ArrTime  ArrDelay  Diverted  AirTime  Distance  \\\n",
       "0    935.0      -5.0   1051.0      -4.0         0     56.0     328.0   \n",
       "1    951.0      11.0   1115.0      20.0         0     54.0     328.0   \n",
       "2   1144.0       9.0   1302.0       2.0         0     57.0     328.0   \n",
       "3   1134.0      -1.0   1253.0      -7.0         0     53.0     328.0   \n",
       "4   1129.0      -6.0   1244.0     -16.0         0     52.0     328.0   \n",
       "\n",
       "   CarrierDelay  WeatherDelay  \n",
       "0           NaN           NaN  \n",
       "1          11.0           0.0  \n",
       "2           NaN           NaN  \n",
       "3           NaN           NaN  \n",
       "4           NaN           NaN  "
      ]
     },
     "execution_count": 5,
     "metadata": {},
     "output_type": "execute_result"
    }
   ],
   "source": [
    "df.head()"
   ]
  },
  {
   "cell_type": "markdown",
   "id": "fc601975-35ed-4680-a4e1-0273ee3cc047",
   "metadata": {},
   "source": [
    "## Question 2"
   ]
  },
  {
   "cell_type": "code",
   "execution_count": 6,
   "id": "a16336a1-1ef0-41e8-bc7c-49387db27497",
   "metadata": {},
   "outputs": [],
   "source": [
    "# creating a mydelays numpy array\n",
    "mydelays = df[\"DepDelay\"].to_numpy()"
   ]
  },
  {
   "cell_type": "code",
   "execution_count": 7,
   "id": "2ead6332-aed7-48f2-b13e-068cc4f243c1",
   "metadata": {},
   "outputs": [
    {
     "name": "stdout",
     "output_type": "stream",
     "text": [
      "The shape of mydelays is: (5819811,)\n",
      "The data type in mydelays is: float64\n"
     ]
    }
   ],
   "source": [
    "print(f\"The shape of mydelays is: {mydelays.shape}\")\n",
    "print(f\"The data type in mydelays is: {mydelays.dtype}\")"
   ]
  },
  {
   "cell_type": "code",
   "execution_count": 8,
   "id": "1ededdd3-f66d-48b4-813c-091d681c3cc3",
   "metadata": {},
   "outputs": [],
   "source": [
    "mydelaysClean = np.nan_to_num(mydelays, nan=0)"
   ]
  },
  {
   "cell_type": "code",
   "execution_count": 9,
   "id": "93788679-932c-47eb-8144-1ebc9f5705f9",
   "metadata": {},
   "outputs": [
    {
     "data": {
      "text/plain": [
       "10.417677824932802"
      ]
     },
     "execution_count": 9,
     "metadata": {},
     "output_type": "execute_result"
    }
   ],
   "source": [
    "mydelaysClean.mean()"
   ]
  },
  {
   "cell_type": "code",
   "execution_count": 10,
   "id": "32aa6bdb-1250-48f1-96a2-6bada2aca955",
   "metadata": {},
   "outputs": [],
   "source": [
    "mydelaysPlus = np.nan_to_num(mydelays,nan=0)\n",
    "for i in range(0,len(mydelaysPlus)):\n",
    "    mydelaysPlus[i] +=15"
   ]
  },
  {
   "cell_type": "code",
   "execution_count": 11,
   "id": "7d376991-0701-4aec-82c6-438432825c93",
   "metadata": {},
   "outputs": [
    {
     "data": {
      "text/plain": [
       "25.417677824932802"
      ]
     },
     "execution_count": 11,
     "metadata": {},
     "output_type": "execute_result"
    }
   ],
   "source": [
    "mydelaysPlus.mean()"
   ]
  },
  {
   "cell_type": "code",
   "execution_count": 12,
   "id": "7cca240b-3d7d-4909-abca-88d899b07d6d",
   "metadata": {},
   "outputs": [
    {
     "name": "stdout",
     "output_type": "stream",
     "text": [
      "The average delayed departure time is: 10.417677824932802\n",
      "The average delayed departure time after adding 15 minutes is: 25.417677824932802\n"
     ]
    }
   ],
   "source": [
    "print(f\"The average delayed departure time is: {mydelaysClean.mean()}\")\n",
    "print(f\"The average delayed departure time after adding 15 minutes is: {mydelaysPlus.mean()}\")"
   ]
  },
  {
   "cell_type": "markdown",
   "id": "14dc22d4-ddc3-41cc-a91a-cb0025bc0c80",
   "metadata": {},
   "source": [
    "The two averages have the exact same value after the decimal point. The only difference is that the delayed departure time is greater than the delayed departure time after adding 15 minutes by 15 minutes. "
   ]
  },
  {
   "cell_type": "markdown",
   "id": "8e586edd-ff26-4ce2-8f6b-2424b26f2929",
   "metadata": {},
   "source": [
    "## Question 3"
   ]
  },
  {
   "cell_type": "code",
   "execution_count": 13,
   "id": "bbe0f40d-9655-4653-9ca8-886bdb61cb91",
   "metadata": {},
   "outputs": [],
   "source": [
    "# creating arrival delay array\n",
    "myarrival = df[\"ArrDelay\"].to_numpy()"
   ]
  },
  {
   "cell_type": "code",
   "execution_count": 14,
   "id": "91e2f0bd-d9b8-4a81-a495-bc567d0c5ce8",
   "metadata": {},
   "outputs": [],
   "source": [
    "myarrivalClean = np.nan_to_num(myarrival,nan=0)"
   ]
  },
  {
   "cell_type": "code",
   "execution_count": 15,
   "id": "ea5e8028-3643-48f2-8d4f-4a9c7ceac689",
   "metadata": {},
   "outputs": [
    {
     "name": "stdout",
     "output_type": "stream",
     "text": [
      "The maximum arrival delay is: 2444.0 minutes\n",
      "The minimum arrival delay is: -112.0 minutes\n"
     ]
    }
   ],
   "source": [
    "print(f\"The maximum arrival delay is: {myarrivalClean.max()} minutes\")\n",
    "print(f\"The minimum arrival delay is: {myarrivalClean.min()} minutes\")"
   ]
  },
  {
   "cell_type": "markdown",
   "id": "da22f29c-d245-4d2b-9fc1-ca14cb6087d9",
   "metadata": {},
   "source": [
    "## Question 4"
   ]
  },
  {
   "cell_type": "code",
   "execution_count": 16,
   "id": "76fbe4a3-bcda-4ded-bc57-bebd123e4215",
   "metadata": {},
   "outputs": [],
   "source": [
    "import time"
   ]
  },
  {
   "cell_type": "code",
   "execution_count": 19,
   "id": "8cffc767-d1c8-4d64-b7dc-f0d2ee8a80d1",
   "metadata": {},
   "outputs": [
    {
     "name": "stdout",
     "output_type": "stream",
     "text": [
      "The average distance for the flights is: 793.1002773092284\n",
      "Used time is 0.03963327407836914\n"
     ]
    }
   ],
   "source": [
    "# creating the delayed flights data frame and performing calculations\n",
    "start_time = time.time()\n",
    "\n",
    "delayed_flights = df[(df['DepDelay'] > 60) | (df['ArrDelay'] > 60)]\n",
    "\n",
    "averageDistance = delayed_flights[\"Distance\"].mean()\n",
    "\n",
    "print(f\"The average distance for the flights is: {averageDistance}\") \n",
    "\n",
    "end_time = time.time()\n",
    "print(f\"Used time is {end_time - start_time}\")"
   ]
  },
  {
   "cell_type": "markdown",
   "id": "88c9cdac-3e92-498f-83fa-e089bfc44ac8",
   "metadata": {},
   "source": [
    "## Question 5"
   ]
  },
  {
   "cell_type": "code",
   "execution_count": 20,
   "id": "d370d7c9-06db-42b9-b75f-240481a5c491",
   "metadata": {},
   "outputs": [
    {
     "name": "stdout",
     "output_type": "stream",
     "text": [
      "The average distance for the flights is: 793.1002773092284\n",
      "Used time is 0.015069007873535156\n"
     ]
    }
   ],
   "source": [
    "import time\n",
    "start_time = time.time()\n",
    "\n",
    "#Creating three arrays \n",
    "depDelays = df[\"DepDelay\"].to_numpy()\n",
    "arrDelays = df[\"ArrDelay\"].to_numpy()\n",
    "distArray = df[\"Distance\"].to_numpy()\n",
    "\n",
    "#Filtering the array by departure and arrival delays\n",
    "filteredDistArry = distArray[(depDelays > 60) | (arrDelays > 60)]\n",
    "\n",
    "#Finding the mean\n",
    "averageDelayDist = filteredDistArry.mean()\n",
    "\n",
    "#Printing the output\n",
    "print(f\"The average distance for the flights is: {averageDelayDist}\") \n",
    "\n",
    "end_time = time.time()\n",
    "print(f\"Used time is {end_time - start_time}\")"
   ]
  },
  {
   "cell_type": "markdown",
   "id": "989df1f0-c01a-4c57-b372-3e5b30f9cca2",
   "metadata": {},
   "source": [
    "After working with both pandas and numpy, I have noticed that it is quicker to calculate the average filtering the data using numpy arrays, than by filtering the data using pandas indexing. "
   ]
  },
  {
   "cell_type": "markdown",
   "id": "f76442d6-d02e-4f26-b9d6-c3183e1d6929",
   "metadata": {},
   "source": [
    "## Pledge\n",
    "\n",
    "By submitting this work I hereby pledge that this is my own, personal work. I've acknowledged in the designated place at the top of this file all sources that I used to complete said work, including but not limited to: online resources, books, and electronic communications. I've noted all collaboration with fellow students and/or TA's. I did not copy or plagiarize another's work.\n",
    "\n",
    "> As a Boilermaker pursuing academic excellence, I pledge to be honest and true in all that I do. Accountable together – We are Purdue."
   ]
  }
 ],
 "metadata": {
  "kernelspec": {
   "display_name": "seminar",
   "language": "python",
   "name": "seminar"
  },
  "language_info": {
   "codemirror_mode": {
    "name": "ipython",
    "version": 3
   },
   "file_extension": ".py",
   "mimetype": "text/x-python",
   "name": "python",
   "nbconvert_exporter": "python",
   "pygments_lexer": "ipython3",
   "version": "3.11.5"
  }
 },
 "nbformat": 4,
 "nbformat_minor": 5
}
